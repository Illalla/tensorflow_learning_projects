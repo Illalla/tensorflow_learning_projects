{
  "nbformat": 4,
  "nbformat_minor": 0,
  "metadata": {
    "colab": {
      "provenance": [],
      "collapsed_sections": []
    },
    "kernelspec": {
      "name": "python3",
      "display_name": "Python 3"
    },
    "language_info": {
      "name": "python"
    },
    "accelerator": "GPU",
    "gpuClass": "standard"
  },
  "cells": [
    {
      "cell_type": "code",
      "execution_count": 1,
      "metadata": {
        "id": "NrPI8y9OQpey"
      },
      "outputs": [],
      "source": [
        "import tensorflow as tf\n",
        "import pandas as pd\n",
        "import matplotlib.pyplot as plt\n",
        "import numpy as np\n",
        "import tensorflow_hub as hub"
      ]
    },
    {
      "cell_type": "code",
      "source": [
        "!nvidia-smi -L"
      ],
      "metadata": {
        "colab": {
          "base_uri": "https://localhost:8080/"
        },
        "id": "3C7okO7cQ3ht",
        "outputId": "5358724b-418c-4601-b386-9c4c11bd115c"
      },
      "execution_count": 2,
      "outputs": [
        {
          "output_type": "stream",
          "name": "stdout",
          "text": [
            "GPU 0: Tesla T4 (UUID: GPU-b8a75bf6-6c4a-6c9d-5fe9-86db961f5d90)\n"
          ]
        }
      ]
    },
    {
      "cell_type": "code",
      "source": [
        "!wget https://github.com/Illalla/helper_functions_for_tf/raw/main/helper_functions.py"
      ],
      "metadata": {
        "colab": {
          "base_uri": "https://localhost:8080/"
        },
        "id": "l1_fsLY6Q5Td",
        "outputId": "0f0ae75e-1bce-47c1-c28c-86b106f24ed6"
      },
      "execution_count": 3,
      "outputs": [
        {
          "output_type": "stream",
          "name": "stdout",
          "text": [
            "--2022-09-21 10:34:52--  https://github.com/Illalla/helper_functions_for_tf/raw/main/helper_functions.py\n",
            "Resolving github.com (github.com)... 192.30.255.113\n",
            "Connecting to github.com (github.com)|192.30.255.113|:443... connected.\n",
            "HTTP request sent, awaiting response... 302 Found\n",
            "Location: https://raw.githubusercontent.com/Illalla/helper_functions_for_tf/main/helper_functions.py [following]\n",
            "--2022-09-21 10:34:52--  https://raw.githubusercontent.com/Illalla/helper_functions_for_tf/main/helper_functions.py\n",
            "Resolving raw.githubusercontent.com (raw.githubusercontent.com)... 185.199.109.133, 185.199.108.133, 185.199.111.133, ...\n",
            "Connecting to raw.githubusercontent.com (raw.githubusercontent.com)|185.199.109.133|:443... connected.\n",
            "HTTP request sent, awaiting response... 200 OK\n",
            "Length: 8636 (8.4K) [text/plain]\n",
            "Saving to: ‘helper_functions.py’\n",
            "\n",
            "helper_functions.py 100%[===================>]   8.43K  --.-KB/s    in 0s      \n",
            "\n",
            "2022-09-21 10:34:52 (60.6 MB/s) - ‘helper_functions.py’ saved [8636/8636]\n",
            "\n"
          ]
        }
      ]
    },
    {
      "cell_type": "code",
      "source": [
        "from helper_functions import *"
      ],
      "metadata": {
        "id": "B5c8j1wlQ8vd"
      },
      "execution_count": 4,
      "outputs": []
    },
    {
      "cell_type": "code",
      "source": [
        "!wget http://cs.stanford.edu/people/alecmgo/trainingandtestdata.zip"
      ],
      "metadata": {
        "colab": {
          "base_uri": "https://localhost:8080/"
        },
        "id": "vRoz2vjCSJVk",
        "outputId": "1b5f1871-6bc3-47a3-fd8a-0e623cf9516b"
      },
      "execution_count": 5,
      "outputs": [
        {
          "output_type": "stream",
          "name": "stdout",
          "text": [
            "--2022-09-21 10:34:52--  http://cs.stanford.edu/people/alecmgo/trainingandtestdata.zip\n",
            "Resolving cs.stanford.edu (cs.stanford.edu)... 171.64.64.64\n",
            "Connecting to cs.stanford.edu (cs.stanford.edu)|171.64.64.64|:80... connected.\n",
            "HTTP request sent, awaiting response... 301 Moved Permanently\n",
            "Location: https://cs.stanford.edu/people/alecmgo/trainingandtestdata.zip [following]\n",
            "--2022-09-21 10:34:53--  https://cs.stanford.edu/people/alecmgo/trainingandtestdata.zip\n",
            "Connecting to cs.stanford.edu (cs.stanford.edu)|171.64.64.64|:443... connected.\n",
            "HTTP request sent, awaiting response... 200 OK\n",
            "Length: 81363704 (78M) [application/zip]\n",
            "Saving to: ‘trainingandtestdata.zip’\n",
            "\n",
            "trainingandtestdata 100%[===================>]  77.59M  91.4MB/s    in 0.8s    \n",
            "\n",
            "2022-09-21 10:34:53 (91.4 MB/s) - ‘trainingandtestdata.zip’ saved [81363704/81363704]\n",
            "\n"
          ]
        }
      ]
    },
    {
      "cell_type": "code",
      "source": [
        "import zipfile\n",
        "\n",
        "zip_ref = zipfile.ZipFile('trainingandtestdata.zip')\n",
        "zip_ref.extractall()\n",
        "zip_ref.close()"
      ],
      "metadata": {
        "id": "Hk_Oxu-dShcs"
      },
      "execution_count": 6,
      "outputs": []
    },
    {
      "cell_type": "code",
      "source": [
        "train_df = pd.read_csv('/content/training.1600000.processed.noemoticon.csv', encoding='latin-1', header=None).sample(frac=1)\n",
        "test_df = pd.read_csv('/content/testdata.manual.2009.06.14.csv', encoding='latin-1', header=None).sample(frac=1)\n",
        "train_df.head()"
      ],
      "metadata": {
        "colab": {
          "base_uri": "https://localhost:8080/",
          "height": 206
        },
        "id": "efPmop2oSvZk",
        "outputId": "2ec112ee-d822-4e55-b402-fe34e5799b63"
      },
      "execution_count": 7,
      "outputs": [
        {
          "output_type": "execute_result",
          "data": {
            "text/plain": [
              "         0           1                             2         3             4  \\\n",
              "1022663  4  1882836640  Fri May 22 07:34:07 PDT 2009  NO_QUERY   MODELCHiCK2   \n",
              "69618    0  1693365784  Sun May 03 22:19:45 PDT 2009  NO_QUERY        JD2653   \n",
              "986746   4  1834597796  Mon May 18 03:32:26 PDT 2009  NO_QUERY  ThaRebeliouZ   \n",
              "386060   0  2053722633  Sat Jun 06 05:30:11 PDT 2009  NO_QUERY     Emberskye   \n",
              "1270925  4  2000474770  Mon Jun 01 22:11:50 PDT 2009  NO_QUERY        Rivrob   \n",
              "\n",
              "                                                         5  \n",
              "1022663  Fuck u fridays is here!! Sooo fuck u all on be...  \n",
              "69618    can't believe what just happened. Why on earth...  \n",
              "986746   Good Morning yall, ready to start off the week...  \n",
              "386060   It's early saturday morning, most of the kids ...  \n",
              "1270925  3 more early starts and then a proper 2 day we...  "
            ],
            "text/html": [
              "\n",
              "  <div id=\"df-a93001fe-0677-4620-9fae-0a6486b1f96d\">\n",
              "    <div class=\"colab-df-container\">\n",
              "      <div>\n",
              "<style scoped>\n",
              "    .dataframe tbody tr th:only-of-type {\n",
              "        vertical-align: middle;\n",
              "    }\n",
              "\n",
              "    .dataframe tbody tr th {\n",
              "        vertical-align: top;\n",
              "    }\n",
              "\n",
              "    .dataframe thead th {\n",
              "        text-align: right;\n",
              "    }\n",
              "</style>\n",
              "<table border=\"1\" class=\"dataframe\">\n",
              "  <thead>\n",
              "    <tr style=\"text-align: right;\">\n",
              "      <th></th>\n",
              "      <th>0</th>\n",
              "      <th>1</th>\n",
              "      <th>2</th>\n",
              "      <th>3</th>\n",
              "      <th>4</th>\n",
              "      <th>5</th>\n",
              "    </tr>\n",
              "  </thead>\n",
              "  <tbody>\n",
              "    <tr>\n",
              "      <th>1022663</th>\n",
              "      <td>4</td>\n",
              "      <td>1882836640</td>\n",
              "      <td>Fri May 22 07:34:07 PDT 2009</td>\n",
              "      <td>NO_QUERY</td>\n",
              "      <td>MODELCHiCK2</td>\n",
              "      <td>Fuck u fridays is here!! Sooo fuck u all on be...</td>\n",
              "    </tr>\n",
              "    <tr>\n",
              "      <th>69618</th>\n",
              "      <td>0</td>\n",
              "      <td>1693365784</td>\n",
              "      <td>Sun May 03 22:19:45 PDT 2009</td>\n",
              "      <td>NO_QUERY</td>\n",
              "      <td>JD2653</td>\n",
              "      <td>can't believe what just happened. Why on earth...</td>\n",
              "    </tr>\n",
              "    <tr>\n",
              "      <th>986746</th>\n",
              "      <td>4</td>\n",
              "      <td>1834597796</td>\n",
              "      <td>Mon May 18 03:32:26 PDT 2009</td>\n",
              "      <td>NO_QUERY</td>\n",
              "      <td>ThaRebeliouZ</td>\n",
              "      <td>Good Morning yall, ready to start off the week...</td>\n",
              "    </tr>\n",
              "    <tr>\n",
              "      <th>386060</th>\n",
              "      <td>0</td>\n",
              "      <td>2053722633</td>\n",
              "      <td>Sat Jun 06 05:30:11 PDT 2009</td>\n",
              "      <td>NO_QUERY</td>\n",
              "      <td>Emberskye</td>\n",
              "      <td>It's early saturday morning, most of the kids ...</td>\n",
              "    </tr>\n",
              "    <tr>\n",
              "      <th>1270925</th>\n",
              "      <td>4</td>\n",
              "      <td>2000474770</td>\n",
              "      <td>Mon Jun 01 22:11:50 PDT 2009</td>\n",
              "      <td>NO_QUERY</td>\n",
              "      <td>Rivrob</td>\n",
              "      <td>3 more early starts and then a proper 2 day we...</td>\n",
              "    </tr>\n",
              "  </tbody>\n",
              "</table>\n",
              "</div>\n",
              "      <button class=\"colab-df-convert\" onclick=\"convertToInteractive('df-a93001fe-0677-4620-9fae-0a6486b1f96d')\"\n",
              "              title=\"Convert this dataframe to an interactive table.\"\n",
              "              style=\"display:none;\">\n",
              "        \n",
              "  <svg xmlns=\"http://www.w3.org/2000/svg\" height=\"24px\"viewBox=\"0 0 24 24\"\n",
              "       width=\"24px\">\n",
              "    <path d=\"M0 0h24v24H0V0z\" fill=\"none\"/>\n",
              "    <path d=\"M18.56 5.44l.94 2.06.94-2.06 2.06-.94-2.06-.94-.94-2.06-.94 2.06-2.06.94zm-11 1L8.5 8.5l.94-2.06 2.06-.94-2.06-.94L8.5 2.5l-.94 2.06-2.06.94zm10 10l.94 2.06.94-2.06 2.06-.94-2.06-.94-.94-2.06-.94 2.06-2.06.94z\"/><path d=\"M17.41 7.96l-1.37-1.37c-.4-.4-.92-.59-1.43-.59-.52 0-1.04.2-1.43.59L10.3 9.45l-7.72 7.72c-.78.78-.78 2.05 0 2.83L4 21.41c.39.39.9.59 1.41.59.51 0 1.02-.2 1.41-.59l7.78-7.78 2.81-2.81c.8-.78.8-2.07 0-2.86zM5.41 20L4 18.59l7.72-7.72 1.47 1.35L5.41 20z\"/>\n",
              "  </svg>\n",
              "      </button>\n",
              "      \n",
              "  <style>\n",
              "    .colab-df-container {\n",
              "      display:flex;\n",
              "      flex-wrap:wrap;\n",
              "      gap: 12px;\n",
              "    }\n",
              "\n",
              "    .colab-df-convert {\n",
              "      background-color: #E8F0FE;\n",
              "      border: none;\n",
              "      border-radius: 50%;\n",
              "      cursor: pointer;\n",
              "      display: none;\n",
              "      fill: #1967D2;\n",
              "      height: 32px;\n",
              "      padding: 0 0 0 0;\n",
              "      width: 32px;\n",
              "    }\n",
              "\n",
              "    .colab-df-convert:hover {\n",
              "      background-color: #E2EBFA;\n",
              "      box-shadow: 0px 1px 2px rgba(60, 64, 67, 0.3), 0px 1px 3px 1px rgba(60, 64, 67, 0.15);\n",
              "      fill: #174EA6;\n",
              "    }\n",
              "\n",
              "    [theme=dark] .colab-df-convert {\n",
              "      background-color: #3B4455;\n",
              "      fill: #D2E3FC;\n",
              "    }\n",
              "\n",
              "    [theme=dark] .colab-df-convert:hover {\n",
              "      background-color: #434B5C;\n",
              "      box-shadow: 0px 1px 3px 1px rgba(0, 0, 0, 0.15);\n",
              "      filter: drop-shadow(0px 1px 2px rgba(0, 0, 0, 0.3));\n",
              "      fill: #FFFFFF;\n",
              "    }\n",
              "  </style>\n",
              "\n",
              "      <script>\n",
              "        const buttonEl =\n",
              "          document.querySelector('#df-a93001fe-0677-4620-9fae-0a6486b1f96d button.colab-df-convert');\n",
              "        buttonEl.style.display =\n",
              "          google.colab.kernel.accessAllowed ? 'block' : 'none';\n",
              "\n",
              "        async function convertToInteractive(key) {\n",
              "          const element = document.querySelector('#df-a93001fe-0677-4620-9fae-0a6486b1f96d');\n",
              "          const dataTable =\n",
              "            await google.colab.kernel.invokeFunction('convertToInteractive',\n",
              "                                                     [key], {});\n",
              "          if (!dataTable) return;\n",
              "\n",
              "          const docLinkHtml = 'Like what you see? Visit the ' +\n",
              "            '<a target=\"_blank\" href=https://colab.research.google.com/notebooks/data_table.ipynb>data table notebook</a>'\n",
              "            + ' to learn more about interactive tables.';\n",
              "          element.innerHTML = '';\n",
              "          dataTable['output_type'] = 'display_data';\n",
              "          await google.colab.output.renderOutput(dataTable, element);\n",
              "          const docLink = document.createElement('div');\n",
              "          docLink.innerHTML = docLinkHtml;\n",
              "          element.appendChild(docLink);\n",
              "        }\n",
              "      </script>\n",
              "    </div>\n",
              "  </div>\n",
              "  "
            ]
          },
          "metadata": {},
          "execution_count": 7
        }
      ]
    },
    {
      "cell_type": "markdown",
      "source": [
        "- 0 - the polarity of the tweet (0 = negative, 2 = neutral, 4 = positive)\n",
        "- 1 - the id of the tweet (2087)\n",
        "- 2 - the date of the tweet (Sat May 16 23:58:44 UTC 2009)\n",
        "- 3 - the query (lyx). If there is no query, then this value is NO_QUERY.\n",
        "- 4 - the user that tweeted (robotickilldozr)\n",
        "- 5 - the text of the tweet (Lyx is cool)"
      ],
      "metadata": {
        "id": "VcqL7LUKS4O8"
      }
    },
    {
      "cell_type": "code",
      "source": [
        "train_df = train_df[[0, 4, 5]]\n",
        "test_df = test_df[[0, 4, 5]]\n",
        "train_df.head()"
      ],
      "metadata": {
        "colab": {
          "base_uri": "https://localhost:8080/",
          "height": 206
        },
        "id": "XV9b_Mq5TukT",
        "outputId": "1f843098-2665-475c-824c-2e398813fae3"
      },
      "execution_count": 8,
      "outputs": [
        {
          "output_type": "execute_result",
          "data": {
            "text/plain": [
              "         0             4                                                  5\n",
              "1022663  4   MODELCHiCK2  Fuck u fridays is here!! Sooo fuck u all on be...\n",
              "69618    0        JD2653  can't believe what just happened. Why on earth...\n",
              "986746   4  ThaRebeliouZ  Good Morning yall, ready to start off the week...\n",
              "386060   0     Emberskye  It's early saturday morning, most of the kids ...\n",
              "1270925  4        Rivrob  3 more early starts and then a proper 2 day we..."
            ],
            "text/html": [
              "\n",
              "  <div id=\"df-e28014fa-26e5-4501-b159-315bd276fe26\">\n",
              "    <div class=\"colab-df-container\">\n",
              "      <div>\n",
              "<style scoped>\n",
              "    .dataframe tbody tr th:only-of-type {\n",
              "        vertical-align: middle;\n",
              "    }\n",
              "\n",
              "    .dataframe tbody tr th {\n",
              "        vertical-align: top;\n",
              "    }\n",
              "\n",
              "    .dataframe thead th {\n",
              "        text-align: right;\n",
              "    }\n",
              "</style>\n",
              "<table border=\"1\" class=\"dataframe\">\n",
              "  <thead>\n",
              "    <tr style=\"text-align: right;\">\n",
              "      <th></th>\n",
              "      <th>0</th>\n",
              "      <th>4</th>\n",
              "      <th>5</th>\n",
              "    </tr>\n",
              "  </thead>\n",
              "  <tbody>\n",
              "    <tr>\n",
              "      <th>1022663</th>\n",
              "      <td>4</td>\n",
              "      <td>MODELCHiCK2</td>\n",
              "      <td>Fuck u fridays is here!! Sooo fuck u all on be...</td>\n",
              "    </tr>\n",
              "    <tr>\n",
              "      <th>69618</th>\n",
              "      <td>0</td>\n",
              "      <td>JD2653</td>\n",
              "      <td>can't believe what just happened. Why on earth...</td>\n",
              "    </tr>\n",
              "    <tr>\n",
              "      <th>986746</th>\n",
              "      <td>4</td>\n",
              "      <td>ThaRebeliouZ</td>\n",
              "      <td>Good Morning yall, ready to start off the week...</td>\n",
              "    </tr>\n",
              "    <tr>\n",
              "      <th>386060</th>\n",
              "      <td>0</td>\n",
              "      <td>Emberskye</td>\n",
              "      <td>It's early saturday morning, most of the kids ...</td>\n",
              "    </tr>\n",
              "    <tr>\n",
              "      <th>1270925</th>\n",
              "      <td>4</td>\n",
              "      <td>Rivrob</td>\n",
              "      <td>3 more early starts and then a proper 2 day we...</td>\n",
              "    </tr>\n",
              "  </tbody>\n",
              "</table>\n",
              "</div>\n",
              "      <button class=\"colab-df-convert\" onclick=\"convertToInteractive('df-e28014fa-26e5-4501-b159-315bd276fe26')\"\n",
              "              title=\"Convert this dataframe to an interactive table.\"\n",
              "              style=\"display:none;\">\n",
              "        \n",
              "  <svg xmlns=\"http://www.w3.org/2000/svg\" height=\"24px\"viewBox=\"0 0 24 24\"\n",
              "       width=\"24px\">\n",
              "    <path d=\"M0 0h24v24H0V0z\" fill=\"none\"/>\n",
              "    <path d=\"M18.56 5.44l.94 2.06.94-2.06 2.06-.94-2.06-.94-.94-2.06-.94 2.06-2.06.94zm-11 1L8.5 8.5l.94-2.06 2.06-.94-2.06-.94L8.5 2.5l-.94 2.06-2.06.94zm10 10l.94 2.06.94-2.06 2.06-.94-2.06-.94-.94-2.06-.94 2.06-2.06.94z\"/><path d=\"M17.41 7.96l-1.37-1.37c-.4-.4-.92-.59-1.43-.59-.52 0-1.04.2-1.43.59L10.3 9.45l-7.72 7.72c-.78.78-.78 2.05 0 2.83L4 21.41c.39.39.9.59 1.41.59.51 0 1.02-.2 1.41-.59l7.78-7.78 2.81-2.81c.8-.78.8-2.07 0-2.86zM5.41 20L4 18.59l7.72-7.72 1.47 1.35L5.41 20z\"/>\n",
              "  </svg>\n",
              "      </button>\n",
              "      \n",
              "  <style>\n",
              "    .colab-df-container {\n",
              "      display:flex;\n",
              "      flex-wrap:wrap;\n",
              "      gap: 12px;\n",
              "    }\n",
              "\n",
              "    .colab-df-convert {\n",
              "      background-color: #E8F0FE;\n",
              "      border: none;\n",
              "      border-radius: 50%;\n",
              "      cursor: pointer;\n",
              "      display: none;\n",
              "      fill: #1967D2;\n",
              "      height: 32px;\n",
              "      padding: 0 0 0 0;\n",
              "      width: 32px;\n",
              "    }\n",
              "\n",
              "    .colab-df-convert:hover {\n",
              "      background-color: #E2EBFA;\n",
              "      box-shadow: 0px 1px 2px rgba(60, 64, 67, 0.3), 0px 1px 3px 1px rgba(60, 64, 67, 0.15);\n",
              "      fill: #174EA6;\n",
              "    }\n",
              "\n",
              "    [theme=dark] .colab-df-convert {\n",
              "      background-color: #3B4455;\n",
              "      fill: #D2E3FC;\n",
              "    }\n",
              "\n",
              "    [theme=dark] .colab-df-convert:hover {\n",
              "      background-color: #434B5C;\n",
              "      box-shadow: 0px 1px 3px 1px rgba(0, 0, 0, 0.15);\n",
              "      filter: drop-shadow(0px 1px 2px rgba(0, 0, 0, 0.3));\n",
              "      fill: #FFFFFF;\n",
              "    }\n",
              "  </style>\n",
              "\n",
              "      <script>\n",
              "        const buttonEl =\n",
              "          document.querySelector('#df-e28014fa-26e5-4501-b159-315bd276fe26 button.colab-df-convert');\n",
              "        buttonEl.style.display =\n",
              "          google.colab.kernel.accessAllowed ? 'block' : 'none';\n",
              "\n",
              "        async function convertToInteractive(key) {\n",
              "          const element = document.querySelector('#df-e28014fa-26e5-4501-b159-315bd276fe26');\n",
              "          const dataTable =\n",
              "            await google.colab.kernel.invokeFunction('convertToInteractive',\n",
              "                                                     [key], {});\n",
              "          if (!dataTable) return;\n",
              "\n",
              "          const docLinkHtml = 'Like what you see? Visit the ' +\n",
              "            '<a target=\"_blank\" href=https://colab.research.google.com/notebooks/data_table.ipynb>data table notebook</a>'\n",
              "            + ' to learn more about interactive tables.';\n",
              "          element.innerHTML = '';\n",
              "          dataTable['output_type'] = 'display_data';\n",
              "          await google.colab.output.renderOutput(dataTable, element);\n",
              "          const docLink = document.createElement('div');\n",
              "          docLink.innerHTML = docLinkHtml;\n",
              "          element.appendChild(docLink);\n",
              "        }\n",
              "      </script>\n",
              "    </div>\n",
              "  </div>\n",
              "  "
            ]
          },
          "metadata": {},
          "execution_count": 8
        }
      ]
    },
    {
      "cell_type": "code",
      "source": [
        "train_target = train_df[0].to_numpy()\n",
        "train_usernames = train_df[4].to_numpy()\n",
        "train_tweets = train_df[5].to_numpy()\n",
        "test_target = test_df[0].to_numpy()\n",
        "test_usernames = test_df[4].to_numpy()\n",
        "test_tweets = test_df[5].to_numpy()"
      ],
      "metadata": {
        "id": "jwJ1Q1E8VCv0"
      },
      "execution_count": 9,
      "outputs": []
    },
    {
      "cell_type": "code",
      "source": [
        "train_df[0].value_counts()"
      ],
      "metadata": {
        "colab": {
          "base_uri": "https://localhost:8080/"
        },
        "id": "-Q4UnGNsVdrL",
        "outputId": "8724c373-4ac9-4c7e-ed94-439da2de83e9"
      },
      "execution_count": 10,
      "outputs": [
        {
          "output_type": "execute_result",
          "data": {
            "text/plain": [
              "4    800000\n",
              "0    800000\n",
              "Name: 0, dtype: int64"
            ]
          },
          "metadata": {},
          "execution_count": 10
        }
      ]
    },
    {
      "cell_type": "code",
      "source": [
        "test_df[0].value_counts()"
      ],
      "metadata": {
        "colab": {
          "base_uri": "https://localhost:8080/"
        },
        "id": "_HRsblg-YfET",
        "outputId": "b151c153-0dc3-44b8-e25d-2f33ace6c667"
      },
      "execution_count": 11,
      "outputs": [
        {
          "output_type": "execute_result",
          "data": {
            "text/plain": [
              "4    182\n",
              "0    177\n",
              "2    139\n",
              "Name: 0, dtype: int64"
            ]
          },
          "metadata": {},
          "execution_count": 11
        }
      ]
    },
    {
      "cell_type": "markdown",
      "source": [
        "It seems like we cannot just predict a category. It would be better to normalise the targets. Then values closer to 0 would be negative whereas values closer to 1 would be positive.\n"
      ],
      "metadata": {
        "id": "Dz_nwttjY8QM"
      }
    },
    {
      "cell_type": "code",
      "source": [
        "from sklearn.preprocessing import MinMaxScaler\n",
        "scaler = MinMaxScaler().fit(train_target.reshape(-1, 1))\n",
        "train_targets = tf.cast(scaler.transform(train_target.reshape(-1, 1)), dtype=tf.float32)\n",
        "test_targets = tf.cast(scaler.transform(test_target.reshape(-1, 1)), dtype=tf.float32)"
      ],
      "metadata": {
        "id": "2XHxmjBOZVLC"
      },
      "execution_count": 12,
      "outputs": []
    },
    {
      "cell_type": "code",
      "source": [
        "train_targets.shape"
      ],
      "metadata": {
        "colab": {
          "base_uri": "https://localhost:8080/"
        },
        "id": "it4kASQ0bWsJ",
        "outputId": "e5d503d6-6e0a-4e0f-ff4f-143db316b820"
      },
      "execution_count": 13,
      "outputs": [
        {
          "output_type": "execute_result",
          "data": {
            "text/plain": [
              "TensorShape([1600000, 1])"
            ]
          },
          "metadata": {},
          "execution_count": 13
        }
      ]
    },
    {
      "cell_type": "code",
      "source": [
        "from sklearn.feature_extraction.text import TfidfVectorizer\n",
        "from sklearn.pipeline import Pipeline\n",
        "from sklearn.linear_model import SGDRegressor\n",
        "\n",
        "model_0 = Pipeline([\n",
        "                    ('tfidf', TfidfVectorizer()),\n",
        "                    ('reg', SGDRegressor())\n",
        "])\n",
        "\n",
        "model_0.fit(train_tweets, train_targets)"
      ],
      "metadata": {
        "colab": {
          "base_uri": "https://localhost:8080/"
        },
        "id": "oFUvCJmFXowK",
        "outputId": "e65b2820-9f9f-42d9-83bd-927e39d76531"
      },
      "execution_count": 14,
      "outputs": [
        {
          "output_type": "stream",
          "name": "stderr",
          "text": [
            "/usr/local/lib/python3.7/dist-packages/sklearn/utils/validation.py:993: DataConversionWarning: A column-vector y was passed when a 1d array was expected. Please change the shape of y to (n_samples, ), for example using ravel().\n",
            "  y = column_or_1d(y, warn=True)\n"
          ]
        },
        {
          "output_type": "execute_result",
          "data": {
            "text/plain": [
              "Pipeline(steps=[('tfidf', TfidfVectorizer()), ('reg', SGDRegressor())])"
            ]
          },
          "metadata": {},
          "execution_count": 14
        }
      ]
    },
    {
      "cell_type": "code",
      "source": [
        "model_0.score(test_tweets, test_targets)"
      ],
      "metadata": {
        "colab": {
          "base_uri": "https://localhost:8080/"
        },
        "id": "Pb_O4s4DauGZ",
        "outputId": "3932e704-e144-4e67-bda1-4e8a024e26f5"
      },
      "execution_count": 15,
      "outputs": [
        {
          "output_type": "execute_result",
          "data": {
            "text/plain": [
              "0.2779722983671191"
            ]
          },
          "metadata": {},
          "execution_count": 15
        }
      ]
    },
    {
      "cell_type": "code",
      "source": [
        "from sklearn.metrics import mean_absolute_error, mean_squared_error\n",
        "def regression_scores(y_true, y_pred):\n",
        "  mae = mean_absolute_error(y_true, y_pred)\n",
        "  mse = mean_squared_error(y_true, y_pred)\n",
        "  return {'mae': mae,\n",
        "          'mse': mse}"
      ],
      "metadata": {
        "id": "I-cjxNyCbme5"
      },
      "execution_count": 16,
      "outputs": []
    },
    {
      "cell_type": "code",
      "source": [
        "y_pred = model_0.predict(test_tweets)\n",
        "model_0_scores = regression_scores(test_targets, y_pred)\n",
        "model_0_scores"
      ],
      "metadata": {
        "colab": {
          "base_uri": "https://localhost:8080/"
        },
        "id": "js-_X7ifoDEk",
        "outputId": "200278d7-0ffb-4190-e95b-31ac7a1dd17c"
      },
      "execution_count": 17,
      "outputs": [
        {
          "output_type": "execute_result",
          "data": {
            "text/plain": [
              "{'mae': 0.308376582205192, 'mse': 0.13010627643053577}"
            ]
          },
          "metadata": {},
          "execution_count": 17
        }
      ]
    },
    {
      "cell_type": "code",
      "source": [
        "tweet_lengths = [len(tweet.split()) for tweet in train_tweets]\n",
        "np.mean(tweet_lengths), np.max(tweet_lengths)"
      ],
      "metadata": {
        "colab": {
          "base_uri": "https://localhost:8080/"
        },
        "id": "X3R_VXBtoU2s",
        "outputId": "f9490743-3e9a-4ba2-9e07-eebb86b5fa1e"
      },
      "execution_count": 18,
      "outputs": [
        {
          "output_type": "execute_result",
          "data": {
            "text/plain": [
              "(13.176150625, 64)"
            ]
          },
          "metadata": {},
          "execution_count": 18
        }
      ]
    },
    {
      "cell_type": "code",
      "source": [
        "np.percentile(tweet_lengths, 95)"
      ],
      "metadata": {
        "colab": {
          "base_uri": "https://localhost:8080/"
        },
        "id": "4tV136h-o_Oj",
        "outputId": "fa27d8ee-30f1-449b-e917-faffd5794d0d"
      },
      "execution_count": 19,
      "outputs": [
        {
          "output_type": "execute_result",
          "data": {
            "text/plain": [
              "25.0"
            ]
          },
          "metadata": {},
          "execution_count": 19
        }
      ]
    },
    {
      "cell_type": "code",
      "source": [
        "text_vectorizer = tf.keras.layers.TextVectorization(max_tokens=10000,\n",
        "                                                    pad_to_max_tokens=True,\n",
        "                                                    output_sequence_length=25)\n",
        "text_vectorizer.adapt(train_tweets[:100000])"
      ],
      "metadata": {
        "id": "QFY-7v3RpLAk"
      },
      "execution_count": 20,
      "outputs": []
    },
    {
      "cell_type": "code",
      "source": [
        "vocab = text_vectorizer.get_vocabulary()"
      ],
      "metadata": {
        "id": "M26kqBEzpkzM"
      },
      "execution_count": 21,
      "outputs": []
    },
    {
      "cell_type": "code",
      "source": [
        "embedding = tf.keras.layers.Embedding(25,\n",
        "                                      256,\n",
        "                                      mask_zero=True,\n",
        "                                      input_length=len(vocab))"
      ],
      "metadata": {
        "id": "TCWx9tUTqcFc"
      },
      "execution_count": 22,
      "outputs": []
    },
    {
      "cell_type": "code",
      "source": [
        "text_vectorized = text_vectorizer(train_tweets[:100])\n",
        "text_vectorized[0], text_vectorized.shape"
      ],
      "metadata": {
        "colab": {
          "base_uri": "https://localhost:8080/"
        },
        "id": "OwRbBIFk6WZg",
        "outputId": "6acbb91c-2c33-47d6-cf58-c1928c2ab6ff"
      },
      "execution_count": 23,
      "outputs": [
        {
          "output_type": "execute_result",
          "data": {
            "text/plain": [
              "(<tf.Tensor: shape=(25,), dtype=int64, numpy=\n",
              " array([ 503,   61, 2469,    9,   86,  417,  503,   61,   35,   15, 9508,\n",
              "          13,    1, 3997,    9,  291, 1905,   25,   44,  154, 1938, 2979,\n",
              "           1,  669,    0])>, TensorShape([100, 25]))"
            ]
          },
          "metadata": {},
          "execution_count": 23
        }
      ]
    },
    {
      "cell_type": "code",
      "source": [
        "text_embed = embedding(text_vectorized)\n",
        "text_embed[0], text_embed.shape"
      ],
      "metadata": {
        "colab": {
          "base_uri": "https://localhost:8080/"
        },
        "id": "YJeDzZ1068zm",
        "outputId": "bce133ca-1ece-4518-f912-f1ab2ad549ef"
      },
      "execution_count": 24,
      "outputs": [
        {
          "output_type": "execute_result",
          "data": {
            "text/plain": [
              "(<tf.Tensor: shape=(25, 256), dtype=float32, numpy=\n",
              " array([[ 0.        ,  0.        ,  0.        , ...,  0.        ,\n",
              "          0.        ,  0.        ],\n",
              "        [ 0.        ,  0.        ,  0.        , ...,  0.        ,\n",
              "          0.        ,  0.        ],\n",
              "        [ 0.        ,  0.        ,  0.        , ...,  0.        ,\n",
              "          0.        ,  0.        ],\n",
              "        ...,\n",
              "        [-0.00681506,  0.04780071, -0.01009294, ..., -0.04428514,\n",
              "          0.0306274 ,  0.00488953],\n",
              "        [ 0.        ,  0.        ,  0.        , ...,  0.        ,\n",
              "          0.        ,  0.        ],\n",
              "        [ 0.00108193, -0.03133496,  0.00364133, ...,  0.03812322,\n",
              "         -0.02690302, -0.04891543]], dtype=float32)>,\n",
              " TensorShape([100, 25, 256]))"
            ]
          },
          "metadata": {},
          "execution_count": 24
        }
      ]
    },
    {
      "cell_type": "markdown",
      "source": [
        "The train dataset is huge so I'll use only 1% of it"
      ],
      "metadata": {
        "id": "r0TdrNjS_-sT"
      }
    },
    {
      "cell_type": "code",
      "source": [
        "split = int(0.01*len(train_tweets))\n",
        "split"
      ],
      "metadata": {
        "colab": {
          "base_uri": "https://localhost:8080/"
        },
        "id": "tVRHFvoOAHC0",
        "outputId": "90273603-5e76-4702-ac24-a29d0774c155"
      },
      "execution_count": 25,
      "outputs": [
        {
          "output_type": "execute_result",
          "data": {
            "text/plain": [
              "16000"
            ]
          },
          "metadata": {},
          "execution_count": 25
        }
      ]
    },
    {
      "cell_type": "code",
      "source": [
        "train_vectorized = tf.cast(text_vectorizer(train_tweets[:split]), dtype=tf.float32)\n",
        "test_vectorized = text_vectorizer(test_tweets)"
      ],
      "metadata": {
        "id": "K6lqniD19VBt"
      },
      "execution_count": 26,
      "outputs": []
    },
    {
      "cell_type": "code",
      "source": [
        "from tensorflow.keras import layers\n",
        "\n",
        "inputs = layers.Input(shape=(25,))\n",
        "x = embedding(inputs)\n",
        "x = layers.LSTM(128, activation='relu')(x)\n",
        "outputs = layers.Dense(1)(x)\n",
        "\n",
        "model_1 = tf.keras.Model(inputs, outputs)"
      ],
      "metadata": {
        "colab": {
          "base_uri": "https://localhost:8080/"
        },
        "id": "tBCYSPMFrf7s",
        "outputId": "779f840c-7629-47c9-c4a7-b5fcdcd9b60f"
      },
      "execution_count": 27,
      "outputs": [
        {
          "output_type": "stream",
          "name": "stderr",
          "text": [
            "WARNING:tensorflow:Layer lstm will not use cuDNN kernels since it doesn't meet the criteria. It will use a generic GPU kernel as fallback when running on GPU.\n"
          ]
        }
      ]
    },
    {
      "cell_type": "code",
      "source": [
        "model_1.summary()"
      ],
      "metadata": {
        "colab": {
          "base_uri": "https://localhost:8080/"
        },
        "id": "hbWhBzVD7oWt",
        "outputId": "3993db8c-5a89-470d-bb6f-21ffb0bc1f0e"
      },
      "execution_count": 28,
      "outputs": [
        {
          "output_type": "stream",
          "name": "stdout",
          "text": [
            "Model: \"model\"\n",
            "_________________________________________________________________\n",
            " Layer (type)                Output Shape              Param #   \n",
            "=================================================================\n",
            " input_1 (InputLayer)        [(None, 25)]              0         \n",
            "                                                                 \n",
            " embedding (Embedding)       (None, 25, 256)           6400      \n",
            "                                                                 \n",
            " lstm (LSTM)                 (None, 128)               197120    \n",
            "                                                                 \n",
            " dense (Dense)               (None, 1)                 129       \n",
            "                                                                 \n",
            "=================================================================\n",
            "Total params: 203,649\n",
            "Trainable params: 203,649\n",
            "Non-trainable params: 0\n",
            "_________________________________________________________________\n"
          ]
        }
      ]
    },
    {
      "cell_type": "code",
      "source": [
        "train_dataset = tf.data.Dataset.from_tensor_slices((train_vectorized, train_targets[:split])).batch(32).prefetch(tf.data.AUTOTUNE)\n",
        "test_dataset = tf.data.Dataset.from_tensor_slices((test_vectorized, test_targets)).batch(32).prefetch(tf.data.AUTOTUNE)"
      ],
      "metadata": {
        "id": "n8nmOXWf5fmG"
      },
      "execution_count": 29,
      "outputs": []
    },
    {
      "cell_type": "code",
      "source": [
        "train_dataset"
      ],
      "metadata": {
        "colab": {
          "base_uri": "https://localhost:8080/"
        },
        "id": "xjJZ22pZ58UG",
        "outputId": "41b6394e-35be-4e9d-d21a-3efc480e4dab"
      },
      "execution_count": 30,
      "outputs": [
        {
          "output_type": "execute_result",
          "data": {
            "text/plain": [
              "<PrefetchDataset element_spec=(TensorSpec(shape=(None, 25), dtype=tf.float32, name=None), TensorSpec(shape=(None, 1), dtype=tf.float32, name=None))>"
            ]
          },
          "metadata": {},
          "execution_count": 30
        }
      ]
    },
    {
      "cell_type": "code",
      "source": [
        "model_1.compile(loss=tf.keras.losses.MeanAbsoluteError(), optimizer='adam')\n",
        "\n",
        "history_1 = model_1.fit(train_dataset, steps_per_epoch=len(train_dataset), validation_data=test_dataset,\n",
        "                        validation_steps=len(test_dataset), epochs=30,\n",
        "                        callbacks=[create_cp_callback('model_1'), tf.keras.callbacks.EarlyStopping(patience=5)])"
      ],
      "metadata": {
        "id": "dJiWUBywr63K",
        "colab": {
          "base_uri": "https://localhost:8080/"
        },
        "outputId": "d52cd0ea-4b76-435f-b706-3ee0300d0470"
      },
      "execution_count": 31,
      "outputs": [
        {
          "output_type": "stream",
          "name": "stdout",
          "text": [
            "Epoch 1/30\n",
            "500/500 [==============================] - ETA: 0s - loss: 0.4395"
          ]
        },
        {
          "output_type": "stream",
          "name": "stderr",
          "text": [
            "WARNING:absl:<keras.layers.recurrent.LSTMCell object at 0x7faeef514490> has the same name 'LSTMCell' as a built-in Keras object. Consider renaming <class 'keras.layers.recurrent.LSTMCell'> to avoid naming conflicts when loading with `tf.keras.models.load_model`. If renaming is not possible, pass the object in the `custom_objects` parameter of the load function.\n"
          ]
        },
        {
          "output_type": "stream",
          "name": "stdout",
          "text": [
            "\b\b\b\b\b\b\b\b\b\b\b\b\b\b\b\b\b\b\b\b\b\b\b\b\b\b\b\b\b\b\b\b\b\b\b\b\b\b\b\b\b\b\b\b\b\b\b\b\b\b\b\b\b\b\b\b\b\b\b\b\b\b\b\b\b\r500/500 [==============================] - 44s 79ms/step - loss: 0.4395 - val_loss: 0.4528\n",
            "Epoch 2/30\n",
            "500/500 [==============================] - 37s 74ms/step - loss: 0.4040 - val_loss: 0.4638\n",
            "Epoch 3/30\n",
            "500/500 [==============================] - 36s 72ms/step - loss: 0.3977 - val_loss: 0.4592\n",
            "Epoch 4/30\n",
            "500/500 [==============================] - 36s 73ms/step - loss: 0.3954 - val_loss: 0.4607\n",
            "Epoch 5/30\n",
            "500/500 [==============================] - 36s 73ms/step - loss: 0.3940 - val_loss: 0.4676\n",
            "Epoch 6/30\n",
            "500/500 [==============================] - 35s 71ms/step - loss: 0.3944 - val_loss: 0.4569\n"
          ]
        }
      ]
    },
    {
      "cell_type": "code",
      "source": [
        "model_1 = tf.keras.models.load_model('/content/experiments/checkpoints/model_1')"
      ],
      "metadata": {
        "colab": {
          "base_uri": "https://localhost:8080/"
        },
        "id": "9Ina9ccL4G-Y",
        "outputId": "d31e11c3-4cfd-4505-f7f8-133ff394874d"
      },
      "execution_count": 32,
      "outputs": [
        {
          "output_type": "stream",
          "name": "stderr",
          "text": [
            "WARNING:tensorflow:Layer lstm will not use cuDNN kernels since it doesn't meet the criteria. It will use a generic GPU kernel as fallback when running on GPU.\n"
          ]
        }
      ]
    },
    {
      "cell_type": "code",
      "source": [
        "y_preds = model_1.predict(text_vectorizer(test_tweets))\n",
        "model_1_scores = regression_scores(test_targets, y_preds)\n",
        "model_1_scores"
      ],
      "metadata": {
        "id": "6csZQWas4qV_",
        "colab": {
          "base_uri": "https://localhost:8080/"
        },
        "outputId": "9e564e7e-9236-4e7e-ba39-c6cb21e3c757"
      },
      "execution_count": 33,
      "outputs": [
        {
          "output_type": "execute_result",
          "data": {
            "text/plain": [
              "{'mae': 0.45284972, 'mse': 0.31555977}"
            ]
          },
          "metadata": {},
          "execution_count": 33
        }
      ]
    },
    {
      "cell_type": "code",
      "source": [
        "model_2 = tf.keras.Sequential([\n",
        "    layers.Lambda(lambda x: tf.expand_dims(x, axis=1)),\n",
        "    layers.Conv1D(64, 3, padding='same'),\n",
        "    layers.Conv1D(64, 3, padding='same'),\n",
        "    layers.GlobalMaxPooling1D(),\n",
        "    layers.Dense(128, activation='relu'),\n",
        "    layers.Dense(1)\n",
        "])\n",
        "\n",
        "model_2.compile(loss='mae', optimizer='adam')\n",
        "\n",
        "history_2 = model_2.fit(train_dataset, steps_per_epoch=len(train_dataset), validation_data=test_dataset,\n",
        "                        validation_steps=len(test_dataset), epochs=60,\n",
        "                        callbacks=[create_cp_callback('model_2'), tf.keras.callbacks.EarlyStopping(patience=10)],\n",
        "                        verbose=0)"
      ],
      "metadata": {
        "id": "mT7vJk1m4F-Z"
      },
      "execution_count": 34,
      "outputs": []
    },
    {
      "cell_type": "code",
      "source": [
        "model_2 = tf.keras.models.load_model('/content/experiments/checkpoints/model_2')\n",
        "y_preds = model_2.predict(text_vectorizer(test_tweets))\n",
        "model_2_scores = regression_scores(test_targets, y_preds)\n",
        "model_2_scores"
      ],
      "metadata": {
        "colab": {
          "base_uri": "https://localhost:8080/"
        },
        "id": "kR3_oJGb8Amw",
        "outputId": "584fbc4b-bc7e-4ea2-becd-5722c406d186"
      },
      "execution_count": 35,
      "outputs": [
        {
          "output_type": "execute_result",
          "data": {
            "text/plain": [
              "{'mae': 0.437375, 'mse': 0.25563228}"
            ]
          },
          "metadata": {},
          "execution_count": 35
        }
      ]
    },
    {
      "cell_type": "code",
      "source": [
        "encoder_layer = hub.KerasLayer('https://tfhub.dev/google/universal-sentence-encoder/4',\n",
        "                               input_shape=[],\n",
        "                               dtype=tf.string,\n",
        "                               trainable=False)"
      ],
      "metadata": {
        "id": "DjysPkwE8V7n"
      },
      "execution_count": 36,
      "outputs": []
    },
    {
      "cell_type": "code",
      "source": [
        "train_vectorized = tf.cast(encoder_layer(train_tweets[:split]), dtype=tf.float32)\n",
        "test_vectorized = encoder_layer(test_tweets)\n",
        "train_dataset = tf.data.Dataset.from_tensor_slices((train_vectorized, train_targets[:split])).batch(32).prefetch(tf.data.AUTOTUNE)\n",
        "test_dataset = tf.data.Dataset.from_tensor_slices((test_vectorized, test_targets)).batch(32).prefetch(tf.data.AUTOTUNE)"
      ],
      "metadata": {
        "id": "dxGMPDYW9B_4"
      },
      "execution_count": 37,
      "outputs": []
    },
    {
      "cell_type": "code",
      "source": [
        "model_3 = tf.keras.Sequential([\n",
        "    layers.Dense(128, activation='relu'),\n",
        "    layers.Dense(1)\n",
        "])\n",
        "\n",
        "model_3.compile(loss='mae', optimizer='adam')\n",
        "\n",
        "history_3 = model_3.fit(train_dataset, steps_per_epoch=len(train_dataset), validation_data=test_dataset,\n",
        "                        validation_steps=len(test_dataset), epochs=60,\n",
        "                        callbacks=[create_cp_callback('model_3'), tf.keras.callbacks.EarlyStopping(patience=10)],\n",
        "                        verbose=0)"
      ],
      "metadata": {
        "id": "iJkD1-Nq9YTo"
      },
      "execution_count": 38,
      "outputs": []
    },
    {
      "cell_type": "code",
      "source": [
        "model_3 = tf.keras.models.load_model('/content/experiments/checkpoints/model_3')\n",
        "y_preds = model_3.predict(encoder_layer(test_tweets))\n",
        "model_3_scores = regression_scores(test_targets, y_preds)\n",
        "model_3_scores"
      ],
      "metadata": {
        "colab": {
          "base_uri": "https://localhost:8080/"
        },
        "id": "dIkmfc0-9rI4",
        "outputId": "f0fb8ac6-1b68-4004-da22-b14045db55ec"
      },
      "execution_count": 39,
      "outputs": [
        {
          "output_type": "execute_result",
          "data": {
            "text/plain": [
              "{'mae': 0.26248482, 'mse': 0.12363383}"
            ]
          },
          "metadata": {},
          "execution_count": 39
        }
      ]
    },
    {
      "cell_type": "markdown",
      "source": [
        "Usernames usually aren't \"normal\" words so it'd be better to focus of characters"
      ],
      "metadata": {
        "id": "vH7EpJ6996J3"
      }
    },
    {
      "cell_type": "code",
      "source": [
        "def splitchar(text):\n",
        "  return ' '.join(list(text))"
      ],
      "metadata": {
        "id": "NLQtl19m-mwY"
      },
      "execution_count": 40,
      "outputs": []
    },
    {
      "cell_type": "code",
      "source": [
        "train_usernames_chars = [splitchar(uname) for uname in train_usernames]\n",
        "test_usernames_chars = [splitchar(uname) for uname in test_usernames]"
      ],
      "metadata": {
        "id": "KUF5Lq-t-W82"
      },
      "execution_count": 41,
      "outputs": []
    },
    {
      "cell_type": "code",
      "source": [
        "char_usernames_lengths = [len(sentence) for sentence in train_usernames_chars]\n",
        "np.mean(char_usernames_lengths), np.percentile(char_usernames_lengths, 95)"
      ],
      "metadata": {
        "colab": {
          "base_uri": "https://localhost:8080/"
        },
        "id": "3M0t6OFx-0Fu",
        "outputId": "a04b7762-52fb-4c61-cd53-b938c0ea2fb0"
      },
      "execution_count": 42,
      "outputs": [
        {
          "output_type": "execute_result",
          "data": {
            "text/plain": [
              "(19.32454125, 29.0)"
            ]
          },
          "metadata": {},
          "execution_count": 42
        }
      ]
    },
    {
      "cell_type": "code",
      "source": [
        "char_vectorizer = tf.keras.layers.TextVectorization(max_tokens=200,\n",
        "                                                    pad_to_max_tokens=True,\n",
        "                                                    output_sequence_length=30)\n",
        "char_vectorizer.adapt(train_usernames_chars[:10000])\n",
        "char_vocab = char_vectorizer.get_vocabulary()"
      ],
      "metadata": {
        "id": "lW3e1O4r_iLu"
      },
      "execution_count": 43,
      "outputs": []
    },
    {
      "cell_type": "code",
      "source": [
        "char_embedding = layers.Embedding(input_dim=30,\n",
        "                                  output_dim=256)"
      ],
      "metadata": {
        "id": "O_stlS8-Ag2m"
      },
      "execution_count": 44,
      "outputs": []
    },
    {
      "cell_type": "code",
      "source": [
        "train_usernames_vectorized = char_vectorizer(train_usernames_chars[:split])\n",
        "test_usernames_vectorized = char_vectorizer(test_usernames_chars)"
      ],
      "metadata": {
        "id": "tRIS08T6BTYO"
      },
      "execution_count": 45,
      "outputs": []
    },
    {
      "cell_type": "code",
      "source": [
        "train_usernames_vectorized.shape, train_vectorized.shape, train_targets[:split].shape, test_usernames_vectorized.shape, test_vectorized.shape, test_targets.shape"
      ],
      "metadata": {
        "colab": {
          "base_uri": "https://localhost:8080/"
        },
        "id": "yWRg7uS5Ctee",
        "outputId": "840fa53e-4d79-4b99-ada2-dbe1e9ddc780"
      },
      "execution_count": 46,
      "outputs": [
        {
          "output_type": "execute_result",
          "data": {
            "text/plain": [
              "(TensorShape([16000, 30]),\n",
              " TensorShape([16000, 512]),\n",
              " TensorShape([16000, 1]),\n",
              " TensorShape([498, 30]),\n",
              " TensorShape([498, 512]),\n",
              " TensorShape([498, 1]))"
            ]
          },
          "metadata": {},
          "execution_count": 46
        }
      ]
    },
    {
      "cell_type": "code",
      "source": [
        "train_dataset_chars = tf.data.Dataset.from_tensor_slices(((train_vectorized, train_usernames_vectorized), train_targets[:split])).batch(32).prefetch(tf.data.AUTOTUNE)\n",
        "test_dataset_chars = tf.data.Dataset.from_tensor_slices(((test_vectorized, test_usernames_vectorized), test_targets)).batch(32).prefetch(tf.data.AUTOTUNE)"
      ],
      "metadata": {
        "id": "EmyrUUrtCDpf"
      },
      "execution_count": 47,
      "outputs": []
    },
    {
      "cell_type": "code",
      "source": [
        "train_dataset_chars"
      ],
      "metadata": {
        "colab": {
          "base_uri": "https://localhost:8080/"
        },
        "id": "M-NrXoyLFpO9",
        "outputId": "716aded4-9bbe-41c4-f692-0a355b68560e"
      },
      "execution_count": 48,
      "outputs": [
        {
          "output_type": "execute_result",
          "data": {
            "text/plain": [
              "<PrefetchDataset element_spec=((TensorSpec(shape=(None, 512), dtype=tf.float32, name=None), TensorSpec(shape=(None, 30), dtype=tf.int64, name=None)), TensorSpec(shape=(None, 1), dtype=tf.float32, name=None))>"
            ]
          },
          "metadata": {},
          "execution_count": 48
        }
      ]
    },
    {
      "cell_type": "code",
      "source": [
        "text_inputs = layers.Input(shape=(512,))\n",
        "x = layers.Dense(256, activation='relu')(text_inputs)\n",
        "model_text = tf.keras.Model(text_inputs, x)\n",
        "\n",
        "char_inputs = layers.Input(shape=(30,))\n",
        "x = layers.Lambda(lambda x: tf.expand_dims(x, axis=1))(char_inputs)\n",
        "x = layers.Conv1D(64, 4, padding='same')(x)\n",
        "x = layers.Conv1D(64, 4, padding='same')(x)\n",
        "x = layers.GlobalMaxPooling1D()(x)\n",
        "x = layers.Dense(128)(x)\n",
        "model_char = tf.keras.Model(char_inputs, x)\n",
        "\n",
        "concat_inputs = layers.Concatenate()((model_text.output, model_char.output))\n",
        "x = layers.Dense(128, activation='relu')(concat_inputs)\n",
        "x = layers.Dropout(0.3)(x)\n",
        "x = layers.Dense(64, activation='relu')(x)\n",
        "outputs = layers.Dense(1)(x)\n",
        "\n",
        "model_4 = tf.keras.Model((model_text.input, model_char.input), outputs)\n",
        "\n",
        "model_4.summary()"
      ],
      "metadata": {
        "colab": {
          "base_uri": "https://localhost:8080/"
        },
        "id": "32cKiUJmCamd",
        "outputId": "4316afe9-9061-4f41-cd5d-678e1fc4c27f"
      },
      "execution_count": 49,
      "outputs": [
        {
          "output_type": "stream",
          "name": "stdout",
          "text": [
            "Model: \"model_3\"\n",
            "__________________________________________________________________________________________________\n",
            " Layer (type)                   Output Shape         Param #     Connected to                     \n",
            "==================================================================================================\n",
            " input_3 (InputLayer)           [(None, 30)]         0           []                               \n",
            "                                                                                                  \n",
            " lambda_1 (Lambda)              (None, 1, 30)        0           ['input_3[0][0]']                \n",
            "                                                                                                  \n",
            " conv1d_2 (Conv1D)              (None, 1, 64)        7744        ['lambda_1[0][0]']               \n",
            "                                                                                                  \n",
            " conv1d_3 (Conv1D)              (None, 1, 64)        16448       ['conv1d_2[0][0]']               \n",
            "                                                                                                  \n",
            " input_2 (InputLayer)           [(None, 512)]        0           []                               \n",
            "                                                                                                  \n",
            " global_max_pooling1d_1 (Global  (None, 64)          0           ['conv1d_3[0][0]']               \n",
            " MaxPooling1D)                                                                                    \n",
            "                                                                                                  \n",
            " dense_5 (Dense)                (None, 256)          131328      ['input_2[0][0]']                \n",
            "                                                                                                  \n",
            " dense_6 (Dense)                (None, 128)          8320        ['global_max_pooling1d_1[0][0]'] \n",
            "                                                                                                  \n",
            " concatenate (Concatenate)      (None, 384)          0           ['dense_5[0][0]',                \n",
            "                                                                  'dense_6[0][0]']                \n",
            "                                                                                                  \n",
            " dense_7 (Dense)                (None, 128)          49280       ['concatenate[0][0]']            \n",
            "                                                                                                  \n",
            " dropout (Dropout)              (None, 128)          0           ['dense_7[0][0]']                \n",
            "                                                                                                  \n",
            " dense_8 (Dense)                (None, 64)           8256        ['dropout[0][0]']                \n",
            "                                                                                                  \n",
            " dense_9 (Dense)                (None, 1)            65          ['dense_8[0][0]']                \n",
            "                                                                                                  \n",
            "==================================================================================================\n",
            "Total params: 221,441\n",
            "Trainable params: 221,441\n",
            "Non-trainable params: 0\n",
            "__________________________________________________________________________________________________\n"
          ]
        }
      ]
    },
    {
      "cell_type": "code",
      "source": [
        "model_4.compile(loss='mae', optimizer='adam')\n",
        "history_4 = model_4.fit(train_dataset_chars, epochs=60, steps_per_epoch=len(train_dataset_chars),\n",
        "                        validation_data=test_dataset_chars, validation_steps=len(test_dataset_chars),\n",
        "                        callbacks=[create_cp_callback('model_4'), tf.keras.callbacks.EarlyStopping(patience=5)],\n",
        "                        verbose=0)"
      ],
      "metadata": {
        "id": "r18Cacx1HTQt"
      },
      "execution_count": 50,
      "outputs": []
    },
    {
      "cell_type": "code",
      "source": [
        "model_4 = tf.keras.models.load_model('/content/experiments/checkpoints/model_4')\n",
        "y_preds = model_4.predict(test_dataset_chars)\n",
        "model_4_scores = regression_scores(test_targets, y_preds)\n",
        "model_4_scores"
      ],
      "metadata": {
        "colab": {
          "base_uri": "https://localhost:8080/"
        },
        "id": "mea7vIzzh6Kl",
        "outputId": "55be63f7-ba31-4ea9-a471-a798d682c71b"
      },
      "execution_count": 51,
      "outputs": [
        {
          "output_type": "execute_result",
          "data": {
            "text/plain": [
              "{'mae': 0.2510887, 'mse': 0.1237444}"
            ]
          },
          "metadata": {},
          "execution_count": 51
        }
      ]
    },
    {
      "cell_type": "markdown",
      "source": [
        "This seems to be the best result so far. It's time for the great model with 10% of the data (100% would train for too long)."
      ],
      "metadata": {
        "id": "TURdK8IKkDfe"
      }
    },
    {
      "cell_type": "code",
      "source": [
        "split = int(0.1*len(train_tweets))\n",
        "train_vectorized = tf.cast(encoder_layer(train_tweets[:split]), dtype=tf.float32)\n",
        "train_usernames_vectorized = char_vectorizer(train_usernames_chars[:split])\n",
        "train_dataset_chars = tf.data.Dataset.from_tensor_slices(((train_vectorized, train_usernames_vectorized), train_targets[:split])).batch(32).prefetch(tf.data.AUTOTUNE)"
      ],
      "metadata": {
        "id": "NghhrIdFkvku"
      },
      "execution_count": 52,
      "outputs": []
    },
    {
      "cell_type": "code",
      "source": [
        "model_5 = tf.keras.models.clone_model(model_4)"
      ],
      "metadata": {
        "id": "TlzaVJmkkR_V"
      },
      "execution_count": 53,
      "outputs": []
    },
    {
      "cell_type": "code",
      "source": [
        "model_5.compile(loss='mae', optimizer='adam')\n",
        "history_5 = model_5.fit(train_dataset_chars, epochs=5, steps_per_epoch=len(train_dataset_chars),\n",
        "                        validation_data=test_dataset_chars, validation_steps=len(test_dataset_chars),\n",
        "                        callbacks=[create_cp_callback('model_5')],\n",
        "                        verbose=1)"
      ],
      "metadata": {
        "colab": {
          "base_uri": "https://localhost:8080/"
        },
        "id": "RtOW6Vz-lfyO",
        "outputId": "074d9867-b223-4257-92ec-c26b3398c8b7"
      },
      "execution_count": 54,
      "outputs": [
        {
          "output_type": "stream",
          "name": "stdout",
          "text": [
            "Epoch 1/5\n",
            "5000/5000 [==============================] - 21s 4ms/step - loss: 0.2531 - val_loss: 0.2636\n",
            "Epoch 2/5\n",
            "5000/5000 [==============================] - 19s 4ms/step - loss: 0.2223 - val_loss: 0.2713\n",
            "Epoch 3/5\n",
            "5000/5000 [==============================] - 19s 4ms/step - loss: 0.2132 - val_loss: 0.2654\n",
            "Epoch 4/5\n",
            "5000/5000 [==============================] - 19s 4ms/step - loss: 0.2066 - val_loss: 0.2650\n",
            "Epoch 5/5\n",
            "5000/5000 [==============================] - 19s 4ms/step - loss: 0.2000 - val_loss: 0.2733\n"
          ]
        }
      ]
    },
    {
      "cell_type": "markdown",
      "source": [
        "Main problem with this dataset is that in training we have only 2 categories whereas in test data there are 3 categories. Thus it's difficult not to overfit the model."
      ],
      "metadata": {
        "id": "AZN08-D_lpit"
      }
    }
  ]
}