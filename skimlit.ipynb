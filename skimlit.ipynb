{
  "cells": [
    {
      "cell_type": "code",
      "execution_count": 2,
      "metadata": {
        "id": "pYnfGNc2qV2C"
      },
      "outputs": [],
      "source": [
        "import tensorflow as tf\n",
        "import numpy as np\n",
        "import matplotlib.pyplot as plt\n",
        "import pandas as pd"
      ]
    },
    {
      "cell_type": "code",
      "execution_count": 3,
      "metadata": {
        "colab": {
          "base_uri": "https://localhost:8080/"
        },
        "id": "bVI6Bl1_VwwB",
        "outputId": "c945e1d0-e0f4-4a89-997e-2e0cc9ecd735"
      },
      "outputs": [
        {
          "output_type": "stream",
          "name": "stdout",
          "text": [
            "Wed Jul 20 14:35:08 2022       \n",
            "+-----------------------------------------------------------------------------+\n",
            "| NVIDIA-SMI 460.32.03    Driver Version: 460.32.03    CUDA Version: 11.2     |\n",
            "|-------------------------------+----------------------+----------------------+\n",
            "| GPU  Name        Persistence-M| Bus-Id        Disp.A | Volatile Uncorr. ECC |\n",
            "| Fan  Temp  Perf  Pwr:Usage/Cap|         Memory-Usage | GPU-Util  Compute M. |\n",
            "|                               |                      |               MIG M. |\n",
            "|===============================+======================+======================|\n",
            "|   0  Tesla T4            Off  | 00000000:00:04.0 Off |                    0 |\n",
            "| N/A   36C    P8    10W /  70W |      0MiB / 15109MiB |      0%      Default |\n",
            "|                               |                      |                  N/A |\n",
            "+-------------------------------+----------------------+----------------------+\n",
            "                                                                               \n",
            "+-----------------------------------------------------------------------------+\n",
            "| Processes:                                                                  |\n",
            "|  GPU   GI   CI        PID   Type   Process name                  GPU Memory |\n",
            "|        ID   ID                                                   Usage      |\n",
            "|=============================================================================|\n",
            "|  No running processes found                                                 |\n",
            "+-----------------------------------------------------------------------------+\n"
          ]
        }
      ],
      "source": [
        "!nvidia-smi"
      ]
    },
    {
      "cell_type": "code",
      "execution_count": 4,
      "metadata": {
        "colab": {
          "base_uri": "https://localhost:8080/"
        },
        "id": "CV4U871oVzng",
        "outputId": "a024ea3e-5bd9-4ed2-eb28-fc37ddd882ba"
      },
      "outputs": [
        {
          "output_type": "stream",
          "name": "stdout",
          "text": [
            "--2022-07-20 14:35:08--  https://raw.githubusercontent.com/Illalla/helper_functions_for_tf/main/helper_functions.py\n",
            "Resolving raw.githubusercontent.com (raw.githubusercontent.com)... 185.199.108.133, 185.199.109.133, 185.199.110.133, ...\n",
            "Connecting to raw.githubusercontent.com (raw.githubusercontent.com)|185.199.108.133|:443... connected.\n",
            "HTTP request sent, awaiting response... 200 OK\n",
            "Length: 6556 (6.4K) [text/plain]\n",
            "Saving to: ‘helper_functions.py.1’\n",
            "\n",
            "helper_functions.py 100%[===================>]   6.40K  --.-KB/s    in 0s      \n",
            "\n",
            "2022-07-20 14:35:08 (85.6 MB/s) - ‘helper_functions.py.1’ saved [6556/6556]\n",
            "\n"
          ]
        }
      ],
      "source": [
        "!wget https://raw.githubusercontent.com/Illalla/helper_functions_for_tf/main/helper_functions.py\n",
        "from helper_functions import *"
      ]
    },
    {
      "cell_type": "markdown",
      "metadata": {
        "id": "QhCVvwn0WSIw"
      },
      "source": [
        "https://arxiv.org/abs/1710.06071"
      ]
    },
    {
      "cell_type": "code",
      "execution_count": 5,
      "metadata": {
        "colab": {
          "base_uri": "https://localhost:8080/"
        },
        "id": "GZa2ft0eXPLw",
        "outputId": "3a9774ee-32e3-41dc-81cb-835fc3a75a48"
      },
      "outputs": [
        {
          "output_type": "stream",
          "name": "stdout",
          "text": [
            "fatal: destination path 'pubmed-rct' already exists and is not an empty directory.\n",
            "PubMed_200k_RCT\n",
            "PubMed_200k_RCT_numbers_replaced_with_at_sign\n",
            "PubMed_20k_RCT\n",
            "PubMed_20k_RCT_numbers_replaced_with_at_sign\n",
            "README.md\n"
          ]
        }
      ],
      "source": [
        "## Getting data\n",
        "\n",
        "!git clone https://github.com/Franck-Dernoncourt/pubmed-rct\n",
        "!ls pubmed-rct"
      ]
    },
    {
      "cell_type": "code",
      "execution_count": 6,
      "metadata": {
        "colab": {
          "base_uri": "https://localhost:8080/"
        },
        "id": "75FEaRL3hLY2",
        "outputId": "8f91dbd8-4e63-4462-c366-63f0118d622a"
      },
      "outputs": [
        {
          "output_type": "stream",
          "name": "stdout",
          "text": [
            "dev.txt  test.txt  train.txt\n"
          ]
        }
      ],
      "source": [
        "!ls /content/pubmed-rct/PubMed_20k_RCT_numbers_replaced_with_at_sign"
      ]
    },
    {
      "cell_type": "code",
      "execution_count": 7,
      "metadata": {
        "id": "eKqblA6bhvve"
      },
      "outputs": [],
      "source": [
        "# Experiments on 20k with @\n",
        "data_dir = '/content/pubmed-rct/PubMed_20k_RCT_numbers_replaced_with_at_sign'"
      ]
    },
    {
      "cell_type": "code",
      "execution_count": 8,
      "metadata": {
        "id": "jK5Ua8d5jK1l"
      },
      "outputs": [],
      "source": [
        "# Creating file directories\n",
        "import os\n",
        "filedirs = [data_dir + '/' + filename for filename in os.listdir(data_dir)]"
      ]
    },
    {
      "cell_type": "code",
      "execution_count": 9,
      "metadata": {
        "colab": {
          "base_uri": "https://localhost:8080/"
        },
        "id": "2-j3L5J3jZWN",
        "outputId": "08b2a3b9-2f76-41c1-fe0f-e971eafda06d"
      },
      "outputs": [
        {
          "output_type": "execute_result",
          "data": {
            "text/plain": [
              "['/content/pubmed-rct/PubMed_20k_RCT_numbers_replaced_with_at_sign/train.txt',\n",
              " '/content/pubmed-rct/PubMed_20k_RCT_numbers_replaced_with_at_sign/test.txt',\n",
              " '/content/pubmed-rct/PubMed_20k_RCT_numbers_replaced_with_at_sign/dev.txt']"
            ]
          },
          "metadata": {},
          "execution_count": 9
        }
      ],
      "source": [
        "filedirs"
      ]
    },
    {
      "cell_type": "markdown",
      "metadata": {
        "id": "ZFImLkzWmNZj"
      },
      "source": [
        "## Preprocessing"
      ]
    },
    {
      "cell_type": "code",
      "execution_count": 10,
      "metadata": {
        "id": "Hh3wRJ6Iva1I"
      },
      "outputs": [],
      "source": [
        "def get_lines(filename):\n",
        "  \"\"\"\n",
        "  Reads filename and returns the lines of text as a list.\n",
        "  \"\"\"\n",
        "\n",
        "  with open(filename, 'r') as f:\n",
        "    return f.readlines()"
      ]
    },
    {
      "cell_type": "code",
      "execution_count": 11,
      "metadata": {
        "colab": {
          "base_uri": "https://localhost:8080/"
        },
        "id": "nvx0I8RDwSGR",
        "outputId": "32a72e97-b6bd-44a6-99c1-f09d2eaf6049"
      },
      "outputs": [
        {
          "output_type": "execute_result",
          "data": {
            "text/plain": [
              "['###24293578\\n',\n",
              " 'OBJECTIVE\\tTo investigate the efficacy of @ weeks of daily low-dose oral prednisolone in improving pain , mobility , and systemic low-grade inflammation in the short term and whether the effect would be sustained at @ weeks in older adults with moderate to severe knee osteoarthritis ( OA ) .\\n',\n",
              " 'METHODS\\tA total of @ patients with primary knee OA were randomized @:@ ; @ received @ mg/day of prednisolone and @ received placebo for @ weeks .\\n',\n",
              " 'METHODS\\tOutcome measures included pain reduction and improvement in function scores and systemic inflammation markers .\\n',\n",
              " 'METHODS\\tPain was assessed using the visual analog pain scale ( @-@ mm ) .\\n',\n",
              " 'METHODS\\tSecondary outcome measures included the Western Ontario and McMaster Universities Osteoarthritis Index scores , patient global assessment ( PGA ) of the severity of knee OA , and @-min walk distance ( @MWD ) .\\n',\n",
              " 'METHODS\\tSerum levels of interleukin @ ( IL-@ ) , IL-@ , tumor necrosis factor ( TNF ) - , and high-sensitivity C-reactive protein ( hsCRP ) were measured .\\n',\n",
              " 'RESULTS\\tThere was a clinically relevant reduction in the intervention group compared to the placebo group for knee pain , physical function , PGA , and @MWD at @ weeks .\\n',\n",
              " 'RESULTS\\tThe mean difference between treatment arms ( @ % CI ) was @ ( @-@ @ ) , p < @ ; @ ( @-@ @ ) , p < @ ; @ ( @-@ @ ) , p < @ ; and @ ( @-@ @ ) , p < @ , respectively .\\n',\n",
              " 'RESULTS\\tFurther , there was a clinically relevant reduction in the serum levels of IL-@ , IL-@ , TNF - , and hsCRP at @ weeks in the intervention group when compared to the placebo group .\\n']"
            ]
          },
          "metadata": {},
          "execution_count": 11
        }
      ],
      "source": [
        "get_lines(filedirs[0])[:10]"
      ]
    },
    {
      "cell_type": "code",
      "execution_count": 12,
      "metadata": {
        "id": "kc9gkAWXoio6"
      },
      "outputs": [],
      "source": [
        "def preprocess_abstracts(filenames):\n",
        "  \"\"\"Takes filenames and returns lists of dictionaries containing line number, target, text and total lines\"\"\"\n",
        "  lines = get_lines(filenames)\n",
        "  abstract_samples = []\n",
        "  abstract_lines = ''\n",
        "\n",
        "\n",
        "  for line in lines:\n",
        "    if line.startswith('###'):\n",
        "      id = line[:-1]\n",
        "    elif line.isspace():\n",
        "      abstract_line_split = abstract_lines.splitlines()\n",
        "      abstract_lines = ''\n",
        "      \n",
        "      for i, a in enumerate(abstract_line_split):\n",
        "        split = a.split('\\t')\n",
        "        total_lines = len(abstract_line_split)-1\n",
        "        abstract_samples.append({'id': id,\n",
        "                                 'line_number': i,\n",
        "                                 'target': split[0],\n",
        "                                 'text': split[1],\n",
        "                                 'total_lines': total_lines})\n",
        "    else:\n",
        "      abstract_lines += line\n",
        "  return abstract_samples"
      ]
    },
    {
      "cell_type": "code",
      "source": [
        "filedirs"
      ],
      "metadata": {
        "colab": {
          "base_uri": "https://localhost:8080/"
        },
        "id": "uJzMEfF7XIYT",
        "outputId": "b682e78d-d2e5-4444-eacd-03267bec9437"
      },
      "execution_count": 13,
      "outputs": [
        {
          "output_type": "execute_result",
          "data": {
            "text/plain": [
              "['/content/pubmed-rct/PubMed_20k_RCT_numbers_replaced_with_at_sign/train.txt',\n",
              " '/content/pubmed-rct/PubMed_20k_RCT_numbers_replaced_with_at_sign/test.txt',\n",
              " '/content/pubmed-rct/PubMed_20k_RCT_numbers_replaced_with_at_sign/dev.txt']"
            ]
          },
          "metadata": {},
          "execution_count": 13
        }
      ]
    },
    {
      "cell_type": "code",
      "execution_count": 14,
      "metadata": {
        "colab": {
          "base_uri": "https://localhost:8080/"
        },
        "id": "b_V2GN9t5vMw",
        "outputId": "d11bf042-7ab6-403d-d972-0bd7551d8db7"
      },
      "outputs": [
        {
          "output_type": "stream",
          "name": "stdout",
          "text": [
            "CPU times: user 620 ms, sys: 156 ms, total: 777 ms\n",
            "Wall time: 813 ms\n"
          ]
        }
      ],
      "source": [
        "%%time\n",
        "for filedir in filedirs:\n",
        "  if 'train' in filedir:\n",
        "    training_set = preprocess_abstracts(filedir)\n",
        "  if 'test' in filedir:\n",
        "    test_set = preprocess_abstracts(filedir)\n",
        "  else:\n",
        "    val_set = preprocess_abstracts(filedir)\n"
      ]
    },
    {
      "cell_type": "code",
      "execution_count": 15,
      "metadata": {
        "colab": {
          "base_uri": "https://localhost:8080/"
        },
        "id": "qGG3qKCu5xbP",
        "outputId": "cfbc4ead-d3cd-4b25-fadb-3525e173744c"
      },
      "outputs": [
        {
          "output_type": "execute_result",
          "data": {
            "text/plain": [
              "[{'id': '###24393610',\n",
              "  'line_number': 0,\n",
              "  'target': 'BACKGROUND',\n",
              "  'text': 'Evidence is often missing on social differentials in effects of nutrition interventions .',\n",
              "  'total_lines': 11},\n",
              " {'id': '###24393610',\n",
              "  'line_number': 1,\n",
              "  'target': 'BACKGROUND',\n",
              "  'text': 'We evaluated the adherence to and effect of prenatal food and micronutrient supplementations on mortality before the age of five years in different social groups as defined by maternal schooling .',\n",
              "  'total_lines': 11},\n",
              " {'id': '###24393610',\n",
              "  'line_number': 2,\n",
              "  'target': 'METHODS',\n",
              "  'text': 'Data came from the MINIMat study ( Maternal and Infant Nutrition Interventions , Matlab ) , a randomized trial of prenatal food supplementation ( invitation early , about @ weeks -LSB- E -RSB- , or at usual time , about @ weeks -LSB- U -RSB- of pregnancy ) and @mg or @mg iron with @ gm folic acid , or multiple micronutrients ( Fe@F , Fe@F , MMS ) resulting in six randomization groups , EFe@F , UFe@F , EFe@F , UFe@F , EMMS , and UMMS ( n = @ ) .',\n",
              "  'total_lines': 11},\n",
              " {'id': '###24393610',\n",
              "  'line_number': 3,\n",
              "  'target': 'METHODS',\n",
              "  'text': 'Included in analysis after omissions ( fetal loss and out-migration ) were @ women and @ live births of which @ had information on maternal schooling .',\n",
              "  'total_lines': 11},\n",
              " {'id': '###24393610',\n",
              "  'line_number': 4,\n",
              "  'target': 'METHODS',\n",
              "  'text': 'The study site was rural Matlab , Bangladesh .',\n",
              "  'total_lines': 11},\n",
              " ...]"
            ]
          },
          "metadata": {},
          "execution_count": 15
        }
      ],
      "source": [
        "training_set[10000:50000]"
      ]
    },
    {
      "cell_type": "code",
      "execution_count": 16,
      "metadata": {
        "id": "P7DWDTsP68mX"
      },
      "outputs": [],
      "source": [
        "train_df = pd.DataFrame(training_set)\n",
        "val_df = pd.DataFrame(val_set)\n",
        "test_df = pd.DataFrame(test_set)"
      ]
    },
    {
      "cell_type": "code",
      "execution_count": 17,
      "metadata": {
        "colab": {
          "base_uri": "https://localhost:8080/",
          "height": 363
        },
        "id": "gbCVPafdAdY-",
        "outputId": "b3d51a13-2975-4320-beb1-bc9b33cc5ae6"
      },
      "outputs": [
        {
          "output_type": "execute_result",
          "data": {
            "text/plain": [
              "            id  line_number     target  \\\n",
              "0  ###24293578            0  OBJECTIVE   \n",
              "1  ###24293578            1    METHODS   \n",
              "2  ###24293578            2    METHODS   \n",
              "3  ###24293578            3    METHODS   \n",
              "4  ###24293578            4    METHODS   \n",
              "5  ###24293578            5    METHODS   \n",
              "6  ###24293578            6    RESULTS   \n",
              "7  ###24293578            7    RESULTS   \n",
              "8  ###24293578            8    RESULTS   \n",
              "9  ###24293578            9    RESULTS   \n",
              "\n",
              "                                                text  total_lines  \n",
              "0  To investigate the efficacy of @ weeks of dail...           11  \n",
              "1  A total of @ patients with primary knee OA wer...           11  \n",
              "2  Outcome measures included pain reduction and i...           11  \n",
              "3  Pain was assessed using the visual analog pain...           11  \n",
              "4  Secondary outcome measures included the Wester...           11  \n",
              "5  Serum levels of interleukin @ ( IL-@ ) , IL-@ ...           11  \n",
              "6  There was a clinically relevant reduction in t...           11  \n",
              "7  The mean difference between treatment arms ( @...           11  \n",
              "8  Further , there was a clinically relevant redu...           11  \n",
              "9  These differences remained significant at @ we...           11  "
            ],
            "text/html": [
              "\n",
              "  <div id=\"df-0385cccb-6223-4552-a992-fa5bc93d6d3e\">\n",
              "    <div class=\"colab-df-container\">\n",
              "      <div>\n",
              "<style scoped>\n",
              "    .dataframe tbody tr th:only-of-type {\n",
              "        vertical-align: middle;\n",
              "    }\n",
              "\n",
              "    .dataframe tbody tr th {\n",
              "        vertical-align: top;\n",
              "    }\n",
              "\n",
              "    .dataframe thead th {\n",
              "        text-align: right;\n",
              "    }\n",
              "</style>\n",
              "<table border=\"1\" class=\"dataframe\">\n",
              "  <thead>\n",
              "    <tr style=\"text-align: right;\">\n",
              "      <th></th>\n",
              "      <th>id</th>\n",
              "      <th>line_number</th>\n",
              "      <th>target</th>\n",
              "      <th>text</th>\n",
              "      <th>total_lines</th>\n",
              "    </tr>\n",
              "  </thead>\n",
              "  <tbody>\n",
              "    <tr>\n",
              "      <th>0</th>\n",
              "      <td>###24293578</td>\n",
              "      <td>0</td>\n",
              "      <td>OBJECTIVE</td>\n",
              "      <td>To investigate the efficacy of @ weeks of dail...</td>\n",
              "      <td>11</td>\n",
              "    </tr>\n",
              "    <tr>\n",
              "      <th>1</th>\n",
              "      <td>###24293578</td>\n",
              "      <td>1</td>\n",
              "      <td>METHODS</td>\n",
              "      <td>A total of @ patients with primary knee OA wer...</td>\n",
              "      <td>11</td>\n",
              "    </tr>\n",
              "    <tr>\n",
              "      <th>2</th>\n",
              "      <td>###24293578</td>\n",
              "      <td>2</td>\n",
              "      <td>METHODS</td>\n",
              "      <td>Outcome measures included pain reduction and i...</td>\n",
              "      <td>11</td>\n",
              "    </tr>\n",
              "    <tr>\n",
              "      <th>3</th>\n",
              "      <td>###24293578</td>\n",
              "      <td>3</td>\n",
              "      <td>METHODS</td>\n",
              "      <td>Pain was assessed using the visual analog pain...</td>\n",
              "      <td>11</td>\n",
              "    </tr>\n",
              "    <tr>\n",
              "      <th>4</th>\n",
              "      <td>###24293578</td>\n",
              "      <td>4</td>\n",
              "      <td>METHODS</td>\n",
              "      <td>Secondary outcome measures included the Wester...</td>\n",
              "      <td>11</td>\n",
              "    </tr>\n",
              "    <tr>\n",
              "      <th>5</th>\n",
              "      <td>###24293578</td>\n",
              "      <td>5</td>\n",
              "      <td>METHODS</td>\n",
              "      <td>Serum levels of interleukin @ ( IL-@ ) , IL-@ ...</td>\n",
              "      <td>11</td>\n",
              "    </tr>\n",
              "    <tr>\n",
              "      <th>6</th>\n",
              "      <td>###24293578</td>\n",
              "      <td>6</td>\n",
              "      <td>RESULTS</td>\n",
              "      <td>There was a clinically relevant reduction in t...</td>\n",
              "      <td>11</td>\n",
              "    </tr>\n",
              "    <tr>\n",
              "      <th>7</th>\n",
              "      <td>###24293578</td>\n",
              "      <td>7</td>\n",
              "      <td>RESULTS</td>\n",
              "      <td>The mean difference between treatment arms ( @...</td>\n",
              "      <td>11</td>\n",
              "    </tr>\n",
              "    <tr>\n",
              "      <th>8</th>\n",
              "      <td>###24293578</td>\n",
              "      <td>8</td>\n",
              "      <td>RESULTS</td>\n",
              "      <td>Further , there was a clinically relevant redu...</td>\n",
              "      <td>11</td>\n",
              "    </tr>\n",
              "    <tr>\n",
              "      <th>9</th>\n",
              "      <td>###24293578</td>\n",
              "      <td>9</td>\n",
              "      <td>RESULTS</td>\n",
              "      <td>These differences remained significant at @ we...</td>\n",
              "      <td>11</td>\n",
              "    </tr>\n",
              "  </tbody>\n",
              "</table>\n",
              "</div>\n",
              "      <button class=\"colab-df-convert\" onclick=\"convertToInteractive('df-0385cccb-6223-4552-a992-fa5bc93d6d3e')\"\n",
              "              title=\"Convert this dataframe to an interactive table.\"\n",
              "              style=\"display:none;\">\n",
              "        \n",
              "  <svg xmlns=\"http://www.w3.org/2000/svg\" height=\"24px\"viewBox=\"0 0 24 24\"\n",
              "       width=\"24px\">\n",
              "    <path d=\"M0 0h24v24H0V0z\" fill=\"none\"/>\n",
              "    <path d=\"M18.56 5.44l.94 2.06.94-2.06 2.06-.94-2.06-.94-.94-2.06-.94 2.06-2.06.94zm-11 1L8.5 8.5l.94-2.06 2.06-.94-2.06-.94L8.5 2.5l-.94 2.06-2.06.94zm10 10l.94 2.06.94-2.06 2.06-.94-2.06-.94-.94-2.06-.94 2.06-2.06.94z\"/><path d=\"M17.41 7.96l-1.37-1.37c-.4-.4-.92-.59-1.43-.59-.52 0-1.04.2-1.43.59L10.3 9.45l-7.72 7.72c-.78.78-.78 2.05 0 2.83L4 21.41c.39.39.9.59 1.41.59.51 0 1.02-.2 1.41-.59l7.78-7.78 2.81-2.81c.8-.78.8-2.07 0-2.86zM5.41 20L4 18.59l7.72-7.72 1.47 1.35L5.41 20z\"/>\n",
              "  </svg>\n",
              "      </button>\n",
              "      \n",
              "  <style>\n",
              "    .colab-df-container {\n",
              "      display:flex;\n",
              "      flex-wrap:wrap;\n",
              "      gap: 12px;\n",
              "    }\n",
              "\n",
              "    .colab-df-convert {\n",
              "      background-color: #E8F0FE;\n",
              "      border: none;\n",
              "      border-radius: 50%;\n",
              "      cursor: pointer;\n",
              "      display: none;\n",
              "      fill: #1967D2;\n",
              "      height: 32px;\n",
              "      padding: 0 0 0 0;\n",
              "      width: 32px;\n",
              "    }\n",
              "\n",
              "    .colab-df-convert:hover {\n",
              "      background-color: #E2EBFA;\n",
              "      box-shadow: 0px 1px 2px rgba(60, 64, 67, 0.3), 0px 1px 3px 1px rgba(60, 64, 67, 0.15);\n",
              "      fill: #174EA6;\n",
              "    }\n",
              "\n",
              "    [theme=dark] .colab-df-convert {\n",
              "      background-color: #3B4455;\n",
              "      fill: #D2E3FC;\n",
              "    }\n",
              "\n",
              "    [theme=dark] .colab-df-convert:hover {\n",
              "      background-color: #434B5C;\n",
              "      box-shadow: 0px 1px 3px 1px rgba(0, 0, 0, 0.15);\n",
              "      filter: drop-shadow(0px 1px 2px rgba(0, 0, 0, 0.3));\n",
              "      fill: #FFFFFF;\n",
              "    }\n",
              "  </style>\n",
              "\n",
              "      <script>\n",
              "        const buttonEl =\n",
              "          document.querySelector('#df-0385cccb-6223-4552-a992-fa5bc93d6d3e button.colab-df-convert');\n",
              "        buttonEl.style.display =\n",
              "          google.colab.kernel.accessAllowed ? 'block' : 'none';\n",
              "\n",
              "        async function convertToInteractive(key) {\n",
              "          const element = document.querySelector('#df-0385cccb-6223-4552-a992-fa5bc93d6d3e');\n",
              "          const dataTable =\n",
              "            await google.colab.kernel.invokeFunction('convertToInteractive',\n",
              "                                                     [key], {});\n",
              "          if (!dataTable) return;\n",
              "\n",
              "          const docLinkHtml = 'Like what you see? Visit the ' +\n",
              "            '<a target=\"_blank\" href=https://colab.research.google.com/notebooks/data_table.ipynb>data table notebook</a>'\n",
              "            + ' to learn more about interactive tables.';\n",
              "          element.innerHTML = '';\n",
              "          dataTable['output_type'] = 'display_data';\n",
              "          await google.colab.output.renderOutput(dataTable, element);\n",
              "          const docLink = document.createElement('div');\n",
              "          docLink.innerHTML = docLinkHtml;\n",
              "          element.appendChild(docLink);\n",
              "        }\n",
              "      </script>\n",
              "    </div>\n",
              "  </div>\n",
              "  "
            ]
          },
          "metadata": {},
          "execution_count": 17
        }
      ],
      "source": [
        "train_df.head(10)"
      ]
    },
    {
      "cell_type": "code",
      "execution_count": 18,
      "metadata": {
        "colab": {
          "base_uri": "https://localhost:8080/"
        },
        "id": "pV8VOOGSFL7N",
        "outputId": "4ed4cff2-6f78-4095-ee8b-f2938757565e"
      },
      "outputs": [
        {
          "output_type": "execute_result",
          "data": {
            "text/plain": [
              "dict_values([59353, 57953, 27168, 21727, 13839])"
            ]
          },
          "metadata": {},
          "execution_count": 18
        }
      ],
      "source": [
        "dict(train_df.value_counts('target')).values()"
      ]
    },
    {
      "cell_type": "code",
      "execution_count": 19,
      "metadata": {
        "colab": {
          "base_uri": "https://localhost:8080/",
          "height": 282
        },
        "id": "C7_PSFvZAjS2",
        "outputId": "0ed60df9-3a0f-4b4c-c60c-e2d469823519"
      },
      "outputs": [
        {
          "output_type": "execute_result",
          "data": {
            "text/plain": [
              "<BarContainer object of 5 artists>"
            ]
          },
          "metadata": {},
          "execution_count": 19
        },
        {
          "output_type": "display_data",
          "data": {
            "text/plain": [
              "<Figure size 432x288 with 1 Axes>"
            ],
            "image/png": "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\n"
          },
          "metadata": {
            "needs_background": "light"
          }
        }
      ],
      "source": [
        "plt.barh(list(dict(train_df.value_counts('target')).keys()), dict(train_df.value_counts('target')).values(), color='c')"
      ]
    },
    {
      "cell_type": "code",
      "execution_count": 20,
      "metadata": {
        "colab": {
          "base_uri": "https://localhost:8080/",
          "height": 267
        },
        "id": "p7kuTAOBBE02",
        "outputId": "8a3bc17b-160c-4db6-92b5-83cc40a295c1"
      },
      "outputs": [
        {
          "output_type": "display_data",
          "data": {
            "text/plain": [
              "<Figure size 432x288 with 1 Axes>"
            ],
            "image/png": "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\n"
          },
          "metadata": {
            "needs_background": "light"
          }
        }
      ],
      "source": [
        "train_df.total_lines.plot.hist();"
      ]
    },
    {
      "cell_type": "code",
      "execution_count": 21,
      "metadata": {
        "id": "kwENpknRCBG9"
      },
      "outputs": [],
      "source": [
        "train_sentences = train_df['text'].tolist()\n",
        "val_sentences = val_df['text'].tolist()\n",
        "test_sentences = test_df['text'].tolist()"
      ]
    },
    {
      "cell_type": "code",
      "execution_count": 22,
      "metadata": {
        "colab": {
          "base_uri": "https://localhost:8080/"
        },
        "id": "ihfxQtG1EHDV",
        "outputId": "be81a0a4-7c09-45f6-f7c9-515ed21d8b66"
      },
      "outputs": [
        {
          "output_type": "execute_result",
          "data": {
            "text/plain": [
              "['To investigate the efficacy of @ weeks of daily low-dose oral prednisolone in improving pain , mobility , and systemic low-grade inflammation in the short term and whether the effect would be sustained at @ weeks in older adults with moderate to severe knee osteoarthritis ( OA ) .',\n",
              " 'A total of @ patients with primary knee OA were randomized @:@ ; @ received @ mg/day of prednisolone and @ received placebo for @ weeks .',\n",
              " 'Outcome measures included pain reduction and improvement in function scores and systemic inflammation markers .',\n",
              " 'Pain was assessed using the visual analog pain scale ( @-@ mm ) .',\n",
              " 'Secondary outcome measures included the Western Ontario and McMaster Universities Osteoarthritis Index scores , patient global assessment ( PGA ) of the severity of knee OA , and @-min walk distance ( @MWD ) .']"
            ]
          },
          "metadata": {},
          "execution_count": 22
        }
      ],
      "source": [
        "train_sentences[:5]"
      ]
    },
    {
      "cell_type": "code",
      "execution_count": 23,
      "metadata": {
        "colab": {
          "base_uri": "https://localhost:8080/"
        },
        "id": "gA5Rr61dEZNt",
        "outputId": "304019ba-daee-47fd-e765-f22999a72d73"
      },
      "outputs": [
        {
          "output_type": "execute_result",
          "data": {
            "text/plain": [
              "(<tf.Tensor: shape=(180040, 5), dtype=float64, numpy=\n",
              " array([[0., 0., 0., 1., 0.],\n",
              "        [0., 0., 1., 0., 0.],\n",
              "        [0., 0., 1., 0., 0.],\n",
              "        ...,\n",
              "        [0., 0., 0., 0., 1.],\n",
              "        [0., 1., 0., 0., 0.],\n",
              "        [0., 1., 0., 0., 0.]])>, TensorShape([180040, 5]))"
            ]
          },
          "metadata": {},
          "execution_count": 23
        }
      ],
      "source": [
        "# One hot encoding labels\n",
        "from sklearn.preprocessing import OneHotEncoder\n",
        "one_hot_encoder = OneHotEncoder(sparse=False)\n",
        "train_labels_one_hot = tf.constant(one_hot_encoder.fit_transform(train_df['target'].to_numpy().reshape(-1, 1)))\n",
        "val_labels_one_hot = tf.constant(one_hot_encoder.transform(val_df['target'].to_numpy().reshape(-1, 1)))\n",
        "test_labels_one_hot = tf.constant(one_hot_encoder.transform(test_df['target'].to_numpy().reshape(-1, 1)))\n",
        "train_labels_one_hot, train_labels_one_hot.shape"
      ]
    },
    {
      "cell_type": "code",
      "execution_count": 24,
      "metadata": {
        "colab": {
          "base_uri": "https://localhost:8080/"
        },
        "id": "0dP9SkHdDYmf",
        "outputId": "94535fd4-f98d-44b7-adf0-ac1900fbd05b"
      },
      "outputs": [
        {
          "output_type": "execute_result",
          "data": {
            "text/plain": [
              "(180040, 1)"
            ]
          },
          "metadata": {},
          "execution_count": 24
        }
      ],
      "source": [
        "train_df['target'].to_numpy().reshape(-1, 1).shape"
      ]
    },
    {
      "cell_type": "code",
      "execution_count": 25,
      "metadata": {
        "id": "o0sjuUwCIZHF"
      },
      "outputs": [],
      "source": [
        "# Extract labels and encode them into integers\n",
        "from sklearn.preprocessing import LabelEncoder\n",
        "label_encoder = LabelEncoder()\n",
        "train_labels_encoded = label_encoder.fit_transform(train_df['target'].to_numpy())\n",
        "val_labels_encoded = label_encoder.transform(val_df['target'].to_numpy())\n",
        "test_labels_encoded = label_encoder.transform(test_df['target'].to_numpy())"
      ]
    },
    {
      "cell_type": "code",
      "execution_count": 26,
      "metadata": {
        "colab": {
          "base_uri": "https://localhost:8080/"
        },
        "id": "jpMVnxqKMZJM",
        "outputId": "2e4324d3-a802-45af-b70c-b8da660ecb1b"
      },
      "outputs": [
        {
          "output_type": "execute_result",
          "data": {
            "text/plain": [
              "array([3, 2, 2, ..., 4, 1, 1])"
            ]
          },
          "metadata": {},
          "execution_count": 26
        }
      ],
      "source": [
        "train_labels_encoded"
      ]
    },
    {
      "cell_type": "code",
      "execution_count": 27,
      "metadata": {
        "colab": {
          "base_uri": "https://localhost:8080/"
        },
        "id": "0TbdCtpSMfts",
        "outputId": "f52db50c-74a7-4235-deb5-7f9514247b91"
      },
      "outputs": [
        {
          "output_type": "execute_result",
          "data": {
            "text/plain": [
              "array(['BACKGROUND', 'CONCLUSIONS', 'METHODS', 'OBJECTIVE', 'RESULTS'],\n",
              "      dtype=object)"
            ]
          },
          "metadata": {},
          "execution_count": 27
        }
      ],
      "source": [
        "class_names = label_encoder.classes_\n",
        "class_names"
      ]
    },
    {
      "cell_type": "code",
      "execution_count": 28,
      "metadata": {
        "colab": {
          "base_uri": "https://localhost:8080/"
        },
        "id": "YL02HqRDM6J8",
        "outputId": "f41f39a8-6f99-411a-9e91-737b061ad69d"
      },
      "outputs": [
        {
          "output_type": "execute_result",
          "data": {
            "text/plain": [
              "Pipeline(steps=[('tfidf', TfidfVectorizer()), ('clf', MultinomialNB())])"
            ]
          },
          "metadata": {},
          "execution_count": 28
        }
      ],
      "source": [
        "from sklearn.naive_bayes import MultinomialNB\n",
        "from sklearn.feature_extraction.text import TfidfVectorizer\n",
        "from sklearn.pipeline import Pipeline\n",
        "from sklearn.preprocessing import FunctionTransformer\n",
        "\n",
        "model_0 = Pipeline([\n",
        "                    ('tfidf', TfidfVectorizer()),\n",
        "                    ('clf', MultinomialNB())\n",
        "                    ])\n",
        "\n",
        "model_0.fit(train_sentences, train_labels_encoded)"
      ]
    },
    {
      "cell_type": "code",
      "execution_count": 29,
      "metadata": {
        "id": "3us3ymRvW3bS"
      },
      "outputs": [],
      "source": [
        "from sklearn.metrics import recall_score, f1_score, precision_score, accuracy_score\n",
        "def classification_scores(y_true, y_preds, average='weighted'):\n",
        "  \"\"\"Shows accuracy, precision, recall and f1-score\"\"\" \n",
        "\n",
        "  print(f\"\"\"Accuracy: {accuracy_score(y_true, y_preds)}\n",
        "Precision: {precision_score(y_true, y_preds, average=average)}\n",
        "Recall: {recall_score(y_true, y_preds, average=average)}\n",
        "F1_score: {f1_score(y_true, y_preds, average=average)}\"\"\")"
      ]
    },
    {
      "cell_type": "code",
      "execution_count": 30,
      "metadata": {
        "colab": {
          "base_uri": "https://localhost:8080/"
        },
        "id": "U0M60OpAOLhE",
        "outputId": "9431c172-43b0-4a6d-bdfa-fb95cdb122ec"
      },
      "outputs": [
        {
          "output_type": "execute_result",
          "data": {
            "text/plain": [
              "0.7218323844829869"
            ]
          },
          "metadata": {},
          "execution_count": 30
        }
      ],
      "source": [
        "model_0.score(val_sentences, val_labels_encoded)"
      ]
    },
    {
      "cell_type": "code",
      "execution_count": 31,
      "metadata": {
        "colab": {
          "base_uri": "https://localhost:8080/"
        },
        "id": "H1nOFC8MWSey",
        "outputId": "eca9d3bf-bb10-4444-8518-c16caddcd549"
      },
      "outputs": [
        {
          "output_type": "stream",
          "name": "stdout",
          "text": [
            "Accuracy: 0.7218323844829869\n",
            "Precision: 0.7186466952323352\n",
            "Recall: 0.7218323844829869\n",
            "F1_score: 0.6989250353450294\n"
          ]
        }
      ],
      "source": [
        "baseline_scores = classification_scores(val_labels_encoded, model_0.predict(val_sentences), average='weighted')\n",
        "baseline_scores"
      ]
    },
    {
      "cell_type": "code",
      "execution_count": 32,
      "metadata": {
        "colab": {
          "base_uri": "https://localhost:8080/"
        },
        "id": "ROsLsMV1i_pn",
        "outputId": "891ac5c7-48d1-4c17-d909-0096d3bcd885"
      },
      "outputs": [
        {
          "output_type": "execute_result",
          "data": {
            "text/plain": [
              "(26.338269273494777, 296)"
            ]
          },
          "metadata": {},
          "execution_count": 32
        }
      ],
      "source": [
        "sentence_lengths = [len(sentence.split()) for sentence in train_sentences]\n",
        "np.mean(sentence_lengths), np.max(sentence_lengths)"
      ]
    },
    {
      "cell_type": "code",
      "execution_count": 33,
      "metadata": {
        "colab": {
          "base_uri": "https://localhost:8080/",
          "height": 265
        },
        "id": "6TmghKIWjfkv",
        "outputId": "88485494-fd6d-4b59-dc2d-2cd0e9c41fbd"
      },
      "outputs": [
        {
          "output_type": "display_data",
          "data": {
            "text/plain": [
              "<Figure size 432x288 with 1 Axes>"
            ],
            "image/png": "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\n"
          },
          "metadata": {
            "needs_background": "light"
          }
        }
      ],
      "source": [
        "plt.hist(sentence_lengths, bins=30);"
      ]
    },
    {
      "cell_type": "code",
      "execution_count": 34,
      "metadata": {
        "colab": {
          "base_uri": "https://localhost:8080/"
        },
        "id": "nawIET43jtif",
        "outputId": "e19275c4-f938-4e5c-cd35-183bb3168bc9"
      },
      "outputs": [
        {
          "output_type": "execute_result",
          "data": {
            "text/plain": [
              "55.0"
            ]
          },
          "metadata": {},
          "execution_count": 34
        }
      ],
      "source": [
        "np.percentile(sentence_lengths, 95)"
      ]
    },
    {
      "cell_type": "code",
      "execution_count": 35,
      "metadata": {
        "id": "LAmnFFmLXAOZ"
      },
      "outputs": [],
      "source": [
        "from tensorflow.keras.layers import TextVectorization, Embedding\n",
        "\n",
        "max_tokens = 100000\n",
        "max_length = 55\n",
        "\n",
        "text_vectorizer = TextVectorization(max_tokens=max_tokens,\n",
        "                                    split='whitespace',\n",
        "                                    pad_to_max_tokens=True,\n",
        "                                    output_sequence_length=max_length)\n",
        "text_vectorizer.adapt(train_sentences)"
      ]
    },
    {
      "cell_type": "code",
      "execution_count": 36,
      "metadata": {
        "id": "Ra0bru4BlBTW",
        "colab": {
          "base_uri": "https://localhost:8080/"
        },
        "outputId": "f159fc1a-325f-4225-b4f0-6a8ef72a31ae"
      },
      "outputs": [
        {
          "output_type": "execute_result",
          "data": {
            "text/plain": [
              "['', '[UNK]', 'the', 'and', 'of', 'in', 'to', 'with', 'a', 'were']"
            ]
          },
          "metadata": {},
          "execution_count": 36
        }
      ],
      "source": [
        "vocab = text_vectorizer.get_vocabulary()\n",
        "vocab[:10]"
      ]
    },
    {
      "cell_type": "code",
      "execution_count": 37,
      "metadata": {
        "id": "f6kjmH8r1sMd"
      },
      "outputs": [],
      "source": [
        "embedding = Embedding(max_tokens,\n",
        "          output_dim=128,\n",
        "          input_length=len(vocab),\n",
        "          mask_zero=True)"
      ]
    },
    {
      "cell_type": "code",
      "execution_count": 38,
      "metadata": {
        "id": "55BkYglq7M-N"
      },
      "outputs": [],
      "source": [
        "# Making tf.datasets"
      ]
    },
    {
      "cell_type": "code",
      "execution_count": 39,
      "metadata": {
        "id": "XdYYOF_t0d2l",
        "colab": {
          "base_uri": "https://localhost:8080/"
        },
        "outputId": "0890a407-dc77-42c8-ee31-e03411c8a588"
      },
      "outputs": [
        {
          "output_type": "execute_result",
          "data": {
            "text/plain": [
              "(<PrefetchDataset element_spec=(TensorSpec(shape=(None,), dtype=tf.string, name=None), TensorSpec(shape=(None, 5), dtype=tf.float64, name=None))>,\n",
              " 945)"
            ]
          },
          "metadata": {},
          "execution_count": 39
        }
      ],
      "source": [
        "train_dataset = tf.data.Dataset.from_tensor_slices((train_sentences, train_labels_one_hot)).batch(32).prefetch(tf.data.AUTOTUNE)\n",
        "val_dataset = tf.data.Dataset.from_tensor_slices((val_sentences, val_labels_one_hot)).batch(32).prefetch(tf.data.AUTOTUNE)\n",
        "test_dataset = tf.data.Dataset.from_tensor_slices((test_sentences, test_labels_one_hot)).batch(32).prefetch(tf.data.AUTOTUNE)\n",
        "\n",
        "train_dataset, len(val_dataset)"
      ]
    },
    {
      "cell_type": "code",
      "execution_count": 40,
      "metadata": {
        "id": "o4RyzLWg7okN",
        "colab": {
          "base_uri": "https://localhost:8080/"
        },
        "outputId": "edfd79cd-4f44-46bc-c643-12aa4afa016f"
      },
      "outputs": [
        {
          "output_type": "stream",
          "name": "stdout",
          "text": [
            "Epoch 1/5\n",
            "562/562 [==============================] - 21s 17ms/step - loss: 1.2991 - accuracy: 0.4672 - val_loss: 1.0006 - val_accuracy: 0.6107\n",
            "Epoch 2/5\n",
            "562/562 [==============================] - 9s 16ms/step - loss: 0.8941 - accuracy: 0.6575 - val_loss: 0.7640 - val_accuracy: 0.7106\n",
            "Epoch 3/5\n",
            "562/562 [==============================] - 9s 16ms/step - loss: 0.7246 - accuracy: 0.7259 - val_loss: 0.6821 - val_accuracy: 0.7470\n",
            "Epoch 4/5\n",
            "562/562 [==============================] - 9s 16ms/step - loss: 0.6680 - accuracy: 0.7511 - val_loss: 0.6478 - val_accuracy: 0.7579\n",
            "Epoch 5/5\n",
            "562/562 [==============================] - 9s 16ms/step - loss: 0.6586 - accuracy: 0.7561 - val_loss: 0.6281 - val_accuracy: 0.7680\n"
          ]
        }
      ],
      "source": [
        "from tensorflow.keras import layers\n",
        "inputs = layers.Input(shape=(1,), dtype=tf.string)\n",
        "x = text_vectorizer(inputs)\n",
        "x = embedding(x)\n",
        "x = layers.Conv1D(filters=64, kernel_size=3, padding='same')(x)\n",
        "x = layers.Conv1D(filters=64, kernel_size=3, padding='same')(x)\n",
        "x = layers.Conv1D(filters=32, kernel_size=3, padding='same')(x)\n",
        "x = layers.MaxPool1D()(x)\n",
        "x = layers.Conv1D(filters=32, kernel_size=3, padding='same')(x)\n",
        "x = layers.Conv1D(filters=8, kernel_size=3, padding='same')(x)\n",
        "x = layers.GlobalMaxPooling1D()(x)\n",
        "outputs = layers.Dense(5, activation='softmax')(x)\n",
        "\n",
        "model_1 = tf.keras.Model(inputs, outputs)\n",
        "\n",
        "model_1.compile(loss='categorical_crossentropy', optimizer=tf.keras.optimizers.Adam(learning_rate=0.0001), metrics=['accuracy'])\n",
        "history_1 = model_1.fit(train_dataset, epochs=5, validation_data=val_dataset, steps_per_epoch=int(0.1*len(train_dataset)), validation_steps=len(val_dataset), callbacks=[create_tb_callback('model_1_batches', 'experiments')])"
      ]
    },
    {
      "cell_type": "code",
      "execution_count": 41,
      "metadata": {
        "id": "89YmXVKZ9p3t",
        "colab": {
          "base_uri": "https://localhost:8080/"
        },
        "outputId": "46f89a6a-0e0f-40a7-9135-2e89f6e8f5fb"
      },
      "outputs": [
        {
          "output_type": "stream",
          "name": "stdout",
          "text": [
            "Accuracy: 0.7058122600291274\n",
            "Precision: 0.8093853550558172\n",
            "Recall: 0.7058122600291274\n",
            "F1_score: 0.7474948550643905\n"
          ]
        }
      ],
      "source": [
        "model_1_scores = classification_scores(val_labels_one_hot, tf.round(model_1.predict(val_dataset)))\n",
        "model_1_scores"
      ]
    },
    {
      "cell_type": "markdown",
      "source": [
        "## Glove Embeddings \n",
        "- https://keras.io/examples/nlp/pretrained_word_embeddings/"
      ],
      "metadata": {
        "id": "8ErzmSB-UQ-d"
      }
    },
    {
      "cell_type": "code",
      "source": [
        "!wget http://nlp.stanford.edu/data/glove.6B.zip\n",
        "!unzip -q glove.6B.zip"
      ],
      "metadata": {
        "id": "Nx_aaAG-qyau",
        "colab": {
          "base_uri": "https://localhost:8080/"
        },
        "outputId": "c4711f49-ccb4-494f-e069-7ab6b6e076de"
      },
      "execution_count": 42,
      "outputs": [
        {
          "output_type": "stream",
          "name": "stdout",
          "text": [
            "--2022-07-20 14:36:59--  http://nlp.stanford.edu/data/glove.6B.zip\n",
            "Resolving nlp.stanford.edu (nlp.stanford.edu)... 171.64.67.140\n",
            "Connecting to nlp.stanford.edu (nlp.stanford.edu)|171.64.67.140|:80... connected.\n",
            "HTTP request sent, awaiting response... 302 Found\n",
            "Location: https://nlp.stanford.edu/data/glove.6B.zip [following]\n",
            "--2022-07-20 14:37:00--  https://nlp.stanford.edu/data/glove.6B.zip\n",
            "Connecting to nlp.stanford.edu (nlp.stanford.edu)|171.64.67.140|:443... connected.\n",
            "HTTP request sent, awaiting response... 301 Moved Permanently\n",
            "Location: https://downloads.cs.stanford.edu/nlp/data/glove.6B.zip [following]\n",
            "--2022-07-20 14:37:00--  https://downloads.cs.stanford.edu/nlp/data/glove.6B.zip\n",
            "Resolving downloads.cs.stanford.edu (downloads.cs.stanford.edu)... 171.64.64.22\n",
            "Connecting to downloads.cs.stanford.edu (downloads.cs.stanford.edu)|171.64.64.22|:443... connected.\n",
            "HTTP request sent, awaiting response... 200 OK\n",
            "Length: 862182613 (822M) [application/zip]\n",
            "Saving to: ‘glove.6B.zip.1’\n",
            "\n",
            "glove.6B.zip.1      100%[===================>] 822.24M  5.01MB/s    in 2m 39s  \n",
            "\n",
            "2022-07-20 14:39:40 (5.17 MB/s) - ‘glove.6B.zip.1’ saved [862182613/862182613]\n",
            "\n",
            "replace glove.6B.50d.txt? [y]es, [n]o, [A]ll, [N]one, [r]ename: y\n",
            "replace glove.6B.100d.txt? [y]es, [n]o, [A]ll, [N]one, [r]ename: A\n"
          ]
        }
      ]
    },
    {
      "cell_type": "code",
      "source": [
        "word_index = dict(zip(vocab, range(len(vocab))))"
      ],
      "metadata": {
        "id": "XXUy6K3xr4Du"
      },
      "execution_count": 43,
      "outputs": []
    },
    {
      "cell_type": "code",
      "source": [
        "\n",
        "embeddings_index = {}\n",
        "with open('/content/glove.6B.100d.txt') as f:\n",
        "    for line in f:\n",
        "        word, coefs = line.split(maxsplit=1)\n",
        "        coefs = np.fromstring(coefs, \"f\", sep=\" \")\n",
        "        embeddings_index[word] = coefs\n",
        "\n",
        "print(\"Found %s word vectors.\" % len(embeddings_index))"
      ],
      "metadata": {
        "id": "uBHD12E5rQ4m",
        "colab": {
          "base_uri": "https://localhost:8080/"
        },
        "outputId": "98268175-760d-44ff-e86c-839e01214f67"
      },
      "execution_count": 44,
      "outputs": [
        {
          "output_type": "stream",
          "name": "stdout",
          "text": [
            "Found 400000 word vectors.\n"
          ]
        }
      ]
    },
    {
      "cell_type": "code",
      "source": [
        "num_tokens = len(vocab) + 2\n",
        "embedding_dim = 100\n",
        "hits = 0\n",
        "misses = 0\n",
        "\n",
        "# Prepare embedding matrix\n",
        "embedding_matrix = np.zeros((num_tokens, embedding_dim))\n",
        "for word, i in word_index.items():\n",
        "    embedding_vector = embeddings_index.get(word)\n",
        "    if embedding_vector is not None:\n",
        "        # Words not found in embedding index will be all-zeros.\n",
        "        # This includes the representation for \"padding\" and \"OOV\"\n",
        "        embedding_matrix[i] = embedding_vector\n",
        "        hits += 1\n",
        "    else:\n",
        "        misses += 1\n",
        "print(\"Converted %d words (%d misses)\" % (hits, misses))"
      ],
      "metadata": {
        "id": "l7WTWcaKrx0O",
        "colab": {
          "base_uri": "https://localhost:8080/"
        },
        "outputId": "76effd4a-f529-47ec-b1b3-752e71140d60"
      },
      "execution_count": 45,
      "outputs": [
        {
          "output_type": "stream",
          "name": "stdout",
          "text": [
            "Converted 29730 words (35111 misses)\n"
          ]
        }
      ]
    },
    {
      "cell_type": "code",
      "source": [
        "from tensorflow.keras.layers import Embedding\n",
        "\n",
        "embedding_layer = Embedding(\n",
        "    num_tokens,\n",
        "    embedding_dim,\n",
        "    embeddings_initializer=tf.keras.initializers.Constant(embedding_matrix),\n",
        "    trainable=False,\n",
        ")"
      ],
      "metadata": {
        "id": "YxIO0c9Qsp1e"
      },
      "execution_count": 46,
      "outputs": []
    },
    {
      "cell_type": "code",
      "source": [
        "inputs = tf.keras.Input(shape=(1,), dtype=tf.string)\n",
        "int_sequences = text_vectorizer(inputs)\n",
        "embedded_sequences = embedding_layer(int_sequences)\n",
        "x = layers.Conv1D(filters=64, kernel_size=3, padding='same')(embedded_sequences)\n",
        "x = layers.Conv1D(filters=64, kernel_size=3, padding='same')(x)\n",
        "x = layers.Conv1D(filters=32, kernel_size=3, padding='same')(x)\n",
        "x = layers.MaxPool1D()(x)\n",
        "x = layers.Conv1D(filters=32, kernel_size=3, padding='same')(x)\n",
        "x = layers.Conv1D(filters=8, kernel_size=3, padding='same')(x)\n",
        "x = layers.GlobalMaxPooling1D()(x)\n",
        "outputs = layers.Dense(5, activation='softmax')(x)\n",
        "preds = layers.Dense(len(class_names), activation=\"softmax\")(x)\n",
        "model_2 = tf.keras.Model(inputs, preds)\n",
        "model_2.summary()"
      ],
      "metadata": {
        "id": "PKG1RAa2ssZt",
        "colab": {
          "base_uri": "https://localhost:8080/"
        },
        "outputId": "c5493aff-e816-43bc-ae8b-c78e305a46e6"
      },
      "execution_count": 47,
      "outputs": [
        {
          "output_type": "stream",
          "name": "stdout",
          "text": [
            "Model: \"model_1\"\n",
            "_________________________________________________________________\n",
            " Layer (type)                Output Shape              Param #   \n",
            "=================================================================\n",
            " input_2 (InputLayer)        [(None, 1)]               0         \n",
            "                                                                 \n",
            " text_vectorization (TextVec  (None, 55)               0         \n",
            " torization)                                                     \n",
            "                                                                 \n",
            " embedding_1 (Embedding)     (None, 55, 100)           6484300   \n",
            "                                                                 \n",
            " conv1d_5 (Conv1D)           (None, 55, 64)            19264     \n",
            "                                                                 \n",
            " conv1d_6 (Conv1D)           (None, 55, 64)            12352     \n",
            "                                                                 \n",
            " conv1d_7 (Conv1D)           (None, 55, 32)            6176      \n",
            "                                                                 \n",
            " max_pooling1d_1 (MaxPooling  (None, 27, 32)           0         \n",
            " 1D)                                                             \n",
            "                                                                 \n",
            " conv1d_8 (Conv1D)           (None, 27, 32)            3104      \n",
            "                                                                 \n",
            " conv1d_9 (Conv1D)           (None, 27, 8)             776       \n",
            "                                                                 \n",
            " global_max_pooling1d_1 (Glo  (None, 8)                0         \n",
            " balMaxPooling1D)                                                \n",
            "                                                                 \n",
            " dense_2 (Dense)             (None, 5)                 45        \n",
            "                                                                 \n",
            "=================================================================\n",
            "Total params: 6,526,017\n",
            "Trainable params: 41,717\n",
            "Non-trainable params: 6,484,300\n",
            "_________________________________________________________________\n"
          ]
        }
      ]
    },
    {
      "cell_type": "code",
      "source": [
        "model_2.compile(loss='categorical_crossentropy', optimizer=tf.keras.optimizers.Adam(learning_rate=0.0001), metrics=['accuracy'])\n",
        "history_2 = model_2.fit(train_dataset, epochs=5, validation_data=val_dataset, steps_per_epoch=int(0.1*len(train_dataset)), validation_steps=len(val_dataset), callbacks=[create_tb_callback('model_2(glove)', 'experiments')])"
      ],
      "metadata": {
        "id": "xgit3HpMuiS7",
        "colab": {
          "base_uri": "https://localhost:8080/"
        },
        "outputId": "1ad6234d-add5-481c-96d3-c6edd2ee8bd7"
      },
      "execution_count": 48,
      "outputs": [
        {
          "output_type": "stream",
          "name": "stdout",
          "text": [
            "Epoch 1/5\n",
            "562/562 [==============================] - 6s 10ms/step - loss: 1.2312 - accuracy: 0.4967 - val_loss: 1.0257 - val_accuracy: 0.6003\n",
            "Epoch 2/5\n",
            "562/562 [==============================] - 5s 9ms/step - loss: 0.9533 - accuracy: 0.6280 - val_loss: 0.9165 - val_accuracy: 0.6481\n",
            "Epoch 3/5\n",
            "562/562 [==============================] - 5s 9ms/step - loss: 0.8782 - accuracy: 0.6616 - val_loss: 0.8401 - val_accuracy: 0.6790\n",
            "Epoch 4/5\n",
            "562/562 [==============================] - 5s 9ms/step - loss: 0.8297 - accuracy: 0.6787 - val_loss: 0.8030 - val_accuracy: 0.6947\n",
            "Epoch 5/5\n",
            "562/562 [==============================] - 5s 9ms/step - loss: 0.8171 - accuracy: 0.6927 - val_loss: 0.7804 - val_accuracy: 0.7053\n"
          ]
        }
      ]
    },
    {
      "cell_type": "code",
      "source": [
        "model_2_scores = classification_scores(val_labels_one_hot, tf.round(model_2.predict(val_dataset)))\n",
        "model_2_scores"
      ],
      "metadata": {
        "id": "wLrmwSiYBk95",
        "colab": {
          "base_uri": "https://localhost:8080/"
        },
        "outputId": "f6f319fe-6005-4c87-dc3e-bf3e6c66008b"
      },
      "execution_count": 49,
      "outputs": [
        {
          "output_type": "stream",
          "name": "stdout",
          "text": [
            "Accuracy: 0.5830795710313783\n",
            "Precision: 0.7756153789275468\n",
            "Recall: 0.5830795710313783\n",
            "F1_score: 0.6459110235381583\n"
          ]
        }
      ]
    },
    {
      "cell_type": "markdown",
      "source": [
        "### Transfer learning with https://tfhub.dev/google/universal-sentence-encoder/4"
      ],
      "metadata": {
        "id": "psZDrLwdBzIg"
      }
    },
    {
      "cell_type": "code",
      "source": [
        "import tensorflow_hub as hub\n",
        "\n",
        "encoder_layer = hub.KerasLayer('https://tfhub.dev/google/universal-sentence-encoder/4',\n",
        "                               input_shape=[],\n",
        "                               dtype=tf.string,\n",
        "                               trainable=False)"
      ],
      "metadata": {
        "id": "aglCVZb7CDXw"
      },
      "execution_count": 50,
      "outputs": []
    },
    {
      "cell_type": "code",
      "source": [
        "inputs = layers.Input(shape=[], dtype=tf.string)\n",
        "embedding = encoder_layer(inputs)\n",
        "x = layers.Dense(256, activation='relu')(embedding)\n",
        "outputs = layers.Dense(5, activation='softmax')(x)\n",
        "model_3 = tf.keras.Model(inputs, outputs)\n",
        "\n",
        "model_3.compile(loss='categorical_crossentropy', optimizer='adam', metrics=['acc'])\n",
        "model_3.summary()"
      ],
      "metadata": {
        "colab": {
          "base_uri": "https://localhost:8080/"
        },
        "id": "IdsRn5_nCU6A",
        "outputId": "ca34393d-9633-4a42-93f2-c991f147c49d"
      },
      "execution_count": 51,
      "outputs": [
        {
          "output_type": "stream",
          "name": "stdout",
          "text": [
            "Model: \"model_2\"\n",
            "_________________________________________________________________\n",
            " Layer (type)                Output Shape              Param #   \n",
            "=================================================================\n",
            " input_3 (InputLayer)        [(None,)]                 0         \n",
            "                                                                 \n",
            " keras_layer (KerasLayer)    (None, 512)               256797824 \n",
            "                                                                 \n",
            " dense_3 (Dense)             (None, 256)               131328    \n",
            "                                                                 \n",
            " dense_4 (Dense)             (None, 5)                 1285      \n",
            "                                                                 \n",
            "=================================================================\n",
            "Total params: 256,930,437\n",
            "Trainable params: 132,613\n",
            "Non-trainable params: 256,797,824\n",
            "_________________________________________________________________\n"
          ]
        }
      ]
    },
    {
      "cell_type": "code",
      "source": [
        "history_3 = model_3.fit(train_dataset, epochs=5, steps_per_epoch=int(0.1*len(train_dataset)), validation_data=val_dataset, validation_steps=len(val_dataset), callbacks=[create_tb_callback('model_3 (transfer)', 'experiments')])"
      ],
      "metadata": {
        "id": "_T-DG6ARCz9w",
        "colab": {
          "base_uri": "https://localhost:8080/"
        },
        "outputId": "7919ed45-3e2c-4f60-aa7d-d74fc85249cb"
      },
      "execution_count": 52,
      "outputs": [
        {
          "output_type": "stream",
          "name": "stdout",
          "text": [
            "Epoch 1/5\n",
            "562/562 [==============================] - 18s 27ms/step - loss: 0.8851 - acc: 0.6599 - val_loss: 0.7925 - val_acc: 0.6950\n",
            "Epoch 2/5\n",
            "562/562 [==============================] - 15s 26ms/step - loss: 0.7578 - acc: 0.7059 - val_loss: 0.7438 - val_acc: 0.7139\n",
            "Epoch 3/5\n",
            "562/562 [==============================] - 15s 26ms/step - loss: 0.7352 - acc: 0.7194 - val_loss: 0.7231 - val_acc: 0.7230\n",
            "Epoch 4/5\n",
            "562/562 [==============================] - 15s 26ms/step - loss: 0.7007 - acc: 0.7334 - val_loss: 0.6942 - val_acc: 0.7379\n",
            "Epoch 5/5\n",
            "562/562 [==============================] - 15s 26ms/step - loss: 0.7052 - acc: 0.7290 - val_loss: 0.6776 - val_acc: 0.7443\n"
          ]
        }
      ]
    },
    {
      "cell_type": "code",
      "source": [
        "model_3_scores = classification_scores(val_labels_one_hot, tf.round(model_3.predict(val_dataset)))\n",
        "model_3_scores"
      ],
      "metadata": {
        "id": "Q6mOhGpqLZwY",
        "colab": {
          "base_uri": "https://localhost:8080/"
        },
        "outputId": "c0a05b69-7f37-485c-d899-0cf1555a5a05"
      },
      "execution_count": 53,
      "outputs": [
        {
          "output_type": "stream",
          "name": "stdout",
          "text": [
            "Accuracy: 0.6738051105520985\n",
            "Precision: 0.7972081534402413\n",
            "Recall: 0.6738051105520985\n",
            "F1_score: 0.7185085582794545\n"
          ]
        }
      ]
    },
    {
      "cell_type": "code",
      "source": [
        "def splitchar(text):\n",
        "  return ' '.join(list(text))"
      ],
      "metadata": {
        "id": "JkUnPG0f1GI4"
      },
      "execution_count": 54,
      "outputs": []
    },
    {
      "cell_type": "code",
      "source": [
        "train_sentences_character = [splitchar(text) for text in train_sentences]\n",
        "test_sentences_character = [splitchar(text) for text in test_sentences]\n",
        "val_sentences_character = [splitchar(text) for text in val_sentences]"
      ],
      "metadata": {
        "id": "1oUcWp7jWP90"
      },
      "execution_count": 55,
      "outputs": []
    },
    {
      "cell_type": "code",
      "source": [
        "char_sentences_lenghts = [len(sentence) for sentence in train_sentences]\n",
        "np.mean(char_sentences_lenghts), np.percentile(char_sentences_lenghts, 95)"
      ],
      "metadata": {
        "colab": {
          "base_uri": "https://localhost:8080/"
        },
        "id": "vxpaIgLRY9qM",
        "outputId": "e0b80628-90e0-4463-c783-8591d4946a00"
      },
      "execution_count": 56,
      "outputs": [
        {
          "output_type": "execute_result",
          "data": {
            "text/plain": [
              "(149.3662574983337, 290.0)"
            ]
          },
          "metadata": {},
          "execution_count": 56
        }
      ]
    },
    {
      "cell_type": "code",
      "source": [
        "plt.hist(char_sentences_lenghts, bins=40);"
      ],
      "metadata": {
        "colab": {
          "base_uri": "https://localhost:8080/",
          "height": 265
        },
        "id": "DfIJPSn7cNia",
        "outputId": "0859cbd4-4e91-4006-ab06-e4df8f433ded"
      },
      "execution_count": 57,
      "outputs": [
        {
          "output_type": "display_data",
          "data": {
            "text/plain": [
              "<Figure size 432x288 with 1 Axes>"
            ],
            "image/png": "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\n"
          },
          "metadata": {
            "needs_background": "light"
          }
        }
      ]
    },
    {
      "cell_type": "code",
      "source": [
        "char_vectorizer = TextVectorization(max_tokens=70,\n",
        "                                         output_sequence_length=300,\n",
        "                                         pad_to_max_tokens=True)\n",
        "char_vectorizer.adapt(train_sentences_character)"
      ],
      "metadata": {
        "id": "avBK3bpeYh3D"
      },
      "execution_count": 58,
      "outputs": []
    },
    {
      "cell_type": "code",
      "source": [
        "char_vectorizer(train_sentences_character[20])"
      ],
      "metadata": {
        "colab": {
          "base_uri": "https://localhost:8080/"
        },
        "id": "Jm3xfeSEcv6B",
        "outputId": "04fe1ee9-e4c6-42c3-fbe6-b24464777143"
      },
      "execution_count": 59,
      "outputs": [
        {
          "output_type": "execute_result",
          "data": {
            "text/plain": [
              "<tf.Tensor: shape=(300,), dtype=int64, numpy=\n",
              "array([19,  2,  3,  5,  3,  3,  2,  6,  3,  4,  7,  6, 15,  5,  4,  6,  3,\n",
              "        2,  6,  5,  6, 11,  2,  7,  6, 17,  7,  7, 10, 11, 16,  2,  9, 20,\n",
              "        5,  9,  9,  4, 18,  6,  4, 17,  4, 11,  5,  6,  3, 12, 19,  8,  2,\n",
              "       12,  5,  3,  2, 10,  3,  7,  4,  6, 11,  8,  2,  5,  9,  2, 10,  4,\n",
              "        6,  3,  5, 23,  2,  9, 14,  2, 11,  4, 17,  4, 11,  5, 12, 12, 19,\n",
              "        4,  6,  3, 13,  2,  6,  2, 16,  3,  8,  5, 12, 11,  7,  6, 10,  4,\n",
              "        3,  4,  7,  6, 22, 16,  3,  6,  7,  3,  4,  6,  3, 13,  2,  9,  5,\n",
              "       10, 15,  7,  7, 10, 11,  7,  6, 10,  4,  3,  4,  7,  6,  0,  0,  0,\n",
              "        0,  0,  0,  0,  0,  0,  0,  0,  0,  0,  0,  0,  0,  0,  0,  0,  0,\n",
              "        0,  0,  0,  0,  0,  0,  0,  0,  0,  0,  0,  0,  0,  0,  0,  0,  0,\n",
              "        0,  0,  0,  0,  0,  0,  0,  0,  0,  0,  0,  0,  0,  0,  0,  0,  0,\n",
              "        0,  0,  0,  0,  0,  0,  0,  0,  0,  0,  0,  0,  0,  0,  0,  0,  0,\n",
              "        0,  0,  0,  0,  0,  0,  0,  0,  0,  0,  0,  0,  0,  0,  0,  0,  0,\n",
              "        0,  0,  0,  0,  0,  0,  0,  0,  0,  0,  0,  0,  0,  0,  0,  0,  0,\n",
              "        0,  0,  0,  0,  0,  0,  0,  0,  0,  0,  0,  0,  0,  0,  0,  0,  0,\n",
              "        0,  0,  0,  0,  0,  0,  0,  0,  0,  0,  0,  0,  0,  0,  0,  0,  0,\n",
              "        0,  0,  0,  0,  0,  0,  0,  0,  0,  0,  0,  0,  0,  0,  0,  0,  0,\n",
              "        0,  0,  0,  0,  0,  0,  0,  0,  0,  0,  0])>"
            ]
          },
          "metadata": {},
          "execution_count": 59
        }
      ]
    },
    {
      "cell_type": "code",
      "source": [
        "char_vocab = char_vectorizer.get_vocabulary()"
      ],
      "metadata": {
        "id": "YSUzvrfEdNxr"
      },
      "execution_count": 60,
      "outputs": []
    },
    {
      "cell_type": "code",
      "source": [
        "char_vocab[:10]"
      ],
      "metadata": {
        "colab": {
          "base_uri": "https://localhost:8080/"
        },
        "id": "b553YhpHdSzy",
        "outputId": "4af506d9-862f-43c0-c543-8658c3886eeb"
      },
      "execution_count": 61,
      "outputs": [
        {
          "output_type": "execute_result",
          "data": {
            "text/plain": [
              "['', '[UNK]', 'e', 't', 'i', 'a', 'n', 'o', 'r', 's']"
            ]
          },
          "metadata": {},
          "execution_count": 61
        }
      ]
    },
    {
      "cell_type": "code",
      "source": [
        "train_char_prefetch = tf.data.Dataset.from_tensor_slices((train_sentences_character, train_labels_one_hot)).batch(32).prefetch(tf.data.AUTOTUNE)\n",
        "val_char_prefetch = tf.data.Dataset.from_tensor_slices((val_sentences_character, val_labels_one_hot)).batch(32).prefetch(tf.data.AUTOTUNE)\n",
        "test_char_prefetch = tf.data.Dataset.from_tensor_slices((test_sentences_character, test_labels_one_hot)).batch(32).prefetch(tf.data.AUTOTUNE)"
      ],
      "metadata": {
        "id": "BRZZ0iWAWSyU"
      },
      "execution_count": 62,
      "outputs": []
    },
    {
      "cell_type": "code",
      "source": [
        "char_embedding = Embedding(input_dim=len(char_vocab),\n",
        "                           output_dim=64,\n",
        "                           mask_zero=True,\n",
        "                           input_length=300)"
      ],
      "metadata": {
        "id": "pCBa_o9UpCZx"
      },
      "execution_count": 63,
      "outputs": []
    },
    {
      "cell_type": "code",
      "source": [
        "inputs = layers.Input(shape=(1,), dtype=tf.string)\n",
        "x = char_vectorizer(inputs)\n",
        "x = char_embedding(x)\n",
        "x = layers.Conv1D(64, 3, padding='same', activation='relu')(x)\n",
        "x = layers.Conv1D(64, 3, padding='same', activation='relu')(x)\n",
        "x = layers.Conv1D(32, 3, padding='same', activation='relu')(x)\n",
        "x = layers.MaxPool1D()(x)\n",
        "x = layers.Conv1D(32, 3, padding='same', activation='relu')(x)\n",
        "x = layers.GlobalMaxPooling1D()(x)\n",
        "outputs = layers.Dense(5, activation='softmax')(x)\n",
        "\n",
        "model_4 = tf.keras.Model(inputs, outputs)\n",
        "model_4.compile(loss='categorical_crossentropy', optimizer='adam', metrics=['accuracy'])\n",
        "model_4.summary()"
      ],
      "metadata": {
        "id": "j4IcQ1-HpmfC",
        "colab": {
          "base_uri": "https://localhost:8080/"
        },
        "outputId": "7a3f190e-7778-4208-bd0c-d6034158e21d"
      },
      "execution_count": 64,
      "outputs": [
        {
          "output_type": "stream",
          "name": "stdout",
          "text": [
            "Model: \"model_3\"\n",
            "_________________________________________________________________\n",
            " Layer (type)                Output Shape              Param #   \n",
            "=================================================================\n",
            " input_4 (InputLayer)        [(None, 1)]               0         \n",
            "                                                                 \n",
            " text_vectorization_1 (TextV  (None, 300)              0         \n",
            " ectorization)                                                   \n",
            "                                                                 \n",
            " embedding_2 (Embedding)     (None, 300, 64)           1792      \n",
            "                                                                 \n",
            " conv1d_10 (Conv1D)          (None, 300, 64)           12352     \n",
            "                                                                 \n",
            " conv1d_11 (Conv1D)          (None, 300, 64)           12352     \n",
            "                                                                 \n",
            " conv1d_12 (Conv1D)          (None, 300, 32)           6176      \n",
            "                                                                 \n",
            " max_pooling1d_2 (MaxPooling  (None, 150, 32)          0         \n",
            " 1D)                                                             \n",
            "                                                                 \n",
            " conv1d_13 (Conv1D)          (None, 150, 32)           3104      \n",
            "                                                                 \n",
            " global_max_pooling1d_2 (Glo  (None, 32)               0         \n",
            " balMaxPooling1D)                                                \n",
            "                                                                 \n",
            " dense_5 (Dense)             (None, 5)                 165       \n",
            "                                                                 \n",
            "=================================================================\n",
            "Total params: 35,941\n",
            "Trainable params: 35,941\n",
            "Non-trainable params: 0\n",
            "_________________________________________________________________\n"
          ]
        }
      ]
    },
    {
      "cell_type": "code",
      "source": [
        "history_4 = model_4.fit(train_char_prefetch, steps_per_epoch=int(0.1*len(train_char_prefetch)), validation_data=val_char_prefetch, validation_steps=len(val_char_prefetch), epochs=5, callbacks=[create_tb_callback('model_4(character)', 'experiments')])"
      ],
      "metadata": {
        "id": "JqyLyV9cqaJJ",
        "colab": {
          "base_uri": "https://localhost:8080/"
        },
        "outputId": "dd9683cf-f67f-47f3-c6d5-c8e646888d0b"
      },
      "execution_count": 65,
      "outputs": [
        {
          "output_type": "stream",
          "name": "stdout",
          "text": [
            "Epoch 1/5\n",
            "562/562 [==============================] - 8s 12ms/step - loss: 1.3134 - accuracy: 0.4428 - val_loss: 1.1401 - val_accuracy: 0.5438\n",
            "Epoch 2/5\n",
            "562/562 [==============================] - 6s 11ms/step - loss: 1.0208 - accuracy: 0.5900 - val_loss: 0.9318 - val_accuracy: 0.6309\n",
            "Epoch 3/5\n",
            "562/562 [==============================] - 6s 11ms/step - loss: 0.9295 - accuracy: 0.6309 - val_loss: 0.8713 - val_accuracy: 0.6570\n",
            "Epoch 4/5\n",
            "562/562 [==============================] - 6s 11ms/step - loss: 0.8668 - accuracy: 0.6616 - val_loss: 0.8383 - val_accuracy: 0.6725\n",
            "Epoch 5/5\n",
            "562/562 [==============================] - 6s 11ms/step - loss: 0.8531 - accuracy: 0.6682 - val_loss: 0.8530 - val_accuracy: 0.6656\n"
          ]
        }
      ]
    },
    {
      "cell_type": "code",
      "source": [
        "model_4_scores = classification_scores(val_labels_one_hot, tf.round(model_4.predict(val_char_prefetch)))\n",
        "model_4_scores"
      ],
      "metadata": {
        "id": "d4ueZAaqqwnw",
        "colab": {
          "base_uri": "https://localhost:8080/"
        },
        "outputId": "9c4e417f-6dba-4699-8923-7121ccd20e60"
      },
      "execution_count": 66,
      "outputs": [
        {
          "output_type": "stream",
          "name": "stdout",
          "text": [
            "Accuracy: 0.5356149874222164\n",
            "Precision: 0.7856048354582538\n",
            "Recall: 0.5356149874222164\n",
            "F1_score: 0.6314873640158961\n"
          ]
        }
      ]
    },
    {
      "cell_type": "code",
      "source": [
        "inputs = layers.Input(shape=(1,), dtype=tf.string)\n",
        "x = char_vectorizer(inputs)\n",
        "x = char_embedding(x)\n",
        "x = layers.Bidirectional(layers.LSTM(32, return_sequences=True))(x)\n",
        "x = layers.Bidirectional(layers.LSTM(32))(x)\n",
        "outputs = layers.Dense(5, activation='softmax')(x)\n",
        "\n",
        "model_5 = tf.keras.Model(inputs, outputs)\n",
        "model_5.compile(loss='categorical_crossentropy', optimizer='adam', metrics=['accuracy'])\n",
        "model_5.summary()"
      ],
      "metadata": {
        "id": "f55oL6mzrNcQ",
        "colab": {
          "base_uri": "https://localhost:8080/"
        },
        "outputId": "3d8ad7c2-b48e-42c8-c2a5-435ff04883df"
      },
      "execution_count": 67,
      "outputs": [
        {
          "output_type": "stream",
          "name": "stdout",
          "text": [
            "Model: \"model_4\"\n",
            "_________________________________________________________________\n",
            " Layer (type)                Output Shape              Param #   \n",
            "=================================================================\n",
            " input_5 (InputLayer)        [(None, 1)]               0         \n",
            "                                                                 \n",
            " text_vectorization_1 (TextV  (None, 300)              0         \n",
            " ectorization)                                                   \n",
            "                                                                 \n",
            " embedding_2 (Embedding)     (None, 300, 64)           1792      \n",
            "                                                                 \n",
            " bidirectional (Bidirectiona  (None, 300, 64)          24832     \n",
            " l)                                                              \n",
            "                                                                 \n",
            " bidirectional_1 (Bidirectio  (None, 64)               24832     \n",
            " nal)                                                            \n",
            "                                                                 \n",
            " dense_6 (Dense)             (None, 5)                 325       \n",
            "                                                                 \n",
            "=================================================================\n",
            "Total params: 51,781\n",
            "Trainable params: 51,781\n",
            "Non-trainable params: 0\n",
            "_________________________________________________________________\n"
          ]
        }
      ]
    },
    {
      "cell_type": "code",
      "source": [
        "history_5 = model_5.fit(train_char_prefetch, steps_per_epoch=int(0.1*len(train_char_prefetch)), validation_data=val_char_prefetch, validation_steps=len(val_char_prefetch), epochs=5, callbacks=[create_tb_callback('model_5(bidirectionalChar)', 'experiments')])"
      ],
      "metadata": {
        "id": "fy0X5nSwwWbf",
        "colab": {
          "base_uri": "https://localhost:8080/"
        },
        "outputId": "1233dc54-1994-4e7f-fbbb-20a9c0ae48ec"
      },
      "execution_count": 68,
      "outputs": [
        {
          "output_type": "stream",
          "name": "stdout",
          "text": [
            "Epoch 1/5\n",
            "562/562 [==============================] - 75s 107ms/step - loss: 1.2681 - accuracy: 0.4703 - val_loss: 1.1765 - val_accuracy: 0.5242\n",
            "Epoch 2/5\n",
            "562/562 [==============================] - 58s 103ms/step - loss: 1.1267 - accuracy: 0.5394 - val_loss: 1.0661 - val_accuracy: 0.5650\n",
            "Epoch 3/5\n",
            "562/562 [==============================] - 51s 91ms/step - loss: 1.0607 - accuracy: 0.5688 - val_loss: 1.0154 - val_accuracy: 0.5900\n",
            "Epoch 4/5\n",
            "562/562 [==============================] - 59s 104ms/step - loss: 0.9891 - accuracy: 0.6017 - val_loss: 0.9672 - val_accuracy: 0.6149\n",
            "Epoch 5/5\n",
            "562/562 [==============================] - 54s 95ms/step - loss: 0.9543 - accuracy: 0.6159 - val_loss: 0.9173 - val_accuracy: 0.6309\n"
          ]
        }
      ]
    },
    {
      "cell_type": "code",
      "source": [
        "model_5_scores = classification_scores(val_labels_one_hot, tf.round(model_5.predict(val_char_prefetch)))\n",
        "model_5_scores"
      ],
      "metadata": {
        "id": "4AqAB_UNzkAL",
        "colab": {
          "base_uri": "https://localhost:8080/"
        },
        "outputId": "85a39427-9b72-4007-bd6c-bd0ee902e0ae"
      },
      "execution_count": 69,
      "outputs": [
        {
          "output_type": "stream",
          "name": "stdout",
          "text": [
            "Accuracy: 0.4845094664371773\n",
            "Precision: 0.7535259501755669\n",
            "Recall: 0.4845094664371773\n",
            "F1_score: 0.5647066306682601\n"
          ]
        }
      ]
    },
    {
      "cell_type": "markdown",
      "source": [
        "### Concatenating"
      ],
      "metadata": {
        "id": "VYWOrIb80QlB"
      }
    },
    {
      "cell_type": "code",
      "source": [
        "token_inputs = layers.Input(shape=[], dtype=tf.string)\n",
        "token_embeddings = encoder_layer(token_inputs)\n",
        "token_outputs = layers.Dense(64, activation='relu')(token_embeddings)\n",
        "token_model = tf.keras.Model(token_inputs, token_outputs)\n",
        "\n",
        "char_inputs = layers.Input(shape=(1,), dtype=tf.string)\n",
        "char_tokenizer = char_vectorizer(char_inputs)\n",
        "char_embeddings = char_embedding(char_tokenizer)\n",
        "char_outputs = layers.Bidirectional(layers.LSTM(24))(char_embeddings)\n",
        "char_model = tf.keras.Model(char_inputs, char_outputs)\n",
        "\n",
        "combined_input = layers.Concatenate()([token_model.output, char_model.output])\n",
        "combined_dropout = layers.Dropout(0.3)(combined_input)\n",
        "combined_dense = layers.Dense(128, activation='relu')(combined_dropout)\n",
        "final_dropout = layers.Dropout(0.2)(combined_dense)\n",
        "outputs = layers.Dense(5, activation='softmax')(final_dropout)\n",
        "\n",
        "model_6 = tf.keras.Model(inputs=[token_model.input, char_model.input],\n",
        "                         outputs=outputs)"
      ],
      "metadata": {
        "id": "SuMim9WZ4tZI"
      },
      "execution_count": 70,
      "outputs": []
    },
    {
      "cell_type": "code",
      "source": [
        "model_6.compile(loss='categorical_crossentropy', optimizer='adam', metrics=['accuracy'])\n",
        "model_6.summary()"
      ],
      "metadata": {
        "colab": {
          "base_uri": "https://localhost:8080/"
        },
        "id": "KDeMmdtPH_h-",
        "outputId": "3bf0525a-6625-42ae-e2f9-7138babe258d"
      },
      "execution_count": 71,
      "outputs": [
        {
          "output_type": "stream",
          "name": "stdout",
          "text": [
            "Model: \"model_7\"\n",
            "__________________________________________________________________________________________________\n",
            " Layer (type)                   Output Shape         Param #     Connected to                     \n",
            "==================================================================================================\n",
            " input_7 (InputLayer)           [(None, 1)]          0           []                               \n",
            "                                                                                                  \n",
            " input_6 (InputLayer)           [(None,)]            0           []                               \n",
            "                                                                                                  \n",
            " text_vectorization_1 (TextVect  (None, 300)         0           ['input_7[0][0]']                \n",
            " orization)                                                                                       \n",
            "                                                                                                  \n",
            " keras_layer (KerasLayer)       (None, 512)          256797824   ['input_6[0][0]']                \n",
            "                                                                                                  \n",
            " embedding_2 (Embedding)        (None, 300, 64)      1792        ['text_vectorization_1[2][0]']   \n",
            "                                                                                                  \n",
            " dense_7 (Dense)                (None, 64)           32832       ['keras_layer[1][0]']            \n",
            "                                                                                                  \n",
            " bidirectional_2 (Bidirectional  (None, 48)          17088       ['embedding_2[2][0]']            \n",
            " )                                                                                                \n",
            "                                                                                                  \n",
            " concatenate (Concatenate)      (None, 112)          0           ['dense_7[0][0]',                \n",
            "                                                                  'bidirectional_2[0][0]']        \n",
            "                                                                                                  \n",
            " dropout (Dropout)              (None, 112)          0           ['concatenate[0][0]']            \n",
            "                                                                                                  \n",
            " dense_8 (Dense)                (None, 128)          14464       ['dropout[0][0]']                \n",
            "                                                                                                  \n",
            " dropout_1 (Dropout)            (None, 128)          0           ['dense_8[0][0]']                \n",
            "                                                                                                  \n",
            " dense_9 (Dense)                (None, 5)            645         ['dropout_1[0][0]']              \n",
            "                                                                                                  \n",
            "==================================================================================================\n",
            "Total params: 256,864,645\n",
            "Trainable params: 66,821\n",
            "Non-trainable params: 256,797,824\n",
            "__________________________________________________________________________________________________\n"
          ]
        }
      ]
    },
    {
      "cell_type": "code",
      "source": [
        "from tensorflow.keras.utils import plot_model\n",
        "\n",
        "plot_model(model_6)"
      ],
      "metadata": {
        "colab": {
          "base_uri": "https://localhost:8080/",
          "height": 856
        },
        "id": "88F5jrEMJxxA",
        "outputId": "73781d7b-e03a-4711-fa8d-881a88040ca8"
      },
      "execution_count": 72,
      "outputs": [
        {
          "output_type": "execute_result",
          "data": {
            "text/plain": [
              "<IPython.core.display.Image object>"
            ],
            "image/png": "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\n"
          },
          "metadata": {},
          "execution_count": 72
        }
      ]
    },
    {
      "cell_type": "code",
      "source": [
        "combined_train_dataset = tf.data.Dataset.from_tensor_slices(((train_sentences, train_sentences_character), train_labels_one_hot)).batch(32).prefetch(tf.data.AUTOTUNE)\n",
        "combined_val_dataset = tf.data.Dataset.from_tensor_slices(((val_sentences, val_sentences_character), val_labels_one_hot)).batch(32).prefetch(tf.data.AUTOTUNE)\n",
        "combined_test_dataset = tf.data.Dataset.from_tensor_slices(((test_sentences, test_sentences_character), test_labels_one_hot)).batch(32).prefetch(tf.data.AUTOTUNE)"
      ],
      "metadata": {
        "id": "4osiKc_XLOOv"
      },
      "execution_count": 73,
      "outputs": []
    },
    {
      "cell_type": "code",
      "source": [
        "history_6 = model_6.fit(combined_train_dataset,\n",
        "                        epochs=5,\n",
        "                        validation_data=combined_val_dataset,\n",
        "                        steps_per_epoch=int(0.1*len(combined_train_dataset)),\n",
        "                        validation_steps=len(combined_val_dataset),\n",
        "                        callbacks=[create_tb_callback('model_6(combined)', 'experiments')])"
      ],
      "metadata": {
        "id": "iOVj7ZJuIsPS",
        "colab": {
          "base_uri": "https://localhost:8080/"
        },
        "outputId": "46c4e4ab-f596-4d0c-af4b-6b768714bb83"
      },
      "execution_count": 74,
      "outputs": [
        {
          "output_type": "stream",
          "name": "stdout",
          "text": [
            "Epoch 1/5\n",
            "562/562 [==============================] - 55s 84ms/step - loss: 0.9296 - accuracy: 0.6376 - val_loss: 0.7691 - val_accuracy: 0.7067\n",
            "Epoch 2/5\n",
            "562/562 [==============================] - 45s 80ms/step - loss: 0.7656 - accuracy: 0.7039 - val_loss: 0.7071 - val_accuracy: 0.7313\n",
            "Epoch 3/5\n",
            "562/562 [==============================] - 42s 75ms/step - loss: 0.7390 - accuracy: 0.7171 - val_loss: 0.6902 - val_accuracy: 0.7359\n",
            "Epoch 4/5\n",
            "562/562 [==============================] - 46s 81ms/step - loss: 0.7090 - accuracy: 0.7293 - val_loss: 0.6593 - val_accuracy: 0.7488\n",
            "Epoch 5/5\n",
            "562/562 [==============================] - 43s 77ms/step - loss: 0.7112 - accuracy: 0.7284 - val_loss: 0.6510 - val_accuracy: 0.7497\n"
          ]
        }
      ]
    },
    {
      "cell_type": "code",
      "source": [
        "model_6_scores = classification_scores(val_labels_one_hot, tf.round(model_6.predict(combined_val_dataset)))\n",
        "model_6_scores"
      ],
      "metadata": {
        "id": "mm-ZTznDQ9wr",
        "colab": {
          "base_uri": "https://localhost:8080/"
        },
        "outputId": "2dcf2640-f51d-46e2-bae7-9acf25fc3fb3"
      },
      "execution_count": 75,
      "outputs": [
        {
          "output_type": "stream",
          "name": "stdout",
          "text": [
            "Accuracy: 0.6872434794121541\n",
            "Precision: 0.8012712797870349\n",
            "Recall: 0.6872434794121541\n",
            "F1_score: 0.728056177286683\n"
          ]
        }
      ]
    },
    {
      "cell_type": "markdown",
      "source": [
        "### Position"
      ],
      "metadata": {
        "id": "4xhYgOE9RIML"
      }
    },
    {
      "cell_type": "code",
      "source": [
        "train_df.head()"
      ],
      "metadata": {
        "colab": {
          "base_uri": "https://localhost:8080/",
          "height": 206
        },
        "id": "DdBZvAcRU_Gh",
        "outputId": "c46991ae-9b62-460f-97f4-b1f94bf2b152"
      },
      "execution_count": 76,
      "outputs": [
        {
          "output_type": "execute_result",
          "data": {
            "text/plain": [
              "            id  line_number     target  \\\n",
              "0  ###24293578            0  OBJECTIVE   \n",
              "1  ###24293578            1    METHODS   \n",
              "2  ###24293578            2    METHODS   \n",
              "3  ###24293578            3    METHODS   \n",
              "4  ###24293578            4    METHODS   \n",
              "\n",
              "                                                text  total_lines  \n",
              "0  To investigate the efficacy of @ weeks of dail...           11  \n",
              "1  A total of @ patients with primary knee OA wer...           11  \n",
              "2  Outcome measures included pain reduction and i...           11  \n",
              "3  Pain was assessed using the visual analog pain...           11  \n",
              "4  Secondary outcome measures included the Wester...           11  "
            ],
            "text/html": [
              "\n",
              "  <div id=\"df-a1c3a494-bd14-4235-abdd-002e51c4aee9\">\n",
              "    <div class=\"colab-df-container\">\n",
              "      <div>\n",
              "<style scoped>\n",
              "    .dataframe tbody tr th:only-of-type {\n",
              "        vertical-align: middle;\n",
              "    }\n",
              "\n",
              "    .dataframe tbody tr th {\n",
              "        vertical-align: top;\n",
              "    }\n",
              "\n",
              "    .dataframe thead th {\n",
              "        text-align: right;\n",
              "    }\n",
              "</style>\n",
              "<table border=\"1\" class=\"dataframe\">\n",
              "  <thead>\n",
              "    <tr style=\"text-align: right;\">\n",
              "      <th></th>\n",
              "      <th>id</th>\n",
              "      <th>line_number</th>\n",
              "      <th>target</th>\n",
              "      <th>text</th>\n",
              "      <th>total_lines</th>\n",
              "    </tr>\n",
              "  </thead>\n",
              "  <tbody>\n",
              "    <tr>\n",
              "      <th>0</th>\n",
              "      <td>###24293578</td>\n",
              "      <td>0</td>\n",
              "      <td>OBJECTIVE</td>\n",
              "      <td>To investigate the efficacy of @ weeks of dail...</td>\n",
              "      <td>11</td>\n",
              "    </tr>\n",
              "    <tr>\n",
              "      <th>1</th>\n",
              "      <td>###24293578</td>\n",
              "      <td>1</td>\n",
              "      <td>METHODS</td>\n",
              "      <td>A total of @ patients with primary knee OA wer...</td>\n",
              "      <td>11</td>\n",
              "    </tr>\n",
              "    <tr>\n",
              "      <th>2</th>\n",
              "      <td>###24293578</td>\n",
              "      <td>2</td>\n",
              "      <td>METHODS</td>\n",
              "      <td>Outcome measures included pain reduction and i...</td>\n",
              "      <td>11</td>\n",
              "    </tr>\n",
              "    <tr>\n",
              "      <th>3</th>\n",
              "      <td>###24293578</td>\n",
              "      <td>3</td>\n",
              "      <td>METHODS</td>\n",
              "      <td>Pain was assessed using the visual analog pain...</td>\n",
              "      <td>11</td>\n",
              "    </tr>\n",
              "    <tr>\n",
              "      <th>4</th>\n",
              "      <td>###24293578</td>\n",
              "      <td>4</td>\n",
              "      <td>METHODS</td>\n",
              "      <td>Secondary outcome measures included the Wester...</td>\n",
              "      <td>11</td>\n",
              "    </tr>\n",
              "  </tbody>\n",
              "</table>\n",
              "</div>\n",
              "      <button class=\"colab-df-convert\" onclick=\"convertToInteractive('df-a1c3a494-bd14-4235-abdd-002e51c4aee9')\"\n",
              "              title=\"Convert this dataframe to an interactive table.\"\n",
              "              style=\"display:none;\">\n",
              "        \n",
              "  <svg xmlns=\"http://www.w3.org/2000/svg\" height=\"24px\"viewBox=\"0 0 24 24\"\n",
              "       width=\"24px\">\n",
              "    <path d=\"M0 0h24v24H0V0z\" fill=\"none\"/>\n",
              "    <path d=\"M18.56 5.44l.94 2.06.94-2.06 2.06-.94-2.06-.94-.94-2.06-.94 2.06-2.06.94zm-11 1L8.5 8.5l.94-2.06 2.06-.94-2.06-.94L8.5 2.5l-.94 2.06-2.06.94zm10 10l.94 2.06.94-2.06 2.06-.94-2.06-.94-.94-2.06-.94 2.06-2.06.94z\"/><path d=\"M17.41 7.96l-1.37-1.37c-.4-.4-.92-.59-1.43-.59-.52 0-1.04.2-1.43.59L10.3 9.45l-7.72 7.72c-.78.78-.78 2.05 0 2.83L4 21.41c.39.39.9.59 1.41.59.51 0 1.02-.2 1.41-.59l7.78-7.78 2.81-2.81c.8-.78.8-2.07 0-2.86zM5.41 20L4 18.59l7.72-7.72 1.47 1.35L5.41 20z\"/>\n",
              "  </svg>\n",
              "      </button>\n",
              "      \n",
              "  <style>\n",
              "    .colab-df-container {\n",
              "      display:flex;\n",
              "      flex-wrap:wrap;\n",
              "      gap: 12px;\n",
              "    }\n",
              "\n",
              "    .colab-df-convert {\n",
              "      background-color: #E8F0FE;\n",
              "      border: none;\n",
              "      border-radius: 50%;\n",
              "      cursor: pointer;\n",
              "      display: none;\n",
              "      fill: #1967D2;\n",
              "      height: 32px;\n",
              "      padding: 0 0 0 0;\n",
              "      width: 32px;\n",
              "    }\n",
              "\n",
              "    .colab-df-convert:hover {\n",
              "      background-color: #E2EBFA;\n",
              "      box-shadow: 0px 1px 2px rgba(60, 64, 67, 0.3), 0px 1px 3px 1px rgba(60, 64, 67, 0.15);\n",
              "      fill: #174EA6;\n",
              "    }\n",
              "\n",
              "    [theme=dark] .colab-df-convert {\n",
              "      background-color: #3B4455;\n",
              "      fill: #D2E3FC;\n",
              "    }\n",
              "\n",
              "    [theme=dark] .colab-df-convert:hover {\n",
              "      background-color: #434B5C;\n",
              "      box-shadow: 0px 1px 3px 1px rgba(0, 0, 0, 0.15);\n",
              "      filter: drop-shadow(0px 1px 2px rgba(0, 0, 0, 0.3));\n",
              "      fill: #FFFFFF;\n",
              "    }\n",
              "  </style>\n",
              "\n",
              "      <script>\n",
              "        const buttonEl =\n",
              "          document.querySelector('#df-a1c3a494-bd14-4235-abdd-002e51c4aee9 button.colab-df-convert');\n",
              "        buttonEl.style.display =\n",
              "          google.colab.kernel.accessAllowed ? 'block' : 'none';\n",
              "\n",
              "        async function convertToInteractive(key) {\n",
              "          const element = document.querySelector('#df-a1c3a494-bd14-4235-abdd-002e51c4aee9');\n",
              "          const dataTable =\n",
              "            await google.colab.kernel.invokeFunction('convertToInteractive',\n",
              "                                                     [key], {});\n",
              "          if (!dataTable) return;\n",
              "\n",
              "          const docLinkHtml = 'Like what you see? Visit the ' +\n",
              "            '<a target=\"_blank\" href=https://colab.research.google.com/notebooks/data_table.ipynb>data table notebook</a>'\n",
              "            + ' to learn more about interactive tables.';\n",
              "          element.innerHTML = '';\n",
              "          dataTable['output_type'] = 'display_data';\n",
              "          await google.colab.output.renderOutput(dataTable, element);\n",
              "          const docLink = document.createElement('div');\n",
              "          docLink.innerHTML = docLinkHtml;\n",
              "          element.appendChild(docLink);\n",
              "        }\n",
              "      </script>\n",
              "    </div>\n",
              "  </div>\n",
              "  "
            ]
          },
          "metadata": {},
          "execution_count": 76
        }
      ]
    },
    {
      "cell_type": "code",
      "source": [
        "train_df.line_number.plot.hist()"
      ],
      "metadata": {
        "colab": {
          "base_uri": "https://localhost:8080/",
          "height": 282
        },
        "id": "Skz5S2obouWt",
        "outputId": "c33d16dc-2944-4266-d619-a67f93606e15"
      },
      "execution_count": 77,
      "outputs": [
        {
          "output_type": "execute_result",
          "data": {
            "text/plain": [
              "<matplotlib.axes._subplots.AxesSubplot at 0x7efc07097850>"
            ]
          },
          "metadata": {},
          "execution_count": 77
        },
        {
          "output_type": "display_data",
          "data": {
            "text/plain": [
              "<Figure size 432x288 with 1 Axes>"
            ],
            "image/png": "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\n"
          },
          "metadata": {
            "needs_background": "light"
          }
        }
      ]
    },
    {
      "cell_type": "code",
      "source": [
        "train_line_numbers_one_hot = tf.one_hot(train_df['line_number'].to_numpy(), depth=15)\n",
        "val_line_numbers_one_hot = tf.one_hot(val_df['line_number'].to_numpy(), depth=15)\n",
        "test_line_numbers_one_hot = tf.one_hot(test_df['line_number'].to_numpy(), depth=15)\n",
        "train_line_numbers_one_hot[30:60]"
      ],
      "metadata": {
        "colab": {
          "base_uri": "https://localhost:8080/"
        },
        "id": "nBDkRy2SowCs",
        "outputId": "736ef52a-3f2e-4234-f97d-ee34dd407385"
      },
      "execution_count": 78,
      "outputs": [
        {
          "output_type": "execute_result",
          "data": {
            "text/plain": [
              "<tf.Tensor: shape=(30, 15), dtype=float32, numpy=\n",
              "array([[0., 0., 0., 0., 0., 0., 0., 1., 0., 0., 0., 0., 0., 0., 0.],\n",
              "       [0., 0., 0., 0., 0., 0., 0., 0., 1., 0., 0., 0., 0., 0., 0.],\n",
              "       [0., 0., 0., 0., 0., 0., 0., 0., 0., 1., 0., 0., 0., 0., 0.],\n",
              "       [0., 0., 0., 0., 0., 0., 0., 0., 0., 0., 1., 0., 0., 0., 0.],\n",
              "       [0., 0., 0., 0., 0., 0., 0., 0., 0., 0., 0., 1., 0., 0., 0.],\n",
              "       [0., 0., 0., 0., 0., 0., 0., 0., 0., 0., 0., 0., 1., 0., 0.],\n",
              "       [0., 0., 0., 0., 0., 0., 0., 0., 0., 0., 0., 0., 0., 1., 0.],\n",
              "       [0., 0., 0., 0., 0., 0., 0., 0., 0., 0., 0., 0., 0., 0., 1.],\n",
              "       [1., 0., 0., 0., 0., 0., 0., 0., 0., 0., 0., 0., 0., 0., 0.],\n",
              "       [0., 1., 0., 0., 0., 0., 0., 0., 0., 0., 0., 0., 0., 0., 0.],\n",
              "       [0., 0., 1., 0., 0., 0., 0., 0., 0., 0., 0., 0., 0., 0., 0.],\n",
              "       [0., 0., 0., 1., 0., 0., 0., 0., 0., 0., 0., 0., 0., 0., 0.],\n",
              "       [0., 0., 0., 0., 1., 0., 0., 0., 0., 0., 0., 0., 0., 0., 0.],\n",
              "       [0., 0., 0., 0., 0., 1., 0., 0., 0., 0., 0., 0., 0., 0., 0.],\n",
              "       [0., 0., 0., 0., 0., 0., 1., 0., 0., 0., 0., 0., 0., 0., 0.],\n",
              "       [0., 0., 0., 0., 0., 0., 0., 1., 0., 0., 0., 0., 0., 0., 0.],\n",
              "       [0., 0., 0., 0., 0., 0., 0., 0., 1., 0., 0., 0., 0., 0., 0.],\n",
              "       [0., 0., 0., 0., 0., 0., 0., 0., 0., 1., 0., 0., 0., 0., 0.],\n",
              "       [0., 0., 0., 0., 0., 0., 0., 0., 0., 0., 1., 0., 0., 0., 0.],\n",
              "       [0., 0., 0., 0., 0., 0., 0., 0., 0., 0., 0., 1., 0., 0., 0.],\n",
              "       [0., 0., 0., 0., 0., 0., 0., 0., 0., 0., 0., 0., 1., 0., 0.],\n",
              "       [0., 0., 0., 0., 0., 0., 0., 0., 0., 0., 0., 0., 0., 1., 0.],\n",
              "       [0., 0., 0., 0., 0., 0., 0., 0., 0., 0., 0., 0., 0., 0., 1.],\n",
              "       [0., 0., 0., 0., 0., 0., 0., 0., 0., 0., 0., 0., 0., 0., 0.],\n",
              "       [0., 0., 0., 0., 0., 0., 0., 0., 0., 0., 0., 0., 0., 0., 0.],\n",
              "       [1., 0., 0., 0., 0., 0., 0., 0., 0., 0., 0., 0., 0., 0., 0.],\n",
              "       [0., 1., 0., 0., 0., 0., 0., 0., 0., 0., 0., 0., 0., 0., 0.],\n",
              "       [0., 0., 1., 0., 0., 0., 0., 0., 0., 0., 0., 0., 0., 0., 0.],\n",
              "       [0., 0., 0., 1., 0., 0., 0., 0., 0., 0., 0., 0., 0., 0., 0.],\n",
              "       [0., 0., 0., 0., 1., 0., 0., 0., 0., 0., 0., 0., 0., 0., 0.]],\n",
              "      dtype=float32)>"
            ]
          },
          "metadata": {},
          "execution_count": 78
        }
      ]
    },
    {
      "cell_type": "code",
      "source": [
        "train_tl_one_hot = tf.one_hot(train_df['total_lines'].to_numpy(), depth=20)\n",
        "val_tl_one_hot = tf.one_hot(val_df['total_lines'].to_numpy(), depth=20)\n",
        "test_tl_one_hot = tf.one_hot(test_df['total_lines'].to_numpy(), depth=20)"
      ],
      "metadata": {
        "id": "doPE3fw7vX3Q"
      },
      "execution_count": 79,
      "outputs": []
    },
    {
      "cell_type": "code",
      "source": [
        "tribrid_train_dataset = tf.data.Dataset.from_tensor_slices(((train_sentences, train_sentences_character, train_line_numbers_one_hot, train_tl_one_hot), train_labels_one_hot)).batch(32).prefetch(tf.data.AUTOTUNE)\n",
        "tribrid_val_dataset = tf.data.Dataset.from_tensor_slices(((val_sentences, val_sentences_character, val_line_numbers_one_hot, val_tl_one_hot), val_labels_one_hot)).batch(32).prefetch(tf.data.AUTOTUNE)\n",
        "tribrid_test_dataset = tf.data.Dataset.from_tensor_slices(((test_sentences, test_sentences_character, test_line_numbers_one_hot, test_tl_one_hot), test_labels_one_hot)).batch(32).prefetch(tf.data.AUTOTUNE)"
      ],
      "metadata": {
        "id": "KHcsp3ZTwkPX"
      },
      "execution_count": 80,
      "outputs": []
    },
    {
      "cell_type": "code",
      "source": [
        "tribrid_train_dataset"
      ],
      "metadata": {
        "colab": {
          "base_uri": "https://localhost:8080/"
        },
        "id": "cMrGYitBcrgt",
        "outputId": "171c6d22-2c79-4972-c018-cfa17f4f3748"
      },
      "execution_count": 81,
      "outputs": [
        {
          "output_type": "execute_result",
          "data": {
            "text/plain": [
              "<PrefetchDataset element_spec=((TensorSpec(shape=(None,), dtype=tf.string, name=None), TensorSpec(shape=(None,), dtype=tf.string, name=None), TensorSpec(shape=(None, 15), dtype=tf.float32, name=None), TensorSpec(shape=(None, 20), dtype=tf.float32, name=None)), TensorSpec(shape=(None, 5), dtype=tf.float64, name=None))>"
            ]
          },
          "metadata": {},
          "execution_count": 81
        }
      ]
    },
    {
      "cell_type": "code",
      "source": [
        "token_inputs = layers.Input(shape=[], dtype=tf.string)\n",
        "token_embeddings = encoder_layer(token_inputs)\n",
        "token_outputs = layers.Dense(64, activation=\"relu\")(token_embeddings)\n",
        "token_model = tf.keras.Model(inputs=token_inputs,\n",
        "                             outputs=token_outputs)\n",
        "\n",
        "\n",
        "char_inputs = layers.Input(shape=(1,), dtype=tf.string)\n",
        "char_tokens = char_vectorizer(char_inputs)\n",
        "char_embeddings = char_embedding(char_tokens)\n",
        "char_bidirectional = layers.Bidirectional(layers.LSTM(32))(char_embeddings)\n",
        "char_model = tf.keras.Model(inputs=char_inputs,\n",
        "                            outputs=char_bidirectional)\n",
        "\n",
        "\n",
        "line_number_inputs = layers.Input(shape=(15,), dtype=tf.float32)\n",
        "line_number_dense = layers.Dense(32, activation=\"relu\")(line_number_inputs)\n",
        "line_number_model = tf.keras.Model(inputs=line_number_inputs,\n",
        "                                   outputs=line_number_dense)\n",
        "\n",
        "total_lines_inputs = layers.Input(shape=(20,), dtype=tf.float32)\n",
        "total_lines_dense = layers.Dense(32, activation=\"relu\")(total_lines_inputs)\n",
        "total_lines_model = tf.keras.Model(inputs=total_lines_inputs,\n",
        "                                  outputs=total_lines_dense)\n",
        "\n",
        "combined_embeddings = layers.Concatenate()([token_model.output, \n",
        "                                            char_model.output])\n",
        "comb_dense = layers.Dense(128, activation=\"relu\")(combined_embeddings)\n",
        "comb_dropout = layers.Dropout(0.3)(comb_dense)\n",
        "\n",
        "tribrid = layers.Concatenate()([line_number_model.output,\n",
        "                                total_lines_model.output,\n",
        "                                comb_dropout])\n",
        "\n",
        "output_layer = layers.Dense(5, activation=\"softmax\")(tribrid)\n",
        "\n",
        "model_7 = tf.keras.Model(inputs=[token_model.input,\n",
        "                                 char_model.input,\n",
        "                                 line_number_model.input,\n",
        "                                 total_lines_model.input],\n",
        "                                 outputs=output_layer)"
      ],
      "metadata": {
        "id": "kDRNnB59XoQw"
      },
      "execution_count": 82,
      "outputs": []
    },
    {
      "cell_type": "code",
      "source": [
        "model_7.compile(loss=tf.keras.losses.CategoricalCrossentropy(label_smoothing=0.2), \n",
        "                optimizer='adam', \n",
        "                metrics=['accuracy'])\n",
        "model_7.summary()"
      ],
      "metadata": {
        "colab": {
          "base_uri": "https://localhost:8080/"
        },
        "id": "04NzbYRYqcgs",
        "outputId": "0f90c946-1c82-4abf-9c35-10526e7add0b"
      },
      "execution_count": 83,
      "outputs": [
        {
          "output_type": "stream",
          "name": "stdout",
          "text": [
            "Model: \"model_12\"\n",
            "__________________________________________________________________________________________________\n",
            " Layer (type)                   Output Shape         Param #     Connected to                     \n",
            "==================================================================================================\n",
            " input_9 (InputLayer)           [(None, 1)]          0           []                               \n",
            "                                                                                                  \n",
            " input_8 (InputLayer)           [(None,)]            0           []                               \n",
            "                                                                                                  \n",
            " text_vectorization_1 (TextVect  (None, 300)         0           ['input_9[0][0]']                \n",
            " orization)                                                                                       \n",
            "                                                                                                  \n",
            " keras_layer (KerasLayer)       (None, 512)          256797824   ['input_8[0][0]']                \n",
            "                                                                                                  \n",
            " embedding_2 (Embedding)        (None, 300, 64)      1792        ['text_vectorization_1[3][0]']   \n",
            "                                                                                                  \n",
            " dense_10 (Dense)               (None, 64)           32832       ['keras_layer[2][0]']            \n",
            "                                                                                                  \n",
            " bidirectional_3 (Bidirectional  (None, 64)          24832       ['embedding_2[3][0]']            \n",
            " )                                                                                                \n",
            "                                                                                                  \n",
            " concatenate_1 (Concatenate)    (None, 128)          0           ['dense_10[0][0]',               \n",
            "                                                                  'bidirectional_3[0][0]']        \n",
            "                                                                                                  \n",
            " input_10 (InputLayer)          [(None, 15)]         0           []                               \n",
            "                                                                                                  \n",
            " input_11 (InputLayer)          [(None, 20)]         0           []                               \n",
            "                                                                                                  \n",
            " dense_13 (Dense)               (None, 128)          16512       ['concatenate_1[0][0]']          \n",
            "                                                                                                  \n",
            " dense_11 (Dense)               (None, 32)           512         ['input_10[0][0]']               \n",
            "                                                                                                  \n",
            " dense_12 (Dense)               (None, 32)           672         ['input_11[0][0]']               \n",
            "                                                                                                  \n",
            " dropout_2 (Dropout)            (None, 128)          0           ['dense_13[0][0]']               \n",
            "                                                                                                  \n",
            " concatenate_2 (Concatenate)    (None, 192)          0           ['dense_11[0][0]',               \n",
            "                                                                  'dense_12[0][0]',               \n",
            "                                                                  'dropout_2[0][0]']              \n",
            "                                                                                                  \n",
            " dense_14 (Dense)               (None, 5)            965         ['concatenate_2[0][0]']          \n",
            "                                                                                                  \n",
            "==================================================================================================\n",
            "Total params: 256,875,941\n",
            "Trainable params: 78,117\n",
            "Non-trainable params: 256,797,824\n",
            "__________________________________________________________________________________________________\n"
          ]
        }
      ]
    },
    {
      "cell_type": "code",
      "source": [
        "plot_model(model_7)"
      ],
      "metadata": {
        "colab": {
          "base_uri": "https://localhost:8080/",
          "height": 856
        },
        "id": "ilzuWM8zqkVc",
        "outputId": "0b9ca0fe-3a36-4685-cf1e-3841c4d0acba"
      },
      "execution_count": 84,
      "outputs": [
        {
          "output_type": "execute_result",
          "data": {
            "text/plain": [
              "<IPython.core.display.Image object>"
            ],
            "image/png": "iVBORw0KGgoAAAANSUhEUgAAA28AAANHCAYAAAChMGWnAAAABmJLR0QA/wD/AP+gvaeTAAAgAElEQVR4nOzdaXwUVd728auTdNLpkDQBAmELSwABRVxAEQQFRgVRRkgCYRFBkcUFUFAUkcEBF8QBbllUBPFWR0hYBLd5VFQEb4FBFGEQAsLIIktYEyBAFs7zwkmPTRY6W3eK/L6fT79I9ek6/6o6Vemru6raZowxAgAAAACUawH+LgAAAAAAcGmENwAAAACwAMIbAAAAAFgA4Q0AAAAALCDI3wUgf2vXrtW0adP8XQbgc48//rhuuukmf5cBAABQ7vDNWzm1b98+LVmyxN9lXBbWrVundevW+bsMeGHJkiXat2+fv8sAAAAol/jmrZxbvHixv0uwvISEBEmsSyuw2Wz+LgEAAKDc4ps3AAAAALAAwhsAAAAAWADhDQAAAAAsgPAGAAAAABZAeAMAAAAACyC8AQAAAIAFEN4AAAAAwAIIbwAAAABgAYQ3AAAAALAAwhsAAAAAWADhDQAAAAAsgPAGAAAAABZAeAMAAAAACyC8AQAAAIAFEN4uI59++qlcLpc++ugjf5dSIllZWZowYYIaNmyo4OBg1a5dW2PGjNHZs2d90v+6devUrFkzBQQEyGazqUaNGpo8ebJP+vbW0qVL1bBhQ9lsNtlsNkVHR6t///7+LgsAAABlKMjfBaD0GGP8XUKpGDVqlN566y0tWLBA3bp108aNG/XnP/9ZBw8e1N///vcy779Nmzbatm2bunTpos8++0wpKSmqXLlymfdbFHFxcYqLi1OjRo109OhRHTp0yN8lAQAAoIzxzdtlpFu3bkpLS9Pdd9/t71J09uxZtW3btsiv2717t15//XUNGDBAiYmJCg8P16233qoRI0bo/fff17Zt28qg2vKvuOsTAAAAlw/CG8rE/PnzlZqaWuTXbdiwQRcuXNCNN97oMb1Lly6SpM8++6xU6rOa4q5PAAAAXD4Ib5eJb7/9VjExMbLZbJo1a5Ykac6cOQoLC5PT6dSKFSvUtWtXRUREqE6dOlq4cKH7ta+++qocDoeqV6+uYcOGqWbNmnI4HGrbtq3Wr1/vbjdixAgFBwcrOjraPe3hhx9WWFiYbDabjh49Kun30x5Hjx6tXbt2yWazqVGjRl4vR0DA70MyNDTUY3rjxo0lya/fvFlxff7RmjVr1Lx5c7lcLjkcDrVo0cIdhgcPHuy+fi42NlY//vijJGnQoEFyOp1yuVz68MMPJUk5OTmaMGGCYmJiFBoaqquvvlpJSUmSpJdffllOp1Ph4eFKTU3V6NGjVbt2baWkpBSrZgAAAPyBQbmUlJRkirp59u3bZySZmTNnuqc988wzRpL58ssvTVpamklNTTXt27c3YWFhJjMz091u6NChJiwszPz888/m3LlzZuvWraZ169YmPDzc7N27192uX79+pkaNGh79Tp061UgyR44ccU+Li4szsbGxRV1ss3nzZiPJPPvssx7Ts7OzjSTTo0ePIs8zPj7exMfHF/l1d9xxh5FkTpw44Z5W3tZnbGyscblcXi3P4sWLzcSJE83x48fNsWPHTJs2bUzVqlU9+ggMDDS//fabx+v69u1rPvzwQ/ffY8aMMSEhIWbJkiXmxIkTZty4cSYgIMBs2LDBYx2NHDnSzJw50/Ts2dNs27bNqxolmaSkJK/aAgAAVDR881ZBtG3bVhEREYqKilJiYqLOnDmjvXv3erQJCgpSs2bNFBISoubNm2vOnDk6deqUFixY4LM6W7RooS5dumj27Nn66quvdO7cOR06dEjLli2TzWZTVlaWz2opjFXW5x/Fx8frL3/5iyIjI1WlShV1795dx44d05EjRyRJw4cPV05Ojkd96enp2rBhg+68805J0rlz5zRnzhz16NFDcXFxqly5ssaPHy+73Z5nuV566SU98sgjWrp0qZo2beq7BQUAALhMEd4qoODgYEm6ZBBq1aqVnE6ntm/f7ouy3BYtWqSEhAQNGDBAVapUUbt27fTBBx/IGKOqVav6tBZvlPf1WRC73S7p99MgJalTp05q0qSJ3nrrLfedSxctWqTExEQFBgZKklJSUpSRkaGrrrrKPZ/Q0FBFR0eXm+UCAAC4XBHeUKiQkBD3NzO+4nK59Prrr2v//v3KyMjQrl279Le//U2SVKtWLZ/WUtr8sT5zffLJJ7r11lsVFRWlkJAQPfnkkx7P22w2DRs2TLt379aXX34pSXrnnXf0wAMPuNucOXNGkjR+/Hj3NXI2m0179uxRRkaG7xYGAACgAiK8oUBZWVk6efKk6tSp4+9StGHDBklSx44d/VxJ8fl6fa5evVrTp0+XJO3du1c9evRQdHS01q9fr7S0NE2ZMiXPawYOHCiHw6F58+YpJSVFERERqlevnvv5qKgoSdL06dNljPF4rF271ifLBQAAUFHxI90o0KpVq2SMUZs2bdzTgoKC/HLd2ZtvvqkGDRrolltu8XnfpcXX63Pjxo0KCwuTJG3ZskVZWVl66KGH1LBhQ0m/f9N2scjISPXu3VuLFi1SeHi4HnzwQY/n69atK4fDoU2bNpVJzQAAACgY37zB7cKFCzpx4oSys7O1efNmjRo1SjExMRo4cKC7TaNGjXT8+HEtX75cWVlZOnLkiPbs2ZNnXlWqVNGBAwf066+/6tSpU0UKKDfccIP27Nmj7Oxs/frrrxozZoxWrlyp+fPnu68vswJ/rc+srCwdPnxYq1atcoe3mJgYSdLKlSt17tw57dy50+NnC/5o+PDhOn/+vD7++OM8P/jucDg0aNAgLVy4UHPmzFF6erpycnK0f/9+HTx4sKirCAAAAEXhvxtdojBF/amAmTNnmujoaCPJOJ1O0717dzN79mzjdDqNJNO4cWOza9cuM3fuXBMREWEkmXr16pkdO3YYY36/tb3dbje1a9c2QUFBJiIiwtxzzz1m165dHv0cO3bMdOzY0TgcDtOgQQPz6KOPmieeeMJIMo0aNXLfBv+HH34w9erVM6Ghoebmm282hw4d8npZbrvtNlO5cmUTFBRkIiMjTbdu3dy3oS+Oov5UwLp168yVV15pAgICjCQTHR1tnn/++XK1Pl977TUTGxtrJBX6WLZsmbuvsWPHmipVqpjKlSubhIQEM2vWLCPJxMbGevx8gTHGXHvttebpp5/Od/2cP3/ejB071sTExJigoCATFRVl4uLizNatW82UKVNMaGiokWTq1q1r3n33Xa/XuzH8VAAAAEBhbMb857ZyKFeSk5PVu3dv+WrzDBs2TIsXL9axY8d80p8vJSQkSJIWL17ssz6tvj67deumWbNmqUGDBj7t12azKSkpSb169fJpvwAAAFbAaZNwy71lPEqHldbnH0/D3Lx5sxwOh8+DGwAAAApHeEOZ2759u8dt5Qt6JCYm+rvUCmvs2LHauXOnduzYoUGDBmnSpEn+LgkAAAAXIbxB48aN04IFC5SWlqYGDRpoyZIlpTr/pk2b5rmtfH6PRYsWlWq//lLW67MsOJ1ONW3aVH/60580ceJENW/e3N8lAQAA4CJc81ZO+fqat8uZP655Q/FwzRsAAEDB+OYNAAAAACyA8AYAAAAAFkB4AwAAAAALILwBAAAAgAUQ3gAAAADAAghvAAAAAGABhDcAAAAAsADCGwAAAABYAOENAAAAACyA8AYAAAAAFkB4AwAAAAALILwBAAAAgAUQ3gAAAADAAoL8XQAKl5CQ4O8SLG/dunWSWJcAAACwNsJbOVW3bl3Fx8f7u4zLQps2bYrU/vvvv5cktWrVqizKQSHi4+NVt25df5cBAABQLtmMMcbfRQDlSa9evSRJycnJfq4EAAAA+C+ueQMAAAAACyC8AQAAAIAFEN4AAAAAwAIIbwAAAABgAYQ3AAAAALAAwhsAAAAAWADhDQAAAAAsgPAGAAAAABZAeAMAAAAACyC8AQAAAIAFEN4AAAAAwAIIbwAAAABgAYQ3AAAAALAAwhsAAAAAWADhDQAAAAAsgPAGAAAAABZAeAMAAAAACyC8AQAAAIAFEN4AAAAAwAIIbwAAAABgAYQ3AAAAALAAwhsAAAAAWADhDQAAAAAsgPAGAAAAABZAeAMAAAAACyC8AQAAAIAFEN4AAAAAwAIIbwAAAABgAYQ3AAAAALAAwhsAAAAAWADhDQAAAAAsgPAGAAAAABZAeAMAAAAAC7AZY4y/iwD85e2339aMGTOUk5PjnnbkyBFJUlRUlHtaYGCgRo0apYEDB/q6RAAAAEAS4Q0VXEpKipo2bepV223btnndFgAAAChtnDaJCu2KK65QixYtZLPZCmxjs9nUokULghsAAAD8ivCGCm/AgAEKDAws8PmgoCDdd999PqwIAAAAyIvTJlHhHThwQHXq1FFBu4LNZtPevXtVp04dH1cGAAAA/BffvKHCq1Wrltq2bauAgLy7Q0BAgNq2bUtwAwAAgN8R3gBJ9957b77XvdlsNg0YMMAPFQEAAACeOG0SkHT8+HHVqFFD2dnZHtMDAwN1+PBhVa1a1U+VAQAAAL/jmzdAUpUqVXTbbbcpKCjIPS0wMFC33XYbwQ0AAADlAuEN+I/+/fvrwoUL7r+NMbr33nv9WBEAAADwX5w2CfzHmTNnVK1aNZ07d06SFBISoqNHj6pSpUp+rgwAAADgmzfALSwsTN27d5fdbldQUJDuueceghsAAADKDcIb8Af9+vVTdna2cnJy1LdvX3+XAwAAALgFXbpJ2UhOTvZX10CBcnJy5HA4ZIzR6dOnGacol3r16uXvEtzWrl2rffv2+bsMwOfK034IoOLw2zVv+f2mFgDg0srTpcoJCQlasmSJv8sAfK487YcAKg6/njaZlJQkYwwPHuXq8dVXX+nrr7/2qm1SUpIk+b1mHhXjkTveypv4+Hi/r5vL4SHxf9EKj/K6HwKoGPx22iRQXt1yyy3+LgEAAADIg/AGXCQggPv4AAAAoPzhXSoAAAAAWADhDQAAAAAsgPAGAAAAABZAeAMAAAAACyC8AQAAAIAFEN4AAAAAwAIIbwAAAABgAYQ3AAAAALAAwhsAAAAAWADhDQAAAAAsgPAGAAAAABZAeAMAAAAACyC8VWCffvqpXC6XPvroo8uin6K4cOGCpk+frrZt2/q038TERNlsNq8eH3/8cZnVMXToUIWFhclms8lut6tly5batm2bR5u33npLMTExstlsqlGjht5+++0yq6e4KvIYtrLLaX2+//77at26tcLDw1WvXj0NGjRIhw4dKvN+161bp2bNmikgIMC9j06ePLnM+y2KpUuXqmHDhu5jWnR0tPr37+/vsgDA0ghvFZgx5rLqx1s7d+5Uhw4d9PjjjysjI8Pn/X/++ec6efKksrKydPDgQUlS9+7dlZmZqTNnzig1NVUPPvhgmdbwxhtvaO3atZKk66+/Xj/99JOaNWvm0eb+++/XmjVrVKtWLe3fv18DBw4s05qKo6KOYau7XNZnUlKS+vXrp4SEBO3fv18rVqzQ6tWr1bVrV2VnZ5dp323atNG2bdt0++23S5JSUlI0fvz4Mu2zqOLi4rR7927FxsbK5XLp0KFDeu+99/xdFgBYmmXC29mzZ8vsW5KynHdpKYsau3XrprS0NN19992lNs/86iyLforrp59+0lNPPaXhw4frmmuu8Xn/NptN7dq1k8vlUlBQkMd0u90up9OpqKgoXX/99aXab37b5eqrr9bNN9+s9evX64cffsj3da+//rruv/9+2e32MqmhpCriGL4clKf1WZJx+cYbb6hWrVp64okn5HK5dM011+jxxx/Xpk2btH79+lKutPyzwv9SALA6y4S3+fPnKzU11XLzLi1WqFEq/3W2bNlSS5cuVb9+/RQSEuLz/hcuXCin03nJdkOHDtVdd91Vav0WtF0eeeQRSdLs2bPzPJeZmal33nlHQ4cOLdMayhur1InSUZLtvW/fPtWsWVM2m809rW7dupKkPXv2lEp9VsK+AwBlzxLhbdSoURo9erR27dolm82mRo0aSZJycnI0YcIExcTEKDQ0VFdffbWSkpIkSW+//bYqVaokm82myMhILV++XN9//73q1aunwMBA9e3bt9B5e6NZs2ay2WwKCAjQ9ddf7z4F78knn5TL5ZLD4XBfJ1RYrbneffddtWrVSg6HQ2FhYapfv74mTZpUYI3GGE2bNk3NmjVTSEiIIiMjdc8992j79u3ueb788styOp0KDw9XamqqRo8erdq1a2v+/Pnu65lmzZolSfrll18KvP7qiy++kCStWbNGzZs3dy9fixYt9NlnnxW4Lr/99ts8/Xhb+5w5cxQWFian06kVK1aoa9euioiIUJ06dbRw4UKvt5OVlfUYj4uLU61atbRo0SKdPHnSo+8lS5boxhtvVJ06dS5ZSy7GMGP4UvJbn96up1dffVUOh0PVq1fXsGHDVLNmTTkcDrVt29bjm64RI0YoODhY0dHR7mkPP/yw+zrPo0ePSirZ8V+SGjZsmCes5F7v1rBhw6KtmFJi1XWZq7D9c/Dgwe79OTY2Vj/++KMkadCgQXI6nXK5XPrwww8lFX68KuiYkpKSUqyaAcCnjJ9IMklJSV63j4uLM7GxsR7TxowZY0JCQsySJUvMiRMnzLhx40xAQIDZsGGDMcaYn3/+2TidTnPfffe5X/P000+befPmXXLe3sjOzjb169c3MTExJjs72+O5xx57zEyfPt3rWqdPn24kmRdffNEcO3bMHD9+3LzxxhumX79+BdY4YcIEExwcbN59911z8uRJs3nzZnPdddeZatWqmUOHDrnbPfPMM0aSGTlypJk5c6bp2bOn2bZtm9m3b5+RZGbOnGmMMWbnzp3mqaeeMmfOnDHGGHPw4EETGRlp2rZta3JycowxxixevNhMnDjRHD9+3Bw7dsy0adPGVK1atdB1eXE/xan9yy+/NGlpaSY1NdW0b9/ehIWFmczMzCJuMU833nijadmyZYnmkZSUZEqyGx08eNBIMn/+85/zfd4XY3zixIlGkpk2bZrH9JtvvtmsXLnS61oYw2U/hks63spCfHy8iY+PL9Jr8luf3q6noUOHmrCwMPPzzz+bc+fOma1bt5rWrVub8PBws3fvXne7fv36mRo1anj0O3XqVCPJHDlyxD2tuMd/Y4xZtWqVsdvt5tVXXzXp6enmX//6l2nWrJm54447ijW/ov5fNMaYO+64w0gyJ06ccE8rb+syNjbWuFwur5bHm/0zMDDQ/Pbbbx6v69u3r/nwww/df1/qeFXQMcUb5XE/BFBxWDa8nT171jidTpOYmOielpGRYUJCQsxDDz3knvbGG28YSea9994z77//vnn88ccvOe+iyH3Dmpyc7J525swZExMTY9LS0ryqNTMz01SuXNl07NjRY97Z2dlmxowZ+daYkZFhKlWq5DFPY4z55z//aSSZv/71r+5puf+kzp4969E2vzdQf9SjRw/jcDjM9u3bC1z+F154wUgyqamp+daZXz8lrX327NlGkvnll18KrMsb5T28+WqMHzx40NjtdtOkSRNz4cIFY4wxmzdvNk2bNvW6FsZw0Wov7hguj28aSzu8XWo9DR06NE8Q2LBhg5FknnvuOfc0X4Q3Y4wZP368keR+1KlTx+zbt69Y8yrt8FZe1mVRwtvFLt4/V65caSSZyZMnu9ukpaWZxo0buz9E9ebYWdAxxRvlcT8EUHFY4rTJ/KSkpCgjI0NXXXWVe1poaKiio6M9TlsaMmSI4uPjNWzYMCUnJ+vll18u1ToGDx4sl8ulGTNmuKe99957uueeexQREeFVrZs3b9bJkyd1xx13eMw7MDBQI0eOzLffrVu36vTp02rVqpXH9NatWys4OLjEF8snJyfrgw8+0HPPPacrrriiwHa5N7LIycnxet4lrT04OFiSlJWV5XWfVuSrMR4dHa24uDjt2LFDK1eulCS99tprGj58uNe1MIZ/xxguXd6up1atWsnpdHrsF77wzDPPaO7cufryyy91+vRp7d69W23bttVNN92kffv2+bSWSynv67IgF++fnTp1UpMmTfTWW2+571q6aNEiJSYmKjAwUJL3x04AsCLLhrczZ85IksaPH+9xXcuePXvy3P79+eef1+nTp8vkQupKlSppyJAh+u677/TPf/5T0u9vfEeMGOF1renp6ZKkypUre91v7vVJlSpVyvNc5cqVderUqWIv07Fjx/Too4+qdevWGj16tMdzn3zyiW699VZFRUUpJCRETz75ZJHnX5a1X058OcZzb1wyZ84cnTp1Sh988IHuu+8+r2thDP8XY9g/QkJCdOTIEZ/1d/DgQU2ZMkVDhgxRp06dFBYWpgYNGujNN9/UgQMHNHXqVJ/VUtp8vS7/6FL7p81m07Bhw7R79259+eWXkqR33nlHDzzwgLtNUY6dAGA1lg1vUVFRkqTp06fL/H76p/uR+/tV0u+fMo4cOVLTpk3T2rVry+RHTEeMGCG73a7p06dr9erVqlu3rmJjY72utVatWpLkvvDbG7lvkvN7k3jy5En3TSaKY+TIkTp58qQWLFjg/iRTkvbu3asePXooOjpa69evV1pamqZMmVLk+Zdl7ZcTX47xdu3a6dprr9VHH32kF198UX/+85/lcrm8roUxXHq1o+iysrJ8vt537typnJwc99jPFRERoSpVqmjr1q0+q6U0+Xpdrl69WtOnT5fk/f45cOBAORwOzZs3TykpKYqIiFC9evXcz3t77AQAK7JseKtbt64cDoc2bdpUaLtHH31UDz74oB577DE9/vjjmjRpUqkfvOvUqaNevXppyZIlevbZZzVq1Kgi1Vq/fn1VqVJFn3/+udd9XnXVVapUqZK+//57j+nr169XZmZmsX8n7JNPPtHf//53Pfvss7ryyivd05944glt2bJFWVlZeuihh9SwYUM5HA6PW2T7u/bLja/H+MMPP6ycnBy99NJLeuihh4pUC2O4dGpH8axatUrGGLVp08Y9LSgoqExPS80NNwcPHvSYfurUKR0/ftz9kwFW4+t1uXHjRoWFhUmS1/tnZGSkevfureXLl+uVV17Rgw8+6PG8t8dOALAiy4S3KlWq6MCBA/r111916tQpBQYGatCgQVq4cKHmzJmj9PR05eTkaP/+/e5/prNnz1bt2rXVs2dPSdILL7yg5s2bq1+/fu7TvPKbd3H+SY0ePVrZ2dk6ceKEOnXq5PGcw+EotNaQkBCNGzdOq1ev1ogRI/Tbb7/pwoULOnXqlH7++ecCl3/06NFatmyZ3nvvPaWnp2vLli0aPny4atasWazf5kpPT9ewYcN0zTXX6KmnnpIknTt3Tt9//702bdqkmJgYSdLKlSt17tw57dy5M8+1Pd6sS4fDUeq1X44uNW6k0h3jffv2VZUqVdSuXTtdffXVRaqFMcwY9qULFy7oxIkTys7O1ubNmzVq1CjFxMRo4MCB7jaNGjXS8ePHtXz5cmVlZenIkSP5/vZacY//DRo0UMeOHfXmm29q9erVOnv2rPbt2+fe9n88ja8889e6zMrK0uHDh7Vq1Sp3ePNm/8w1fPhwnT9/Xh9//HGeH3v35tgJAJblw5ujeFAR76r1ww8/mHr16pnQ0FBz8803m0OHDpnz58+bsWPHmpiYGBMUFGSioqJMXFyc2bp1q7n77ruNzWYzVapUMd99950x5vfb9wcEBBhJxuVyme+//77AeRdHx44d89yiPVdhteaaNWuWadGihXE4HMbhcJhrr73WzJ49u8AaL1y4YKZOnWoaN25s7Ha7iYyMND169DApKSnueU6ZMsWEhoYaSaZu3brm3XffNcYYM3PmTBMdHW0kGafTabp3725eeeUVj7um/fFx5513GmOMGTt2rKlSpYqpXLmySUhIMLNmzTKSTGxsrNm7d2+eOsePH5+nH2OMV7XPnj3bOJ1OI8k0btzY7Nq1y8ydO9dEREQYSaZevXpmx44dRdpGa9euNe3atTM1a9Z0L1t0dLRp27at+eabb4o0L2OKf9ex9PR006FDB1OlShUjyQQEBJhGjRqZ559/3qOdr8f4E088Yd5///18n2MM+38Ml8e73BX1bpP5bbeirKehQ4cau91uateubYKCgkxERIS55557zK5duzz6OXbsmOnYsaNxOBymQYMG5tFHHzVPPPGEkWQaNWrkvhV+SY7/R48eNaNGjTKNGjUyISEhplKlSqZdu3bmgw8+8Hoef1SU/4vr1q0zV155pXt/j46ONs8//3y5WpevvfaaiY2NLXCfzH0sW7bM3del9s8/uvbaa83TTz+d7/op7HhV0DHFW+VxPwRQcdiM+c/tmnzMZrMpKSlJvXr18kf3QKlITk5W79695afdCBVMeRxvCQkJkqTFixf7pL9hw4Zp8eLFOnbsmE/68yVf/1+0+rrs1q2bZs2apQYNGvi03/K4HwKoOCxz2iQAAFLRftYBhbPSuvzjaZibN2+Ww+HweXADAH8jvF1k+/btHrcWLuiRmJjo71IhtheA0sPxpHwbO3asdu7cqR07dmjQoEGaNGmSv0sCAJ8L8ncB5U3Tpk05FcJC2F5AxTFu3DgtWLBAmZmZatCggaZOnar4+PhSm39FOp6U9bosC06nU02bNlXt2rU1e/ZsNW/e3N8lAYDP8c0bAMASXnjhBZ0/f17GGP373/8u92GjPLPiupw8ebJycnK0d+/ePHeYBICKgvAGAAAAABZAeAMAAAAACyC8AQAAAIAFEN4AAAAAwAIIbwAAAABgAYQ3AAAAALAAwhsAAAAAWADhDQAAAAAsgPAGAAAAABZAeAMAAAAACyC8AQAAAIAFEN4AAAAAwAIIbwAAAABgAUH+7Hzt2rX+7B4osdwxnJyc7OdKUBGU12Pm/v372QdKSXndxvgvthEAf7IZY4xfOrbZ/NEtAFienw7b+UpISNCSJUv8XQbgc+VpPwRQcfgtvAHlVa9evSTxbRqA8s1msykpKcl9zAIAXP645g0AAAAALIDwBgAAAAAWQHgDAAAAAOf/M48AACAASURBVAsgvAEAAACABRDeAAAAAMACCG8AAAAAYAGENwAAAACwAMIbAAAAAFgA4Q0AAAAALIDwBgAAAAAWQHgDAAAAAAsgvAEAAACABRDeAAAAAMACCG8AAAAAYAGENwAAAACwAMIbAAAAAFgA4Q0AAAAALIDwBgAAAAAWQHgDAAAAAAsgvAEAAACABRDeAAAAAMACCG8AAAAAYAGENwAAAACwAMIbAAAAAFgA4Q0AAAAALIDwBgAAAAAWQHgDAAAAAAsgvAEAAACABRDeAAAAAMACCG8AAAAAYAGENwAAAACwAMIbAAAAAFgA4Q0AAAAALCDI3wUA/vTNN99o3bp1HtO2b98uSZoyZYrH9DZt2uiWW27xWW0AkGvu3Lk6ceJEnukrVqzQv//9b49pAwcOVI0aNXxVGgDAh2zGGOPvIgB/+eKLL3T77bfLbrcrICD/L6IvXLigrKwsff7557rtttt8XCEASEOHDtXcuXMVEhLinmaMkc1mc/+dnZ0tl8ulQ4cOyW63+6NMAEAZI7yhQsvJyVGNGjV07NixQttFRkYqNTVVQUF8WQ3A91atWqWOHTsW2sZut2vIkCGaNWuWj6oCAPga17yhQgsMDFS/fv0UHBxcYJvg4GDde++9BDcAftOhQwdVr1690DZZWVnq06ePjyoCAPgD4Q0VXp8+fZSZmVng85mZmbwhAuBXAQEB6t+/f6EfNNWsWVNt27b1YVUAAF8jvKHCa9OmjWJiYgp8vk6dOrrxxht9WBEA5FXYB012u10DBgzwuAYOAHD5IbwBkvr375/vBf7BwcG67777eEMEwO9atWqlBg0a5Pscp0wCQMVAeAP0e3jLysrKMz0zM1OJiYl+qAgA8howYEC+HzQ1bNhQLVu29ENFAABfIrwBkpo1a6ZmzZrlmd60aVNdddVVfqgIAPLK74Mmu92uQYMG+akiAIAvEd6A/7j4E2273a777rvPjxUBgKdGjRqpRYsWHqdyZ2VlqXfv3n6sCgDgK4Q34D/69u2r7Oxs99/Z2dmcMgmg3BkwYIACAwMlSTabTddee60aN27s56oAAL5AeAP+IyYmRq1atVJAQIBsNptat26t+vXr+7ssAPDQt29f5eTkSPr9tyo5QwAAKg7CG/AHAwYMUEBAgAIDA3Xvvff6uxwAyKNWrVpq27atbDabLly4oISEBH+XBADwEcIb8Ae9e/eWMUbGGN4QASi37r33Xhlj1KFDB9WqVcvf5QAAfMRmjDH+LsJqEhIStGTJEn+XAaCY4uPjtXjxYn+XUa5wXAN8g7ddAEoiyN8FWFWbNm302GOP+bsMlIFvvvlGNptNHTp0yPf56dOnSxLb36Jytx/y4rhmHdOnT9eOHTs0depUVapUyd/lwAtr167VjBkz/F0GAIsjvBVTnTp11KtXL3+XgTLQpUsXSVJERES+z+d+Y8P2tya+cSsYxzXrWLx4sapWrar777/f36WgCAhvAEqK8AZcpKDQBgDlSWhoqL9LAAD4GDcsAQAAAAALILwBAAAAgAUQ3gAAAADAAghvAAAAAGABhDcAAAAAsADCGwAAAABYAOENAAAAACyA8AYAAAAAFkB4AwAAAAALILwBAAAAgAUQ3gAAAADAAghvAAAAAGABhDcAAAAAsADCm8W1bt1agYGBuuaaa0p93oMHD1Z4eLhsNps2bdpU5HaffvqpXC6XPvroo1Kvraj++te/qnnz5oqIiFBISIgaNWqkJ598UqdPny7zvpcuXaqGDRvKZrMV+Khfv36p9MV4gK+8+OKLcrlclxwP5dkrr7yi6tWry2az6fXXX/d3OWXq4uNQ3bp1NX/+fPfz33zzjWrXri2bzabo6GjNnTu33NQaHR2t/v37+60eAChPCG8Wt2HDBnXs2LFM5j1v3jy9+eabxW5njCmLsorlq6++0iOPPKJff/1VR48e1QsvvKAZM2YoISGhzPuOi4vT7t27FRsbK5fLJWOMjDHKzs5WRkaGDh8+LKfTWSp9MR7gK08//bTeeOMNf5dRImPGjNF3333n7zJ84uLj0L59+/TAAw+4n+/QoYPuvPNODRkyRAcPHtSQIUPKTa2HDh3Se++957d6AKA8CfJ3ASgdNpvN3yXk0a1bN6Wlpfm7DElSpUqVNHToUAUGBkqSevXqpaVLlyo5OVn79u1T3bp1fV5TYGCgQkNDFRoaqiZNmpTqvBkPALx14cIFDR48WA6HQ7Nnzy6Xxw8AwO/45u0yYbfby2S+3v4T98U/e2OMFi9eXKzTeT7++GN3cMtVrVo1SVJGRkap1FcSy5cvL9X5MR4AeOPChQu6//775XQ6NWfOHIIbAJRzhDcfycnJ0YQJExQTE6PQ0FBdffXVSkpKkiTNmDFDYWFhCggI0PXXX68aNWrIbrcrLCxM1113ndq3b6+6devK4XCocuXKevLJJ/PM/5dfflHTpk0VFham0NBQtW/fXt9++63XNUi/vxmeOnWqrrjiCoWEhMjlcumJJ57I05c37b799lvFxMTIZrNp1qxZkqQ5c+YoLCxMTqdTK1asUNeuXRUREaE6depo4cKFeWp94YUXdMUVVyg0NFTVqlVTgwYN9MILL6hXr17F2wgX+e233xQaGqoGDRqUyvxKC+PBP+MBJXf48GHVr19fQUFB6tKli3t6YWPt5ZdfltPpVHh4uFJTUzV69GjVrl1bKSkpWrNmjZo3by6XyyWHw6EWLVros88+c8/3m2++0Q033CCn06mIiAi1aNFC6enpJV6OwvodPHiw+1qs2NhY/fjjj5KkQYMGyel0yuVy6cMPPyzRcvvKhQsXNHDgQLlcLvd+mR8rbL+Kss0AQAZFFh8fb+Lj44v0mjFjxpiQkBCzZMkSc+LECTNu3DgTEBBgNmzYYIwx5i9/+YuRZNavX2/OnDljjh49arp06WIkmU8++cQcOXLEnDlzxowYMcJIMps2bXLPu3PnzqZhw4bm3//+t8nKyjL/+te/zI033mgcDofZsWOH1zU888wzxmazmb/97W/mxIkTJiMjw8yePdtIMj/++KN7Pt6227dvn5FkZs6c6fFaSebLL780aWlpJjU11bRv396EhYWZzMxMd7vnn3/eBAYGmhUrVpiMjAyzceNGU6NGDXPrrbcWab0X5MyZMyY8PNyMGDGiyK8tzvY3xpjY2Fjjcrk8po0cOdJs2bIlT1vGQ9mNh+Juv8tdcdbLwoULPbZzZmamiYuLMytWrPBo581Yk2RGjhxpZs6caXr27Gm2bdtmFi9ebCZOnGiOHz9ujh07Ztq0aWOqVq1qjDHm9OnTJiIiwkyZMsWcPXvWHDp0yPTs2dMcOXKkSMuwc+dOI8m89tpr7mmF9WuMMXFxcSYwMND89ttvHvPq27ev+fDDD0u83N4o6XEoOzvb9OvXz9jtdpOSklLoa/y1/fI7ZhbECtssKSnJ8LYLQElxFCmGov7TPHv2rHE6nSYxMdE9LSMjw4SEhJiHHnrIGPPfN+unTp1yt/nf//1fI8njzf0///lPI8ksWrTIPa1z586mZcuWHn1u3rzZSDJjxozxqoaMjAzjdDrNbbfd5jGfi9+cedvOmMLfrJ89e9Y9LfeN/i+//OKe1rp1a3PDDTd49DFkyBATEBBgzp8/b0rqmWeeMU2aNDHp6elFfm1J3jRJyvMoLLwxHn5XmuOB8Ja/koa3rKws06dPH/OPf/zDo403x7/8xkF+XnjhBSPJpKammn/9619Gkvn444+LVPPF8gtvhfVrjDErV640kszkyZPdbdLS0kzjxo1Ndna2MaZ0lzs/JTkOhYeHmz59+pjrrrvOSDJXXnmlOX36dL7t/bn9ihLeCuvLmPKxzQhvAEoDp036QEpKijIyMnTVVVe5p4WGhio6Olrbt28v8HXBwcGSpOzsbPe03GuZsrKyCu2zRYsWcrlc2rx5s1c1/PLLL8rIyFDnzp0Lna+37Yoidzn/uEznzp3Lc3fCnJwc2e32PNeuFdWyZcuUnJyszz77TOHh4SWaV1H98W6TxhiNHDnS69cyHspmPKDkcnJy1LdvX1WvXt3jdEmp+Me//OSO95ycHDVs2FDVq1dX//79NXHiRP36668lXg5v+pWkTp06qUmTJnrrrbfc43LRokVKTEx0j8fSXO7SlpGRoVtuuUUbN25Ujx49tHXrVg0ePDjftlbdfpfbNgOAXIQ3Hzhz5owkafz48R6/7bVnz54yvVmG3W53vwG+VA379++XJEVFRRU6T2/bldSdd96pjRs3asWKFTp79qy+//57LV++XHfddVeJ3qwvWrRIL730klatWlVqv61WEjNmzPB4o1CWGA8oK4888oh27typ119/XT///LPHcyU5/n3yySe69dZbFRUVpZCQEI/rO0NDQ/XVV1/p5ptv1vPPP6+GDRsqMTFRZ8+eLfHyFNav9PsNeYYNG6bdu3fryy+/lCS98847Hrfe99dx3xu5d9+VpAULFqhhw4ZatGiRpk+fnqetVbbf5b7NACAX4c0Hct/YTp8+3eNbF2OM1q5dWyZ9Zmdn6/jx44qJifGqBofDIUk6f/58ofP1tl1JTZw4UZ06ddLAgQMVERGhnj17qlevXl79zlhBZs6cqffee09fffWVatWqVYrVln+MB5SlXr166YsvvlDlypU1YMAAj2+Hi3v827t3r3r06KHo6GitX79eaWlpmjJlikebK6+8Uh999JEOHDigsWPHKikpSa+88kqJlsWbfiVp4MCBcjgcmjdvnlJSUhQREaF69eqVeLl9zeVyafHixe7As3r1ao/ny+v2W716tTtsVrRtBqBiI7z5QO6dATdt2uSzPr/++mtduHBB1113nVc1XHXVVQoICNA333xT6Hy9bVdSW7du1a5du3TkyBFlZWVp7969mjNnjiIjI4s8L2OMxo4dqy1btmj58uWqVKlSGVRcMgcPHtSgQYPKbP6MB5Sljh07qlq1apo7d642btyoyZMnu58r7vFvy5YtysrK0kMPPaSGDRvK4XB43Mb+wIED7m/5oqKi9OKLL+q6667L881fUV2q31yRkZHq3bu3li9frldeeUUPPvigx/P+OO4X13XXXafp06crOztbvXr10oEDB9zPldftt3HjRoWFhXnVV67LaZsBqLgIbz7gcDg0aNAgLVy4UHPmzFF6erpycnK0f/9+HTx4sFT6yMzMVFpamrKzs/XDDz9oxIgRqlevngYOHOhVDVFRUYqLi9OSJUs0f/58paena/PmzXl+Q8vbdiX1yCOPKCYmRqdPny7xvH7++We9/PLLevPNN2W32z1Oh7HZbCX+pL4kjDE6e/asli5dqoiIiFKbL+MB/tC9e3cNHDhQzz//vDZu3Cip+Me/3G+JV65cqXPnzmnnzp1av369+/kDBw5o2LBh2r59uzIzM/Xjjz9qz549atOmTYmW4VL9/tHw4cN1/vx5ffzxx7r77rs9nvPFcb80DR8+XH369NHhw4eVkJDgPsW6vG2/rKwsHT58WKtWrXKHt4q6zQBUUGV6O5TLVHHu8nX+/HkzduxYExMTY4KCgkxUVJSJi4szW7duNTNmzDBOp9NIMvXr1zdr1qwxL730knG5XEaSqVGjhvn73/9uFi1aZGrUqGEkmcjISLNw4UJjjDELFiwwHTt2NNWrVzdBQUGmatWqpk+fPmbPnj1e12CMMadOnTKDBw82VatWNZUqVTI333yzmTBhgpFk6tSpY3766Sev282cOdNER0cbScbpdJru3bub2bNnu5ezcePGZteuXWbu3LkmIiLCSDL16tVz38r+q6++MlWrVvW4K6PdbjfNmjUzS5cuLdK637JlS753ecx9TJ06tUjzK+r2X7ZsWYF3mvzjY/z48cYYw3go4/HA3SbzV9T1snTpUhMZGekep6mpqSY9Pd3UrVvXSDKVKlUy77zzjjGm8LE2ZcoUExoaaiSZunXrmnfffdfdx9ixY02VKlVM5cqVTUJCgpk1a5aRZGJjY82aNWtM27ZtTWRkpAkMDDS1atUyzzzzjPvOgd7429/+5t6HwsLCTM+ePS/Z7969ez3mce2115qnn3463/kXd7m9UdLjUJ06dcy4ceM82pw6dcpcccUVRpKpXr26mT9/fomWo7jbz9tj5rJly7zqq7xsM+42CaA02Iy56BZuuKSEhARJ0uLFi/1cyeVrzpw52rlzp8cF9JmZmXrqqac0Z84cnThxQqGhoX6pje3ve6U5Hth++WO9FE+3bt00a9YsNWjQwKf9sr2Kz1/bLDk5Wb17985z51wAKIogfxcAXOzQoUMaMWJEnusOgoODFRMTo6ysLGVlZfktvMG3GA8oT7Kysty3od+8ebMcDofPQwCKhm0G4HLCNW8od0JDQ2W32zV//nwdPnxYWVlZOnDggObNm6cJEyYoMTFRBw4cyHPtWn6PxMREfy8OSsib8VCa1wvC2rZv316mx4axY8dq586d2rFjhwYNGqRJkyaV8hKgtLHNAFxO+OYN5Y7L5dLnn3+uv/71r2rSpInOnDmjSpUq6corr9RLL72kIUOGKCgoiFNPKghvxgOQq2nTpmV6bHA6nWratKlq166t2bNnq3nz5mXWF0oH2wzA5YTwhnKpffv2+uKLL/xdBsoJxgPKi8mTJ3v8FALKP7YZgMsJp00CAAAAgAUQ3gAAAADAAghvAAAAAGABhDcAAAAAsADCGwAAAABYAOENAAAAACyA8AYAAAAAFkB4AwAAAAALILwBAAAAgAUQ3gAAAADAAghvAAAAAGABhDcAAAAAsADCGwAAAABYQJC/C7CqJUuWyGaz+bsM+BHb37ri4+P9XUK5xHHNetheAFCx2Iwxxt9FWM3atWu1b98+f5eBMjJ9+nRJ0mOPPebnSlBW6tatq5tuusnfZZQrHNesp3fv3ho1ahRj2WJ69erl7xIAWBjhDbhI7j/W5ORkP1cCAAWz2WxKSkoiDABABcI1bwAAAABgAYQ3AAAAALAAwhsAAAAAWADhDQAAAAAsgPAGAAAAABZAeAMAAAAACyC8AQAAAIAFEN4AAAAAwAIIbwAAAABgAYQ3AAAAALAAwhsAAAAAWADhDQAAAAAsgPAGAAAAABZAeAMAAAAACyC8AQAAAIAFEN4AAAAAwAIIbwAAAABgAYQ3AAAAALAAwhsAAAAAWADhDQAAAAAsgPAGAAAAABZAeAMAAAAACyC8AQAAAIAFEN4AAAAAwAIIbwAAAABgAYQ3AAAAALAAwhsAAAAAWADhDQAAAAAsgPAGAAAAABZAeAMAAAAACyC8AQAAAIAFEN4AAAAAwAKC/F0A4E9Hjx5Venq6x7QzZ85Iknbv3u0xPSIiQtWqVfNZbQCQa8+ePcrJyckz/fDhw3mOVTVr1lRoaKivSgMA+JDNGGP8XQTgL/Pnz9fgwYO9ajtv3jw98MADZVwRAOTVtWtX/b//9/8u2S4oKEiHDh1S1apVfVAVAMDXOG0SFVrPnj1lt9sv2c5ut6tnz54+qAgA8kpMTJTNZiu0TUBAgG677TaCGwBcxghvqNAiIyPVpUsXBQUVfAZxUFCQunbtqsjISB9WBgD/5e0HTffee68PqgEA+AvhDRVe//79872WJFdOTo769+/vw4oAwFN4eLjuuuuuQgOc3W7X3Xff7cOqAAC+RnhDhde9e/dCL+53OBzq1q2bDysCgLz69eun7OzsfJ8LCgpSjx49VKlSJR9XBQDwJcIbKjyHw6EePXrk+4m23W5XXFycnE6nHyoDgP/q1q2bwsLC8n0uJydH/fr183FFAABfI7wBkvr27ausrKw807OystS3b18/VAQAnkJCQhQfH6/g4OA8z1WqVEm33367H6oCAPgS4Q2QdPvtt+d7Q5LKlSvrT3/6kx8qAoC8+vbtq8zMTI9pdrtdiYmJ+YY6AMDlhfAG6PfrRS5+82O329W3b1+v7vAGAL7QuXNnVatWzWMaZwgAQMVBeAP+o0+fPh6faGdlZalPnz5+rAgAPAUEBKhv374eHzRFRUWpffv2fqwKAOArhDfgP26++WbVqlXL/Xd0dLTatWvnx4oAIK8/ftAUHBysAQMGKDAw0M9VAQB8gfAG/IfNZlP//v0VHBwsu92uAQMGyGaz+bssAPBw4403qm7dupKkzMxMJSYm+rkiAICvEN6AP8j9RJtrSACUVzabTQMGDJAk1atXT61atfJzRQAAXwm6eMLatWs1bdo0f9QClAu5P3I7efJkP1cC+M/jjz+um266qUzmnZCQUCbzrUjS09MlSWFhYazPUlCW4x0ASlOeb9727dunJUuW+KMWoFyoV6+e6tWrV2ibJUuWaP/+/T6qCPCtJUuWaN++fWU6f/afkomIiJDL5VKdOnW8fs3+/fv5/56Psh7vAFCa8nzzlmvx4sW+rAMoN3bt2iVJio2NLbCNzWbTY489pl69evmqLMBnfHGtJ/tPyX322We64447vG6fnJys3r178//9IlzbDMBKCgxvQEVVWGgDgPKiKMENAHB54IYlAAAAAGABhDcAAAAAsADCGwAAAABYAOENAAAAACyA8AYAAAAAFkB4AwAAAAALILwBAAAAgAUQ3gAAAADAAghvAAAAAGABhDcAAAAAsADCGwAAAABYAOENAAAAACyA8AYAAAAAFlDi8Na6dWsFBgbqmmuuuWTbTz/9VC6XSx999FGBbQYPHqzw8HDZbDZt2rSpSK8tS/7u/5VXXlH16tVls9n0+uuvF/n1U6ZMUdOmTRUaGqqwsDA1bdpUzz77rNLT0wt8zcqVK/X000+XuG9f8mY5P/zwQ02ZMkU5OTk+qWnp0qVq2LChbDabxyMoKEjVqlXTn/70Jy1btizP69hfis+bMZs7vi/ePtHR0erfv/8l+/jpp5+UmJioBg0aKCQkRNWqVVPLli01efJkd5vExMQ8272gx8cff5ynlmeffbbQGqZNmyabzaaAgAA1bdpUq1ev9vn49oeCxr0VXbhwQdOnT1fbtm0LbPPtt9+qXbt2cjqdqlmzpsaOHavz58+XeW0FHbuCg4NVvXp13XrrrZo6dapOnDhR5rUAAH5X4vC2YcMGdezY0au2xphLtpk3b57efPPNYr22LPm7/zFjxui7774r9uvXrFmjBx98UHv37tXhw4c1adIkTZkyRfHx8fm2/8tf/qJXX31V48aNK3HfvuTNcnbv3l0Oh0OdO3fWyZMny7ymuLg47d69W7GxsXK5XDLGyBijI0eOKCkpSb/99pvi4uKUlJTk8Tr2l+K71Jj94/i+ePscOnRI7733XqHz37Jli9q2bavo6Gh9/fXXSktL03fffacuXbpo1apVHm0///xznTx5UllZWTp48KCk38dgZmamzpw5o9TUVD344IOSPMeK9Pv2zcrKyreGnJwcvfrqq5KkTp06afv27erQoYPPx7c/FDTurWbnzp3q0KGDHn/8cWVkZOTbZuvWrbr99tvVuXNnHTlyRMuWLdNbb72l4cOHl3l9+R27Lly4oNTUVCUnJ6tBgwYaO3asrrzySn3//fdlXg8AoBRPm7TZbJds061bN6Wlpenuu+8u8vxL8tqiOnv2bJ5PQX3Zf1kIDg7Www8/rKioKFWqVEkJCQm655579MUXX7jfUOZ66aWXtGjRIiUnJys8PLxY/eW3Dn3B2+UcOXKkWrZsqTvvvFPZ2dk+r1OSIiMj1blzZ/3P//yPJCk5OdnjefaXslEa4/uVV15R5cqVNWPGDNWvX18Oh0NNmjTRpEmTFBoa6m5ns9nUrl07uVwuBQUFeUy32+1yOp2KiorS9ddfn6eP66+/XocOHdLy5cvzrWHp0qWqXbt2vs+Vh/GNwv3000966qmnNHz48ELPXJk0aZKio6P13HPPKSwsTDfddJPGjh2rt99+W9u3b/dhxb+z2WyqXLmybr31Vi1YsEDJyck6fPiwe58HAJStUgtvdru9tGblVRAsS/Pnz1dqaqpfayhty5Ytk8Ph8JiW+8bv9OnT7mm//PKLnn32WT333HN52heFv9aht8spSRMnTtSmTZs0Y8YMn9WXn/r160tSsb8lYX/xXmmN72PHjiktLU3Hjx/3mB4cHOxxqujChQvldDovOb+hQ4fqrrvu8pj20EMPSZJee+21fF8zbdo0jR49usB5lpfxXVb8Pe5LqmXLllq6dKn69eunkJCQfNtkZ2frk08+0S233OKxvF27dpUxRitWrPBVuQWKj4/XwIEDlZqaWu5PqweAy0GphbdffvlFTZs2VVhYmEJDQ9W+fXt9++237ue//fZbxcTEyGazadasWe7pxhhNnTpVV1xxhUJCQuRyufTEE094zDu/17788styOp0KDw9XamqqRo8erdq1ayslJUU5OTmaMGGCYmJiFBoaqquvvjrPKWnvvvuuWrVqJYfDobCwMNWvX1+TJk3SqFGjNHr0aO3atUs2m02NGjUqtPZp06apWbNmCgkJUWRkpO655x6PT0PnzJmjsLAwOZ1OrVixQl27dlVERITq1KmjhQsXetS0Zs0aNW/eXC6XSw6HQy1atNBnn31W8o1TgJ07d6py5cqqV6+ee9qrr74qY4y6d+9+ydd/8803uuGGG+R0OhUREaEWLVooPT0933U4Y8YMhYWFKSAgQNdff71q1Kghu92usLAwXXfddWrfvr3q1q0rh8OhypUr68knnyzT5ZR+/+brlltu0YwZM/x6mt/mzZslSbfccot7GvtL2ewvRRnfhWndurXOnDmjTp066f/+7/9KNK+CdOrUSc2aNdPXX3+tlJQUj+f+7//+TxkZGbr99tsLfH15Gd+lwZtxL6nQsVyUsVXQse1SfZS23bt36/Tp04qJifGYnntabe6xw98GDhwoSfrHP/7hnna5bQsAKDfMRZKSkkw+kwvVuXNn07BhQ/Pvf//bZGVlmX/96/+zd+fhUZX3//9fk0wy2UgCGEiUNYEKgbCJOFzIcQAAIABJREFUAmGpVoVSN7YQin6o1oVFCxSXULWKG5CiRr8sllS01rYagrTWpUoritYiogIJURBQQGQJBEJCQvb794e/TI0kIQkzc3KS5+O6cl1wzpm533PmvifzyjnnPtvNkCFDTFBQkPnyyy/d233zzTdGklm6dKl72X333WccDod54oknzIkTJ0xxcbFZvny5kWS2bNly1sdKMnPmzDFLly41EyZMMF988YW56667jMvlMmvWrDEnTpww9957r/Hz8zObN282xhiTlpZmJJlFixaZvLw8c/z4cbNy5Upz/fXXG2OMmThxoomLi6vxGmtr/4EHHjCBgYHmxRdfNPn5+SYrK8sMGjTInHfeeebw4cNn1PnOO++YkydPmtzcXDNy5EgTGhpqysrK3NtlZmaaBQsWmOPHj5u8vDwzdOhQ0759e/f6Xbt2GUnmmWeeadT7831lZWXmwIEDZunSpcblcpkXX3yxxvrY2FgTHx9/xuN+2PapU6dMeHi4SU1NNadPnzaHDx82EyZMMEePHq1zHz744INGktm0aZMpKioyx44dMz/96U+NJPPGG2+Yo0ePmqKiIjN79mwjyWzdutVrr7Pab37zmzP6WkNIMhkZGY16TFxcnImIiHD/v7i42Pzzn/80Xbt2NaNHjzanTp2qsT3jxfPjpa7+Xdv7U5/i4mIzePBgI8lIMvHx8SY1NdXk5eXV+7hDhw4ZSea6666rd7u4uDjz9ddfm6efftpIMnPnzq2xfvz48eb55583hYWFRpK5/PLLa30eX/Zvbz5/Q/v92fpyQ/rW2T7bztZGUwwZMsT079//jOUbNmwwksySJUvOWBccHFzn+16Xpvx+N+bsY6OgoMBIMp07d3Yvs9N74e3+DgCe5LHw9sNfPFlZWUaSueuuu9zLfviFrri42ISEhJgrr7yyxmNfeumlRn0ZPX36tHvZ6dOnTUhIiJkyZYp7WXFxsXG5XGbWrFmmrKzMREZGmssuu6xGmxUVFeapp54yxjTsy2hxcbEJCwur0Y4xxnz88cdGknn44YfrrbP6i8fu3bvP2J/VFi5caCSZ3NxcY4xnwlvHjh2NJNO+fXvz9NNP1/gyfOrUKeNwOMw111xzxuN+2Pb27duNJPP666/X2k594a2wsNC97IUXXjCSTHZ2tntZ9T58+eWXvfI6v++5554zksyf/vSnRj1/U8Nb9Zf97/8kJCSYF154wZSWltbYnvHi2fFSX/82pnHhzZjv/kDw9NNPm169ernfyw4dOpj33nuvzsc0Nrzl5+eb0NBQ07ZtW1NcXGyMMWbPnj2mU6dOprS09KzhzZf921vP39B+f7a+bEzD+lZ9n20NaaMp6gpv69atM5LMk08+eca68PBwk5iY2Kh2vBXejDHG4XCYyMhIY4z93gvCGwA78dp93hISEhQREVHvaR27d+9WcXGxLr/8co+1u3PnThUXF6tv377uZcHBwYqOjtaOHTuUlZWl/Px8jRkzpsbj/P39NWfOnAa3k5OTo1OnTmnw4ME1ll988cUKDAzUpk2b6n18YGCgJNU5k5z0v+sIPTnl9zfffKPc3Fz99a9/1QsvvKCBAwe6r1fKzc2VMaZB1+jExsaqQ4cOuuGGG7RgwQLt3bu3SfVU74fvT6pQ/brr2zdnU9/r/L7q13rkyJEmt9UY359tsry8XAcOHNCvf/1rzZ49W/369dOxY8fqfCzj5dzGS2P6d0MEBARo9uzZ+uKLL/TRRx9p3Lhxys3NVVJSksemTo+IiNDUqVN14sQJvfzyy5KktLQ0zZo1y71P6uPr/u0NDe33Z+vLdflh36rvs62pbTRV9XWZtU06U1ZWVmNyHCsVFRXJGKPw8HBJLfO9AIDmwqs36Q4ICKj3y9aBAwckSVFRUR5rs6ioSJJ0//3317gvzb59+1RcXOw+Vz4yMvKc2qmeXCIsLOyMdZGRkSosLGz0c77xxhu69NJLFRUVJZfL5dHrvqoFBAQoKipKo0eP1ssvv6ycnBwtXLhQklRSUiJJdV48/33BwcFav369RowYoccee0yxsbGaMmWKTp8+7fGam6K+1/l91V9+ql+7LzmdTl1wwQW66aab9Pjjj2vnzp1atGhRndszXmpq7HhpTP9urCFDhuhvf/ubZs6cqaNHj+rdd9/12HNXT1zy+9//Xvn5+crMzNSMGTMa9Fgr+7enNLTfn60vN1R9n22eaqOhoqOjJemM+3EWFxerpKREMTExHm+zKb788ktJUq9evSS1zPcCAJoLr4W3iooKHT9+/IwLrb+v+q+KnrzZaPUv+LS0NPcRjuqfjRs36vzzz5ekeo9wNET1l9navnTm5+erU6dOjXq+/fv3a/z48YqOjtamTZt08uRJpaamnlONZ9OjRw/5+/srJydH0v++6DX0SF+fPn302muv6eDBg0pJSVFGRoYef/xxr9XbVD98nd9XVlYmSZb/BTshIUGS9Pnnn9e5DePlf5oyXhrbv7/v/fffV1pamvv/EydOrPVoyP/93/9Jkke/PA4YMEBDhw7Vxx9/rOnTpyspKUlt27Zt0GObS/8+Fw3t92fry41R12ebJ9toiO7du6tNmzbat29fjeW7d++WJPXr18/jbTbFW2+9Jem7WTCllvleAEBz4bXw9u6776qqqkqDBg2qc5u+ffvKz89PGzZs8Fi71TMWbt26tdb13bp1U7t27bRu3bpzaqdv374KCws748akmzZtUllZWa33bapPdna2ysvLNWvWLMXGxiooKMhjU2Hn5eVp6tSpZyzftWuXKisr1blzZ0lShw4d5HA4GnSvnoMHD7qDRlRUlBYtWqRBgwbVGz68raGv8/uqX2vHjh29Xl99Pv30U0nShRdeWOc2jJf/acp4aUz//qFPP/1UoaGh7v+XlpbW2terZ4X09Jfq6qNva9as0a9//esGP6659O9z0dB+f7a+3FD1fbZ5qo2Gcjqd+tnPfqb3339fVVVV7uX//Oc/5XA4znnWVE84fPiw0tLS1KlTJ/3yl7+U1DLfCwBoLjwW3srKynTy5ElVVFTos88+0+zZs9W1a1f3FMK1iYqK0sSJE7VmzRqtWrVKBQUFysrKUnp6epPrCAoK0k033aSXXnpJK1asUEFBgSorK3XgwAEdOnRILpdL9957r95//33Nnj1b3377raqqqlRYWOj+JdGuXTsdPHhQe/fuVWFhYa2nfgYFBenOO+/U2rVr9ec//1kFBQXKzs7WzJkzFRMTo+nTpzeq7uojlP/+979VUlKiXbt2nfU6oIYKDQ3VunXrtH79ehUUFKi8vFxbtmzRL37xC4WGhmrevHmSvrs+JjY21n2aUn0OHjyoGTNmaMeOHSorK9OWLVu0b98+DR06VFLD9qGnNfR1fl/1a60+8uULp0+fVlVVlYwxOnjwoJ5//nndf//9Ou+88+r9Ys54+Z+mjJfG9O9q5eXlOnLkiN57770a4U2Sxo8fr9WrVys/P18nT57Uq6++qvnz5+u6667zeHibPHmyzjvvPI0fP16xsbENfpwV/dvTGtrvz9aXG6q+zzZPtdEYv/3tb3XkyBE9+OCDKioq0saNG7VkyRLdeOON9f6xx9OMMTp16pT7s+vo0aPKyMjQ8OHD5e/vr7///e/ua95a6nsBAM3CD2cwacpsVM8//7y57LLLTIcOHYzT6TTt27c3P//5z82+ffvc2yxdutRER0cbSSYkJMRce+21xhhjCgsLzS233GLat29vwsLCzIgRI8wDDzxgJJlOnTqZbdu21frY1NRUExwc7J6e+PtTwZeWlpqUlBTTpUsX43Q6TVRUlJk4caLJyclxb7Ns2TKTkJBggoKCTFBQkBk4cKBZvny5McaYzz77zHTt2tUEBwebESNGmPvvv7/W2quqqsySJUtMz549TUBAgGnbtq0ZP3682blzp7ud5cuXm5CQECPJ9OzZ0+zZs8ekp6eb8PBwI8l07drVfTuFlJQU065dOxMZGWmSkpLMsmXLjCQTFxdn5s6d655BMTQ01EyYMKFR79G1115runfvbsLCwozL5TJxcXFmypQpNWZ5NMaY2bNnm4CAAPfMdsYY88QTT5zR9t69e01iYqJp27at8ff3N+eff7657777TEVFRa378De/+Y17P3Tr1s188MEHZvHixSYiIsJIMh07djR/+ctfzMsvv+xuq23btuall17yyuusdtVVV5kLLrjAVFVVNaodNWJ2srVr19Y506TL5TI9e/Y0s2bNMvv373c/hvHinfFSW/+u7/35/s/atWvdj1m3bp1JTk42cXFxxuVymcDAQHPhhReaBQsWmJKSkjP6QEFBgRk1apRp166dkWT8/PxMjx49zGOPPVZnXznvvPPMHXfc4V53zz33mP/+97/u/39/P/v5+Zn4+HjzwQcf1Hg+X/Tvpmjs8zek3xtTf19uaN8622dbQ8ZLQ2zcuNEMHz7cxMTEuPtYdHS0SUxMNBs2bKix7YYNG8wll1xiXC6XiYmJMXfffXet/exsGvv7/R//+Ifp16+fCQkJMYGBgcbPz89Ics8seckll5iHH3641ltk2Om98HZ/BwBPchhT8+6tq1evVnJysu1v6oqm2b17t3r37q3nn39eN9xwg9XleFVeXp46deqkRx99VHfeeWejHutwOJSRkaHJkyd7qTp4A/27Ybzdvxk/1uD3e+3ojwDsxKuzTcJ+evTooYcfflgPP/ywTp06ZXU5XrVgwQINGDBAs2fPtroU+Aj9GwAA2BnhzaZ27NhRY3rkun6mTJnS6Of+zW9+o6SkJE2ZMqVJkzt4krde55NPPqmtW7fqzTffdN8fDK1Dc+rf3kL/9j1vfiYDAFDNaXUBaJpevXp59dSXxx57TOvWrdOiRYu0ePFir7VzNt54na+++qpKS0v13nvvyd/f36PPDXtoLv3bG+jf1vD2ZzIAABLhDfUYPXq0Ro8ebXUZHnfdddfpuuuus7oMWIz+DQAA7IbTJgEAAADABghvAAAAAGADhDcAAAAAsAHCGwAAAADYAOENAAAAAGyA8AYAAAAANkB4AwAAAAAbILwBAAAAgA0Q3gAAAADABghvAAAAAGADhDcAAAAAsAHCGwAAAADYAOENAAAAAGzAWdeKpKQkX9YB2E5aWpoyMzN91t6RI0fUsWNHn7UHeJOvx8+5qKio0MmTJ9W+fXurSzknBw4ckMTvdwCwM4cxxnx/wcaNG/Xkk09aVQ+AWhw/flzr169XTEyMBg0apODgYKtLQgs3b948DRs2zCvPbafwcOTIEX322WeSpJ/+9KdyOBwWVwRv8GZ/BwBPOiO8AWiePvzwQ91yyy06ePCgHn74Yf3qV7+Snx9nPgPecPLkSd1zzz36wx/+oKuuukq///3vdcEFF1hdFgCglSO8ATZSUlKixYsXa+HChRo6dKieffZZ/ehHP7K6LKBFeeONNzRjxgyVl5dr2bJlmjRpktUlAQAgiQlLAFsJCgrSggULtHnzZhUVFWnAgAFKTU1VZWWl1aUBtpebm6tp06bp6quv1rBhw7R9+3aCGwCgWeHIG2BTFRUVeuKJJ/Tggw9q4MCBevbZZ9WnTx+rywJsKTMzU7fffrsCAgK0YsUKXXfddVaXBADAGTjyBtiU0+lUSkqKPv30UxljNHDgQM2fP19lZWVWlwbYxqFDhzRhwgQlJydr/Pjx2rFjB8ENANBsEd4Am+vTp4/++9//atmyZVq+fLkGDx6szZs3W10W0KwZY/SnP/1Jffv21bZt2/TOO+9o5cqVatOmjdWlAQBQJ8Ib0AL4+fnptttu07Zt29ShQwclJiZqzpw5Kioqsro0oNn5+uuvNXr0aN1888264YYblJWVpcsuu8zqsgAAOCvCG9CCxMbG6l//+pdWrVqlF198Uf3799e7775rdVlAs1BVVaX09HT169dPhw8f1ocffqinn35aoaGhVpcGAECDEN6AFsbhcGjatGnKyclRQkKCLr/8ck2fPl2FhYVWlwZYJicnR8OHD9cdd9yh22+/XZ9++qkuueQSq8sCAKBRCG9ACxUTE6O//e1vysjI0Nq1a5WQkKB169ZZXRbgUxUVFUpNTdVFF12kkpISbdq0SYsXL1ZgYKDVpQEA0GiEN6CFS0pKUk5OjkaNGqUxY8Zo8uTJysvLs7oswOu2bdumoUOH6qGHHtJDDz2kTz75RAMHDrS6LAAAmozwBrQCHTp00J/+9Ce99tpr2rhxo/r06aM1a9ZYXRbgFSUlJVqwYIEuvvhiBQcHa8uWLUpJSZG/v7/VpQEAcE4Ib0ArcvXVV2v79u267rrrNHnyZF1zzTU6ePCg1WUBHvPf//5XAwcOVFpampYsWaINGzbowgsvtLosAAA8gvAGtDIRERFauXKl3n33Xe3YsUN9+vRRenq61WUB56S4uFjz58/XyJEj1b17d2VnZ2vOnDny8+PXHACg5eC3GtBK/fjHP9a2bds0ffp0zZo1S2PHjtX+/futLgtotLffflvx8fFauXKlnnnmGb355pvq0qWL1WUBAOBxhDegFQsJCdHixYv1/vvva9++fUpISNDTTz+tqqoqq0sDzio/P1/Tp0/X2LFjlZCQoJycHN12221WlwUAgNc4jDHG6iIAWK+kpESLFy/WwoULNWTIED377LNcK4Rm6/XXX9fMmTNVXl6u5cuXa+LEiVaXBACA13HkDYAkKSgoSAsWLNDmzZt1+vRpDRw4UKmpqaqsrLS6NMAtNzdX06ZN0zXXXKNhw4YpJyeH4AYAaDU48gbgDBUVFXriiSf04IMPqnfv3nruuee4PxYsl5mZqVmzZiksLEwrV67U6NGjrS4JAACf4sgbgDM4nU6lpKRo+/btCg8P15AhQzR//nyVlpZaXRpaoUOHDmn8+PFKTk7WhAkTlJWVRXADALRKhDcAderRo4feffddLVu2TMuXL9fgwYP18ccfW10WWgljjNLT09WrVy9lZ2frnXfe0cqVK9WmTRurSwMAwBKENwD18vPz02233aasrCxFR0dr+PDhmjNnjoqKiqwuDS3YV199pSuvvFK33367brzxRm3btk2XXXaZ1WUBAGApwhuABunevbvWrVunVatW6c9//rP69eun9evXW10WWpiqqiqlp6erX79+ys3N1X//+189/fTTCg0Ntbo0AAAsR3gD0GAOh0PTpk3T9u3b1b9/f11xxRWaPn26CgsLrS4NLUBOTo4SExN1xx136I477tAnn3yiiy++2OqyAABoNghvABotJiZGa9euVUZGhv72t7+pV69eevXVV60uCzZVXl6u1NRUXXTRRXI4HNq6dasWL16swMBAq0sDAKBZIbwBaLKkpCTt3LlTV199tcaNG6fJkyfr2LFjVpcFG9m6dauGDh2qhx56SA899JD+85//KD4+3uqyAABolghvAM5J27ZttXLlSr3++uvauHGj+vbtq8zMTKvLQjNXUlKi+fPna/DgwQoNDdXWrVuVkpIif39/q0sDAKDZIrwB8IirrrpK27dv13XXXafk5GRdc801+vbbb60uC83Qhx9+qIEDB+qZZ57RE088offee08/+tGPrC4LAIBmj/AGwGMiIiK0cuVKvffee9q5c6f69u2r9PR0GWOsLg3NQHFxsebPn69Ro0YpNjZW27dv15w5c+Tnx68iAAAagt+YADxu1KhR2rp1q6ZPn65Zs2Zp7Nix2rdvn9VlwUJvvfWWevfurfT0dD3zzDN644031LlzZ6vLAgDAVghvALwiJCREixcv1gcffKD9+/crPj5eqampqqqqsro0+FB+fr6mT5+un/3sZxoyZIh27typ2267zeqyAACwJYfhfCYAXlZeXq4nn3xSDzzwgC6++GI9++yz6tWrl9Vlwctee+01zZw5U5WVlVq+fLkmTJhgdUkAANgaR94AeF1AQIBSUlK0efNmlZaWauDAgUpNTVVlZaXVpcELjhw5osmTJ+vaa69VYmKitm/fTnADAMADOPIGwKcqKir0xBNPaMGCBbrwwgv13HPPadCgQVaXBQ/JzMzUrFmzFBYWpvT0dF155ZVWlwQAQIvBkTcAPuV0OpWSkqLs7GxFRkZqyJAhmj9/vkpLS60uDefg4MGDGjdunJKTkzVhwgRlZ2cT3AAA8DDCGwBL9OjRQ++++66WL1+u5cuX66KLLtKmTZvO+jhOtfQdY8xZJ5gxxig9PV29evVSTk6O1q9fr5UrVyosLMxHVQIA0HoQ3gBYxuFw6LbbblN2drbOP/98JSYmavr06Tp16lSt2xtjNG7cOG3ZssXHlbZOixYt0u9///s613/11Ve64oordPvtt2vWrFnKzs7WpZde6rsCAQBoZbjmDUCzkZmZqRkzZigyMlLp6em6/PLLa6xPT0/X9OnT1a1bN23btk3h4eEWVdryrV+/XldeeaVcLpd27NihLl26uNdVVFRo+fLluu+++xQXF6dVq1Zp8ODBFlYLAEDrwJE3AM1GUlKScnJyNGDAAF155ZWaPn26CgoKJEkHDhzQvHnzJEnffvutpk2bJv725B3ffvutJk+eLIfDoYqKCt18883uddu3b9fw4cN1991364477tDmzZsJbgAA+AhH3gA0S5mZmbr99tvldDq1YsUKrVq1Sm+//bbKy8slSX5+fvrd736nO++80+JKW5aKigqNGjVKn3zyiXtfOxwOrVq1Srm5uXrwwQc1aNAgPfvss4qPj7e4WgAAWhfCG4Bm6+jRo5ozZ45eeuklORyOM460+fn56d1339WoUaMsqrDlmTt3rpYtW1ZjYhiHwyGn06mAgAAtXLhQv/rVr+Tnx4kbAAD4GuENQLN27NgxxcbG6tSpU2eEN39/f0VERLgnPMG5efXVVzV+/PhaT0cNCAjQiBEjtH79egsqAwAAEte8AWjmZs6cqZKSkloDRWVlpQoLC5WUlKSKigoLqms5du3apalTp9a5vry8XO+++65eeeUVH1YFAAC+j/AGoNl6/fXXtWbNGve1V7UpLy/Xpk2bdN999/mwspalqKhIV199tcrKyuqdBMbPz0/Tp0/X8ePHfVgdAACoRngD0Czl5+fr5ptvlsPhOOu2lZWVWrJkiV599VUfVNby3Hrrrfrqq6/OevSyqqpKeXl57lk/AQCAbxHeADRL+fn5mjFjhoYPH67AwEBJUmBgYL0TZdxwww3avXu3r0psEZ555hm9/PLLdQY3f39/+fv7S5IiIyM1YcIEDR48uMaEJgAAwDeYsARAs1dRUaFt27bp3//+t9577z198MEHKioqUmBgoCoqKlRVVSVJcjqd6tGjhz799FOFhIRYXHXz9/HHH2vEiBE1Tkt1Op2Svtvn7dq102WXXaaRI0dqxIgRGjRoUIOOhAIAAO8gvAEWWr16tdUl2FJlZaX27NmjL774Qjk5OdqxY4dKS0vdtxMYNWqUbr/9dqvLbNYKCwt1zz336Pjx4+79FhkZqX79+ik+Pl69e/dWdHS01WXaUufOnTVs2DCrywAAtECEN8BCHMUAWp5JkyYpMzPT6jIAAC2Q0+oCgNYuIyNDkydPtrqMFqWqqkq7du3ShRdeaHUpDbJ69WolJyfXO9OjJ508eVJFRUXcG88LkpKSrC4BANCCEd4AtDh+fn62CW5WiIiIUEREhNVlAACARmK2SQAAAACwAcIbAAAAANgA4Q0AAAAAbIDwBgAAAAA2QHgDAAAAABsgvAEAAACADRDeAAAAAMAGCG8AAAAAYAOENwAAAACwAcIbAAAAANgA4Q0AAAAAbIDwBgAAAAA2QHgDAAAAABsgvAFAE1VVVSktLU2JiYmW1bBz50796le/Up8+fdSmTRs5nU5FREToRz/6ka666ipt3LjRstoAAIBnEd4AoAl27dqlUaNGad68eSouLrakhlWrVikhIUFZWVl68skn9c0336ioqEhbtmzRI488ovz8fGVnZ1tSGwAA8DzCGwCvOX36tGVHpbzZ9rZt2zR//nzNnDlTAwYM8EobZ/PRRx9p+vTpGjlypN555x2NGTNGkZGRcrlcio2NVXJysh544AGVlZVZUl9DtNT+AQCAtzitLgBAy7Vq1Srl5ua2uLb79++vV155RZK0dOlSlZSUeKWd+jz66KOqrKzUokWL5HTW/lE+ZswYjRkzxseVNVxL7R8AAHgLR94Am3nxxRc1ePBgBQUFKTQ0VN26ddMjjzwiSTLG6Mknn1Tv3r3lcrnUtm1bjRs3Tjt27HA/fsWKFQoNDVVISIheffVVjR07VuHh4erUqZNeeumlRrX3wQcfKD4+XhEREQoKClJCQoLefvttSdLcuXN15513as+ePXI4HOrRo4ckqbKyUg888IC6dOmi4OBg9evXTxkZGY2uzdNt20lZWZneeecdtW/fXpdcckmDH0f/aB39AwDQghkAlpFkMjIyGrx9WlqakWQWLVpk8vLyzPHjx83KlSvN9ddfb4wx5oEHHjCBgYHmxRdfNPn5+SYrK8sMGjTInHfeeebw4cPu57nvvvuMJPPOO++YkydPmtzcXDNy5EgTGhpqysrKGtxeZmamWbBggTl+/LjJy8szQ4cONe3bt3c/fuLEiSYuLq7Ga7jrrruMy+Uya9asMSdOnDD33nuv8fPzM5s3b25Ubd5ouymGDBli+vfv3+THG2NMRkaGaczH8ZdffmkkmaFDhzaqHfqH9/vHpEmTzKRJkxq8PQAAjUF4AyzUmPBWVlZmIiMjzWWXXVZjeUVFhXnqqadMcXGxCQsLM1OmTKmx/uOPPzaSzMMPP+xeVv0F+PTp0+5ly5cvN5LM7t27G9RebRYuXGgkmdzcXGPMmV+QT58+bUJCQmrUWFxcbFwul5k1a1aDa/NW201hRXj75JNPjCRzxRVXNPgx9A/f9A/CGwDAmzhtErCJrKws5efnn3ENk7+/v+bMmaOcnBydOnVKgwcPrrH+4osvVmBgoDZt2lQfPO2DAAAgAElEQVTv8wcGBkqSysvLG9RebQICAiR9d/pZbXbu3Kni4mL17dvXvSw4OFjR0dE1Tt07W22+bLs5CgsLk6RGzXJJ/2g9/QMA0HIR3gCbKCgokCRFRkbWuj4/P1/S/77Yf19kZKQKCws92p4kvfHGG7r00ksVFRUll8ule+65p97nLCoqkiTdf//9cjgc7p99+/Y1erp9K9u2Wrdu3RQUFKQvv/yywY+hf7Se/gEAaLkIb4BNnH/++ZKkY8eO1bq++kt0bV/C8/Pz1alTJ4+2t3//fo0fP17R0dHatGmTTp48qdTU1HqfMyoqSpKUlpYm891p2+6fxtxM2sq2mwOXy6UxY8bo2LFj+vDDD+vc7vjx47rlllsk0T9aU/8AALRchDfAJrp166Z27dpp3bp1ta7v27evwsLC9Mknn9RYvmnTJpWVlemiiy7yaHvZ2dkqLy/XrFmzFBsbq6CgIDkcjnqfs3PnzgoKCtLWrVsbVUtzaru5WLBggVwul+bNm6fTp0/Xus327dvdtxGgf7Su/gEAaJkIb4BNuFwu3XvvvXr//fc1e/Zsffvtt6qqqlJhYaE+//xzBQUF6c4779TatWv15z//WQUFBcrOztbMmTMVExOj6dOne7S9Ll26SJL+/e9/q6SkRLt27Trjuql27drp4MGD2rt3rwoLC+Xv76+bbrpJL730klasWKGCggJVVlbqwIEDOnToUINrs7Lt5mLAgAH6y1/+ou3bt2vkyJF68803dfLkSZWXl+vrr7/WH/7wB918883ua73oH62rfwAAWijfz5ECoJoaeasAY4xZtmyZSUhIMEFBQSYoKMgMHDjQLF++3BhjTFVVlVmyZInp2bOnCQgIMG3btjXjx483O3fudD9++fLlJiQkxEgyPXv2NHv27DHp6ekmPDzcSDJdu3Y1X375ZYPaS0lJMe3atTORkZEmKSnJLFu2zEgycXFxZv/+/eazzz4zXbt2NcHBwWbEiBHm8OHDprS01KSkpJguXboYp9NpoqKizMSJE01OTk6javN0242xceNGM3z4cBMTE2MkGUkmOjraJCYmmg0bNjTquYxp/GyT37d//35z1113mYSEBBMWFmb8/f1NZGSkGThwoLn55pvNhx9+6N6W/uH9/sFskwAAb3IYY4zvIyMASXI4HMrIyNDkyZOtLgUWWr16tZKTk8XHsf0lJSVJkjIzMy2uBADQEnHaJAAAAADYAOENQKu3Y8eOGtPD1/UzZcoUq0sFAACtmNPqAgDAar169eKURQAA0Oxx5A0AAAAAbIDwBgAAAAA2QHgDAAAAABsgvAEAAACADRDeAAAAAMAGCG8AAAAAYAOENwAAAACwAcIbAAAAANgA4Q0AAAAAbIDwBgAAAAA2QHgDAAAAABsgvAEAAACADRDeAAAAAMAGCG8AAAAAYANOqwsAWruNGzdaXQIsVt0HVq9ebXElOFcHDhxQp06drC4DANBCOYwxxuoigNbK4XBYXQIAD5s0aZIyMzOtLgMA0AJx5A2wEH87aR1Wr16t5ORk3m8AAHBOuOYNAAAAAGyA8AYAAAAANkB4AwAAAAAbILwBAAAAgA0Q3gAAAADABghvAAAAAGADhDcAAAAAsAHCGwAAAADYAOENAAAAAGyA8AYAAAAANkB4AwAAAAAbILwBAAAAgA0Q3gAAAADABghvAAAAAGADhDcAAAAAsAHCGwAAAADYAOENAAAAAGyA8AYAAAAANkB4AwAAAAAbILwBAAAAgA0Q3gAAAADABghvAAAAAGADhDcAAAAAsAHCGwAAAADYAOENAAAAAGyA8AYAAAAANkB4AwAAAAAbILwBAAAAgA0Q3gAAAADABghvAAAAAGADhDcAAAAAsAHCGwAAAADYAOENAAAAAGzAaXUBANCSHDlyRH/84x9rLMvKypIkpaam1ljetm1b3Xbbbb4qDQAA2JzDGGOsLgIAWoqKigp17NhRJ0+elNP5v7+PGWPkcDjc/y8tLdWtt96q9PR0K8oEAAA2xGmTAOBBTqdTU6ZMkZ+fn0pLS90/ZWVlNf4vSVOnTrW4WgAAYCcceQMAD/vPf/6jkSNH1rtNVFSUDh06JH9/fx9VBQAA7I4jbwDgYcOHD9f5559f5/rAwEBNmzaN4AYAABqF8AYAHuZwOHTDDTcoICCg1vVlZWX6+c9/7uOqAACA3XHaJAB4wdatWzVw4MBa13Xt2lV79+71bUEAAMD2OPIGAF4wYMAA9ezZ84zlgYGBuvHGG31fEAAAsD3CGwB4ybRp0844dbKsrEzJyckWVQQAAOyM0yYBwEv27Nmjnj17qvpj1uFwKCEhQdu2bbO4MgAAYEcceQMAL4mLi9OAAQPk5/fdR63T6dS0adMsrgoAANgV4Q0AvGjatGnu8FZRUcEpkwAAoMk4bRIAvOjQoUPq1KmTqqqqlJiYqA8//NDqkgAAgE1x5A0AvCgmJkYjR46UJP3iF7+wuBoAAGBnHHkDUKfVq1dzmh+aHW/92qK/A3WbNGmSMjMzvfb8DofDa88N2FVt485pUS0AbCQjI8PqEmytqKhI6enp+vWvf93gx6SlpUlSox7T0m3cuFFPPfWU19uhv/tG9fvJ/m7+qj+PvG3u3LkaNmyYT9pqrRh39lHXuCO8ATiryZMnW12C7V155ZXq1KlTg7ev/ksb+74mX4Q39rnvPPXUU+xvG/DmEbfvGzZsGP3BBxh39lDXuOOaNwDwgcYENwAAgNoQ3gAAAADABghvAAAAAGADhDcAAAAAsAHCGwAAAADYAOENAAAAAGyA8AYAAAAANkB4AwAAAAAbILwBAAAAgA0Q3gAAAADABghvAAAAAGADhDcAAAAAsAHCGwAAAADYAOENAAAAAGyA8AbAq2655Ra1adNGDodDW7dutbqcc1JVVaW0tDQlJibWuj41NVW9evVScHCwQkND1atXL/32t79VQUGB12t75ZVXFBsbK4fDUeMnMDBQHTp00KWXXqolS5boxIkTXq+lNXnzzTcVERGh1157zepSPOJsfVyS/vOf/2j48OEKCQlRTEyMUlJSVFpa6vXaPvroI/Xu3Vt+fn5yOBzq2LGjHn30Ua+32xg/HIfR0dG64YYbrC6rRWqNY68h23ga4675IbwB8Kpnn31Wf/jDH6wu45zt2rVLo0aN0rx581RcXFzrNh988IFuvfVW7d+/X0eOHNEjjzyi1NRUTZo0yev1TZw4UV999ZXi4uIUEREhY4yqqqqUm5ur1atXq3v37kpJSVGfPn30ySefeL2e1sIYY3UJHtOQPp6Tk6PRo0fr8ssv19GjR7V27Vo999xzmjlzptfrGzp0qL744guNHj1akrRz507df//9Xm+3MX44Dg8fPqw///nPVpfVIrW2sdeQbbyBcdf8EN4A4Cy2bdum+fPna+bMmRowYECd2wUGBur2229XVFSUwsLClJSUpHHjxulf//qXDh065MOKv+NwOBQZGalLL71Uzz//vFavXq0jR47oqquu0smTJ31eT0tUvS+vueYaq0vR6dOnm/wX+Yb28UceeUTR0dF66KGHFBoaqmHDhiklJUV//OMftWPHjqaWblvnss9xblrT2Gvo+GwtWvu4I7wB8DqHw2F1Ceekf//+euWVV3T99dfL5XLVud3atWsVFBRUY9kFF1wgSTp16pRXa2yISZMm6cYbb1Rubq5+//vfW10OPGzVqlXKzc1t0mMb0scrKir0xhtv6Mc//nGNMT127FgZY/Tqq682qW07O5d9jpbD22Ovob+DWovWPu4IbwA8yhijJUuW6MILL5TL5VJERITuvvvuM7arrKzUAw88oC5duig4OFj9+vVTRkaGJGnFihUKDQ1VSEiIXn31VY0dO1bh4eHq1KmTXnrppRrPs2HDBl1yySUKCQlReHi4EhIS3NeY1deGr+zatUuRkZHq2rWrT9uty4033ihJ+uc//+le1lreC0/7z3/+oy5dusjhcGjZsmWSGr6//t//+38KCgpShw4dNGPGDMXExCgoKEiJiYnatGmTe7vZs2crMDBQ0dHR7mW33367QkND5XA4dOzYMUnS3Llzdeedd2rPnj1yOBzq0aOHx1/vV199pVOnTqlLly41lsfFxUmSsrKyPN5mQ9h9n3/wwQeKj49XRESEgoKClJCQoLffflvSd9cMV1/HExcXpy1btkiSbrrpJoWEhCgiIkL/+Mc/JNU/xn73u98pJCREbdq0UW5uru68805dcMEF2rlzZ5NqtlprG3vNkd33t63HnQGAOmRkZJjGfkzcd999xuFwmCeeeMKcOHHCFBcXm+XLlxtJZsuWLe7t7rrrLuNyucyaNWvMiRMnzL333mv8/PzM5s2b3c8jybzzzjvm5MmTJjc314wcOdKEhoaasrIyY4wxp06dMuHh4SY1NdWcPn3aHD582EyYMMEcPXq0QW00xZAhQ0z//v3r3aasrMwcOHDALF261LhcLvPiiy82up1JkyaZSZMmNfpxcXFxJiIios71BQUFRpLp3Lmze5ld3oum9MfGaMrzf/PNN0aSWbp0qXtZQ/aXMcZMnz7dhIaGms8//9yUlJSYnJwcc/HFF5s2bdqY/fv3u7e7/vrrTceOHWu0u2TJEiPJvX+NMWbixIkmLi6usS/7DHX18Q0bNhhJZsmSJWesCw4ONpdffnmj2mnq+zlmzBgjyZw4ccK9rLnt87ONw+/LzMw0CxYsMMePHzd5eXlm6NChpn379jXa8Pf3N99++22Nx02dOtX84x//cP+/oeN4zpw5ZunSpWbChAnmiy++aFCNTf08agxJJiMjo8Hbt6ax19ht6sO4+46dxx1H3gB4zOnTp5WWlqYrrrhC8+bNU2RkpIKDg9WuXbsa25WUlGjFihUaP368Jk6cqMjISN1///0KCAjQ888/X2PbxMREhYeHKyoqSlOmTFFRUZH2798vSdq7d68KCgrUp08fBQUFqWPHjnrllVd03nnnNaoNT+vcubM6deqkBQsW6He/+52Sk5O92l5jVM/8WVhYKKnlvxdWqm9/VXM6nerdu7dcLpfi4+O1YsUKFRYWNsv9Uj2jpL+//xnrAgICdPr0aV+XdAY77vNJkybpwQcfVNu2bdWuXTtde+21ysvL09GjRyVJM2fOVGVlZY36CgoKtHnzZv3sZz+T1LhxvHjxYt1xxx165ZVX1KtXL9+9UB+yYz+wMzvubzuPO8IbAI/ZvXu3iouLdfnll9e73c6dO1VcXKy+ffu6lwUHBys6OrreSQ8CAwMlSeXl5ZKk2NhYdejQQTfccIMWLFigvXv3nnMbnvDNN98oNzdXf/3rX/XCCy9o4MCBzeb8/KKiIhljFB4eLqnlvxfNxQ/3V10GDx6skJCQZrlfqq/nrKioOGNdWVmZgoODfV1Svey6zwMCAiR9dzqWJP3kJz/Rj370Iz333HPuGRZffvllTZkyxR2kGWN1s2s/sCu77m87jTvCGwCPOXDggCQpKiqq3u2KiookSffff3+Ne5Lt27evUVMgBwcHa/369RoxYoQee+wxxcbGasqUKTp9+rTH2miKgIAARUVFafTo0Xr55ZeVk5OjhQsXerXNhvryyy8lyf2Xv5b+XtiRy+Vy//W3Oam+FuWH9y0sLi5WSUmJYmJirCjLI6zc52+88YYuvfRSRUVFyeVy6Z577qmx3uFwaMaMGfrqq6/0zjvvSJL+9Kc/6eabb3ZvwxjzjOY69loqxl3TEN4AeEz1X+bPdsPe6nCXlpYmY0yNn40bNzaqzT59+ui1117TwYMHlZKSooyMDD3++OMebeNc9OjRQ/7+/srJyfFZm/V56623JH03Q6DUut4LOygvL1d+fr46depkdSln6N69u9q0aaN9+/bVWL57925JUr9+/awo65z5ep+///77SktLkyTt379f48ePV3R0tDZt2qSTJ08qNTX1jMfceOONCgoK0rPPPqudO3cqPDy8xiRIjLFz15zHXkvEuGs6whsAj+nbt6/8/Py0YcOGerfr3LmzgoKCtHXr1nNq7+DBg/r8888lffchumjRIg0aNEiff/65x9poqLy8PE2dOvWM5bt27VJlZaU6d+7skzrqc/jwYaWlpalTp0765S9/Kallvhd29t5778kYo6FDh7qXOZ3Os56C5AtOp1M/+9nP9P7776uqqsq9/J///KccDoeuvfZaC6trOl/v808//VShoaGSpOzsbJWXl2vWrFmKjY1VUFBQrbdWadu2rZKTk/X3v/9djz/+uG699dYa6xlj5645j72WiHHXdIQ3AB4TFRWliRMnas2aNVq1apUKCgqUlZWl9PT0GtsFBQXppptu0ksvvaQVK1aooKBAlZWVOnDgQKNuZn3w4EHNmDFDO3bsUFlZmbZs2aJ9+/Zp6NChHmujoUJDQ7Vu3TqtX79eBQUFKi8v15YtW/SLX/xCoaGhmjdvnsfbrIsxRqdOnVJVVZWMMTp69KgyMjI0fPhw+fv76+9//7v7mreW+F7YSVVVlU6cOKGKigplZWVp7ty56tKli/uWDtJ3R2+PHz+uv//97yovL9fRo0fPOPolSe3atdPBgwe1d+9eFRYWeuVL0G9/+1sdOXJEDz74oIqKirRx40YtWbJEN954oy688EKPt+cNVu3z8vJyHTlyRO+99577S2T1bRf+/e9/q6SkRLt27aoxffr3zZw5U6WlpXr99dfPuDE1Y6zx7Db27I5x50ENmqsSQKvUlCmFCwsLzS233GLat29vwsLCzIgRI8wDDzxgJJlOnTqZbdu2GWOMKS0tNSkpKaZLly7G6XSaqKgoM3HiRJOTk2OWL19uQkJCjCTTs2dPs2fPHpOenm7Cw8ONJNO1a1fz5Zdfmr1795rExETTtm1b4+/vb84//3xz3333mYqKirO20RgbN240w4cPNzExMUaSkWSio6NNYmKi2bBhg3u7a6+91nTv3t2EhYUZl8tl4uLizJQpU0x2dnaj2jOm8VNz/+Mf/zD9+vUzISEhJjAw0Pj5+RlJxuFwmMjISHPJJZeYhx9+2OTl5Z3xWLu8F83tVgFLly410dHRRpIJCQkx1157bYP3lzHfTZ8dEBBgLrjgAuN0Ok14eLgZN26c2bNnT4128vLyzGWXXWaCgoJM9+7dza9+9Stz9913G0mmR48e7qm2P/vsM9O1a1cTHBxsRowYYQ4fPtzg19LQPm7Md7cMuOSSS4zL5TIxMTHm7rvvNiUlJQ1uq1pj9/dHH31k+vTp4+7b0dHR5rHHHmtW+/yZZ54xcXFx7n1Y18/atWvdbaWkpJh27dqZyMhIk5SUZJYtW2Ykmbi4uBrTqBtjzMCBA81vfvObWvdPfWMsNTXVBAcHu28T0tjblzS3WwW0trHXmPF5Noy779h53DmM+f+nUAGAH1i9erWSk5PFx4TvJSUlSZIyMzMtrqT58HZ/9HV/nzFjhjIzM5WXl+eT9pobKz5f7L7Pr7rqKi1btkzdu3f3abu++DxyOBzKyMjQ5MmTvdZGNbv3g3PBuGu85jbuOG0SAACLVE9LDd+x0z7//ulgWVlZCgoK8vkXyJbKTv2gJbDT/m7u447wBqDV2bFjR41pfev6mTJlitWlAk1CH28ZUlJStGvXLn355Ze66aab9Mgjj1hdEs6CsWd/zX3cEd4AtDq9evU6Y1rf2n5efvllq0tFC3Xvvffq+eef18mTJ9W9e3etWbPGo89PHz+Tt/e5N4SEhKhXr1664oortGDBAsXHx1tdku0x9nyLced5hDcAAHxs4cKFKi0tlTFGX3/9tSZNmmR1SS2eHff5o48+qsrKSu3fv/+Mme7QNHbsB3Zmx/3d3Mcd4Q0AAAAAbIDwBgAAAAA2QHgDAAAAABsgvAEAAACADRDeAAAAAMAGCG8AAAAAYAOENwAAAACwAcIbAAAAANgA4Q0AAAAAbIDwBgAAAAA2QHgDAAAAABsgvAEAAACADRDeAAAAAMAGnFYXAKD5czgcVpfQarHvfY997lvsb3uYNGmS19tITk5WcnKy19sB484uaht3hDcAdUpMTFRGRobVZbQITz/9tCoqKnTnnXdaXQrqQH9vXpKTkzV37lwNGzbM6lIgqXPnzl59fsaeNX7729+qe/fu+uUvf2l1KahFbePOYYwxFtQCAK3KL37xCx07dkxvvPGG1aUAtuBwOJSRkaHJkydbXQrQIhljFBkZqd/97neaPn261eWggbjmDQB8wOVyqbS01OoyAACQJO3du1cFBQVKSEiwuhQ0AuENAHyA8AYAaE6ys7PlcDjUt29fq0tBIxDeAMAHCG8AgOYkKytL3bp1U3h4uNWloBEIbwDgA4Q3AEBzkp2drX79+lldBhqJ8AYAPkB4AwA0J9nZ2VzvZkOENwDwAcIbAKC5KC0t1a5duwhvNkR4AwAfILwBAJqLnJwcVVRUcNqkDRHeAMAHCG8AgOYiKytLQUFB6tGjh9WloJEIbwDgA4Q3AEBzkZ2drfj4eDmdTqtLQSMR3gDABwhvAIDmgpkm7YvwBgA+4HK5VFFRocrKSqtLAQC0cllZWUxWYlOENwDwAZfLJUkqKyuzuBIAQGt29OhRHTlyhCNvNkV4AwAfqA5vnDoJALBSVlaWJHHkzaYIbwDgA4Q3AEBzkJWVpaioKHXs2NHqUtAEhDcA8AHCGwCgOcjOzlb//v2tLgNNRHgDAB8gvAEAmgMmK7E3whsA+ADhDQBgtcrKSn3xxReENxsjvAGADxDeAABW2717t4qLi5lp0sYIbwDgA4Q3AIDVsrKy5O/vr/j4eKtLQRMR3gDABwhvAACrZWdnq2fPngoODra6FDQR4Q0AfIDwBgCwWnZ2Nte72RzhDQB8gPAGALAaM03aH+ENAHwgMDBQDoeD8AYAsMSpU6f09ddfM1mJzRHeAMAHHA6HAgICCG8AAEtkZ2fLGEN4sznCGwD4iMvlIrwBACyRnZ2tNm3aqFu3blaXgnNAeAMAHyG8AQCskp2drb59+8rhcFhdCs4B4Q0AfITwBgCwSlZWFqdMtgCENwDwEcIbAMAqOTk5zDTZAhDeAMBHCG8AACt88803ysvLI7y1AIQ3APARwhsAwArZ2dmSpL59+1pcCc4V4Q0AfITwBgCwQlZWljp37qx27dpZXQrOEeENAHyE8AYAsEJ2djaTlbQQTqsLAICWzBij/Px897+PHTumnTt36tSpU5KkkydPqmvXroqLi7OyTMBS+/btU2Vl5RnLjxw5oq+++qrGspiYGAUHB/uqNMB25s6dq4MHD6p///5KSEhQQkKCsrOzddVVV1ldGjzAYYwxVhcBAC3NkiVLdM899zRo27/97W8aN26clysCmq+xY8fqrbfeOut2TqdThw8fVvv27X1QFWBP99xzjx5//HE5nU6Vl5dLkgIDAxUbG6sf//jH7lDXt29fRUZGWlwtGovwBgBecPDgQXXu3FlVVVX1bhcUFKS8vDyFhIT4qDKg+XnhhRd00003qb6vJH5+fhozZozefPNNH1YG2M/zzz+vW2+9tdaj2QEBATLGqKKiQm3atNHevXu5Ds5muOYNALzg/PPP15VXXimns+6z051Op8aOHUtwQ6s3YcIEBQQEnHW7//u///NBNYC9xcfH1xrcJKm8vFwVFRXy8/PTvffeS3CzIcIbAHjJLbfcUucvUEmqqqrSpEmTfFgR0Dy1adNGV199db0BLiAgQNdcc40PqwLsqXfv3nI4HHWudzgciomJ0dy5c31YFTyF8AYAXnLttdcqIiKizvUOh0Njx471YUVA83X99deroqKi1nVOp1Pjx49XWFiYj6sC7Cc8PPys14U+8cQTCgoK8lFF8CTCGwB4SWBgoKZNm6bAwMAz1vn5+eknP/mJ2rZta0FlQPNz1VVXKTQ0tNZ1lZWVuv76631cEWBfdd2M2+l06qKLLtLkyZN9XBE8hfAGAF50yy23qKys7IzlDodDSUlJFlQENE8ul0uTJk2q9Y8dYWFhGj16tAVVAfaUkJBQ61iqrKzUU089Ve9plWjeCG8A4EXV99j54S/Kqqoqrt8BfmDq1Kln/LEjICBAU6ZMqfWLKIDa9e7d+4zZjgMCAjR58mQNHz7coqrgCYQ3APCy2267TX5+//u4dTgcGjp0qKKjoy2sCmh+Lr/8cp133nk1lpWXl2vq1KkWVQTYU3x8fK3XkC5evNiCauBJhDcA8LKpU6fWCG9Op5PrDYBa+Pn5aerUqTWOskVFRWnkyJEWVgXYT+/evWv83+l06q677lK3bt2sKQgeQ3gDAC9r166dxo0b554Gvby8XNddd53FVQHN089//nP3qZPVk/74+/tbXBVgLx06dKgx23GbNm00f/58CyuCpxDeAMAHbr75ZpWXl0v67jq47t27W1wR0DwNGTJEnTt3liSVlZVpypQpFlcE2FOvXr0kfXdEe9GiRQoPD7e4IngC4Q0AfODKK69UTEyMJPFlFKiHw+HQtGnTJEldu3bV4MGDLa4IsKf+/ftLkuLi4nTzzTdbXA08xWl1AQB8b+PGjXryySetLqPViYyM1KFDh7RhwwZt2bLF6nJapXnz5mnYsGFebYNbQJy7goICSVJoaCj70wN80e/PxZNPPqmNGzdaXUaLs2vXLklSdHS0fv7zn1tcjb0MGzZM8+bNs7qMWnHkDWiFvvnmG61Zs8bqMlqdbt26qU2bNvWeuvLRRx/po48+8mFVrceaNWv0zTff+KSdAwcOeL2dliw8PFwRERHq1KlTgx9z4MABPtdq4at+fy42btzI554XhIeHKzo6Wh07dqxzGz6vzvTRRx816z8mcOQNaMUyMzOtLqHVeeutt/TTn/60zvXVRxl4bzzPlzel/fWvf82Moufo7bff1pgxYxq8/erVq5WcnMzY+QG73Ix56NChvHce9u233yo/P199+vSpcxuHw8Hn1Q8096P9hDcA8KH6ghuA/2lMcE50ocYAACAASURBVANwpgsuuEAXXHCB1WXAwzhtEgAAAABsgPAGAAAAADZAeAMAAAAAGyC8AQAAAIANEN4AAAAAwAYIbwAAAABgA4Q3AAAAALABwhsAAAAA2ADhDQAAAABsgPAGAAAAADZAeAMAAAAAGyC8AQAAAIANEN4AAAAAwAYIbwCa5JZbblGbNm3kcDi0detWq8ux1MMPP6z4+HiFh4fL5XKpR48euueee3Tq1Cmvt/3KK68oNjZWDoejxk9gYKA6dOigSy+9VEuWLNGJEye8Xgs8oyWNraqqKqWlpSkxMfGctvEGxk7L0prGjVW/cxgzzQPhDUCTPPvss/rDH/5gdRnNwvr163XHHXdo7969OnbsmBYuXKinnnpKSUlJXm974sSJ+uqrrxQXF6eIiAgZY1RVVaXc3Fyt/v/au/eoquqE/+Ofwx0EBJW8hIKgZt41NUVq1VOt8unxloB2Y7QsUkucbliaw9iomU2KpU/pmGvIeQzUlkpNNZOuHCuvy7skKApmindFBeX2/f3RT2bIGyCwz4b3a63zR4e99/cje38559PZZ+/UVLVu3VoJCQnq2LGjtmzZUuN5cOvqytzat2+f7r33Xr388svKz8+v8jI1hblTt9SneWPVaw5zxjlQ3gBAUkFBQZX/z7+vr6/i4uLUqFEj+fn5KSYmRkOGDNHXX3+tn3/+uZqT3pzD4VBAQIDuu+8+LVq0SKmpqTp27JgeffRRnTt3rtbzVLdb2VeoHTt27NCECRM0evRodevWrcrL1La6Pnfg3Co6J5zpNYc5U/sobwCqzOFwWB2h2ixcuFDHjx+v0rpffPGFXF1dyz3XpEkTSar1TxOuJSoqSiNGjNDx48f10UcfWR3nlt3KvrILu8+trl27avny5XryySfl6elZ5WWsVtfmTl1XH+aN5NyvOcyZmkd5A1AhxhjNnDlTd9xxhzw9PdWwYUO99tpr5ZZ599135ePjIz8/Px0/flyvvPKKbr/9dmVkZMgYo/fff1933nmnPD09FRgYqMGDB2vv3r1l68+ZM0deXl667bbb9MILL6h58+by8vJSRESENm7ceFWem21v3Lhx8vDwULNmzcqeGzt2rBo0aCCHw6GTJ09KksaPH69XXnlFWVlZcjgcatOmzS3/vn755Rd5e3urdevWt7yt6jBixAhJ0ldffSWJfeVMKjK3JKmkpESTJ09Wq1at5O3trS5duiglJUWSNG/ePDVo0EA+Pj5auXKl+vfvL39/fwUHB2vJkiXltrN27Vr17t1bPj4+8vf3V+fOnZWXl3fTMeqr384diX3hDJg35TnTaw5zpoYZAPVOSkqKqez0nzhxonE4HObPf/6zOXPmjMnPzzdz5841ksy2bdvKLSfJxMfHmw8++MA89thj5qeffjKTJ082Hh4e5tNPPzVnz541O3fuND169DBNmjQxubm5ZevHxcWZBg0amPT0dHPp0iWzZ88e06tXL+Pn52cOHTpUtlxFt/fkk0+apk2blvu3zJw500gyJ06cKHtu6NChJjw8vFK/k+u5ePGi8fPzM+PGjav0ulFRUSYqKqrS64WHh5uGDRte9+d5eXlGkmnZsmXZc/VtX0kyKSkplV6vpsep6Nx69dVXjaenp1m2bJk5c+aMefPNN42Li4vZvHlz2XYkmdWrV5tz586Z48ePm3vuucc0aNDAFBYWGmOMuXDhgvH39zczZswwBQUFJjc31zz22GNlv9+bjVEVd999t+natestL3MzVfm7ZkzV5o6d9kVtHfe3oip/95g3/3YrrzlVOT7q+pyp6utwbaG8AfVQZd/k5OfnGx8fH/PQQw+Ve37JkiXXLW8FBQXl1vf19TXDhw8vt/6mTZuMJDNlypSy5+Li4q56Udi8ebORZP74xz9WentWlLeJEyeadu3amby8vEqvW1PlzRhjHA6HCQgIKJezPu0rZyxvFZ1bBQUFxsfHp9zvMT8/33h6epoxY8YYY669P6+8md2/f78xxpjdu3cbSeaLL764KktFxqgKu5c3Y8rPHbvti7pY3pg35d3Ka05NlDdj7D1nnL28cdokgJvav3+/8vPz9cADD1Rp/T179ujChQvq2bNnued79eolDw+Pq06z+62ePXvKx8en7DS7W91eTfr888+Vmpqqb775Rn5+fpbl+K2LFy/KGCN/f/8bLlef9pUzqOjcysjIUH5+vjp16lT2nLe3t5o1a1bu9NPf8vDwkCQVFRVJksLCwnTbbbfpqaeeUmJiorKzs295jLrut3OHfWE95s2/OeNrDnOmZlHeANzU4cOHJUlBQUFVWv/s2bOSfr1C1m8FBATo/PnzN92Gp6enTpw4UW3bqwmfffaZ3nnnHX333XcKDQ21JMP1ZGZmSpLat29/w+Xqy75yFhWdWxcvXpQkTZo0qdz9lXJycip1gQJvb2+tWbNGkZGRmjp1qsLCwjR8+HAVFBRU2xh1zW/nDvvCesybXznraw5zpmZR3gDclJeXlyTp8uXLVVo/ICBAkq75Rv3s2bMKDg6+4fpFRUXllrvV7dWEDz74QIsXL9aaNWvUokWLWh//Zr7++mtJUv/+/W+4XH3YV86konPrypvUWbNmyfz6lYeyx/r16ys1ZseOHZWWlqYjR44oISFBKSkpeu+996p1jLrkt3OHfWE95o1zv+YwZ2oW5Q3ATXXq1EkuLi5au3Ztldf39fW96qadGzduVGFhoe66664brv/dd9/JGKM+ffpUentubm5lp1zUBGOMEhIStGvXLq1YseKanzBZLTc3V7NmzVJwcLCeeeaZGy5bl/eVM6ro3GrZsqW8vLy0ffv2WxrvyJEjSk9Pl/TrG6rp06erR48eSk9Pr7Yx6pJrzR32hfXq87xx9tcc5kzNo7wBuKmgoCANHTpUy5Yt08KFC5WXl6edO3dq/vz5FVrfy8tLr7zyij7//HMtXrxYeXl52rVrl0aPHq3mzZsrLi6u3PKlpaU6c+aMiouLtXPnTo0fP16tWrUqu/xwZbbXpk0bnT59WitWrFBRUZFOnDihnJycqzI2atRIR44cUXZ2ts6fP1/hEpGenq53331XCxYskLu7e7nTNRwOh957770Kbac6GGN04cIFlZaWyhijEydOKCUlRf369ZOrq6tWrFhx0++81eV95YwqOre8vLw0cuRILVmyRPPmzVNeXp5KSkp0+PBhHT16tMLjHTlyRC+88IL27t2rwsJCbdu2TTk5OerTp0+1jWFHlZk77Avr1ed54yyvOcwZC9XIZVAAOLWqXJXt/PnzZtSoUaZx48bG19fXREZGmsmTJxtJJjg42OzYscPMmDHDeHt7l10i+NNPPy1bv7S01MycOdO0bdvWuLu7m8DAQDNkyBCTkZFRbpy4uDjj7u5ubr/9duPm5mb8/f3N4MGDTVZWVrnlKrq9U6dOmfvvv994eXmZ1q1bm5deesm89tprRpJp06ZN2SXtt27dakJCQoy3t7eJjIwsdwn7G9m1a5eRdN3HzJkzK/V7ruxVrlatWmW6dOlifHx8jIeHh3FxcTGSyq701bt3bzNlyhRz6tSpcuvVx30lJ7zapDEVm1vGGHP58mWTkJBgWrVqZdzc3ExQUJAZOnSo2bNnj5k7d67x8fExkkzbtm1NVlaWmT9/vvH39zeSTEhIiMnMzDTZ2dkmIiLCBAYGGldXV9OiRQszceJEU1xcfNMxKmP9+vWmX79+pnnz5mVzoVmzZiYiIsKsXbu2wstURmX/rlV17hhjr31RW8f9rajK1f3q67yp7tecyhwf9WXOOPvVJh3GGFMztRCAs0pNTdWwYcPkjNP/hRde0NKlS3Xq1Cmro1giOjpakrR06VKLk9yc3faVw+FQSkqKYmJi6sQ4KM+Z/65ZyQ7Ho53+7tU1djg+apuzH4+cNgnA6ZSUlFgdARXEvgIAoPZQ3gDgN/bu3XvV9wiu9Rg+fLjVUYFawZwAKo95g5rgZnUAALjizTff1KJFi1RYWKjWrVtr5syZioqKqvUc7du359Srm3CWfYXawZwAKo95g5pAeQPgNKZNm6Zp06ZZHQMVwL4CAKD2cdokAAAAANgA5Q0AAAAAbIDyBgAAAAA2QHkDAAAAABugvAEAAACADVDeAAAAAMAGKG8AAAAAYAOUNwAAAACwAcobAAAAANgA5Q0AAAAAbIDyBgAAAAA2QHkDAAAAABugvAEAAACADbhZHQCAdaKjo62OgN/YsGGDJHvsmyNHjigoKEju7u5WR3E6s2bN0tKlS62OUa8cPnxYkj3mDq62YcOGWt93xhgdOXJETZs2lZtb/X1LzN+r8jZs2KA+ffpYHeO6XBMTExOtDgGgduXl5encuXNWx8A1BAcHKzg42OoYN1VcXKx//etfyszMVHFxsRo2bOj0b346dOigRx55RC1btqzRcfbs2SN/f/8aHaM+WLVqlfz8/OTn51eh5f39/dWhQ4caTmU/tXXc34orxbu2lJaWKicnR5s2bdKBAwfUqFGjCh9ndU2HDh34e/UbwcHB6tu3r/r27Wt1lGtyGGOM1SEAAPZz4cIFLVy4UDNmzNDp06f1u9/9TpMmTXLqN4mwD4fDoZSUFMXExFgdBXXE5cuX9de//lVTp07V0aNHNXz4cL3xxhu68847rY4GVBjfeQMAVImvr6/i4+N18OBBzZkzR1999ZXCw8MVGxurjIwMq+MBgCTp/PnzSkpKUuvWrTVu3Dg98sgj2r9/v5KTkylusB3KGwDglnh6eur5559XVlaW/vKXv2jTpk3q0KGDBgwYoK1bt1odD0A9deLECSUmJqpVq1Z66623FB0drYMHD+rjjz9Wq1atrI4HVAnlDQBQLdzd3RUbG6v09HStWLFCR44cUc+ePTVgwABt3LjR6ngA6omcnBzFx8crJCRE8+bNU3x8vA4dOqSkpCQ1b97c6njALaG8AQCqlYuLiwYMGKAtW7Zo5cqVOnHihPr06aPIyEilpaVZHQ9AHbVnzx7FxsaqTZs2WrlypaZPn66cnBwlJiYqICDA6nhAtaC8AQBqhMPh0IABA7RhwwatW7dOgYGBGjhwYFmJ43pZAKrDtm3bFBsbq65du2rr1q1auHCh9u/fr/j4eHl7e1sdD6hWlDcAQI27Uti+//57BQYGatCgQerWrZuSk5NVUlJidTwANvT9999rwIAB6tGjh3bv3q1PPvlEO3bsUGxsrNPfugSoKsobAKDW9OvXT2lpadq+fbu6du2qZ555RnfccYfmz5+v4uJiq+MBcHLGGKWlpalv37665557dObMGa1atUpbt25VbGysXF1drY4I1CjKGwCg1nXp0kXJycnKyMjQAw88oLFjx6pt27ZKSkpSQUGB1fEAOJmioiIlJyerU6dOGjRokJo0aaL169eXffoG1BeUNwCAZcLDw/Xxxx9r3759GjhwoN544w2FhoYqMTFReXl5VscDYLHLly8rOTlZHTp00KhRo3TXXXdp9+7dSktLU58+fayOB9Q6yhsAwHKhoaFKSkrSwYMHNXr0aM2aNUvh4eFKTEzUmTNnrI4HoJZdubF2WFiYnn/+efXt21fp6ellRQ6oryhvAACn0bRpUyUmJiorK0tjx47VnDlzFBISovj4eB09etTqeABq2JUba4eEhOitt95SVFSUDhw4oOTkZLVp08bqeIDlKG8AAKfTpEkTJSYmKicnR2+//baWLl2q1q1bKy4uTocPH7Y6HoBqduXG2qGhoZo3b57GjRunnJwcJSUlqUWLFlbHA5wG5Q0A4LT8/PwUHx+vgwcPas6cOfr73/+u8PBwxcbGKjMz0+p4AG5RVlaW4uLi1LZtW61cuVLTpk1Tdna2EhMTFRgYaHU8wOlQ3gAATs/T01PPP/+8srKytGDBAm3cuFF33nmnYmJilJ6ebnU8AJW0fft2xcbG6o477tDq1av14Ycfat++fYqPj5ePj4/V8QCnRXkDANiGh4eHYmNj9dNPP+mzzz7Tnj171KlTJw0YMECbNm2yOh6Am7hyaf/u3btr165d+uSTT5SRkaHnn39e7u7uVscDnB7lDQBgOy4uLoqOjtbu3bu1cuVKHT9+XHfffbciIyP17bffWh0PwH+43o21t23bxo21gUqivAEAbMvhcGjAgAHauHGj1q1bJy8vLz300EOKjIxUWlqajDFWRwTqrdLSUi1dulSdO3fmxtpANaG8AQDqhCufuq1bt06BgYEaNGiQunfvruTkZJWUlFgdD6g3CgsLlZycrPbt22v48OHq0KGDdu3axY21gWpAeQMA1ClXPnXbtm2bunTpomeeeUZdu3ZVcnKyiouLrY4H1FkXLlxQUlKSWrdureeee059+vTR3r17lZqaqo4dO1odD6gTKG8AgDrpSmHbsWOHevTooWeffVZt27ZVUlKSLl26ZHU8oM44efKkEhMT1apVK02aNElRUVE6ePCgkpOT1bZtW6vjAXUK5Q0AUKd17NhRycnJ2rdvnwYOHKgJEyYoNDRUM2bMUH5+vtXxANs6dOiQ4uPjFRISorlz52rcuHE6dOgQN9YGahDlDQBQL4SGhiopKUnZ2dkaMWKEpkyZopCQECUmJurMmTNWxwNsIysrS/Hx8WrXrp1WrFihadOmKScnhxtrA7WA8gYAqFeaNm2qd955Rzk5ORo7dqySkpIUEhKi+Ph45ebmWh0PcFo7duwou7H2l19+qRkzZigzM5MbawO1iPIGAKiXmjRposTERB06dEhvv/22UlNT1aZNG8XHx+vw4cNWxwOcxn/eWHvnzp1lN9aOj4+Xp6en1fGAeoXyBgCo1/z8/BQfH6/9+/dr6tSp+vzzzxUeHq7Y2Fjt27fP6niAJa7cWDsiIqLsxtorV67kxtqAxShvAABIatCggeLj45WVlaUFCxZow4YNat++vWJiYpSenm51PKBWlJaWKi0tTb169dKgQYPUuHFj/fjjj2WfvjkcDqsjAvUa5Q0AgP/g4eGh2NhY7d27V5999pl2796tzp07a8CAAdq8ebPV8YAaceXG2nfeeacGDx6s5s2ba/PmzUpLS1Pfvn2tjgfg/6O8AQBwDS4uLoqOjtbu3bu1YsUKHTt2TL1791ZkZKRWr15tdTygWly5sXZYWJiee+453X333frpp5+Ulpamu+66y+p4AH6D8gYAwA24uLhowIAB2rRpk9atWycvLy89+OCDioyMVFpamowxVkcEKu3KjbVDQkI0adIkDR06VAcOHFBycrLatWtndTwA10F5AwCggiIjI/Xtt99q3bp1CgwM1KBBg9SjRw8lJyertLTU6njATeXm5pbdqH7u3Ll66aWXlJOTo6SkJN1+++1WxwNwE5Q3AAAq6cqnblu3blXnzp01cuRIde3aVcnJySouLrY6HnCVAwcOKD4+Xq1bt9Zf//pXvfXWW8rOzlZiYqIaNWpkdTwAFUR5AwCgirp166bk5GTt2LFD3bt317PPPqt27dopKSlJly5dsjoeoJ07dyo2Nlbt2rXTF198oXfeeUcHDx5UQkKCGjRoYHU8AJVEeQMA4BZ16tRJycnJyszM1IABAzRhwgS1bt1aM2bMUH5+vtXxUA9dubR/t27dtGPHDn3yySfKzMxUfHy8vLy8rI4HoIochm9aAwBQrXJzczV79mx98MEHatCggcaMGaPx48crICDA6mhO6emnn9b27dvLPZedna2goKBynw65u7srLS2N72bdwLfffqs//OEP+vHHH9WvXz8lJCTof/7nf7g/G1BHUN4AAKghJ06c0Ny5c5WUlKSSkhKNHDlSb7zxhpo1a2Z1NKfypz/9SW+99dZNl2vfvr1++umnWkhkL6Wlpfryyy81ZcoUbdmyRQ8++KD++Mc/KiIiwupoAKoZp00CAFBDgoKClJiYqEOHDmnixIn629/+pjZt2ig+Pl6//PKL1fGcxuOPP37TT4bc3d01YsSI2glkE1durN2hQwcNHjxYzZo10+bNm/XPf/6T4gbUUZQ3AABqmJ+fnxISEpSTk6OpU6dq+fLlCgsLU2xsrPbt23fT9QsKCvTyyy+rpKSkFtLWvvDwcHXv3l0uLtd/W1JcXKxhw4bVYqra9/bbb+vixYs3Xe7KjbXDw8P13HPPqXfv3kpPT1daWpp69uxZC0kBWIXyBgBALWnQoIHi4+N14MABLViwQBs2bFDHjh0VGxt7w9MBFy5cqFmzZunpp5+uswUuNjb2uuXN4XCod+/eCg0Nrd1QtcQYo/Hjx2vy5MlasGDBdZc7depUuRtrP/bYY8rKylJycrLuuOOOWkwMwCp85w0AAIsUFRVpyZIleuedd5SRkaH//u//1uTJk9WrV69yy4SEhCg3N1cuLi6Kjo7W4sWL5erqamHy6pebm6vbb7/9mjc7d3V11Zw5czRmzBgLktUsY4zGjRunefPmqbS0VE2bNtWhQ4fk4eFRtsyxY8f0v//7v5o9e7bc3Nz04osvaty4cdyfDaiH+OQNAACLuLu7KzY2Vrt379aKFSt07Ngx9e7dWw899JDWr18vSfr000917NgxGWNUUlKipUuXavjw4XXuZuDNmjXTPffcc91SOnTo0FpOVPOuFLe5c+eWldYTJ05o8eLFkqSDBw8qPj5eoaGh+uijjzR+/HhlZWVxY22gHuOTNwAAnIQxRl9++aWmTZum9evX67777lNmZqZyc3PLfSLl6uqqIUOGaMmSJXJzc7MwcfVauHCh4uLiyp0a6uLiov/6r//SP//5TwuTVT9jjF588UV99NFH5fatw+FQ8+bNFRkZWfbdyNdff12xsbHlPo0DUD9R3gAAcEJr1qxRfHy89uzZo2u9VLu6umrw4MH67LPP6kyBy8vLU5MmTVRUVFT2nIuLixYtWqTY2FgLk1UvY4zGjh2rjz/++JqniTocDoWGhmr69OmKioqqc6fIAqg6TpsEAMAJ3X///SopKbnuJfRLSkq0YsUKDRs2rM6cQunv769HHnmkXBl1dXXVoEGDLExVvYwxGj169HWLm/RrefP29lZMTAzFDUA5lDcAAJxQWlqafvrpp+u+wZd+LXArV66sUwXuqaeeKjtt0s3NTQMHDlTDhg0tTlU9SkpKNGLECC1YsOCG+7W0tFTp6en6xz/+UYvpANgBp00CAOCEevfura1bt1bo1gCurq4aOHCgUlNTbX8K5aVLl9S4cWPl5+fL4XBo+fLlGjJkiNWxbtmV4vZ///d/NyxuV7i6uuruu+/WDz/8UAvpANgFn7wBAOBkvv32W23evFkOh0MeHh7XPXXyipKSEq1atUpPPPGE7T+B8/Ly0mOPPSZJ8vHxUf/+/S1OdOtKSkr05JNPasmSJRUqbm5ubnI4HPrxxx8pbwDKsff/ngMA1Cvr16/Xzz//bHWMGnfs2DH9/ve/1+nTp3Xy5EmdPn1aJ06c0IkTJ3T+/PlyBeDKG/2ioiItXbpUP//8s8aNG2fr70q1bNlSktSrVy+tWrXK4jS3pqSkRHPmzNGGDRsk/XoBFofDodLS0nIXovHy8lLDhg112223qXHjxmrSpIkCAwO1YcMG/fLLL1bFrzUxMTFWRwBsgdMmAQC2ER0drWXLllkdA0A14+0oUDGcNgkAsJWoqCgZY3jc4FFUVKSioiLLc9zK4w9/+MMN/w2SlJKSYnnOm+2H4uJiy3M48yMlJcXivyiAvXDaJAAAdYzdL1oiSZMmTbL9v8Pu+QE4Hz55AwAATofiAwBXo7wBAAAAgA1Q3gAAAADABihvAAAAAGADlDcAAAAAsAHKGwAAAADYAOUNAAAAAGyA8gYAAAAANkB5AwAAAAAboLwBAAAAgA1Q3gAAAADABihvAAAAAGADlDcAAAAAsAHKGwAAqHFTpkxRhw4d5O/vL09PT7Vp00avv/66Lly4UKs5MjIy9NJLL6ljx47y8/OTm5ubGjZsqHbt2unRRx/V+vXrazUPAFQG5Q0AANS4NWvW6MUXX1R2drZOnjypadOmafbs2YqOjq61DAsXLlTnzp21c+dOvf/++/r555918eJFbdu2TW+//bbOnj2rXbt21VoeAKgsyhsAAE6koKBAERERdW5sX19fxcXFqVGjRvLz81NMTIyGDBmir7/+Wj///HONjPmfNmzYoLi4ON1zzz1avXq1Hn74YQUEBMjT01NhYWEaNmyYJk+erMLCwhrPUlV19dgAUHFuVgcAAAD/tnDhQh0/frzOjf3FF19c9VyTJk0kSfn5+TUy5n/605/+pJKSEk2fPl1ubtd++/Pwww/r4YcfrvEsVVVXjw0AFccnbwCAOu/TTz9Vz5495eXlpQYNGig0NFRvv/22JMkYo/fff1933nmnPD09FRgYqMGDB2vv3r1l68+bN08NGjSQj4+PVq5cqf79+8vf31/BwcFasmRJpcZbt26dOnTooIYNG8rLy0udO3fWN998I0kaP368XnnlFWVlZcnhcKhNmzaSpJKSEk2ePFmtWrWSt7e3unTpopSUlEpnq+6xb9Uvv/wib29vtW7dulq2dz2FhYVavXq1GjdurN69e1d4PY4N644NANdhAACwiaioKBMVFVWpdWbNmmUkmenTp5tTp06Z06dPm48//tg8+eSTxhhjJk+ebDw8PMynn35qzp49a3bu3Gl69OhhmjRpYnJzc8u2M3HiRCPJrF692pw7d84cP37c3HPPPaZBgwamsLCwwuMtXbrUJCYmmtOnT5tTp06ZPn36mMaNG5etP3ToUBMeHl7u3/Dqq68aT09Ps2zZMnPmzBnz5ptvGhcXF7N58+ZKZauJsavq4sWLxs/Pz4wbN65K60syKSkpFVo2MzPTSDJ9+vSp1BgcGzV/bKSkpBjejgIVx2wBANhGZctbYWGhCQgIMPfff3+554uLi83s2bNNfn6+8fX1NcOHDy/3802bNhlJZsqUKWXPXXkTXFBQUPbc3LlzjSSzf//+Co13LdOmTTOSzPHjx40xN8hlSgAAD+1JREFUV79JLigoMD4+PuUy5ufnG09PTzNmzJgKZ6upsatq4sSJpl27diYvL69K61emvG3ZssVIMg8++GCFt8+xUTvHBuUNqBxOmwQA1Fk7d+7U2bNnr/oek6urq+Lj47Vnzx5duHBBPXv2LPfzXr16ycPDQxs3brzh9j08PCRJRUVFFRrvWtzd3SX9egratWRkZCg/P1+dOnUqe87b21vNmjUrd/rezbLV5tg38/nnnys1NVXffPON/Pz8qrydivL19ZVUue/WcWxYc2wAuDHKGwCgzsrLy5MkBQQEXPPnZ8+elfTvN/f/KSAgQOfPn6/W8STpyy+/1H333aegoCB5enrq9ddfv+E2L168KEmaNGmSHA5H2SMnJ6fSF/qwcuwrPvvsM73zzjv67rvvFBoaWqVtVFZoaKi8vLyUmZlZ4XU4Nmr/2ABwc5Q3AECd1aJFC0nSyZMnr/nzK2+kr/VG/OzZswoODq7W8Q4dOqQhQ4aoWbNm2rhxo86dO6cZM2bccJtBQUGSpFmzZsn8+nWHskdlbiht5dhXfPDBB1q8eLHWrFlT9ruqDZ6ennr44Yd18uRJ/fDDD9dd7vTp0xo1apQkjo3aPjYAVAzlDQBQZ4WGhqpRo0b6xz/+cc2fd+rUSb6+vtqyZUu55zdu3KjCwkLddddd1Trerl27VFRUpDFjxigsLExeXl5yOBw33GbLli3l5eWl7du3VyqLM41tjFFCQoJ27dqlFStWXPPTrJqWmJgoT09PvfzyyyooKLjmMrt37y67jQDHRu2MDaByKG8AgDrL09NTb775pv71r39p3Lhx+uWXX1RaWqrz588rPT1dXl5eeuWVV/T5559r8eLFysvL065duzR69Gg1b95ccXFx1Tpeq1atJEnffvutLl26pH379l313alGjRrpyJEjys7O1vnz5+Xq6qqRI0dqyZIlmjdvnvLy8lRSUqLDhw/r6NGjFc5m5djp6el69913tWDBArm7u5c7zc7hcOi9996r8Laqqlu3bvrb3/6m3bt365577tHf//53nTt3TkVFRTp48KAWLFigZ599tuy7XhwbtTM2gEqq9UukAABQRVW5VYAxxnz44Yemc+fOxsvLy3h5eZnu3bubuXPnGmOMKS0tNTNnzjRt27Y17u7uJjAw0AwZMsRkZGSUrT937lzj4+NjJJm2bduarKwsM3/+fOPv728kmZCQEJOZmVmh8RISEkyjRo1MQECAiY6ONh9++KGRZMLDw82hQ4fM1q1bTUhIiPH29jaRkZEmNzfXXL582SQkJJhWrVoZNzc3ExQUZIYOHWr27NlTqWzVPXZF7dq1y0i67mPmzJmV3qeqxNUm/9OhQ4fMq6++ajp37mx8fX2Nq6urCQgIMN27dzfPPvus+eGHH8qW5dio+WODq00CleMwxphabYsAAFRRdHS0JGnp0qUWJ4HVHA6HUlJSFBMTY3UU3ILU1FQNGzZMvB0FKobTJgEAAADABihvAACg0vbu3XvVd9eu9Rg+fLjVUQGgznCzOgAAALCf9u3bc6obANQyPnkDAAAAABugvAEAAACADVDeAAAAAMAGKG8AAAAAYAOUNwAAAACwAcobAAAAANgA5Q0AAAAAbIDyBgAAAAA2QHkDAAAAABugvAEAAACADVDeAAAAAMAGKG8AAAAAYAOUNwAAAACwAcobAAAAANiAm9UBAACojMOHDys1NdXqGHAC69evtzoCbhH7EKgchzHGWB0CAICKiI6O1rJly6yOAaCa8XYUqBjKGwAAcDoOh0MpKSmKiYmxOgoAOA2+8wYAAAAANkB5AwAAAAAboLwBAAAAgA1Q3gAAAADABihvAAAAAGADlDcAAAAAsAHKGwAAAADYAOUNAAAAAGyA8gYAAAAANkB5AwAAAAAboLwBAAAAgA1Q3gAAAADABihvAAAAAGADlDcAAAAAsAHKGwAAAADYAOUNAAAAAGyA8gYAAAAANkB5AwAAAAAboLwBAAAAgA1Q3gAAAADABihvAAAAAGADlDcAAAAAsAHKGwAAAADYAOUNAAAAAGyA8gYAAAAANkB5AwAAAAAboLwBAAAAgA1Q3gAAAADABihvAAAAAGADlDcAAAAAsAHKGwAAAADYAOUNAAAAAGyA8gYAAAAANuBmdQAAAFC/zZ8/X2fOnLnq+ZUrV+rgwYPlnhsxYoSaNm1aW9EAwKk4jDHG6hAAAKD+iouL0/z58+Xp6Vn2nDFGDoej7L+Li4vVsGFD5ebmyt3d3YqYAGA5TpsEAACWevzxxyVJly9fLnsUFhaW+28XFxc9/vjjFDcA9RqfvAEAAEuVlpaqefPmOn78+A2X+/7779WvX79aSgUAzodP3gAAgKVcXFz01FNPycPD47rLNG/eXBEREbWYCgCcD+UNAABY7vHHH1dhYeE1f+bu7q7Y2Nhy34EDgPqI0yYBAIBTCAsLu+rqklds375dXbt2reVEAOBc+OQNAAA4hdjY2GtekCQsLIziBgCivAEAACfx1FNPqaioqNxz7u7uGjlypEWJAMC5cNokAABwGl26dNHu3bv1n29PMjMz1bZtWwtTAYBz4JM3AADgNGJjY+Xq6ipJcjgc6t69O8UNAP4/yhsAAHAaTzzxhEpKSiRJrq6u+t3vfmdxIgBwHpQ3AADgNFq0aKGIiAg5HA6VlpYqOjra6kgA4DQobwAAwKk8/fTTMsbo3nvvVYsWLayOAwBOgwuWAABQjbiRNJxNSkqKYmJirI4BoBq4WR0AAIC6Zvz48erbt6/VMWztz3/+s+Li4uTr61uh5devX6/Zs2crJSWlhpPZy7Bhw6yOAKAaUd4AAKhmffv25ZOOWxQREaHg4OBKrTN79mx+779BeQPqFr7zBgAAnE5lixsA1AeUNwAAAACwAcobAAAAANgA5Q0AAAAAbIDyBgAAAAA2QHkDAAAAABugvAEAAACADVDeAAAAAMAGKG8AAAAAYAOUNwAAAACwAcobAAAAANgA5Q0AAAAAbIDyBgAAAAA2QHkDAAAAABugvAEA4ERGjRolPz8/ORwObd++3eo4t6S0tFSzZs1SREREhZa/dOmS2rdvr0mTJtVwMmn58uUKCwuTw+Eo9/Dw8NBtt92m++67TzNnztSZM2dqPAsAVBTlDQAAJ/KXv/xFCxYssDrGLdu3b5/uvfdevfzyy8rPz6/QOhMnTlRGRkYNJ/vV0KFDdeDAAYWHh6thw4Yyxqi0tFTHjx9XamqqWrdurYSEBHXs2FFbtmyplUwAcDOUNwAAUK127NihCRMmaPTo0erWrVuF1vnxxx+1e/fuGk52Yw6HQwEBAbrvvvu0aNEipaam6tixY3r00Ud17tw5S7MBgER5AwDA6TgcDqsj3JKuXbtq+fLlevLJJ+Xp6XnT5QsKCvTaa69p9uzZtZCu4qKiojRixAgdP35cH330kdVxAIDyBgCAlYwxmjlzpu644w55enqqYcOGeu21165arqSkRJMnT1arVq3k7e2tLl26KCUlRZI0b948NWjQQD4+Plq5cqX69+8vf39/BQcHa8mSJeW2s3btWvXu3Vs+Pj7y9/dX586dlZeXd9MxatLEiRM1duxYBQUF1fhYlTVixAhJ0ldffVX2XF3eFwCcG+UNAAALvfXWW0pISFBcXJyOHTum3NxcTZgw4arlJkyYoHfffVezZs3S0aNHNWDAAD3xxBPasmWLxowZo9///vcqKCiQn5+fUlJSlJWVpbCwMD333HMqKiqSJF28eFEDBw5UVFSUTp8+rX379qldu3YqLCy86Rg15YcfflBWVpaeeOKJGhvjVlw57fPAgQNlz9XVfQHA+VHeAACwSEFBgWbNmqUHH3xQL7/8sgICAuTt7a1GjRqVW+7SpUuaN2+ehgwZoqFDhyogIECTJk2Su7u7Fi1aVG7ZiIgI+fv7KygoSMOHD9fFixd16NAhSVJ2drby8vLUsWNHeXl5qWnTplq+fLmaNGlSqTGq898/fvx4zZs3r0a2Xx2uXPnz/PnzkuruvgBgD5Q3AAAssn//fuXn5+uBBx644XIZGRnKz89Xp06dyp7z9vZWs2bNtHfv3uuu5+HhIUlln/aEhYXptttu01NPPaXExERlZ2ff8hi34s0339Tzzz+v22+/vUa2Xx0uXrwoY4z8/f0l1d19AcAeKG8AAFjk8OHDknTT73pdvHhRkjRp0qRy9yTLycmp8GX4pV8LwJo1axQZGampU6cqLCxMw4cPV0FBQbWNUVHff/+9du3apVGjRlX7tqtTZmamJKl9+/aS6ua+AGAflDcAACzi5eUlSbp8+fINl7tS7mbNmiVjTLnH+vXrKzVmx44dlZaWpiNHjighIUEpKSl67733qnWMili4cKFWr14tFxeXsnJyJcPUqVPlcDic4vtdX3/9tSSpf//+kurmvgBgH5Q3AAAs0qlTJ7m4uGjt2rU3XK5ly5by8vLS9u3bb2m8I0eOKD09XdKvJWT69Onq0aOH0tPTq22Milq0aNFVxeTEiROSfr36pDFGPXv2rJUs15Obm6tZs2YpODhYzzzzjKS6uS8A2AflDQAAiwQFBWno0KFatmyZFi5cqLy8PO3cuVPz588vt5yXl5dGjhypJUuWaN68ecrLy1NJSYkOHz6so0ePVni8I0eO6IUXXtDevXtVWFiobdu2KScnR3369Km2MezIGKMLFy6otLS0rESmpKSoX79+cnV11YoVK8q+88a+AGApAwAAqo0kk5KSUuHlz58/b0aNGmUaN25sfH19TWRkpJk8ebKRZIKDg82OHTuMMcZcvnzZJCQkmFatWhk3NzcTFBRkhg4davbs2WPmzp1rfHx8jCTTtm1bk5WVZebPn2/8/f2NJBMSEmIyMzNNdna2iYiIMIGBgcbV1dW0aNHCTJw40RQXF990jMpYv3696devn2nevLmRZCSZZs2amYiICLN27drrrnfixAkjyUycOLFS4xljTEpKiqnM25pVq1aZLl26GB8fH+Ph4WFcXFyMJONwOExAQIDp3bu3mTJlijl16tRV69ppX1T2eATg3BzGGGNNbQQAoO5xOBxKSUlRTEyM1VHqldTUVA0bNky8rSmP4xGoWzhtEgAAAABsgPIGAABuaO/eveUuWX+9x/Dhw62OCgB1mpvVAQAAgHNr3749pyMCgBPgkzcAAAAAsAHKGwAAAADYAOUNAAAAAGyA8gYAAAAANkB5AwAAAAAboLwBAAAAgA1Q3gAAAADABihvAAAAAGADlDcAAAAAsAHKGwAAAADYAOUNAAAAAGyA8gYAAAAANkB5AwAAAAAboLwBAAAAgA24WR0AAIC6ZtiwYRo2bJjVMeolh8NhdQQAqDGUNwAAqlFKSorVEYByIiIirI4AoJo4jDHG6hAAAAAAgBvjO28AAAAAYAOUNwAAAACwAcobAAAAANiAm6SlVocAAAAAANzY/wPRjKPwg+DFmAAAAABJRU5ErkJggg==\n"
          },
          "metadata": {},
          "execution_count": 84
        }
      ]
    },
    {
      "cell_type": "code",
      "source": [
        "history_7 = model_7.fit(tribrid_train_dataset, epochs=5, steps_per_epoch=int(0.1*len(tribrid_train_dataset)), validation_data=tribrid_val_dataset, validation_steps=int(0.1*len(tribrid_val_dataset)), callbacks=[create_tb_callback('tribrid', 'experiments')])"
      ],
      "metadata": {
        "colab": {
          "base_uri": "https://localhost:8080/"
        },
        "id": "FXDcJDB3dbIM",
        "outputId": "80a43c2e-370e-4652-a0e9-03888b5c785f"
      },
      "execution_count": 85,
      "outputs": [
        {
          "output_type": "stream",
          "name": "stdout",
          "text": [
            "Epoch 1/5\n",
            "562/562 [==============================] - 38s 54ms/step - loss: 1.0950 - accuracy: 0.7258 - val_loss: 0.9854 - val_accuracy: 0.7989\n",
            "Epoch 2/5\n",
            "562/562 [==============================] - 28s 50ms/step - loss: 0.9675 - accuracy: 0.8129 - val_loss: 0.9503 - val_accuracy: 0.8238\n",
            "Epoch 3/5\n",
            "562/562 [==============================] - 25s 44ms/step - loss: 0.9501 - accuracy: 0.8215 - val_loss: 0.9400 - val_accuracy: 0.8261\n",
            "Epoch 4/5\n",
            "562/562 [==============================] - 29s 51ms/step - loss: 0.9392 - accuracy: 0.8355 - val_loss: 0.9313 - val_accuracy: 0.8305\n",
            "Epoch 5/5\n",
            "562/562 [==============================] - 27s 47ms/step - loss: 0.9373 - accuracy: 0.8352 - val_loss: 0.9275 - val_accuracy: 0.8378\n"
          ]
        }
      ]
    },
    {
      "cell_type": "code",
      "source": [
        "model_7_scores = classification_scores(val_labels_one_hot, tf.round(model_7.predict(tribrid_val_dataset)))"
      ],
      "metadata": {
        "colab": {
          "base_uri": "https://localhost:8080/"
        },
        "id": "X9fwMgVokkBX",
        "outputId": "ee161b16-01d1-4b03-95a7-9c6dd61f19c5"
      },
      "execution_count": 86,
      "outputs": [
        {
          "output_type": "stream",
          "name": "stdout",
          "text": [
            "Accuracy: 0.7464583609161922\n",
            "Precision: 0.8941362516885363\n",
            "Recall: 0.7464583609161922\n",
            "F1_score: 0.8069727433242547\n"
          ]
        }
      ]
    },
    {
      "cell_type": "markdown",
      "source": [
        "# Final model (200k)"
      ],
      "metadata": {
        "id": "KUQZxNb07NTh"
      }
    },
    {
      "cell_type": "code",
      "source": [
        "import zipfile\n",
        "zip_ref = zipfile.ZipFile('/content/pubmed-rct/PubMed_200k_RCT_numbers_replaced_with_at_sign/train.zip')\n",
        "zip_ref.extractall()\n",
        "zip_ref.close()"
      ],
      "metadata": {
        "id": "7IhTWpr0AHI7"
      },
      "execution_count": 87,
      "outputs": []
    },
    {
      "cell_type": "code",
      "source": [
        "\n",
        "training_set_full = preprocess_abstracts('/content/train.txt')\n",
        "test_set_full = preprocess_abstracts('/content/pubmed-rct/PubMed_200k_RCT_numbers_replaced_with_at_sign/test.txt')\n",
        "val_set_full = preprocess_abstracts('/content/pubmed-rct/PubMed_200k_RCT_numbers_replaced_with_at_sign/dev.txt')\n",
        "\n",
        "train_df = pd.DataFrame(training_set_full)\n",
        "val_df = pd.DataFrame(val_set_full)\n",
        "test_df = pd.DataFrame(test_set_full)\n",
        "\n",
        "one_hot_encoder = OneHotEncoder(sparse=False)\n",
        "train_labels_one_hot = tf.constant(one_hot_encoder.fit_transform(train_df['target'].to_numpy().reshape(-1, 1)))\n",
        "val_labels_one_hot = tf.constant(one_hot_encoder.transform(val_df['target'].to_numpy().reshape(-1, 1)))\n",
        "test_labels_one_hot = tf.constant(one_hot_encoder.transform(test_df['target'].to_numpy().reshape(-1, 1)))\n",
        "\n",
        "train_sentences = train_df['text'].tolist()\n",
        "val_sentences = val_df['text'].tolist()\n",
        "test_sentences = test_df['text'].tolist()\n",
        "\n",
        "train_sentences_character = [splitchar(text) for text in train_sentences]\n",
        "test_sentences_character = [splitchar(text) for text in test_sentences]\n",
        "val_sentences_character = [splitchar(text) for text in val_sentences]\n",
        "\n",
        "train_line_numbers_one_hot = tf.one_hot(train_df['line_number'].to_numpy(), depth=15)\n",
        "val_line_numbers_one_hot = tf.one_hot(val_df['line_number'].to_numpy(), depth=15)\n",
        "test_line_numbers_one_hot = tf.one_hot(test_df['line_number'].to_numpy(), depth=15)\n",
        "\n",
        "train_tl_one_hot = tf.one_hot(train_df['total_lines'].to_numpy(), depth=20)\n",
        "val_tl_one_hot = tf.one_hot(val_df['total_lines'].to_numpy(), depth=20)\n",
        "test_tl_one_hot = tf.one_hot(test_df['total_lines'].to_numpy(), depth=20)\n",
        "\n",
        "tribrid_train_dataset_full = tf.data.Dataset.from_tensor_slices(((train_sentences, train_sentences_character, train_line_numbers_one_hot, train_tl_one_hot), train_labels_one_hot)).batch(32).prefetch(tf.data.AUTOTUNE)\n",
        "tribrid_val_dataset_full = tf.data.Dataset.from_tensor_slices(((val_sentences, val_sentences_character, val_line_numbers_one_hot, val_tl_one_hot), val_labels_one_hot)).batch(32).prefetch(tf.data.AUTOTUNE)\n",
        "tribrid_test_dataset_full = tf.data.Dataset.from_tensor_slices(((test_sentences, test_sentences_character, test_line_numbers_one_hot, test_tl_one_hot), test_labels_one_hot)).batch(32).prefetch(tf.data.AUTOTUNE)"
      ],
      "metadata": {
        "id": "cjj7Jzf29oPD"
      },
      "execution_count": 88,
      "outputs": []
    },
    {
      "cell_type": "code",
      "source": [
        "token_inputs = layers.Input(shape=[], dtype=tf.string)\n",
        "token_embeddings = encoder_layer(token_inputs)\n",
        "token_outputs = layers.Dense(64, activation=\"relu\")(token_embeddings)\n",
        "token_model = tf.keras.Model(inputs=token_inputs,\n",
        "                             outputs=token_outputs)\n",
        "\n",
        "\n",
        "char_inputs = layers.Input(shape=(1,), dtype=tf.string)\n",
        "char_tokens = char_vectorizer(char_inputs)\n",
        "char_embeddings = char_embedding(char_tokens)\n",
        "char_bidirectional = layers.Bidirectional(layers.LSTM(32))(char_embeddings)\n",
        "char_model = tf.keras.Model(inputs=char_inputs,\n",
        "                            outputs=char_bidirectional)\n",
        "\n",
        "\n",
        "line_number_inputs = layers.Input(shape=(15,), dtype=tf.float32)\n",
        "line_number_dense = layers.Dense(64, activation=\"relu\")(line_number_inputs)\n",
        "line_number_model = tf.keras.Model(inputs=line_number_inputs,\n",
        "                                   outputs=line_number_dense)\n",
        "\n",
        "total_lines_inputs = layers.Input(shape=(20,), dtype=tf.float32)\n",
        "total_lines_dense = layers.Dense(64, activation=\"relu\")(total_lines_inputs)\n",
        "total_lines_model = tf.keras.Model(inputs=total_lines_inputs,\n",
        "                                  outputs=total_lines_dense)\n",
        "\n",
        "combined_embeddings = layers.Concatenate()([token_model.output, \n",
        "                                            char_model.output])\n",
        "comb_dense = layers.Dense(128, activation=\"relu\")(combined_embeddings)\n",
        "comb_dropout = layers.Dropout(0.3)(comb_dense)\n",
        "\n",
        "tribrid = layers.Concatenate()([line_number_model.output,\n",
        "                                total_lines_model.output,\n",
        "                                comb_dropout])\n",
        "tribrid_dense = layers.Dense(128, activation='relu')(tribrid)\n",
        "tribrid_dropout = layers.Dropout(0.3)(tribrid_dense)\n",
        "output_layer = layers.Dense(5, activation=\"softmax\")(tribrid_dropout)\n",
        "\n",
        "final_model = tf.keras.Model(inputs=[token_model.input,\n",
        "                                 char_model.input,\n",
        "                                 line_number_model.input,\n",
        "                                 total_lines_model.input],\n",
        "                                 outputs=output_layer)\n",
        "final_model.compile(loss=tf.keras.losses.CategoricalCrossentropy(label_smoothing=0.2), \n",
        "                optimizer='adam', \n",
        "                metrics=['accuracy'])"
      ],
      "metadata": {
        "id": "_YN7x1Mq8nRx"
      },
      "execution_count": 89,
      "outputs": []
    },
    {
      "cell_type": "code",
      "source": [
        "history_8 = final_model.fit(tribrid_train_dataset_full, epochs=5, steps_per_epoch=len(tribrid_train_dataset_full), validation_data=tribrid_val_dataset_full, validation_steps=int(0.1*len(tribrid_val_dataset)), callbacks=[create_tb_callback('final_model', 'experiments')])"
      ],
      "metadata": {
        "colab": {
          "base_uri": "https://localhost:8080/"
        },
        "id": "keuGH5eI9tDg",
        "outputId": "4b267b96-121d-44ad-cab2-1c3893cbaba8"
      },
      "execution_count": 90,
      "outputs": [
        {
          "output_type": "stream",
          "name": "stdout",
          "text": [
            "Epoch 1/5\n",
            "69121/69121 [==============================] - 3069s 44ms/step - loss: 0.8657 - accuracy: 0.8725 - val_loss: 0.8287 - val_accuracy: 0.8880\n",
            "Epoch 2/5\n",
            "69121/69121 [==============================] - 3019s 44ms/step - loss: 0.8471 - accuracy: 0.8850 - val_loss: 0.8244 - val_accuracy: 0.8893\n",
            "Epoch 3/5\n",
            "69121/69121 [==============================] - 3011s 44ms/step - loss: 0.8426 - accuracy: 0.8880 - val_loss: 0.8227 - val_accuracy: 0.8933\n",
            "Epoch 4/5\n",
            "69121/69121 [==============================] - 3024s 44ms/step - loss: 0.8403 - accuracy: 0.8895 - val_loss: 0.8200 - val_accuracy: 0.8943\n",
            "Epoch 5/5\n",
            "69121/69121 [==============================] - 3103s 45ms/step - loss: 0.8386 - accuracy: 0.8907 - val_loss: 0.8199 - val_accuracy: 0.8983\n"
          ]
        }
      ]
    },
    {
      "cell_type": "code",
      "source": [
        "final_model_scores = classification_scores(val_labels_one_hot, tf.round(final_model.predict(tribrid_val_dataset_full)))"
      ],
      "metadata": {
        "id": "tmjT_SpsGFz7"
      },
      "execution_count": null,
      "outputs": []
    },
    {
      "cell_type": "code",
      "source": [
        "test_scores = classification_scores(test_labels_one_hot, tf.round(final_model.predict(tribrid_test_dataset_full)))"
      ],
      "metadata": {
        "id": "Tci_DzzzB2sb"
      },
      "execution_count": null,
      "outputs": []
    },
    {
      "cell_type": "code",
      "source": [
        "test_scores"
      ],
      "metadata": {
        "id": "pzYQqE25B_HC"
      },
      "execution_count": null,
      "outputs": []
    },
    {
      "cell_type": "code",
      "source": [
        "plot_loss_curves(history_8)"
      ],
      "metadata": {
        "id": "0zQOGbL2CBGC"
      },
      "execution_count": null,
      "outputs": []
    },
    
  ],
  "metadata": {
    "accelerator": "GPU",
    "colab": {
      "collapsed_sections": [],
      "name": "skimlit.ipynb",
      "provenance": []
    },
    "kernelspec": {
      "display_name": "Python 3",
      "name": "python3"
    },
    "language_info": {
      "name": "python"
    }
  },
  "nbformat": 4,
  "nbformat_minor": 0
}
