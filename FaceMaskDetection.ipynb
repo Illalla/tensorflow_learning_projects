{
  "nbformat": 4,
  "nbformat_minor": 0,
  "metadata": {
    "colab": {
      "name": "FaceMaskDetection.ipynb",
      "provenance": [],
      "collapsed_sections": []
    },
    "kernelspec": {
      "name": "python3",
      "display_name": "Python 3"
    },
    "language_info": {
      "name": "python"
    },
    "accelerator": "GPU",
    "gpuClass": "standard"
  },
  "cells": [
    {
      "cell_type": "code",
      "execution_count": 1,
      "metadata": {
        "id": "LLdWivxGZxnl"
      },
      "outputs": [],
      "source": [
        "import tensorflow as tf\n",
        "import matplotlib.pyplot as plt\n",
        "import pandas as pd\n",
        "import numpy as np\n",
        "from tensorflow.keras import layers"
      ]
    },
    {
      "cell_type": "code",
      "source": [
        "!nvidia-smi"
      ],
      "metadata": {
        "colab": {
          "base_uri": "https://localhost:8080/"
        },
        "id": "4cw27ZmD4VkD",
        "outputId": "0fcd381b-786c-47e6-e8cb-6fd98a652440"
      },
      "execution_count": 2,
      "outputs": [
        {
          "output_type": "stream",
          "name": "stdout",
          "text": [
            "Wed Aug 31 08:59:36 2022       \n",
            "+-----------------------------------------------------------------------------+\n",
            "| NVIDIA-SMI 460.32.03    Driver Version: 460.32.03    CUDA Version: 11.2     |\n",
            "|-------------------------------+----------------------+----------------------+\n",
            "| GPU  Name        Persistence-M| Bus-Id        Disp.A | Volatile Uncorr. ECC |\n",
            "| Fan  Temp  Perf  Pwr:Usage/Cap|         Memory-Usage | GPU-Util  Compute M. |\n",
            "|                               |                      |               MIG M. |\n",
            "|===============================+======================+======================|\n",
            "|   0  Tesla T4            Off  | 00000000:00:04.0 Off |                    0 |\n",
            "| N/A   61C    P8    10W /  70W |      0MiB / 15109MiB |      0%      Default |\n",
            "|                               |                      |                  N/A |\n",
            "+-------------------------------+----------------------+----------------------+\n",
            "                                                                               \n",
            "+-----------------------------------------------------------------------------+\n",
            "| Processes:                                                                  |\n",
            "|  GPU   GI   CI        PID   Type   Process name                  GPU Memory |\n",
            "|        ID   ID                                                   Usage      |\n",
            "|=============================================================================|\n",
            "|  No running processes found                                                 |\n",
            "+-----------------------------------------------------------------------------+\n"
          ]
        }
      ]
    },
    {
      "cell_type": "code",
      "source": [
        "!wget https://raw.githubusercontent.com/Illalla/helper_functions_for_tf/main/helper_functions.py"
      ],
      "metadata": {
        "id": "Wp2FsQs74aJ6"
      },
      "execution_count": null,
      "outputs": []
    },
    {
      "cell_type": "code",
      "source": [
        "from helper_functions import *"
      ],
      "metadata": {
        "id": "n8eyXXoZ4e8y"
      },
      "execution_count": 4,
      "outputs": []
    },
    {
      "cell_type": "code",
      "source": [
        "from google.colab import files\n",
        "\n",
        "uploaded = files.upload()\n",
        "\n",
        "for fn in uploaded.keys():\n",
        "  print('User uploaded file \"{name}\" with length {length} bytes'.format(\n",
        "      name=fn, length=len(uploaded[fn])))\n",
        "  \n",
        "# Then move kaggle.json into the folder where the API expects to find it.\n",
        "!mkdir -p ~/.kaggle/ && mv kaggle.json ~/.kaggle/ && chmod 600 ~/.kaggle/kaggle.json"
      ],
      "metadata": {
        "id": "WgeD8JWc4hHC"
      },
      "execution_count": null,
      "outputs": []
    },
    {
      "cell_type": "code",
      "source": [
        "!kaggle datasets download -d vijaykumar1799/face-mask-detection"
      ],
      "metadata": {
        "id": "W8dzqHcK4s87"
      },
      "execution_count": null,
      "outputs": []
    },
    {
      "cell_type": "code",
      "source": [
        "import zipfile\n",
        "zip_ref = zipfile.ZipFile('face-mask-detection.zip')\n",
        "zip_ref.extractall()\n",
        "zip_ref.close()"
      ],
      "metadata": {
        "id": "9C-mUV9Q4wqr"
      },
      "execution_count": 7,
      "outputs": []
    },
    {
      "cell_type": "code",
      "source": [
        "walk_dir('/content/Dataset')"
      ],
      "metadata": {
        "colab": {
          "base_uri": "https://localhost:8080/"
        },
        "id": "xJsaGnRW7aVt",
        "outputId": "b1d740a2-15ef-4ddb-9c62-b6bd2f4adf10"
      },
      "execution_count": 8,
      "outputs": [
        {
          "output_type": "stream",
          "name": "stdout",
          "text": [
            "There are 3 directories and 0 files in /content/Dataset.\n",
            "There are 0 directories and 2994 files in /content/Dataset/mask_weared_incorrect.\n",
            "There are 0 directories and 2994 files in /content/Dataset/without_mask.\n",
            "There are 0 directories and 2994 files in /content/Dataset/with_mask.\n"
          ]
        }
      ]
    },
    {
      "cell_type": "code",
      "source": [
        "import os\n",
        "import random\n",
        "\n",
        "def plot_random_image(filepath):\n",
        "  images_list = os.listdir(filepath)\n",
        "  image = plt.imread(f'{filepath}/{random.sample(images_list, 1)[0]}')\n",
        "  plt.imshow(image)\n",
        "  plt.title(f'Shape={image.shape}')\n",
        "  plt.axis(False)"
      ],
      "metadata": {
        "id": "eZ0Qjeqa44fr"
      },
      "execution_count": 9,
      "outputs": []
    },
    {
      "cell_type": "code",
      "source": [
        "plot_random_image('/content/Dataset/mask_weared_incorrect')"
      ],
      "metadata": {
        "colab": {
          "base_uri": "https://localhost:8080/",
          "height": 264
        },
        "id": "4e8a7GF958lb",
        "outputId": "2153d7c9-b70e-4995-e83d-37571b5a6d7b"
      },
      "execution_count": 10,
      "outputs": [
        {
          "output_type": "display_data",
          "data": {
            "text/plain": [
              "<Figure size 432x288 with 1 Axes>"
            ],
            "image/png": "[encoded data removed]"
          },
          "metadata": {
            "needs_background": "light"
          }
        }
      ]
    },
    {
      "cell_type": "code",
      "source": [
        "for category in os.listdir('/content/Dataset'):\n",
        "  os.makedirs(f'/content/data/train/{category}')\n",
        "  os.makedirs(f'/content/data/test/{category}')\n",
        "  category_files = os.listdir('/content/Dataset/'+category)\n",
        "  test_split = int(0.2*len(category_files))\n",
        "  test_data = random.sample(category_files, test_split)\n",
        "  for file in test_data:\n",
        "    os.replace(f'/content/Dataset/{category}/{file}', f'/content/data/test/{category}/{file}')\n",
        "  os.rename(f'/content/Dataset/{category}', f'/content/data/train/{category}')"
      ],
      "metadata": {
        "id": "2qt4xUWokoTD"
      },
      "execution_count": 11,
      "outputs": []
    },
    {
      "cell_type": "code",
      "source": [
        "train_data = tf.keras.utils.image_dataset_from_directory('/content/data/train',\n",
        "                                                         image_size=(128, 128),\n",
        "                                                         label_mode='categorical',\n",
        "                                                         shuffle=True,\n",
        "                                                         seed=5).prefetch(tf.data.AUTOTUNE)\n",
        "test_data = tf.keras.utils.image_dataset_from_directory('/content/data/test',\n",
        "                                                        image_size=(128, 128),\n",
        "                                                        label_mode='categorical',\n",
        "                                                        shuffle=False,\n",
        "                                                        seed=5).prefetch(tf.data.AUTOTUNE)"
      ],
      "metadata": {
        "colab": {
          "base_uri": "https://localhost:8080/"
        },
        "id": "cHjvXiAi6WYz",
        "outputId": "fa78cb27-83cb-45e8-d75f-326f523b4cd2"
      },
      "execution_count": 12,
      "outputs": [
        {
          "output_type": "stream",
          "name": "stdout",
          "text": [
            "Found 7188 files belonging to 3 classes.\n",
            "Found 1794 files belonging to 3 classes.\n"
          ]
        }
      ]
    },
    {
      "cell_type": "code",
      "source": [
        "model_0 = tf.keras.Sequential([\n",
        "    layers.Input(shape=(128, 128, 3), dtype=tf.float32),\n",
        "    layers.Rescaling(255),\n",
        "    layers.Conv2D(32, 3, activation='relu'),\n",
        "    layers.Conv2D(32, 3, activation='relu'),\n",
        "    layers.GlobalAveragePooling2D(),\n",
        "    layers.Dense(3, activation='softmax')\n",
        "])\n",
        "\n",
        "model_0.compile(loss=tf.keras.losses.CategoricalCrossentropy(),\n",
        "                optimizer=tf.keras.optimizers.Adam(),\n",
        "                metrics=['accuracy'])\n",
        "\n",
        "model_0.summary()"
      ],
      "metadata": {
        "colab": {
          "base_uri": "https://localhost:8080/"
        },
        "id": "ROFKGqfd_q-j",
        "outputId": "ceac5e72-380e-4a62-e3e8-813f10c42950"
      },
      "execution_count": 13,
      "outputs": [
        {
          "output_type": "stream",
          "name": "stdout",
          "text": [
            "Model: \"sequential\"\n",
            "_________________________________________________________________\n",
            " Layer (type)                Output Shape              Param #   \n",
            "=================================================================\n",
            " rescaling (Rescaling)       (None, 128, 128, 3)       0         \n",
            "                                                                 \n",
            " conv2d (Conv2D)             (None, 126, 126, 32)      896       \n",
            "                                                                 \n",
            " conv2d_1 (Conv2D)           (None, 124, 124, 32)      9248      \n",
            "                                                                 \n",
            " global_average_pooling2d (G  (None, 32)               0         \n",
            " lobalAveragePooling2D)                                          \n",
            "                                                                 \n",
            " dense (Dense)               (None, 3)                 99        \n",
            "                                                                 \n",
            "=================================================================\n",
            "Total params: 10,243\n",
            "Trainable params: 10,243\n",
            "Non-trainable params: 0\n",
            "_________________________________________________________________\n"
          ]
        }
      ]
    },
    {
      "cell_type": "code",
      "source": [
        "history_0 = model_0.fit(train_data,\n",
        "                        validation_data=test_data,\n",
        "                        epochs=5,\n",
        "                        steps_per_epoch=len(train_data),\n",
        "                        validation_steps=len(test_data),\n",
        "                        callbacks=[create_tb_callback('model_0', 'experiments')])"
      ],
      "metadata": {
        "colab": {
          "base_uri": "https://localhost:8080/"
        },
        "id": "IqchSHMvAs1k",
        "outputId": "246f3ada-e5ee-438e-8e97-09d6f3bcc013"
      },
      "execution_count": 14,
      "outputs": [
        {
          "output_type": "stream",
          "name": "stdout",
          "text": [
            "Epoch 1/5\n",
            "225/225 [==============================] - 22s 39ms/step - loss: 118.4703 - accuracy: 0.5536 - val_loss: 84.9657 - val_accuracy: 0.5396\n",
            "Epoch 2/5\n",
            "225/225 [==============================] - 8s 36ms/step - loss: 54.9684 - accuracy: 0.6000 - val_loss: 70.8084 - val_accuracy: 0.5886\n",
            "Epoch 3/5\n",
            "225/225 [==============================] - 8s 37ms/step - loss: 51.1290 - accuracy: 0.6078 - val_loss: 21.7584 - val_accuracy: 0.7402\n",
            "Epoch 4/5\n",
            "225/225 [==============================] - 9s 38ms/step - loss: 32.1927 - accuracy: 0.6244 - val_loss: 22.7085 - val_accuracy: 0.6098\n",
            "Epoch 5/5\n",
            "225/225 [==============================] - 9s 39ms/step - loss: 20.2623 - accuracy: 0.6455 - val_loss: 16.1916 - val_accuracy: 0.6343\n"
          ]
        }
      ]
    },
    {
      "cell_type": "code",
      "source": [
        "model_0.evaluate(test_data)"
      ],
      "metadata": {
        "colab": {
          "base_uri": "https://localhost:8080/"
        },
        "id": "WfBy8ck_DgVc",
        "outputId": "025f99d1-9022-4634-9cce-d0fe0b661c33"
      },
      "execution_count": 15,
      "outputs": [
        {
          "output_type": "stream",
          "name": "stdout",
          "text": [
            "57/57 [==============================] - 1s 23ms/step - loss: 16.1916 - accuracy: 0.6343\n"
          ]
        },
        {
          "output_type": "execute_result",
          "data": {
            "text/plain": [
              "[16.191627502441406, 0.6343366503715515]"
            ]
          },
          "metadata": {},
          "execution_count": 15
        }
      ]
    },
    {
      "cell_type": "code",
      "source": [
        "test_labels = []\n",
        "for images, labels in test_data.unbatch():\n",
        "  test_labels.append(labels.numpy().argmax())"
      ],
      "metadata": {
        "id": "LZ9mWjVuDmsf"
      },
      "execution_count": 16,
      "outputs": []
    },
    {
      "cell_type": "code",
      "source": [
        "test_labels[:5]"
      ],
      "metadata": {
        "colab": {
          "base_uri": "https://localhost:8080/"
        },
        "id": "VW5eK5pxEwdO",
        "outputId": "de0065ba-6c5f-4687-c94f-08cdf7773b74"
      },
      "execution_count": 17,
      "outputs": [
        {
          "output_type": "execute_result",
          "data": {
            "text/plain": [
              "[0, 0, 0, 0, 0]"
            ]
          },
          "metadata": {},
          "execution_count": 17
        }
      ]
    },
    {
      "cell_type": "code",
      "source": [
        "test_labels.count(0), test_labels.count(1), test_labels.count(2)"
      ],
      "metadata": {
        "colab": {
          "base_uri": "https://localhost:8080/"
        },
        "id": "OUhwwGojMpy0",
        "outputId": "dd75f28a-ecef-4878-c22e-65180f908905"
      },
      "execution_count": 18,
      "outputs": [
        {
          "output_type": "execute_result",
          "data": {
            "text/plain": [
              "(598, 598, 598)"
            ]
          },
          "metadata": {},
          "execution_count": 18
        }
      ]
    },
    {
      "cell_type": "code",
      "source": [
        "tf.argmax(tf.round(model_0.predict(test_data)), axis=1)"
      ],
      "metadata": {
        "colab": {
          "base_uri": "https://localhost:8080/"
        },
        "id": "IP-j3LNhGxjw",
        "outputId": "fd0a089c-ec53-4dd5-d368-8f1f97f4a372"
      },
      "execution_count": 19,
      "outputs": [
        {
          "output_type": "execute_result",
          "data": {
            "text/plain": [
              "<tf.Tensor: shape=(1794,), dtype=int64, numpy=array([1, 0, 1, ..., 2, 2, 2])>"
            ]
          },
          "metadata": {},
          "execution_count": 19
        }
      ]
    },
    {
      "cell_type": "code",
      "source": [
        "model_0_preds = tf.argmax(tf.round(model_0.predict(test_data)), axis=1).numpy()\n",
        "model_0_preds[:2]"
      ],
      "metadata": {
        "id": "IYen0j3TDjjs",
        "colab": {
          "base_uri": "https://localhost:8080/"
        },
        "outputId": "2002452f-9d93-466d-9b1b-d1da4540ffa7"
      },
      "execution_count": 20,
      "outputs": [
        {
          "output_type": "execute_result",
          "data": {
            "text/plain": [
              "array([1, 0])"
            ]
          },
          "metadata": {},
          "execution_count": 20
        }
      ]
    },
    {
      "cell_type": "code",
      "source": [
        "classification_scores(test_labels, model_0_preds)"
      ],
      "metadata": {
        "colab": {
          "base_uri": "https://localhost:8080/"
        },
        "id": "OYUQnExvDh8f",
        "outputId": "71736034-7fdc-406a-8e3b-ad5d4e4b4b5d"
      },
      "execution_count": 21,
      "outputs": [
        {
          "output_type": "stream",
          "name": "stdout",
          "text": [
            "Accuracy: 0.6343366778149386\n",
            "Precision: 0.845758623132478\n",
            "Recall: 0.6343366778149386\n",
            "F1_score: 0.7058040068773415\n"
          ]
        }
      ]
    },
    {
      "cell_type": "code",
      "source": [
        "model_1 = tf.keras.Sequential([\n",
        "    layers.Input(shape=(128, 128, 3), dtype=tf.float32),\n",
        "    layers.Rescaling(255),\n",
        "    layers.Conv2D(64, 3, activation='relu'),\n",
        "    layers.Conv2D(64, 3, activation='relu'),\n",
        "    layers.Dropout(0.2),\n",
        "    layers.MaxPool2D(),\n",
        "    layers.Conv2D(32, 3, activation='relu'),\n",
        "    layers.Dropout(0.3),\n",
        "    layers.Conv2D(32, 3, activation='relu'),\n",
        "    layers.Conv2D(32, 3, activation='relu'),\n",
        "    layers.GlobalAveragePooling2D(),\n",
        "    layers.Dense(3, activation='softmax')\n",
        "])\n",
        "\n",
        "\n",
        "model_1.compile(loss=tf.keras.losses.CategoricalCrossentropy(),\n",
        "                optimizer=tf.keras.optimizers.Adam(),\n",
        "                metrics=['accuracy'])\n",
        "\n",
        "model_1.summary()"
      ],
      "metadata": {
        "colab": {
          "base_uri": "https://localhost:8080/"
        },
        "id": "qGZbeeP1Gr4l",
        "outputId": "a4667124-1417-42d7-89cf-0f5fa08b09b3"
      },
      "execution_count": 22,
      "outputs": [
        {
          "output_type": "stream",
          "name": "stdout",
          "text": [
            "Model: \"sequential_1\"\n",
            "_________________________________________________________________\n",
            " Layer (type)                Output Shape              Param #   \n",
            "=================================================================\n",
            " rescaling_1 (Rescaling)     (None, 128, 128, 3)       0         \n",
            "                                                                 \n",
            " conv2d_2 (Conv2D)           (None, 126, 126, 64)      1792      \n",
            "                                                                 \n",
            " conv2d_3 (Conv2D)           (None, 124, 124, 64)      36928     \n",
            "                                                                 \n",
            " dropout (Dropout)           (None, 124, 124, 64)      0         \n",
            "                                                                 \n",
            " max_pooling2d (MaxPooling2D  (None, 62, 62, 64)       0         \n",
            " )                                                               \n",
            "                                                                 \n",
            " conv2d_4 (Conv2D)           (None, 60, 60, 32)        18464     \n",
            "                                                                 \n",
            " dropout_1 (Dropout)         (None, 60, 60, 32)        0         \n",
            "                                                                 \n",
            " conv2d_5 (Conv2D)           (None, 58, 58, 32)        9248      \n",
            "                                                                 \n",
            " conv2d_6 (Conv2D)           (None, 56, 56, 32)        9248      \n",
            "                                                                 \n",
            " global_average_pooling2d_1   (None, 32)               0         \n",
            " (GlobalAveragePooling2D)                                        \n",
            "                                                                 \n",
            " dense_1 (Dense)             (None, 3)                 99        \n",
            "                                                                 \n",
            "=================================================================\n",
            "Total params: 75,779\n",
            "Trainable params: 75,779\n",
            "Non-trainable params: 0\n",
            "_________________________________________________________________\n"
          ]
        }
      ]
    },
    {
      "cell_type": "code",
      "source": [
        "history_1 = model_1.fit(train_data,\n",
        "                        validation_data=test_data,\n",
        "                        epochs=5,\n",
        "                        steps_per_epoch=len(train_data),\n",
        "                        validation_steps=len(test_data),\n",
        "                        callbacks=[create_tb_callback('model_1', 'experiments')])"
      ],
      "metadata": {
        "colab": {
          "base_uri": "https://localhost:8080/"
        },
        "id": "iItbW5LGLTR8",
        "outputId": "7a8c4834-64ce-41cb-9f41-ba63aa88513a"
      },
      "execution_count": 23,
      "outputs": [
        {
          "output_type": "stream",
          "name": "stdout",
          "text": [
            "Epoch 1/5\n",
            "225/225 [==============================] - 18s 70ms/step - loss: 41.9084 - accuracy: 0.5437 - val_loss: 0.9194 - val_accuracy: 0.5903\n",
            "Epoch 2/5\n",
            "225/225 [==============================] - 17s 76ms/step - loss: 0.8972 - accuracy: 0.6114 - val_loss: 0.8464 - val_accuracy: 0.6204\n",
            "Epoch 3/5\n",
            "225/225 [==============================] - 16s 71ms/step - loss: 0.8177 - accuracy: 0.6400 - val_loss: 0.7937 - val_accuracy: 0.6505\n",
            "Epoch 4/5\n",
            "225/225 [==============================] - 16s 68ms/step - loss: 0.7649 - accuracy: 0.6635 - val_loss: 0.7511 - val_accuracy: 0.6672\n",
            "Epoch 5/5\n",
            "225/225 [==============================] - 15s 66ms/step - loss: 0.7315 - accuracy: 0.6778 - val_loss: 0.7267 - val_accuracy: 0.6851\n"
          ]
        }
      ]
    },
    {
      "cell_type": "code",
      "source": [
        "data_augmentation_layer = tf.keras.Sequential([\n",
        "                                               tf.keras.layers.RandomRotation(0.2),\n",
        "                                               tf.keras.layers.RandomFlip(mode='horizontal'),\n",
        "                                               tf.keras.layers.RandomWidth(0.05),\n",
        "                                               tf.keras.layers.RandomWidth(0.05),\n",
        "                                               tf.keras.layers.RandomZoom(0.05),                                               \n",
        "], name='data_aug_layer')"
      ],
      "metadata": {
        "id": "moJ2I7pGtvYI"
      },
      "execution_count": 24,
      "outputs": []
    },
    {
      "cell_type": "code",
      "source": [
        "model_2 = tf.keras.Sequential([\n",
        "    layers.Input(shape=(128, 128, 3)),\n",
        "    layers.Rescaling(255),\n",
        "    data_augmentation_layer,\n",
        "    layers.Conv2D(64, 3, activation='relu'),\n",
        "    layers.Conv2D(64, 3, activation='relu'),\n",
        "    layers.Dropout(0.2),\n",
        "    layers.MaxPool2D(),\n",
        "    layers.Conv2D(32, 3, activation='relu'),\n",
        "    layers.Conv2D(32, 3, activation='relu'),\n",
        "    layers.Dropout(0.4),\n",
        "    layers.Conv2D(32, 3, activation='relu'),\n",
        "    layers.Conv2D(32, 3, activation='relu'),\n",
        "    layers.MaxPool2D(),\n",
        "    layers.Conv2D(32, 3, activation='relu'),\n",
        "    layers.Dropout(0.2),\n",
        "    layers.Conv2D(32, 3, activation='relu'),\n",
        "    layers.GlobalAveragePooling2D(),\n",
        "    layers.Dense(3, activation='softmax')\n",
        "])\n",
        "\n",
        "model_2.compile(loss=tf.keras.losses.CategoricalCrossentropy(),\n",
        "                optimizer=tf.keras.optimizers.Adam(),\n",
        "                metrics=['accuracy'])\n",
        "history_2 = model_2.fit(train_data,\n",
        "            epochs=5,\n",
        "            validation_data=test_data,\n",
        "            steps_per_epoch=len(train_data),\n",
        "            validation_steps=len(test_data),\n",
        "            callbacks=[create_tb_callback('model_2', 'experiments')])"
      ],
      "metadata": {
        "colab": {
          "base_uri": "https://localhost:8080/"
        },
        "id": "pECdgDhvLVfs",
        "outputId": "aea47543-79c1-4dc0-ca5b-551794d8c91a"
      },
      "execution_count": 25,
      "outputs": [
        {
          "output_type": "stream",
          "name": "stdout",
          "text": [
            "Epoch 1/5\n",
            "225/225 [==============================] - 40s 161ms/step - loss: 24.4462 - accuracy: 0.5138 - val_loss: 1.1695 - val_accuracy: 0.3478\n",
            "Epoch 2/5\n",
            "225/225 [==============================] - 21s 92ms/step - loss: 0.6831 - accuracy: 0.6821 - val_loss: 1.0748 - val_accuracy: 0.4526\n",
            "Epoch 3/5\n",
            "225/225 [==============================] - 17s 76ms/step - loss: 0.6174 - accuracy: 0.7433 - val_loss: 0.8931 - val_accuracy: 0.4298\n",
            "Epoch 4/5\n",
            "225/225 [==============================] - 18s 77ms/step - loss: 0.5864 - accuracy: 0.7643 - val_loss: 0.9259 - val_accuracy: 0.4532\n",
            "Epoch 5/5\n",
            "225/225 [==============================] - 17s 73ms/step - loss: 0.5464 - accuracy: 0.7905 - val_loss: 0.7921 - val_accuracy: 0.5262\n"
          ]
        },
        {
          "output_type": "execute_result",
          "data": {
            "text/plain": [
              "<keras.callbacks.History at 0x7f40301dac90>"
            ]
          },
          "metadata": {},
          "execution_count": 25
        }
      ]
    },
    {
      "cell_type": "code",
      "source": [
        "import tensorflow_hub as hub\n",
        "model_3 = tf.keras.Sequential([\n",
        "    hub.KerasLayer(\"https://tfhub.dev/adityakane2001/regnety800mf_classification/1\", input_shape=(128, 128, 3), trainable=False),\n",
        "    layers.Dense(3, activation='softmax')\n",
        "])\n",
        "\n",
        "model_3.compile(loss=tf.keras.losses.CategoricalCrossentropy(), \n",
        "                optimizer=tf.keras.optimizers.Adam(),\n",
        "                metrics=['accuracy'])\n",
        "history_3 = model_3.fit(train_data,\n",
        "            epochs=5,\n",
        "            validation_data=test_data,\n",
        "            steps_per_epoch=len(train_data),\n",
        "            validation_steps=len(test_data),\n",
        "            callbacks=[create_tb_callback('model_3', 'experiments')])"
      ],
      "metadata": {
        "colab": {
          "base_uri": "https://localhost:8080/"
        },
        "id": "dcDE0tD1ItWm",
        "outputId": "b3889685-4145-43b8-eb1e-eec7dd57fe04"
      },
      "execution_count": 29,
      "outputs": [
        {
          "output_type": "stream",
          "name": "stdout",
          "text": [
            "Epoch 1/5\n",
            "225/225 [==============================] - 17s 53ms/step - loss: 1.1943 - accuracy: 0.6281 - val_loss: 0.6618 - val_accuracy: 0.7441\n",
            "Epoch 2/5\n",
            "225/225 [==============================] - 11s 50ms/step - loss: 0.4178 - accuracy: 0.8382 - val_loss: 0.4351 - val_accuracy: 0.8233\n",
            "Epoch 3/5\n",
            "225/225 [==============================] - 11s 50ms/step - loss: 0.3059 - accuracy: 0.8862 - val_loss: 0.2104 - val_accuracy: 0.9253\n",
            "Epoch 4/5\n",
            "225/225 [==============================] - 13s 55ms/step - loss: 0.2263 - accuracy: 0.9149 - val_loss: 0.3239 - val_accuracy: 0.8802\n",
            "Epoch 5/5\n",
            "225/225 [==============================] - 13s 55ms/step - loss: 0.2675 - accuracy: 0.9004 - val_loss: 0.2855 - val_accuracy: 0.9086\n"
          ]
        }
      ]
    },
    {
      "cell_type": "code",
      "source": [
        "model_3.trainable = True\n",
        "for layer in model_3.layers[:-5]:\n",
        "  model_3.trainable = False\n",
        "model_3.compile(loss=tf.keras.losses.CategoricalCrossentropy(), \n",
        "                optimizer=tf.keras.optimizers.Adam(learning_rate=0.00001),\n",
        "                metrics=['accuracy'])\n",
        "history_3_fine_tuned = model_3.fit(train_data,\n",
        "            epochs=10,\n",
        "            validation_data=test_data,\n",
        "            initial_epoch=history_3.epoch[-1],\n",
        "            steps_per_epoch=len(train_data),\n",
        "            validation_steps=len(test_data),\n",
        "            callbacks=[create_tb_callback('model_3_fine_tuned', 'experiments')])"
      ],
      "metadata": {
        "colab": {
          "base_uri": "https://localhost:8080/"
        },
        "id": "I0ITsvF-KZco",
        "outputId": "2964d884-8c08-40a8-b0f5-7d53c351591c"
      },
      "execution_count": 30,
      "outputs": [
        {
          "output_type": "stream",
          "name": "stdout",
          "text": [
            "Epoch 5/10\n",
            "225/225 [==============================] - 57s 194ms/step - loss: 0.4797 - accuracy: 0.8388 - val_loss: 0.1826 - val_accuracy: 0.9348\n",
            "Epoch 6/10\n",
            "225/225 [==============================] - 43s 189ms/step - loss: 0.1306 - accuracy: 0.9591 - val_loss: 0.0920 - val_accuracy: 0.9710\n",
            "Epoch 7/10\n",
            "225/225 [==============================] - 42s 187ms/step - loss: 0.0801 - accuracy: 0.9762 - val_loss: 0.0636 - val_accuracy: 0.9777\n",
            "Epoch 8/10\n",
            "225/225 [==============================] - 42s 186ms/step - loss: 0.0556 - accuracy: 0.9836 - val_loss: 0.0487 - val_accuracy: 0.9844\n",
            "Epoch 9/10\n",
            "225/225 [==============================] - 42s 185ms/step - loss: 0.0369 - accuracy: 0.9898 - val_loss: 0.0356 - val_accuracy: 0.9894\n",
            "Epoch 10/10\n",
            "225/225 [==============================] - 42s 186ms/step - loss: 0.0274 - accuracy: 0.9940 - val_loss: 0.0291 - val_accuracy: 0.9916\n"
          ]
        },
        {
          "output_type": "execute_result",
          "data": {
            "text/plain": [
              "<keras.callbacks.History at 0x7f3d22f77490>"
            ]
          },
          "metadata": {},
          "execution_count": 30
        }
      ]
    },
    {
      "cell_type": "code",
      "source": [
        "model_3_preds = tf.argmax(tf.round(model_3.predict(test_data)), axis=1).numpy()\n",
        "classification_scores(test_labels, model_3_preds)"
      ],
      "metadata": {
        "colab": {
          "base_uri": "https://localhost:8080/"
        },
        "id": "qVEste9tNo8x",
        "outputId": "b816553e-a2c6-452e-f5e8-91fb27c9c23f"
      },
      "execution_count": 31,
      "outputs": [
        {
          "output_type": "stream",
          "name": "stdout",
          "text": [
            "Accuracy: 0.9916387959866221\n",
            "Precision: 0.991712580348944\n",
            "Recall: 0.9916387959866221\n",
            "F1_score: 0.9916445820949821\n"
          ]
        }
      ]
    },
    {
      "cell_type": "code",
      "source": [
        "#model_3.save('maskmodel')"
      ],
      "metadata": {
        "id": "RPYURugCOeqh"
      },
      "execution_count": 32,
      "outputs": []
    }
  ]
}
