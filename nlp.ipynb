{
  "nbformat": 4,
  "nbformat_minor": 0,
  "metadata": {
    "colab": {
      "name": "08_NLP.ipynb",
      "provenance": [],
      "collapsed_sections": []
    },
    "kernelspec": {
      "name": "python3",
      "display_name": "Python 3"
    },
    "language_info": {
      "name": "python"
    },
    "accelerator": "GPU"
  },
  "cells": [
    {
      "cell_type": "code",
      "execution_count": 1,
      "metadata": {
        "id": "GrEgIiP5SVQS"
      },
      "outputs": [],
      "source": [
        "import tensorflow as tf\n",
        "import numpy as np\n",
        "import matplotlib.pyplot as plt"
      ]
    },
    {
      "cell_type": "code",
      "source": [
        "!wget https://raw.githubusercontent.com/Illalla/helper_functions_for_tf/main/helper_functions.py"
      ],
      "metadata": {
        "colab": {
          "base_uri": "https://localhost:8080/"
        },
        "id": "hVoElG6wl9Gg",
        "outputId": "70ea2975-f57d-4e0b-ad3c-caaf11de2a44"
      },
      "execution_count": 2,
      "outputs": [
        {
          "output_type": "stream",
          "name": "stdout",
          "text": [
            "--2022-06-08 09:15:59--  https://raw.githubusercontent.com/Illalla/helper_functions_for_tf/main/helper_functions.py\n",
            "Resolving raw.githubusercontent.com (raw.githubusercontent.com)... 185.199.108.133, 185.199.109.133, 185.199.110.133, ...\n",
            "Connecting to raw.githubusercontent.com (raw.githubusercontent.com)|185.199.108.133|:443... connected.\n",
            "HTTP request sent, awaiting response... 200 OK\n",
            "Length: 5104 (5.0K) [text/plain]\n",
            "Saving to: ‘helper_functions.py’\n",
            "\n",
            "helper_functions.py 100%[===================>]   4.98K  --.-KB/s    in 0s      \n",
            "\n",
            "2022-06-08 09:16:00 (69.8 MB/s) - ‘helper_functions.py’ saved [5104/5104]\n",
            "\n"
          ]
        }
      ]
    },
    {
      "cell_type": "code",
      "source": [
        "from helper_functions import *"
      ],
      "metadata": {
        "id": "KfRyVfqEl-zv"
      },
      "execution_count": 3,
      "outputs": []
    },
    {
      "cell_type": "code",
      "source": [
        "!nvidia-smi -L"
      ],
      "metadata": {
        "colab": {
          "base_uri": "https://localhost:8080/"
        },
        "id": "mITKMC9BmA6P",
        "outputId": "8527b15f-d70e-4cef-da7b-fa75e26c9c5d"
      },
      "execution_count": 4,
      "outputs": [
        {
          "output_type": "stream",
          "name": "stdout",
          "text": [
            "GPU 0: Tesla T4 (UUID: GPU-7d07ea64-6084-8000-991a-260b04251f92)\n"
          ]
        }
      ]
    },
    {
      "cell_type": "code",
      "source": [
        "from zipfile import ZipFile\n",
        "!wget https://storage.googleapis.com/ztm_tf_course/nlp_getting_started.zip\n",
        "zip_ref = ZipFile('nlp_getting_started.zip')\n",
        "zip_ref.extractall()\n",
        "zip_ref.close()"
      ],
      "metadata": {
        "colab": {
          "base_uri": "https://localhost:8080/"
        },
        "id": "30ZrPVy9mWK3",
        "outputId": "12190f2c-d829-441c-e49c-524f0faeeddc"
      },
      "execution_count": 5,
      "outputs": [
        {
          "output_type": "stream",
          "name": "stdout",
          "text": [
            "--2022-06-08 09:16:00--  https://storage.googleapis.com/ztm_tf_course/nlp_getting_started.zip\n",
            "Resolving storage.googleapis.com (storage.googleapis.com)... 74.125.135.128, 74.125.142.128, 142.250.99.128, ...\n",
            "Connecting to storage.googleapis.com (storage.googleapis.com)|74.125.135.128|:443... connected.\n",
            "HTTP request sent, awaiting response... 200 OK\n",
            "Length: 607343 (593K) [application/zip]\n",
            "Saving to: ‘nlp_getting_started.zip’\n",
            "\n",
            "nlp_getting_started 100%[===================>] 593.11K  --.-KB/s    in 0.004s  \n",
            "\n",
            "2022-06-08 09:16:00 (142 MB/s) - ‘nlp_getting_started.zip’ saved [607343/607343]\n",
            "\n"
          ]
        }
      ]
    },
    {
      "cell_type": "code",
      "source": [
        "import pandas as pd"
      ],
      "metadata": {
        "id": "14IBi4lBnwag"
      },
      "execution_count": 6,
      "outputs": []
    },
    {
      "cell_type": "code",
      "source": [
        "df_train = pd.read_csv('/content/train.csv')"
      ],
      "metadata": {
        "id": "QxyOiEcTsWK2"
      },
      "execution_count": 7,
      "outputs": []
    },
    {
      "cell_type": "code",
      "source": [
        "df_train"
      ],
      "metadata": {
        "colab": {
          "base_uri": "https://localhost:8080/",
          "height": 468
        },
        "id": "07iuyBeNsh7m",
        "outputId": "78298085-b475-407f-8a88-1822f0ba906c"
      },
      "execution_count": 8,
      "outputs": [
        {
          "output_type": "execute_result",
          "data": {
            "text/plain": [
              "         id keyword location  \\\n",
              "0         1     NaN      NaN   \n",
              "1         4     NaN      NaN   \n",
              "2         5     NaN      NaN   \n",
              "3         6     NaN      NaN   \n",
              "4         7     NaN      NaN   \n",
              "...     ...     ...      ...   \n",
              "7608  10869     NaN      NaN   \n",
              "7609  10870     NaN      NaN   \n",
              "7610  10871     NaN      NaN   \n",
              "7611  10872     NaN      NaN   \n",
              "7612  10873     NaN      NaN   \n",
              "\n",
              "                                                   text  target  \n",
              "0     Our Deeds are the Reason of this #earthquake M...       1  \n",
              "1                Forest fire near La Ronge Sask. Canada       1  \n",
              "2     All residents asked to 'shelter in place' are ...       1  \n",
              "3     13,000 people receive #wildfires evacuation or...       1  \n",
              "4     Just got sent this photo from Ruby #Alaska as ...       1  \n",
              "...                                                 ...     ...  \n",
              "7608  Two giant cranes holding a bridge collapse int...       1  \n",
              "7609  @aria_ahrary @TheTawniest The out of control w...       1  \n",
              "7610  M1.94 [01:04 UTC]?5km S of Volcano Hawaii. htt...       1  \n",
              "7611  Police investigating after an e-bike collided ...       1  \n",
              "7612  The Latest: More Homes Razed by Northern Calif...       1  \n",
              "\n",
              "[7613 rows x 5 columns]"
            ],
            "text/html": [
              "\n",
              "  <div id=\"df-17e0bcbf-d34c-4139-a956-2314bf104738\">\n",
              "    <div class=\"colab-df-container\">\n",
              "      <div>\n",
              "<style scoped>\n",
              "    .dataframe tbody tr th:only-of-type {\n",
              "        vertical-align: middle;\n",
              "    }\n",
              "\n",
              "    .dataframe tbody tr th {\n",
              "        vertical-align: top;\n",
              "    }\n",
              "\n",
              "    .dataframe thead th {\n",
              "        text-align: right;\n",
              "    }\n",
              "</style>\n",
              "<table border=\"1\" class=\"dataframe\">\n",
              "  <thead>\n",
              "    <tr style=\"text-align: right;\">\n",
              "      <th></th>\n",
              "      <th>id</th>\n",
              "      <th>keyword</th>\n",
              "      <th>location</th>\n",
              "      <th>text</th>\n",
              "      <th>target</th>\n",
              "    </tr>\n",
              "  </thead>\n",
              "  <tbody>\n",
              "    <tr>\n",
              "      <th>0</th>\n",
              "      <td>1</td>\n",
              "      <td>NaN</td>\n",
              "      <td>NaN</td>\n",
              "      <td>Our Deeds are the Reason of this #earthquake M...</td>\n",
              "      <td>1</td>\n",
              "    </tr>\n",
              "    <tr>\n",
              "      <th>1</th>\n",
              "      <td>4</td>\n",
              "      <td>NaN</td>\n",
              "      <td>NaN</td>\n",
              "      <td>Forest fire near La Ronge Sask. Canada</td>\n",
              "      <td>1</td>\n",
              "    </tr>\n",
              "    <tr>\n",
              "      <th>2</th>\n",
              "      <td>5</td>\n",
              "      <td>NaN</td>\n",
              "      <td>NaN</td>\n",
              "      <td>All residents asked to 'shelter in place' are ...</td>\n",
              "      <td>1</td>\n",
              "    </tr>\n",
              "    <tr>\n",
              "      <th>3</th>\n",
              "      <td>6</td>\n",
              "      <td>NaN</td>\n",
              "      <td>NaN</td>\n",
              "      <td>13,000 people receive #wildfires evacuation or...</td>\n",
              "      <td>1</td>\n",
              "    </tr>\n",
              "    <tr>\n",
              "      <th>4</th>\n",
              "      <td>7</td>\n",
              "      <td>NaN</td>\n",
              "      <td>NaN</td>\n",
              "      <td>Just got sent this photo from Ruby #Alaska as ...</td>\n",
              "      <td>1</td>\n",
              "    </tr>\n",
              "    <tr>\n",
              "      <th>...</th>\n",
              "      <td>...</td>\n",
              "      <td>...</td>\n",
              "      <td>...</td>\n",
              "      <td>...</td>\n",
              "      <td>...</td>\n",
              "    </tr>\n",
              "    <tr>\n",
              "      <th>7608</th>\n",
              "      <td>10869</td>\n",
              "      <td>NaN</td>\n",
              "      <td>NaN</td>\n",
              "      <td>Two giant cranes holding a bridge collapse int...</td>\n",
              "      <td>1</td>\n",
              "    </tr>\n",
              "    <tr>\n",
              "      <th>7609</th>\n",
              "      <td>10870</td>\n",
              "      <td>NaN</td>\n",
              "      <td>NaN</td>\n",
              "      <td>@aria_ahrary @TheTawniest The out of control w...</td>\n",
              "      <td>1</td>\n",
              "    </tr>\n",
              "    <tr>\n",
              "      <th>7610</th>\n",
              "      <td>10871</td>\n",
              "      <td>NaN</td>\n",
              "      <td>NaN</td>\n",
              "      <td>M1.94 [01:04 UTC]?5km S of Volcano Hawaii. htt...</td>\n",
              "      <td>1</td>\n",
              "    </tr>\n",
              "    <tr>\n",
              "      <th>7611</th>\n",
              "      <td>10872</td>\n",
              "      <td>NaN</td>\n",
              "      <td>NaN</td>\n",
              "      <td>Police investigating after an e-bike collided ...</td>\n",
              "      <td>1</td>\n",
              "    </tr>\n",
              "    <tr>\n",
              "      <th>7612</th>\n",
              "      <td>10873</td>\n",
              "      <td>NaN</td>\n",
              "      <td>NaN</td>\n",
              "      <td>The Latest: More Homes Razed by Northern Calif...</td>\n",
              "      <td>1</td>\n",
              "    </tr>\n",
              "  </tbody>\n",
              "</table>\n",
              "<p>7613 rows × 5 columns</p>\n",
              "</div>\n",
              "      <button class=\"colab-df-convert\" onclick=\"convertToInteractive('df-17e0bcbf-d34c-4139-a956-2314bf104738')\"\n",
              "              title=\"Convert this dataframe to an interactive table.\"\n",
              "              style=\"display:none;\">\n",
              "        \n",
              "  <svg xmlns=\"http://www.w3.org/2000/svg\" height=\"24px\"viewBox=\"0 0 24 24\"\n",
              "       width=\"24px\">\n",
              "    <path d=\"M0 0h24v24H0V0z\" fill=\"none\"/>\n",
              "    <path d=\"M18.56 5.44l.94 2.06.94-2.06 2.06-.94-2.06-.94-.94-2.06-.94 2.06-2.06.94zm-11 1L8.5 8.5l.94-2.06 2.06-.94-2.06-.94L8.5 2.5l-.94 2.06-2.06.94zm10 10l.94 2.06.94-2.06 2.06-.94-2.06-.94-.94-2.06-.94 2.06-2.06.94z\"/><path d=\"M17.41 7.96l-1.37-1.37c-.4-.4-.92-.59-1.43-.59-.52 0-1.04.2-1.43.59L10.3 9.45l-7.72 7.72c-.78.78-.78 2.05 0 2.83L4 21.41c.39.39.9.59 1.41.59.51 0 1.02-.2 1.41-.59l7.78-7.78 2.81-2.81c.8-.78.8-2.07 0-2.86zM5.41 20L4 18.59l7.72-7.72 1.47 1.35L5.41 20z\"/>\n",
              "  </svg>\n",
              "      </button>\n",
              "      \n",
              "  <style>\n",
              "    .colab-df-container {\n",
              "      display:flex;\n",
              "      flex-wrap:wrap;\n",
              "      gap: 12px;\n",
              "    }\n",
              "\n",
              "    .colab-df-convert {\n",
              "      background-color: #E8F0FE;\n",
              "      border: none;\n",
              "      border-radius: 50%;\n",
              "      cursor: pointer;\n",
              "      display: none;\n",
              "      fill: #1967D2;\n",
              "      height: 32px;\n",
              "      padding: 0 0 0 0;\n",
              "      width: 32px;\n",
              "    }\n",
              "\n",
              "    .colab-df-convert:hover {\n",
              "      background-color: #E2EBFA;\n",
              "      box-shadow: 0px 1px 2px rgba(60, 64, 67, 0.3), 0px 1px 3px 1px rgba(60, 64, 67, 0.15);\n",
              "      fill: #174EA6;\n",
              "    }\n",
              "\n",
              "    [theme=dark] .colab-df-convert {\n",
              "      background-color: #3B4455;\n",
              "      fill: #D2E3FC;\n",
              "    }\n",
              "\n",
              "    [theme=dark] .colab-df-convert:hover {\n",
              "      background-color: #434B5C;\n",
              "      box-shadow: 0px 1px 3px 1px rgba(0, 0, 0, 0.15);\n",
              "      filter: drop-shadow(0px 1px 2px rgba(0, 0, 0, 0.3));\n",
              "      fill: #FFFFFF;\n",
              "    }\n",
              "  </style>\n",
              "\n",
              "      <script>\n",
              "        const buttonEl =\n",
              "          document.querySelector('#df-17e0bcbf-d34c-4139-a956-2314bf104738 button.colab-df-convert');\n",
              "        buttonEl.style.display =\n",
              "          google.colab.kernel.accessAllowed ? 'block' : 'none';\n",
              "\n",
              "        async function convertToInteractive(key) {\n",
              "          const element = document.querySelector('#df-17e0bcbf-d34c-4139-a956-2314bf104738');\n",
              "          const dataTable =\n",
              "            await google.colab.kernel.invokeFunction('convertToInteractive',\n",
              "                                                     [key], {});\n",
              "          if (!dataTable) return;\n",
              "\n",
              "          const docLinkHtml = 'Like what you see? Visit the ' +\n",
              "            '<a target=\"_blank\" href=https://colab.research.google.com/notebooks/data_table.ipynb>data table notebook</a>'\n",
              "            + ' to learn more about interactive tables.';\n",
              "          element.innerHTML = '';\n",
              "          dataTable['output_type'] = 'display_data';\n",
              "          await google.colab.output.renderOutput(dataTable, element);\n",
              "          const docLink = document.createElement('div');\n",
              "          docLink.innerHTML = docLinkHtml;\n",
              "          element.appendChild(docLink);\n",
              "        }\n",
              "      </script>\n",
              "    </div>\n",
              "  </div>\n",
              "  "
            ]
          },
          "metadata": {},
          "execution_count": 8
        }
      ]
    },
    {
      "cell_type": "code",
      "source": [
        "train_df_shuffled = df_train.sample(frac=1)"
      ],
      "metadata": {
        "id": "KF02AVzCsi0G"
      },
      "execution_count": 9,
      "outputs": []
    },
    {
      "cell_type": "code",
      "source": [
        "train_df_shuffled.target.value_counts()"
      ],
      "metadata": {
        "colab": {
          "base_uri": "https://localhost:8080/"
        },
        "id": "FLMMinwPtag2",
        "outputId": "834c4e97-7dfa-41cb-f447-7615032d3e67"
      },
      "execution_count": 10,
      "outputs": [
        {
          "output_type": "execute_result",
          "data": {
            "text/plain": [
              "0    4342\n",
              "1    3271\n",
              "Name: target, dtype: int64"
            ]
          },
          "metadata": {},
          "execution_count": 10
        }
      ]
    },
    {
      "cell_type": "code",
      "source": [
        "import random\n",
        "random_index = random.randint(0, len(train_df_shuffled)-5)\n",
        "for row in train_df_shuffled[['text', 'target']][random_index:random_index+5].itertuples():\n",
        "  _, text, target = row\n",
        "  print('Disaster' if target==1 else 'Not a disaster')\n",
        "  print(f'\\n {text} \\n')"
      ],
      "metadata": {
        "colab": {
          "base_uri": "https://localhost:8080/"
        },
        "id": "7wsuMFP5t3T3",
        "outputId": "989404e8-daa5-4896-85e7-3ff0a08d888f"
      },
      "execution_count": 11,
      "outputs": [
        {
          "output_type": "stream",
          "name": "stdout",
          "text": [
            "Not a disaster\n",
            "\n",
            " @Casper_rmg @BestComedyVine whats cracking cuz \n",
            "\n",
            "Disaster\n",
            "\n",
            " Notley's tactful yet very direct response to Harper's attack on Alberta's gov't. Hell YEAH Premier! http://t.co/rzSUlzMOkX #ableg #cdnpoli \n",
            "\n",
            "Not a disaster\n",
            "\n",
            " I understand why broke ppl be mad or always hav an attitude now this sht ain't no fun i won't be desolate for long \n",
            "\n",
            "Disaster\n",
            "\n",
            " Slow clap for this pilot. Dramatic Video Shows Plane Landing During Violent Storm http://t.co/CgVUY3RcxO \n",
            "\n",
            "Disaster\n",
            "\n",
            " Tension In Bayelsa As Patience Jonathan Plans To Hijack APC PDP http://t.co/qxXN6RKsp6 http://t.co/B3X1wqzAoR \n",
            "\n"
          ]
        }
      ]
    },
    {
      "cell_type": "code",
      "source": [
        "from sklearn.model_selection import train_test_split"
      ],
      "metadata": {
        "id": "DyEZlatcuvTW"
      },
      "execution_count": 12,
      "outputs": []
    },
    {
      "cell_type": "code",
      "source": [
        "train_sentences, val_sentences, train_labels, val_labels = train_test_split(train_df_shuffled['text'].to_numpy(), train_df_shuffled['target'].to_numpy(), test_size=0.1)"
      ],
      "metadata": {
        "id": "pcxSZuxpJQC3"
      },
      "execution_count": 13,
      "outputs": []
    },
    {
      "cell_type": "code",
      "source": [
        "train_sentences"
      ],
      "metadata": {
        "colab": {
          "base_uri": "https://localhost:8080/"
        },
        "id": "_Khjmp8YKFz5",
        "outputId": "0aa7b15e-7eba-4c76-997d-2bfeda7fb69f"
      },
      "execution_count": 14,
      "outputs": [
        {
          "output_type": "execute_result",
          "data": {
            "text/plain": [
              "array(['Eh hello cover your bloody thighs your bloody cleav... \\x89ÛÓ Eh hello! Since when do i expose my cleavage and i on... http://t.co/Kv5L4PPXfG',\n",
              "       'BREAKING: Terror Attack On\\nPolice Post #Udhampur',\n",
              "       'DTN India: Rly tragedy in MP: Some live to recount horror: \\x89ÛÏWhen I saw coaches of my train plunging into water... http://t.co/WK63tm34a0',\n",
              "       ...,\n",
              "       'All Hail Lady Cheryl!! 24 Reasons You Should Be Obsessed With Cheryl Cole http://t.co/kigy7M6bGJ',\n",
              "       'GEARS OF WAR 1!(preview member) Come chat! XB1! Welcome to the DANGER zone!: http://t.co/6SdgZ5DXNt',\n",
              "       '#hot  Funtenna: hijacking computers to send data as sound waves [Black Hat 2015] http://t.co/nQiObcZKrT #prebreak #best'],\n",
              "      dtype=object)"
            ]
          },
          "metadata": {},
          "execution_count": 14
        }
      ]
    },
    {
      "cell_type": "code",
      "source": [
        "from tensorflow.keras.layers.experimental.preprocessing import TextVectorization"
      ],
      "metadata": {
        "id": "AFMmfLWnKL4A"
      },
      "execution_count": 15,
      "outputs": []
    },
    {
      "cell_type": "code",
      "source": [
        "text_vectorizer = TextVectorization(max_tokens=None, #how many words is in dictionary. None= no cap\n",
        "                                    standardize='lower_and_strip_punctuation',\n",
        "                                    split='whitespace',\n",
        "                                    ngrams=None,\n",
        "                                    output_mode='int',\n",
        "                                    output_sequence_length=None)"
      ],
      "metadata": {
        "id": "bbvNm77DR-Wv"
      },
      "execution_count": 16,
      "outputs": []
    },
    {
      "cell_type": "code",
      "source": [
        "train_sentences"
      ],
      "metadata": {
        "colab": {
          "base_uri": "https://localhost:8080/"
        },
        "id": "Z6slC-nEeEMz",
        "outputId": "8a4a6dc8-c713-4cd9-9752-31d25418e595"
      },
      "execution_count": 17,
      "outputs": [
        {
          "output_type": "execute_result",
          "data": {
            "text/plain": [
              "array(['Eh hello cover your bloody thighs your bloody cleav... \\x89ÛÓ Eh hello! Since when do i expose my cleavage and i on... http://t.co/Kv5L4PPXfG',\n",
              "       'BREAKING: Terror Attack On\\nPolice Post #Udhampur',\n",
              "       'DTN India: Rly tragedy in MP: Some live to recount horror: \\x89ÛÏWhen I saw coaches of my train plunging into water... http://t.co/WK63tm34a0',\n",
              "       ...,\n",
              "       'All Hail Lady Cheryl!! 24 Reasons You Should Be Obsessed With Cheryl Cole http://t.co/kigy7M6bGJ',\n",
              "       'GEARS OF WAR 1!(preview member) Come chat! XB1! Welcome to the DANGER zone!: http://t.co/6SdgZ5DXNt',\n",
              "       '#hot  Funtenna: hijacking computers to send data as sound waves [Black Hat 2015] http://t.co/nQiObcZKrT #prebreak #best'],\n",
              "      dtype=object)"
            ]
          },
          "metadata": {},
          "execution_count": 17
        }
      ]
    },
    {
      "cell_type": "code",
      "source": [
        "a = 0\n",
        "for i in train_sentences:\n",
        "  a += len(i.split(' '))\n",
        "average_tokens = a / len(train_sentences)"
      ],
      "metadata": {
        "id": "dv1s6nAxeGQ6"
      },
      "execution_count": 18,
      "outputs": []
    },
    {
      "cell_type": "code",
      "source": [
        "average_tokens"
      ],
      "metadata": {
        "colab": {
          "base_uri": "https://localhost:8080/"
        },
        "id": "SOugW5g2epMK",
        "outputId": "684dd4d3-871d-4ad6-e344-8ec8871044fe"
      },
      "execution_count": 19,
      "outputs": [
        {
          "output_type": "execute_result",
          "data": {
            "text/plain": [
              "14.938987009195738"
            ]
          },
          "metadata": {},
          "execution_count": 19
        }
      ]
    },
    {
      "cell_type": "code",
      "source": [
        "max_vocab_length = 10000\n",
        "max_length = 15\n",
        "\n",
        "text_vectorizer = TextVectorization(max_tokens=max_vocab_length,\n",
        "                                    output_mode='int',\n",
        "                                    output_sequence_length=max_length)"
      ],
      "metadata": {
        "id": "vJ1_5YfneqgJ"
      },
      "execution_count": 20,
      "outputs": []
    },
    {
      "cell_type": "code",
      "source": [
        "text_vectorizer.adapt(train_sentences)"
      ],
      "metadata": {
        "id": "99hYYEmViGHh"
      },
      "execution_count": 21,
      "outputs": []
    },
    {
      "cell_type": "code",
      "source": [
        "text_vectorizer(['I don\\'t like this situation.'])"
      ],
      "metadata": {
        "colab": {
          "base_uri": "https://localhost:8080/"
        },
        "id": "gb1HMB7fiLo5",
        "outputId": "cc39b304-2a29-4d87-c7b6-0ab4c231b518"
      },
      "execution_count": 22,
      "outputs": [
        {
          "output_type": "execute_result",
          "data": {
            "text/plain": [
              "<tf.Tensor: shape=(1, 15), dtype=int64, numpy=\n",
              "array([[   8,   63,   25,   19, 1472,    0,    0,    0,    0,    0,    0,\n",
              "           0,    0,    0,    0]])>"
            ]
          },
          "metadata": {},
          "execution_count": 22
        }
      ]
    },
    {
      "cell_type": "code",
      "source": [
        "random_sentence = random.choice(train_sentences)"
      ],
      "metadata": {
        "id": "Fl3BI6eIiNqp"
      },
      "execution_count": 23,
      "outputs": []
    },
    {
      "cell_type": "code",
      "source": [
        "random_sentence"
      ],
      "metadata": {
        "colab": {
          "base_uri": "https://localhost:8080/",
          "height": 53
        },
        "id": "kojsVtYLjeMB",
        "outputId": "9577daa9-1f43-417a-e1a1-2aff0d616385"
      },
      "execution_count": 24,
      "outputs": [
        {
          "output_type": "execute_result",
          "data": {
            "text/plain": [
              "'#RaheelSharif is manifesting how one RIGHT man at the helm can save a Sinking Ship engulfed in a Dark-Stormy-Tidal-Sea. Well Done.'"
            ],
            "application/vnd.google.colaboratory.intrinsic+json": {
              "type": "string"
            }
          },
          "metadata": {},
          "execution_count": 24
        }
      ]
    },
    {
      "cell_type": "code",
      "source": [
        "text_vectorizer([random_sentence])"
      ],
      "metadata": {
        "colab": {
          "base_uri": "https://localhost:8080/"
        },
        "id": "PloPkT-qjfha",
        "outputId": "4d8b1f58-4802-4c48-8158-210c2fca1195"
      },
      "execution_count": 25,
      "outputs": [
        {
          "output_type": "execute_result",
          "data": {
            "text/plain": [
              "<tf.Tensor: shape=(1, 15), dtype=int64, numpy=\n",
              "array([[9381,    9,    1,   62,   58,  176,   90,   17,    2,    1,   69,\n",
              "         312,    3,  286,  763]])>"
            ]
          },
          "metadata": {},
          "execution_count": 25
        }
      ]
    },
    {
      "cell_type": "code",
      "source": [
        "words_in_vocab = text_vectorizer.get_vocabulary()"
      ],
      "metadata": {
        "id": "uuinrIN2jjLo"
      },
      "execution_count": 26,
      "outputs": []
    },
    {
      "cell_type": "code",
      "source": [
        "words_in_vocab"
      ],
      "metadata": {
        "colab": {
          "base_uri": "https://localhost:8080/"
        },
        "id": "ib1HER-xlBFh",
        "outputId": "145d5c83-0ae9-4103-a653-cc25717662d3"
      },
      "execution_count": 27,
      "outputs": [
        {
          "output_type": "execute_result",
          "data": {
            "text/plain": [
              "['',\n",
              " '[UNK]',\n",
              " 'the',\n",
              " 'a',\n",
              " 'in',\n",
              " 'to',\n",
              " 'of',\n",
              " 'and',\n",
              " 'i',\n",
              " 'is',\n",
              " 'for',\n",
              " 'on',\n",
              " 'you',\n",
              " 'my',\n",
              " 'with',\n",
              " 'that',\n",
              " 'it',\n",
              " 'at',\n",
              " 'by',\n",
              " 'this',\n",
              " 'from',\n",
              " 'was',\n",
              " 'be',\n",
              " 'are',\n",
              " 'have',\n",
              " 'like',\n",
              " 'me',\n",
              " 'up',\n",
              " 'as',\n",
              " 'just',\n",
              " 'but',\n",
              " 'so',\n",
              " 'im',\n",
              " 'amp',\n",
              " 'not',\n",
              " 'your',\n",
              " 'its',\n",
              " 'out',\n",
              " 'all',\n",
              " 'after',\n",
              " 'no',\n",
              " 'fire',\n",
              " 'will',\n",
              " 'has',\n",
              " 'if',\n",
              " 'an',\n",
              " 'when',\n",
              " 'we',\n",
              " 'new',\n",
              " 'via',\n",
              " 'now',\n",
              " 'get',\n",
              " 'more',\n",
              " 'about',\n",
              " 'or',\n",
              " 'he',\n",
              " 'what',\n",
              " 'they',\n",
              " 'one',\n",
              " 'people',\n",
              " 'been',\n",
              " 'news',\n",
              " 'how',\n",
              " 'dont',\n",
              " 'over',\n",
              " 'into',\n",
              " 'who',\n",
              " 'video',\n",
              " 'were',\n",
              " 'can',\n",
              " 'us',\n",
              " 'do',\n",
              " '2',\n",
              " 'emergency',\n",
              " 'disaster',\n",
              " 'there',\n",
              " 'than',\n",
              " 'some',\n",
              " 'police',\n",
              " 'her',\n",
              " 'would',\n",
              " 'his',\n",
              " 'body',\n",
              " 'burning',\n",
              " 'crash',\n",
              " 'back',\n",
              " 'still',\n",
              " 'time',\n",
              " 'storm',\n",
              " 'suicide',\n",
              " 'man',\n",
              " 'got',\n",
              " 'california',\n",
              " 'buildings',\n",
              " 'them',\n",
              " 'know',\n",
              " 'had',\n",
              " 'off',\n",
              " 'why',\n",
              " 'rt',\n",
              " 'going',\n",
              " 'first',\n",
              " 'world',\n",
              " 'day',\n",
              " 'bomb',\n",
              " 'love',\n",
              " 'nuclear',\n",
              " 'two',\n",
              " 'killed',\n",
              " 'cant',\n",
              " 'train',\n",
              " 'go',\n",
              " 'youtube',\n",
              " 'see',\n",
              " 'our',\n",
              " '3',\n",
              " 'their',\n",
              " 'fires',\n",
              " 'dead',\n",
              " 'attack',\n",
              " 'may',\n",
              " 'war',\n",
              " 'full',\n",
              " 'car',\n",
              " 'only',\n",
              " 'accident',\n",
              " 'good',\n",
              " 'families',\n",
              " 'today',\n",
              " 'last',\n",
              " 'down',\n",
              " 'watch',\n",
              " 'think',\n",
              " 'u',\n",
              " 'many',\n",
              " 'here',\n",
              " 'too',\n",
              " 'say',\n",
              " 'hiroshima',\n",
              " 'being',\n",
              " 'then',\n",
              " 'years',\n",
              " 'life',\n",
              " 'make',\n",
              " 'collapse',\n",
              " 'look',\n",
              " 'could',\n",
              " 'home',\n",
              " 'work',\n",
              " 'did',\n",
              " 'way',\n",
              " 'want',\n",
              " 'lol',\n",
              " 'because',\n",
              " 'wildfire',\n",
              " 'need',\n",
              " 'even',\n",
              " 'death',\n",
              " 'really',\n",
              " 'best',\n",
              " 'army',\n",
              " 'year',\n",
              " 'mh370',\n",
              " 'mass',\n",
              " 'help',\n",
              " 'those',\n",
              " 'him',\n",
              " 'please',\n",
              " 'another',\n",
              " 'school',\n",
              " 'am',\n",
              " 'should',\n",
              " '5',\n",
              " '1',\n",
              " 'youre',\n",
              " 'take',\n",
              " 'right',\n",
              " 'obama',\n",
              " 'much',\n",
              " 'black',\n",
              " 'wreck',\n",
              " 'pm',\n",
              " 'northern',\n",
              " 'live',\n",
              " 'bombing',\n",
              " 'old',\n",
              " '\\x89Û',\n",
              " 'let',\n",
              " 'latest',\n",
              " 'homes',\n",
              " 'fatal',\n",
              " 'water',\n",
              " 'read',\n",
              " 'legionnaires',\n",
              " 'hot',\n",
              " 'every',\n",
              " 'bomber',\n",
              " '4',\n",
              " 'she',\n",
              " 'never',\n",
              " 'great',\n",
              " 'thats',\n",
              " 'getting',\n",
              " 'forest',\n",
              " 'floods',\n",
              " 'city',\n",
              " 'any',\n",
              " '2015',\n",
              " 'said',\n",
              " 's',\n",
              " 'most',\n",
              " 'atomic',\n",
              " 'shit',\n",
              " 'hope',\n",
              " 'god',\n",
              " 'flood',\n",
              " 'ever',\n",
              " 'while',\n",
              " 'where',\n",
              " 'top',\n",
              " 'since',\n",
              " 'japan',\n",
              " 'injured',\n",
              " 'fear',\n",
              " 'night',\n",
              " 'hit',\n",
              " 'feel',\n",
              " 'content',\n",
              " 'come',\n",
              " 'ass',\n",
              " 'oil',\n",
              " 'military',\n",
              " 'malaysia',\n",
              " 'found',\n",
              " 'evacuation',\n",
              " 'earthquake',\n",
              " 'during',\n",
              " 'before',\n",
              " 'under',\n",
              " 'little',\n",
              " 'flooding',\n",
              " 'flames',\n",
              " 'everyone',\n",
              " 'coming',\n",
              " 'wild',\n",
              " 'which',\n",
              " 'well',\n",
              " 'times',\n",
              " 'stop',\n",
              " 'set',\n",
              " 'wounded',\n",
              " 'without',\n",
              " 'smoke',\n",
              " 'next',\n",
              " 'movie',\n",
              " 'heat',\n",
              " 'damage',\n",
              " 'cause',\n",
              " 'weather',\n",
              " 'truck',\n",
              " 'through',\n",
              " 'services',\n",
              " 'loud',\n",
              " 'debris',\n",
              " 'always',\n",
              " 'thunder',\n",
              " 'state',\n",
              " 'reddit',\n",
              " 'plan',\n",
              " 'near',\n",
              " 'fucking',\n",
              " 'also',\n",
              " 'theres',\n",
              " 'severe',\n",
              " 'screaming',\n",
              " 'lightning',\n",
              " 'injuries',\n",
              " 'food',\n",
              " 'evacuate',\n",
              " 'end',\n",
              " 'cross',\n",
              " 'confirmed',\n",
              " 'change',\n",
              " 'bloody',\n",
              " 'thunderstorm',\n",
              " 'spill',\n",
              " 'sinking',\n",
              " 'run',\n",
              " 'natural',\n",
              " 'looks',\n",
              " 'high',\n",
              " 'family',\n",
              " 'fall',\n",
              " 'check',\n",
              " 'boy',\n",
              " 'bags',\n",
              " 'again',\n",
              " 'wind',\n",
              " 'weapon',\n",
              " 'these',\n",
              " 'sinkhole',\n",
              " 'rescue',\n",
              " 'refugees',\n",
              " 'missing',\n",
              " 'ive',\n",
              " 'derailment',\n",
              " 'bridge',\n",
              " 'bad',\n",
              " 'air',\n",
              " 'wreckage',\n",
              " 'warning',\n",
              " 'says',\n",
              " 'save',\n",
              " 'rain',\n",
              " 'murder',\n",
              " 'made',\n",
              " 'hes',\n",
              " 'head',\n",
              " 'gonna',\n",
              " 'face',\n",
              " 'explosion',\n",
              " 'does',\n",
              " 'destroyed',\n",
              " 'wrecked',\n",
              " 'w',\n",
              " 'until',\n",
              " 'trapped',\n",
              " 'summer',\n",
              " 'saudi',\n",
              " 'report',\n",
              " 'released',\n",
              " 'post',\n",
              " 'panic',\n",
              " 'lives',\n",
              " 'liked',\n",
              " 'girl',\n",
              " 'failure',\n",
              " 'breaking',\n",
              " 'bag',\n",
              " 'attacked',\n",
              " 'whole',\n",
              " 'weapons',\n",
              " 'terrorist',\n",
              " 'survive',\n",
              " 'ruin',\n",
              " 'rescued',\n",
              " 'hurricane',\n",
              " 'fuck',\n",
              " 'explode',\n",
              " 'deaths',\n",
              " 'curfew',\n",
              " 'came',\n",
              " 'blood',\n",
              " 'big',\n",
              " 'ambulance',\n",
              " 'against',\n",
              " '70',\n",
              " 'trauma',\n",
              " 'tragedy',\n",
              " 'tonight',\n",
              " 'survivors',\n",
              " 'someone',\n",
              " 'saw',\n",
              " 'road',\n",
              " 'rescuers',\n",
              " 'ok',\n",
              " 'migrants',\n",
              " 'landslide',\n",
              " 'ill',\n",
              " 'hail',\n",
              " 'game',\n",
              " 'destroy',\n",
              " 'away',\n",
              " 'august',\n",
              " 'around',\n",
              " '\\x89ÛÒ',\n",
              " 'whirlwind',\n",
              " 'wave',\n",
              " 'wanna',\n",
              " 'violent',\n",
              " 'things',\n",
              " 'survived',\n",
              " 'show',\n",
              " 'rioting',\n",
              " 'real',\n",
              " 'past',\n",
              " 'outbreak',\n",
              " 'least',\n",
              " 'injury',\n",
              " 'hostages',\n",
              " 'hazard',\n",
              " 'drowning',\n",
              " 'danger',\n",
              " 'collided',\n",
              " 'collapsed',\n",
              " 'call',\n",
              " 'better',\n",
              " 'armageddon',\n",
              " 'area',\n",
              " '40',\n",
              " 'women',\n",
              " 'week',\n",
              " 'traumatised',\n",
              " 'sunk',\n",
              " 'structural',\n",
              " 'story',\n",
              " 'quarantined',\n",
              " 'put',\n",
              " 'photo',\n",
              " 'phone',\n",
              " 'national',\n",
              " 'mudslide',\n",
              " 'mosque',\n",
              " 'keep',\n",
              " 'island',\n",
              " 'iran',\n",
              " 'investigators',\n",
              " 'inundated',\n",
              " 'house',\n",
              " 'heard',\n",
              " 'free',\n",
              " 'destruction',\n",
              " 'crashed',\n",
              " 'charged',\n",
              " 'bus',\n",
              " 'blew',\n",
              " 'bleeding',\n",
              " 'bang',\n",
              " 'airplane',\n",
              " 'white',\n",
              " 'went',\n",
              " 'twitter',\n",
              " 'twister',\n",
              " 'terrorism',\n",
              " 'sandstorm',\n",
              " 'riot',\n",
              " 'quarantine',\n",
              " 'power',\n",
              " 'other',\n",
              " 'land',\n",
              " 'horrible',\n",
              " 'harm',\n",
              " 'engulfed',\n",
              " 'dust',\n",
              " 'drought',\n",
              " 'displaced',\n",
              " 'deluge',\n",
              " 'cliff',\n",
              " 'burned',\n",
              " 'boat',\n",
              " 'apocalypse',\n",
              " 'very',\n",
              " 'update',\n",
              " 'trouble',\n",
              " 'thing',\n",
              " 'stock',\n",
              " 'something',\n",
              " 'service',\n",
              " 'screamed',\n",
              " 'red',\n",
              " 'oh',\n",
              " 'massacre',\n",
              " 'lot',\n",
              " 'kills',\n",
              " 'kill',\n",
              " 'heart',\n",
              " 'hazardous',\n",
              " 'fedex',\n",
              " 'exploded',\n",
              " 'detonate',\n",
              " 'derail',\n",
              " 'county',\n",
              " 'chemical',\n",
              " 'catastrophe',\n",
              " 'blown',\n",
              " 'battle',\n",
              " 'anniversary',\n",
              " '6',\n",
              " '15',\n",
              " 'traffic',\n",
              " 'suspect',\n",
              " 'song',\n",
              " 'security',\n",
              " 'responders',\n",
              " 'part',\n",
              " 'meltdown',\n",
              " 'lava',\n",
              " 'isis',\n",
              " 'hundreds',\n",
              " 'group',\n",
              " 'fatalities',\n",
              " 'famine',\n",
              " 'drown',\n",
              " 'doing',\n",
              " 'devastation',\n",
              " 'desolation',\n",
              " 'derailed',\n",
              " 'demolish',\n",
              " 'bombed',\n",
              " 'bioterror',\n",
              " 'annihilated',\n",
              " 'yet',\n",
              " 'woman',\n",
              " 'windstorm',\n",
              " 'tornado',\n",
              " 'thanks',\n",
              " 'stay',\n",
              " 'soon',\n",
              " 'reunion',\n",
              " 'razed',\n",
              " 'pkk',\n",
              " 'panicking',\n",
              " 'officials',\n",
              " 'long',\n",
              " 'light',\n",
              " 'id',\n",
              " 'hostage',\n",
              " 'goes',\n",
              " 'flattened',\n",
              " 'ebay',\n",
              " 'due',\n",
              " 'drowned',\n",
              " 'crush',\n",
              " 'collide',\n",
              " 'caused',\n",
              " 'casualties',\n",
              " 'affected',\n",
              " 'wounds',\n",
              " 'upheaval',\n",
              " 'typhoon',\n",
              " 'tomorrow',\n",
              " 'thought',\n",
              " 'river',\n",
              " 'plane',\n",
              " 'obliterated',\n",
              " 'must',\n",
              " 'media',\n",
              " 'market',\n",
              " 'longer',\n",
              " 'left',\n",
              " 'kids',\n",
              " 'issues',\n",
              " 'india',\n",
              " 'hijacker',\n",
              " 'half',\n",
              " 'government',\n",
              " 'fan',\n",
              " 'didnt',\n",
              " 'detonated',\n",
              " 'demolished',\n",
              " 'crushed',\n",
              " 'collision',\n",
              " 'care',\n",
              " 'baby',\n",
              " 'volcano',\n",
              " 'used',\n",
              " 'st',\n",
              " 'shooting',\n",
              " 'screams',\n",
              " 'obliteration',\n",
              " 'nearby',\n",
              " 'murderer',\n",
              " 'fun',\n",
              " 'few',\n",
              " 'fatality',\n",
              " 'detonation',\n",
              " 'demolition',\n",
              " 'cyclone',\n",
              " 'cool',\n",
              " 'calgary',\n",
              " 'building',\n",
              " 'blast',\n",
              " 'bagging',\n",
              " 'already',\n",
              " 'zone',\n",
              " 'wont',\n",
              " 'whats',\n",
              " 'wake',\n",
              " 'tsunami',\n",
              " 'three',\n",
              " 'thank',\n",
              " 'sirens',\n",
              " 'shoulder',\n",
              " 'send',\n",
              " 'seismic',\n",
              " 'same',\n",
              " 'remember',\n",
              " 'pandemonium',\n",
              " 'obliterate',\n",
              " 'north',\n",
              " 'music',\n",
              " 'mp',\n",
              " 'making',\n",
              " 'lets',\n",
              " 'inside',\n",
              " 'hijack',\n",
              " 'hell',\n",
              " 'eyewitness',\n",
              " 'electrocuted',\n",
              " 'done',\n",
              " 'catastrophic',\n",
              " 'bush',\n",
              " 'beautiful',\n",
              " 'bc',\n",
              " 'ablaze',\n",
              " '16yr',\n",
              " 'yourself',\n",
              " 'yes',\n",
              " 'use',\n",
              " 'sure',\n",
              " 'sue',\n",
              " 'such',\n",
              " 'stretcher',\n",
              " 'sound',\n",
              " 're\\x89Û',\n",
              " 'rainstorm',\n",
              " 'prebreak',\n",
              " 'peace',\n",
              " 'officer',\n",
              " 'nothing',\n",
              " 'minute',\n",
              " 'men',\n",
              " 'memories',\n",
              " 'leave',\n",
              " 'lab',\n",
              " 'horror',\n",
              " 'hijacking',\n",
              " 'health',\n",
              " 'find',\n",
              " 'fight',\n",
              " 'far',\n",
              " 'evacuated',\n",
              " 'died',\n",
              " 'both',\n",
              " 'blazing',\n",
              " 'believe',\n",
              " 'airport',\n",
              " '9',\n",
              " '8',\n",
              " '\\x89ÛÓ',\n",
              " 'watching',\n",
              " 'turkey',\n",
              " 'trying',\n",
              " 'start',\n",
              " 'snowstorm',\n",
              " 'site',\n",
              " 'siren',\n",
              " 'shot',\n",
              " 'possible',\n",
              " 'policy',\n",
              " 'play',\n",
              " 'pic',\n",
              " 'own',\n",
              " 'maybe',\n",
              " 'job',\n",
              " 'hellfire',\n",
              " 'having',\n",
              " 'guys',\n",
              " 'gets',\n",
              " 'electrocute',\n",
              " 'deluged',\n",
              " 'declares',\n",
              " 'days',\n",
              " 'conclusively',\n",
              " 'children',\n",
              " 'casualty',\n",
              " 'bigger',\n",
              " 'bestnaijamade',\n",
              " 'arson',\n",
              " 'american',\n",
              " 'actually',\n",
              " 'yeah',\n",
              " 'typhoondevastated',\n",
              " 'south',\n",
              " 'signs',\n",
              " 'saved',\n",
              " 'saipan',\n",
              " 'reactor',\n",
              " 'pick',\n",
              " 'person',\n",
              " 'move',\n",
              " 'israeli',\n",
              " 'hours',\n",
              " 'history',\n",
              " 'helicopter',\n",
              " 'doesnt',\n",
              " 'die',\n",
              " 'deal',\n",
              " 'center',\n",
              " 'business',\n",
              " 'book',\n",
              " 'avalanche',\n",
              " 'anything',\n",
              " 'aircraft',\n",
              " 'ago',\n",
              " '7',\n",
              " '20',\n",
              " 'youth',\n",
              " 'west',\n",
              " 'ur',\n",
              " 'tv',\n",
              " 'theyre',\n",
              " 'tell',\n",
              " 'swallowed',\n",
              " 'seen',\n",
              " 'rubble',\n",
              " 'projected',\n",
              " 'pretty',\n",
              " 'n',\n",
              " 'low',\n",
              " 'la',\n",
              " 'islam',\n",
              " 'hey',\n",
              " 'feared',\n",
              " 'eyes',\n",
              " 'everything',\n",
              " 'damn',\n",
              " 'country',\n",
              " 'brown',\n",
              " 'anyone',\n",
              " 'annihilation',\n",
              " 'amid',\n",
              " 'almost',\n",
              " 'wait',\n",
              " 'trench',\n",
              " 'transport',\n",
              " 'support',\n",
              " 'street',\n",
              " 'side',\n",
              " 'searching',\n",
              " 'rise',\n",
              " 'refugio',\n",
              " 'place',\n",
              " 'outside',\n",
              " 'once',\n",
              " 'name',\n",
              " 'money',\n",
              " 'manslaughter',\n",
              " 'lost',\n",
              " 'literally',\n",
              " 'line',\n",
              " 'hollywood',\n",
              " 'happy',\n",
              " 'effect',\n",
              " 'daily',\n",
              " 'crisis',\n",
              " 'costlier',\n",
              " 'control',\n",
              " 'called',\n",
              " 'bodies',\n",
              " 'blight',\n",
              " 'blaze',\n",
              " 'bioterrorism',\n",
              " 'abc',\n",
              " '50',\n",
              " '12',\n",
              " '11',\n",
              " '10',\n",
              " 'words',\n",
              " 'trains',\n",
              " 'texas',\n",
              " 'spot',\n",
              " 'soudelor',\n",
              " 'ship',\n",
              " 'russian',\n",
              " 'reuters',\n",
              " 'order',\n",
              " 'omg',\n",
              " 'okay',\n",
              " 'official',\n",
              " 'offensive',\n",
              " 'nowplaying',\n",
              " 'needs',\n",
              " 'miners',\n",
              " 'makes',\n",
              " 'major',\n",
              " 'm',\n",
              " 'jobs',\n",
              " 'hear',\n",
              " 'hate',\n",
              " 'giant',\n",
              " 'feeling',\n",
              " 'fast',\n",
              " 'desolate',\n",
              " 'data',\n",
              " 'd',\n",
              " 'crews',\n",
              " 'crazy',\n",
              " 'child',\n",
              " 'case',\n",
              " 'cars',\n",
              " 'bar',\n",
              " 'aug',\n",
              " 'across',\n",
              " '60',\n",
              " 'worst',\n",
              " 'womens',\n",
              " 'waves',\n",
              " 'village',\n",
              " 'view',\n",
              " 'usa',\n",
              " 'town',\n",
              " 'though',\n",
              " 't',\n",
              " 'star',\n",
              " 'stand',\n",
              " 'space',\n",
              " 'sorry',\n",
              " 'shes',\n",
              " 'second',\n",
              " 'reason',\n",
              " 'rd',\n",
              " 'public',\n",
              " 'probably',\n",
              " 'playing',\n",
              " 'plans',\n",
              " 'picking',\n",
              " 'photos',\n",
              " 'pakistan',\n",
              " 'others',\n",
              " 'online',\n",
              " 'myself',\n",
              " 'mom',\n",
              " 'might',\n",
              " 'meek',\n",
              " 'listen',\n",
              " 'level',\n",
              " 'leather',\n",
              " 'houses',\n",
              " 'happened',\n",
              " 'flash',\n",
              " 'finally',\n",
              " 'east',\n",
              " 'declaration',\n",
              " 'course',\n",
              " 'blue',\n",
              " 'become',\n",
              " 'banned',\n",
              " 'ball',\n",
              " '30',\n",
              " '11yearold',\n",
              " 'wrong',\n",
              " 'win',\n",
              " 'wanted',\n",
              " 'united',\n",
              " 'totally',\n",
              " 'team',\n",
              " 'takes',\n",
              " 'taken',\n",
              " 'nearly',\n",
              " 'myanmar',\n",
              " 'morning',\n",
              " 'looking',\n",
              " 'link',\n",
              " 'large',\n",
              " 'knock',\n",
              " 'isnt',\n",
              " 'insurance',\n",
              " 'ignition',\n",
              " 'heavy',\n",
              " 'hailstorm',\n",
              " 'gun',\n",
              " 'gbbo',\n",
              " 'fukushima',\n",
              " 'friends',\n",
              " 'entire',\n",
              " 'disea',\n",
              " 'couple',\n",
              " 'closed',\n",
              " 'climate',\n",
              " 'class',\n",
              " 'china',\n",
              " 'blizzard',\n",
              " 'b',\n",
              " 'appears',\n",
              " 'angry',\n",
              " 'action',\n",
              " '25',\n",
              " '13',\n",
              " 'yours',\n",
              " 'vs',\n",
              " 'virgin',\n",
              " 'toddler',\n",
              " 'talk',\n",
              " 'self',\n",
              " 'reports',\n",
              " 'ready',\n",
              " 'radio',\n",
              " 'r',\n",
              " 'pradesh',\n",
              " 'pain',\n",
              " 'outrage',\n",
              " 'madhya',\n",
              " 'libya',\n",
              " 'ladies',\n",
              " 'issued',\n",
              " 'huge',\n",
              " 'hiring',\n",
              " 'hat',\n",
              " 'hard',\n",
              " 'gop',\n",
              " 'global',\n",
              " 'gave',\n",
              " 'friend',\n",
              " 'four',\n",
              " 'flag',\n",
              " 'eye',\n",
              " 'experts',\n",
              " 'emmerdale',\n",
              " 'drake',\n",
              " 'date',\n",
              " 'chance',\n",
              " 'centre',\n",
              " 'caught',\n",
              " 'beach',\n",
              " 'anthrax',\n",
              " 'america',\n",
              " 'added',\n",
              " 'york',\n",
              " 'wow',\n",
              " 'wonder',\n",
              " 'vehicle',\n",
              " 'unconfirmed',\n",
              " 'try',\n",
              " 'told',\n",
              " 'till',\n",
              " 'thinking',\n",
              " 'temple',\n",
              " 'sign',\n",
              " 'shows',\n",
              " 'reddits',\n",
              " 'property',\n",
              " 'poor',\n",
              " 'pay',\n",
              " 'patience',\n",
              " 'park',\n",
              " 'pakistani',\n",
              " 'nigerian',\n",
              " 'neighbours',\n",
              " 'mph',\n",
              " 'mop',\n",
              " 'moment',\n",
              " 'mishaps',\n",
              " 'middle',\n",
              " 'marks',\n",
              " 'lmao',\n",
              " 'likely',\n",
              " 'learn',\n",
              " 'landing',\n",
              " 'israel',\n",
              " 'instead',\n",
              " 'info',\n",
              " 'holding',\n",
              " 'guy',\n",
              " 'govt',\n",
              " 'germs',\n",
              " 'front',\n",
              " 'former',\n",
              " 'follow',\n",
              " 'film',\n",
              " 'else',\n",
              " 'earth',\n",
              " 'driving',\n",
              " 'drive',\n",
              " 'downtown',\n",
              " 'devastated',\n",
              " 'coaches',\n",
              " 'cnn',\n",
              " 'camp',\n",
              " 'businesses',\n",
              " 'british',\n",
              " 'bed',\n",
              " 'arsonist',\n",
              " 'ancient',\n",
              " 'aftershock',\n",
              " '100',\n",
              " '05',\n",
              " 'wasnt',\n",
              " 'upon',\n",
              " 'turned',\n",
              " 'truth',\n",
              " 'thursday',\n",
              " 'theater',\n",
              " 'taking',\n",
              " 'subreddits',\n",
              " 'started',\n",
              " 'sky',\n",
              " 'sick',\n",
              " 'series',\n",
              " 'secret',\n",
              " 'scared',\n",
              " 'sad',\n",
              " 'rules',\n",
              " 'potus',\n",
              " 'playlist',\n",
              " 'parole',\n",
              " 'niggas',\n",
              " 'muslims',\n",
              " 'mount',\n",
              " 'miss',\n",
              " ...]"
            ]
          },
          "metadata": {},
          "execution_count": 27
        }
      ]
    },
    {
      "cell_type": "code",
      "source": [
        "from tensorflow.keras import layers\n",
        "\n",
        "embedding = layers.Embedding(input_dim=max_vocab_length,\n",
        "                             output_dim=128,\n",
        "                             input_length=max_length)"
      ],
      "metadata": {
        "id": "xBjGyfC1lCyY"
      },
      "execution_count": 28,
      "outputs": []
    },
    {
      "cell_type": "code",
      "source": [
        "print(f'{random_sentence}\\n\\n Embedded version:{embedding(text_vectorizer(random_sentence))}')\n",
        "print(f'{embedding(text_vectorizer(random_sentence)).shape}')"
      ],
      "metadata": {
        "colab": {
          "base_uri": "https://localhost:8080/"
        },
        "id": "U8Xap53mhji0",
        "outputId": "29d7bfd7-341a-4d56-8990-0a52e4006f98"
      },
      "execution_count": 29,
      "outputs": [
        {
          "output_type": "stream",
          "name": "stdout",
          "text": [
            "#RaheelSharif is manifesting how one RIGHT man at the helm can save a Sinking Ship engulfed in a Dark-Stormy-Tidal-Sea. Well Done.\n",
            "\n",
            " Embedded version:[[ 0.00631506 -0.00536979  0.01422581 ...  0.00172833 -0.03680772\n",
            "  -0.03518267]\n",
            " [ 0.04031152 -0.03507446  0.03807951 ... -0.01519139 -0.00055876\n",
            "   0.03249997]\n",
            " [-0.04525049 -0.03353196 -0.00596938 ... -0.02699468 -0.01274418\n",
            "   0.02650349]\n",
            " ...\n",
            " [-0.00561292 -0.02603154  0.00967668 ...  0.00755248  0.01998756\n",
            "  -0.02931563]\n",
            " [ 0.01225638  0.00035056 -0.0496177  ...  0.00226849 -0.02605829\n",
            "   0.02058626]\n",
            " [-0.00507375 -0.01522983  0.02545596 ... -0.04455155  0.04129472\n",
            "   0.01737192]]\n",
            "(15, 128)\n"
          ]
        }
      ]
    },
    {
      "cell_type": "code",
      "source": [
        "from sklearn.feature_extraction.text import TfidfVectorizer\n",
        "from sklearn.pipeline import Pipeline\n",
        "from sklearn.naive_bayes import MultinomialNB\n",
        "\n",
        "model_0 = Pipeline([\n",
        "                    ('tfidf', TfidfVectorizer()),\n",
        "                    ('clf', MultinomialNB())\n",
        "])\n",
        "\n",
        "model_0.fit(train_sentences, train_labels)"
      ],
      "metadata": {
        "colab": {
          "base_uri": "https://localhost:8080/"
        },
        "id": "OmmRPq57Oyl9",
        "outputId": "ea061090-58b1-4297-9844-fb1f0ae379ac"
      },
      "execution_count": 30,
      "outputs": [
        {
          "output_type": "execute_result",
          "data": {
            "text/plain": [
              "Pipeline(steps=[('tfidf', TfidfVectorizer()), ('clf', MultinomialNB())])"
            ]
          },
          "metadata": {},
          "execution_count": 30
        }
      ]
    },
    {
      "cell_type": "code",
      "source": [
        "baseline_score = model_0.score(val_sentences, val_labels)\n",
        "baseline_score"
      ],
      "metadata": {
        "colab": {
          "base_uri": "https://localhost:8080/"
        },
        "id": "DfVCYlalPliE",
        "outputId": "04dc4d6d-cf6d-44a8-b052-3a3aaca0f0c4"
      },
      "execution_count": 31,
      "outputs": [
        {
          "output_type": "execute_result",
          "data": {
            "text/plain": [
              "0.8293963254593176"
            ]
          },
          "metadata": {},
          "execution_count": 31
        }
      ]
    },
    {
      "cell_type": "code",
      "source": [
        "baseline_preds = model_0.predict(val_sentences)\n",
        "baseline_preds[:20]"
      ],
      "metadata": {
        "colab": {
          "base_uri": "https://localhost:8080/"
        },
        "id": "wzRCEhZfYYta",
        "outputId": "6d076c41-f040-40c8-cdca-78d7116b332a"
      },
      "execution_count": 32,
      "outputs": [
        {
          "output_type": "execute_result",
          "data": {
            "text/plain": [
              "array([1, 0, 0, 0, 0, 0, 0, 0, 0, 0, 1, 0, 0, 0, 0, 1, 0, 0, 1, 0])"
            ]
          },
          "metadata": {},
          "execution_count": 32
        }
      ]
    },
    {
      "cell_type": "code",
      "source": [
        "from sklearn.metrics import recall_score, f1_score, precision_score, accuracy_score\n",
        "def binary_classification_scores(y_true, y_preds):\n",
        "  # Shows accuracy, precision, recall and f1-score\n",
        "  print(f\"\"\"Accuracy: {accuracy_score(y_true, y_preds)}\n",
        "Precision: {precision_score(y_true, y_preds)}\n",
        "Recall: {recall_score(y_true, y_preds)}\n",
        "F1_score: {f1_score(y_true, y_preds)}\"\"\")"
      ],
      "metadata": {
        "id": "skGAk8NoYvCr"
      },
      "execution_count": 33,
      "outputs": []
    },
    {
      "cell_type": "code",
      "source": [
        "binary_classification_scores(val_labels, baseline_preds)"
      ],
      "metadata": {
        "colab": {
          "base_uri": "https://localhost:8080/"
        },
        "id": "VTNvDdd0gWqB",
        "outputId": "f8e1743b-2c62-43d5-9d4b-8424d1805697"
      },
      "execution_count": 34,
      "outputs": [
        {
          "output_type": "stream",
          "name": "stdout",
          "text": [
            "Accuracy: 0.8293963254593176\n",
            "Precision: 0.9152542372881356\n",
            "Recall: 0.6625766871165644\n",
            "F1_score: 0.7686832740213523\n"
          ]
        }
      ]
    },
    {
      "cell_type": "code",
      "source": [
        "from tensorflow.keras import layers\n",
        "\n",
        "inputs = layers.Input(shape=(1,), dtype=tf.string)\n",
        "x = text_vectorizer(inputs)\n",
        "x = embedding(x)\n",
        "x = layers.GlobalAveragePooling1D()(x)\n",
        "outputs = layers.Dense(1, activation='sigmoid')(x)\n",
        "\n",
        "model_1 = tf.keras.Model(inputs, outputs)"
      ],
      "metadata": {
        "id": "N8Ow58t3SkHK"
      },
      "execution_count": 35,
      "outputs": []
    },
    {
      "cell_type": "code",
      "source": [
        "model_1.compile(loss='binary_crossentropy', optimizer=tf.keras.optimizers.Adam(learning_rate=0.001), metrics=['accuracy'])"
      ],
      "metadata": {
        "id": "NUqOkpBvTJOS"
      },
      "execution_count": 36,
      "outputs": []
    },
    {
      "cell_type": "code",
      "source": [
        "model_1.summary()"
      ],
      "metadata": {
        "colab": {
          "base_uri": "https://localhost:8080/"
        },
        "id": "_kfysr9BUFkZ",
        "outputId": "c9005dfb-b291-4f5b-c26d-f87884e79564"
      },
      "execution_count": 37,
      "outputs": [
        {
          "output_type": "stream",
          "name": "stdout",
          "text": [
            "Model: \"model\"\n",
            "_________________________________________________________________\n",
            " Layer (type)                Output Shape              Param #   \n",
            "=================================================================\n",
            " input_1 (InputLayer)        [(None, 1)]               0         \n",
            "                                                                 \n",
            " text_vectorization_1 (TextV  (None, 15)               0         \n",
            " ectorization)                                                   \n",
            "                                                                 \n",
            " embedding (Embedding)       (None, 15, 128)           1280000   \n",
            "                                                                 \n",
            " global_average_pooling1d (G  (None, 128)              0         \n",
            " lobalAveragePooling1D)                                          \n",
            "                                                                 \n",
            " dense (Dense)               (None, 1)                 129       \n",
            "                                                                 \n",
            "=================================================================\n",
            "Total params: 1,280,129\n",
            "Trainable params: 1,280,129\n",
            "Non-trainable params: 0\n",
            "_________________________________________________________________\n"
          ]
        }
      ]
    },
    {
      "cell_type": "code",
      "source": [
        "model_1_history = model_1.fit(train_sentences, train_labels, epochs=5, validation_data=(val_sentences, val_labels), callbacks=[create_tb_callback('CNN_1', 'experiments')])"
      ],
      "metadata": {
        "colab": {
          "base_uri": "https://localhost:8080/"
        },
        "id": "C8ezfliwTYup",
        "outputId": "197d7b89-1c18-433c-fd04-78401c40b3b6"
      },
      "execution_count": 38,
      "outputs": [
        {
          "output_type": "stream",
          "name": "stdout",
          "text": [
            "Epoch 1/5\n",
            "215/215 [==============================] - 13s 14ms/step - loss: 0.6159 - accuracy: 0.6843 - val_loss: 0.5105 - val_accuracy: 0.8018\n",
            "Epoch 2/5\n",
            "215/215 [==============================] - 2s 9ms/step - loss: 0.4492 - accuracy: 0.8139 - val_loss: 0.4113 - val_accuracy: 0.8268\n",
            "Epoch 3/5\n",
            "215/215 [==============================] - 2s 9ms/step - loss: 0.3537 - accuracy: 0.8596 - val_loss: 0.3908 - val_accuracy: 0.8307\n",
            "Epoch 4/5\n",
            "215/215 [==============================] - 2s 9ms/step - loss: 0.2901 - accuracy: 0.8866 - val_loss: 0.3912 - val_accuracy: 0.8346\n",
            "Epoch 5/5\n",
            "215/215 [==============================] - 2s 9ms/step - loss: 0.2413 - accuracy: 0.9108 - val_loss: 0.4032 - val_accuracy: 0.8268\n"
          ]
        }
      ]
    },
    {
      "cell_type": "code",
      "source": [
        "plot_loss_curves(model_1_history)"
      ],
      "metadata": {
        "colab": {
          "base_uri": "https://localhost:8080/",
          "height": 401
        },
        "id": "W1NxfcZKVAtY",
        "outputId": "3538c112-7d17-456c-9d4a-c9f2963662de"
      },
      "execution_count": 39,
      "outputs": [
        {
          "output_type": "display_data",
          "data": {
            "text/plain": [
              "<Figure size 720x432 with 2 Axes>"
            ],
            "image/png": "[encoded data removed]"
          },
          "metadata": {
            "needs_background": "light"
          }
        }
      ]
    },
    {
      "cell_type": "code",
      "source": [
        "model_1_preds = tf.round(tf.squeeze(model_1.predict(val_sentences)))"
      ],
      "metadata": {
        "id": "-knfM6voYBoo"
      },
      "execution_count": 40,
      "outputs": []
    },
    {
      "cell_type": "code",
      "source": [
        "binary_classification_scores(val_labels, model_1_preds)"
      ],
      "metadata": {
        "colab": {
          "base_uri": "https://localhost:8080/"
        },
        "id": "bevV5m6jdu3H",
        "outputId": "c8ad35bc-da0a-4151-9477-169899c088be"
      },
      "execution_count": 41,
      "outputs": [
        {
          "output_type": "stream",
          "name": "stdout",
          "text": [
            "Accuracy: 0.8267716535433071\n",
            "Precision: 0.8415492957746479\n",
            "Recall: 0.7331288343558282\n",
            "F1_score: 0.7836065573770491\n"
          ]
        }
      ]
    },
    {
      "cell_type": "code",
      "source": [
        "words_in_vocab = text_vectorizer.get_vocabulary()\n",
        "len(words_in_vocab)"
      ],
      "metadata": {
        "id": "6aXlHprBt7Vk",
        "colab": {
          "base_uri": "https://localhost:8080/"
        },
        "outputId": "23c997e3-f613-4e03-c6bb-711b608f6549"
      },
      "execution_count": 42,
      "outputs": [
        {
          "output_type": "execute_result",
          "data": {
            "text/plain": [
              "10000"
            ]
          },
          "metadata": {},
          "execution_count": 42
        }
      ]
    },
    {
      "cell_type": "code",
      "source": [
        "embed_weights = model_1.get_layer('embedding').get_weights()[0]\n",
        "embed_weights"
      ],
      "metadata": {
        "colab": {
          "base_uri": "https://localhost:8080/"
        },
        "id": "LHseCLK3SOlF",
        "outputId": "7818c9d9-0817-41a0-d870-6ca694b276d5"
      },
      "execution_count": 43,
      "outputs": [
        {
          "output_type": "execute_result",
          "data": {
            "text/plain": [
              "array([[ 0.03500928,  0.01446934,  0.04072616, ..., -0.00586116,\n",
              "         0.02749667,  0.00835532],\n",
              "       [-0.04981109, -0.03360385, -0.00708462, ..., -0.02563532,\n",
              "        -0.02004058,  0.03166411],\n",
              "       [ 0.0048969 , -0.00988207, -0.04074307, ..., -0.02642255,\n",
              "        -0.01098131,  0.00290589],\n",
              "       ...,\n",
              "       [ 0.05668994,  0.05925461,  0.08580887, ..., -0.10278773,\n",
              "         0.10623459, -0.04734999],\n",
              "       [-0.07431681, -0.08859541, -0.08087185, ...,  0.03712862,\n",
              "        -0.10855644,  0.03085047],\n",
              "       [ 0.09631263,  0.1050742 ,  0.08889434, ..., -0.01842288,\n",
              "         0.05387398, -0.0076967 ]], dtype=float32)"
            ]
          },
          "metadata": {},
          "execution_count": 43
        }
      ]
    },
    {
      "cell_type": "code",
      "source": [
        "# import io\n",
        "# out_v = io.open('vectors.tsv', 'w', encoding='utf-8')\n",
        "# out_m = io.open('metadata.tsv', 'w', encoding='utf-8')\n",
        "\n",
        "# for index, word in enumerate(words_in_vocab):\n",
        "#   if index == 0:\n",
        "#     continue  # skip 0, it's padding.\n",
        "#   vec = embed_weights[index]\n",
        "#   out_v.write('\\t'.join([str(x) for x in vec]) + \"\\n\")\n",
        "#   out_m.write(word + \"\\n\")\n",
        "# out_v.close()\n",
        "# out_m.close()"
      ],
      "metadata": {
        "id": "ZhK4ZgYjStqd"
      },
      "execution_count": 44,
      "outputs": []
    },
    {
      "cell_type": "code",
      "source": [
        "# try:\n",
        "#   from google.colab import files\n",
        "#   files.download('vectors.tsv')\n",
        "#   files.download('metadata.tsv')\n",
        "# except Exception:\n",
        "#   pass"
      ],
      "metadata": {
        "id": "sjW35hAdUZ-9"
      },
      "execution_count": 45,
      "outputs": []
    },
    {
      "cell_type": "markdown",
      "source": [
        "### LSTM\n",
        "\n",
        "LSTM - long short term memory"
      ],
      "metadata": {
        "id": "CgynvEExJQY4"
      }
    },
    {
      "cell_type": "code",
      "source": [
        "inputs = layers.Input(shape=(1,), dtype=tf.string)\n",
        "x = text_vectorizer(inputs)\n",
        "x = embedding(x)\n",
        "x = layers.LSTM(64, return_sequences=True)(x)\n",
        "x = layers.LSTM(64)(x)\n",
        "x = layers.Dense(64, activation='relu')(x)\n",
        "outputs = layers.Dense(1, activation='sigmoid')(x)\n",
        "model_2 = tf.keras.Model(inputs, outputs)"
      ],
      "metadata": {
        "id": "TbEzlfvwLp1d"
      },
      "execution_count": 46,
      "outputs": []
    },
    {
      "cell_type": "code",
      "source": [
        "model_2.compile(loss='binary_crossentropy', optimizer='adam', metrics=['accuracy'])\n",
        "history_2 = model_2.fit(train_sentences, train_labels, epochs=5, callbacks=[create_tb_callback('first_RNN', 'experiments')], validation_data=(val_sentences, val_labels))"
      ],
      "metadata": {
        "colab": {
          "base_uri": "https://localhost:8080/"
        },
        "id": "T2Y9UezQMdw9",
        "outputId": "b263945f-e355-444a-fd3d-3133e6356187"
      },
      "execution_count": 47,
      "outputs": [
        {
          "output_type": "stream",
          "name": "stdout",
          "text": [
            "Epoch 1/5\n",
            "215/215 [==============================] - 10s 12ms/step - loss: 0.2324 - accuracy: 0.9165 - val_loss: 0.4766 - val_accuracy: 0.8163\n",
            "Epoch 2/5\n",
            "215/215 [==============================] - 2s 8ms/step - loss: 0.1608 - accuracy: 0.9397 - val_loss: 0.5603 - val_accuracy: 0.8228\n",
            "Epoch 3/5\n",
            "215/215 [==============================] - 2s 8ms/step - loss: 0.1326 - accuracy: 0.9499 - val_loss: 0.7069 - val_accuracy: 0.8058\n",
            "Epoch 4/5\n",
            "215/215 [==============================] - 2s 8ms/step - loss: 0.1083 - accuracy: 0.9574 - val_loss: 0.6848 - val_accuracy: 0.8045\n",
            "Epoch 5/5\n",
            "215/215 [==============================] - 2s 8ms/step - loss: 0.0934 - accuracy: 0.9650 - val_loss: 0.8166 - val_accuracy: 0.7940\n"
          ]
        }
      ]
    },
    {
      "cell_type": "code",
      "source": [
        "plot_loss_curves(history_2)"
      ],
      "metadata": {
        "colab": {
          "base_uri": "https://localhost:8080/",
          "height": 398
        },
        "id": "0vDUFqbqM7oF",
        "outputId": "a205d9f7-1263-4b17-e615-ce9ffc3bb746"
      },
      "execution_count": 48,
      "outputs": [
        {
          "output_type": "display_data",
          "data": {
            "text/plain": [
              "<Figure size 720x432 with 2 Axes>"
            ],
            "image/png": "[encoded data removed]"
          },
          "metadata": {
            "needs_background": "light"
          }
        }
      ]
    },
    {
      "cell_type": "code",
      "source": [
        "binary_classification_scores(tf.round(model_2.predict(val_sentences)), val_labels)"
      ],
      "metadata": {
        "colab": {
          "base_uri": "https://localhost:8080/"
        },
        "id": "O1nkiknANFZ1",
        "outputId": "9d5b6be2-562f-4b2b-89e7-2808a961c107"
      },
      "execution_count": 49,
      "outputs": [
        {
          "output_type": "stream",
          "name": "stdout",
          "text": [
            "Accuracy: 0.7939632545931758\n",
            "Precision: 0.7055214723926381\n",
            "Recall: 0.7903780068728522\n",
            "F1_score: 0.7455429497568882\n"
          ]
        }
      ]
    },
    {
      "cell_type": "code",
      "source": [
        "model_2.summary()"
      ],
      "metadata": {
        "id": "w69NGdzXU6bR",
        "colab": {
          "base_uri": "https://localhost:8080/"
        },
        "outputId": "5ebefeff-353c-495b-8f0c-98b6113c0e6f"
      },
      "execution_count": 50,
      "outputs": [
        {
          "output_type": "stream",
          "name": "stdout",
          "text": [
            "Model: \"model_1\"\n",
            "_________________________________________________________________\n",
            " Layer (type)                Output Shape              Param #   \n",
            "=================================================================\n",
            " input_2 (InputLayer)        [(None, 1)]               0         \n",
            "                                                                 \n",
            " text_vectorization_1 (TextV  (None, 15)               0         \n",
            " ectorization)                                                   \n",
            "                                                                 \n",
            " embedding (Embedding)       (None, 15, 128)           1280000   \n",
            "                                                                 \n",
            " lstm (LSTM)                 (None, 15, 64)            49408     \n",
            "                                                                 \n",
            " lstm_1 (LSTM)               (None, 64)                33024     \n",
            "                                                                 \n",
            " dense_1 (Dense)             (None, 64)                4160      \n",
            "                                                                 \n",
            " dense_2 (Dense)             (None, 1)                 65        \n",
            "                                                                 \n",
            "=================================================================\n",
            "Total params: 1,366,657\n",
            "Trainable params: 1,366,657\n",
            "Non-trainable params: 0\n",
            "_________________________________________________________________\n"
          ]
        }
      ]
    },
    {
      "cell_type": "code",
      "source": [
        "inputs = layers.Input(shape=(1,), dtype=tf.string)\n",
        "x = text_vectorizer(inputs)\n",
        "x = embedding(x)\n",
        "x = layers.GRU(64, return_sequences=True)(x)\n",
        "x = layers.GRU(64)(x)\n",
        "x = layers.Dense(64, activation='relu')(x)\n",
        "outputs = layers.Dense(1, activation='sigmoid')(x)\n",
        "\n",
        "model_3 = tf.keras.Model(inputs, outputs)\n",
        "\n",
        "model_3.compile(loss='binary_crossentropy', optimizer='adam', metrics=['accuracy'])\n",
        "\n",
        "history_3 = model_3.fit(train_sentences, train_labels, epochs=5, callbacks=[create_tb_callback('GRU', 'experiments')], validation_data=(val_sentences, val_labels))"
      ],
      "metadata": {
        "id": "anib_elHczRK",
        "colab": {
          "base_uri": "https://localhost:8080/"
        },
        "outputId": "2ceb6a27-20ce-4bb0-af78-64e11f791726"
      },
      "execution_count": 51,
      "outputs": [
        {
          "output_type": "stream",
          "name": "stdout",
          "text": [
            "Epoch 1/5\n",
            "215/215 [==============================] - 5s 11ms/step - loss: 0.1459 - accuracy: 0.9453 - val_loss: 0.7285 - val_accuracy: 0.7887\n",
            "Epoch 2/5\n",
            "215/215 [==============================] - 2s 8ms/step - loss: 0.0896 - accuracy: 0.9675 - val_loss: 0.6900 - val_accuracy: 0.7940\n",
            "Epoch 3/5\n",
            "215/215 [==============================] - 2s 8ms/step - loss: 0.0722 - accuracy: 0.9704 - val_loss: 0.9559 - val_accuracy: 0.7861\n",
            "Epoch 4/5\n",
            "215/215 [==============================] - 2s 7ms/step - loss: 0.0605 - accuracy: 0.9736 - val_loss: 1.0323 - val_accuracy: 0.7874\n",
            "Epoch 5/5\n",
            "215/215 [==============================] - 2s 8ms/step - loss: 0.0558 - accuracy: 0.9733 - val_loss: 1.0911 - val_accuracy: 0.8058\n"
          ]
        }
      ]
    },
    {
      "cell_type": "code",
      "source": [
        "binary_classification_scores(val_labels, tf.round(model_3.predict(val_sentences)))"
      ],
      "metadata": {
        "id": "78NJX9ype1bh",
        "colab": {
          "base_uri": "https://localhost:8080/"
        },
        "outputId": "5dd4f176-b75a-434d-cb48-8a6367776179"
      },
      "execution_count": 52,
      "outputs": [
        {
          "output_type": "stream",
          "name": "stdout",
          "text": [
            "Accuracy: 0.8057742782152231\n",
            "Precision: 0.8068965517241379\n",
            "Recall: 0.7177914110429447\n",
            "F1_score: 0.7597402597402596\n"
          ]
        }
      ]
    },
    {
      "cell_type": "markdown",
      "source": [
        "### Biderectional RNN"
      ],
      "metadata": {
        "id": "QCFUTlrNLDI-"
      }
    },
    {
      "cell_type": "code",
      "source": [
        "inputs = layers.Input(shape=(1,), dtype=tf.string)\n",
        "x = text_vectorizer(inputs)\n",
        "x = embedding(x)\n",
        "x = layers.Bidirectional(layers.LSTM(64, return_sequences=True))(x)\n",
        "x = layers.Bidirectional(layers.LSTM(64))(x)\n",
        "x = layers.Dense(64, activation='relu')(x)\n",
        "outputs = layers.Dense(1, activation='sigmoid')(x)\n",
        "\n",
        "model_4 = tf.keras.Model(inputs, outputs)\n",
        "\n",
        "model_4.compile(loss='binary_crossentropy', optimizer='adam', metrics=['accuracy'])\n",
        "\n",
        "history_4 = model_4.fit(train_sentences, train_labels, epochs=5, validation_data=(val_sentences, val_labels), callbacks=[create_tb_callback('Bidirectional', 'experiments')])"
      ],
      "metadata": {
        "colab": {
          "base_uri": "https://localhost:8080/"
        },
        "id": "sRc7ZVP2cTQb",
        "outputId": "b2925729-91fa-4424-b919-2e6886092578"
      },
      "execution_count": 53,
      "outputs": [
        {
          "output_type": "stream",
          "name": "stdout",
          "text": [
            "Epoch 1/5\n",
            "215/215 [==============================] - 9s 19ms/step - loss: 0.1009 - accuracy: 0.9691 - val_loss: 0.8657 - val_accuracy: 0.7546\n",
            "Epoch 2/5\n",
            "215/215 [==============================] - 3s 12ms/step - loss: 0.0548 - accuracy: 0.9755 - val_loss: 1.0449 - val_accuracy: 0.7940\n",
            "Epoch 3/5\n",
            "215/215 [==============================] - 3s 12ms/step - loss: 0.0496 - accuracy: 0.9758 - val_loss: 1.2333 - val_accuracy: 0.7625\n",
            "Epoch 4/5\n",
            "215/215 [==============================] - 3s 12ms/step - loss: 0.0502 - accuracy: 0.9765 - val_loss: 1.1523 - val_accuracy: 0.7782\n",
            "Epoch 5/5\n",
            "215/215 [==============================] - 3s 12ms/step - loss: 0.0447 - accuracy: 0.9801 - val_loss: 0.9890 - val_accuracy: 0.7848\n"
          ]
        }
      ]
    },
    {
      "cell_type": "code",
      "source": [
        "binary_classification_scores(val_labels, tf.round(model_4.predict(val_sentences)))"
      ],
      "metadata": {
        "colab": {
          "base_uri": "https://localhost:8080/"
        },
        "id": "803IkYmOgqsg",
        "outputId": "03b06fec-dd45-4618-be2b-df3139b8405e"
      },
      "execution_count": 54,
      "outputs": [
        {
          "output_type": "stream",
          "name": "stdout",
          "text": [
            "Accuracy: 0.7847769028871391\n",
            "Precision: 0.7682119205298014\n",
            "Recall: 0.7116564417177914\n",
            "F1_score: 0.7388535031847134\n"
          ]
        }
      ]
    },
    {
      "cell_type": "code",
      "source": [
        "inputs = layers.Input(shape=(1,), dtype=tf.string)\n",
        "x = text_vectorizer(inputs)\n",
        "x = embedding(x)\n",
        "x = layers.Conv1D(32, 3, activation='relu', padding='valid')(x)\n",
        "x = layers.GlobalMaxPooling1D()(x)\n",
        "outputs = layers.Dense(1, activation='sigmoid')(x)\n",
        "model_5 = tf.keras.Model(inputs, outputs)\n",
        "\n",
        "model_5.compile(loss=tf.keras.losses.binary_crossentropy, optimizer=tf.keras.optimizers.Adam(), metrics=['accuracy'])"
      ],
      "metadata": {
        "id": "lYx4yojwgyIf"
      },
      "execution_count": 55,
      "outputs": []
    },
    {
      "cell_type": "code",
      "source": [
        "history_5 = model_5.fit(train_sentences, train_labels, epochs=5, validation_data=(val_sentences, val_labels), callbacks=[create_tb_callback('CNNconv1D', 'experiments')])"
      ],
      "metadata": {
        "colab": {
          "base_uri": "https://localhost:8080/"
        },
        "id": "kzPbL98fL_1J",
        "outputId": "f90cbd4e-ab9b-4850-803d-46da9e08e643"
      },
      "execution_count": 56,
      "outputs": [
        {
          "output_type": "stream",
          "name": "stdout",
          "text": [
            "Epoch 1/5\n",
            "215/215 [==============================] - 9s 6ms/step - loss: 0.1629 - accuracy: 0.9504 - val_loss: 0.7166 - val_accuracy: 0.7953\n",
            "Epoch 2/5\n",
            "215/215 [==============================] - 1s 5ms/step - loss: 0.0905 - accuracy: 0.9676 - val_loss: 0.8439 - val_accuracy: 0.7900\n",
            "Epoch 3/5\n",
            "215/215 [==============================] - 1s 5ms/step - loss: 0.0694 - accuracy: 0.9730 - val_loss: 0.9359 - val_accuracy: 0.7940\n",
            "Epoch 4/5\n",
            "215/215 [==============================] - 1s 5ms/step - loss: 0.0590 - accuracy: 0.9752 - val_loss: 1.0363 - val_accuracy: 0.7717\n",
            "Epoch 5/5\n",
            "215/215 [==============================] - 1s 5ms/step - loss: 0.0561 - accuracy: 0.9746 - val_loss: 1.0708 - val_accuracy: 0.7874\n"
          ]
        }
      ]
    },
    {
      "cell_type": "code",
      "source": [
        "binary_classification_scores(val_labels, tf.round(model_5.predict(val_sentences)))"
      ],
      "metadata": {
        "id": "4P7_Cr5HMYiY",
        "colab": {
          "base_uri": "https://localhost:8080/"
        },
        "outputId": "f3736294-b191-4311-a7ce-c4fa1cef0898"
      },
      "execution_count": 57,
      "outputs": [
        {
          "output_type": "stream",
          "name": "stdout",
          "text": [
            "Accuracy: 0.7874015748031497\n",
            "Precision: 0.7578616352201258\n",
            "Recall: 0.7392638036809815\n",
            "F1_score: 0.7484472049689441\n"
          ]
        }
      ]
    },
    {
      "cell_type": "code",
      "source": [
        "import tensorflow_hub as hub\n",
        "\n",
        "encoder_layer = hub.KerasLayer('https://tfhub.dev/google/universal-sentence-encoder/4',\n",
        "                               input_shape=[],\n",
        "                               dtype=tf.string,\n",
        "                               trainable=False)"
      ],
      "metadata": {
        "id": "hmagRfgKsQzS"
      },
      "execution_count": 58,
      "outputs": []
    },
    {
      "cell_type": "code",
      "source": [
        "model_6 = tf.keras.Sequential([\n",
        "                               encoder_layer,\n",
        "                               layers.Dense(512, activation='relu'),\n",
        "                               layers.Dense(1, activation='sigmoid')\n",
        "])"
      ],
      "metadata": {
        "id": "IHfTXFUy-kuH"
      },
      "execution_count": 59,
      "outputs": []
    },
    {
      "cell_type": "code",
      "source": [
        "model_6.compile(loss='binary_crossentropy', optimizer='adam', metrics=['accuracy'])\n",
        "history_6 = model_6.fit(train_sentences, train_labels, epochs=5, validation_data=(val_sentences, val_labels), callbacks=[create_tb_callback('FeatureExtraction', 'experiments')])"
      ],
      "metadata": {
        "colab": {
          "base_uri": "https://localhost:8080/"
        },
        "id": "C7ZfyFe9xfOC",
        "outputId": "052136cf-bbd5-45c9-8a7e-c063aa1e9bb1"
      },
      "execution_count": 60,
      "outputs": [
        {
          "output_type": "stream",
          "name": "stdout",
          "text": [
            "Epoch 1/5\n",
            "215/215 [==============================] - 7s 18ms/step - loss: 0.4682 - accuracy: 0.7867 - val_loss: 0.3996 - val_accuracy: 0.8163\n",
            "Epoch 2/5\n",
            "215/215 [==============================] - 3s 12ms/step - loss: 0.4019 - accuracy: 0.8259 - val_loss: 0.4038 - val_accuracy: 0.8241\n",
            "Epoch 3/5\n",
            "215/215 [==============================] - 3s 12ms/step - loss: 0.3789 - accuracy: 0.8336 - val_loss: 0.4053 - val_accuracy: 0.8215\n",
            "Epoch 4/5\n",
            "215/215 [==============================] - 3s 12ms/step - loss: 0.3546 - accuracy: 0.8462 - val_loss: 0.4104 - val_accuracy: 0.8281\n",
            "Epoch 5/5\n",
            "215/215 [==============================] - 2s 11ms/step - loss: 0.3281 - accuracy: 0.8602 - val_loss: 0.4164 - val_accuracy: 0.8333\n"
          ]
        }
      ]
    },
    {
      "cell_type": "code",
      "source": [
        "binary_classification_scores(val_labels, tf.round(model_6.predict(val_sentences)))"
      ],
      "metadata": {
        "colab": {
          "base_uri": "https://localhost:8080/"
        },
        "id": "KI2AbNwpyj05",
        "outputId": "53cab771-4f64-4e36-86c5-8e1a6d8d9cf6"
      },
      "execution_count": 61,
      "outputs": [
        {
          "output_type": "stream",
          "name": "stdout",
          "text": [
            "Accuracy: 0.8333333333333334\n",
            "Precision: 0.8754716981132076\n",
            "Recall: 0.7116564417177914\n",
            "F1_score: 0.7851099830795262\n"
          ]
        }
      ]
    },
    {
      "cell_type": "markdown",
      "source": [
        "# Smol"
      ],
      "metadata": {
        "id": "k_pFfFwdxzwy"
      }
    },
    {
      "cell_type": "code",
      "source": [
        "train_10_percent = train_df_shuffled[['text', 'target']].sample(frac=0.1)\n",
        "# DATA LEAKAGE!"
      ],
      "metadata": {
        "id": "Lbxqln94Cwuo"
      },
      "execution_count": 62,
      "outputs": []
    },
    {
      "cell_type": "code",
      "source": [
        "train_10_percent['target'].value_counts()"
      ],
      "metadata": {
        "colab": {
          "base_uri": "https://localhost:8080/"
        },
        "id": "qYMESnW7DCun",
        "outputId": "6c6234c0-40a4-4ca0-ea82-dac8ae7d11b2"
      },
      "execution_count": 63,
      "outputs": [
        {
          "output_type": "execute_result",
          "data": {
            "text/plain": [
              "0    429\n",
              "1    332\n",
              "Name: target, dtype: int64"
            ]
          },
          "metadata": {},
          "execution_count": 63
        }
      ]
    },
    {
      "cell_type": "code",
      "source": [
        "train_df_shuffled['target'].value_counts()"
      ],
      "metadata": {
        "colab": {
          "base_uri": "https://localhost:8080/"
        },
        "id": "aj66Wdg4Dzzn",
        "outputId": "4de4bdae-20f8-4c95-c5f3-0436881725c2"
      },
      "execution_count": 64,
      "outputs": [
        {
          "output_type": "execute_result",
          "data": {
            "text/plain": [
              "0    4342\n",
              "1    3271\n",
              "Name: target, dtype: int64"
            ]
          },
          "metadata": {},
          "execution_count": 64
        }
      ]
    },
    {
      "cell_type": "code",
      "source": [
        "model_7 = tf.keras.Sequential([\n",
        "                               encoder_layer,\n",
        "                               layers.Dense(512, activation='relu'),\n",
        "                               layers.Dense(1, activation='sigmoid')\n",
        "])\n",
        "\n",
        "model_7.compile(loss='binary_crossentropy', optimizer='adam', metrics=['accuracy'])\n",
        "\n",
        "history_7 = model_7.fit(train_10_percent['text'], train_10_percent['target'], epochs=5, validation_data=(val_sentences, val_labels), callbacks=[create_tb_callback('10%featureextractionLEAK', 'experiments')])\n",
        "# DATA LEAKAGE!"
      ],
      "metadata": {
        "colab": {
          "base_uri": "https://localhost:8080/"
        },
        "id": "ajZCBx4iD5Kv",
        "outputId": "9eab5f5b-18f2-4f4c-ea3e-dc681943aceb"
      },
      "execution_count": 65,
      "outputs": [
        {
          "output_type": "stream",
          "name": "stdout",
          "text": [
            "Epoch 1/5\n",
            "24/24 [==============================] - 2s 40ms/step - loss: 0.6217 - accuracy: 0.7635 - val_loss: 0.5324 - val_accuracy: 0.8150\n",
            "Epoch 2/5\n",
            "24/24 [==============================] - 1s 25ms/step - loss: 0.4565 - accuracy: 0.8344 - val_loss: 0.4338 - val_accuracy: 0.8084\n",
            "Epoch 3/5\n",
            "24/24 [==============================] - 1s 25ms/step - loss: 0.3663 - accuracy: 0.8515 - val_loss: 0.4124 - val_accuracy: 0.8176\n",
            "Epoch 4/5\n",
            "24/24 [==============================] - 1s 25ms/step - loss: 0.3168 - accuracy: 0.8725 - val_loss: 0.4112 - val_accuracy: 0.8163\n",
            "Epoch 5/5\n",
            "24/24 [==============================] - 1s 24ms/step - loss: 0.2820 - accuracy: 0.9014 - val_loss: 0.4197 - val_accuracy: 0.8136\n"
          ]
        }
      ]
    },
    {
      "cell_type": "code",
      "source": [
        "binary_classification_scores(val_labels, tf.round(model_7.predict(val_sentences)))"
      ],
      "metadata": {
        "colab": {
          "base_uri": "https://localhost:8080/"
        },
        "id": "cccrBwF9KMJR",
        "outputId": "ff1f4310-703d-48c3-d3e0-633a7658ebb7"
      },
      "execution_count": 66,
      "outputs": [
        {
          "output_type": "stream",
          "name": "stdout",
          "text": [
            "Accuracy: 0.8136482939632546\n",
            "Precision: 0.7987012987012987\n",
            "Recall: 0.754601226993865\n",
            "F1_score: 0.7760252365930599\n"
          ]
        }
      ]
    },
    {
      "cell_type": "code",
      "source": [
        "train_sentences_10_percent, train_labels_10_percent = train_sentences[:int(len(train_sentences)/10)], train_labels[:int(len(train_labels)/10)]"
      ],
      "metadata": {
        "id": "Ni31hXdmKad5"
      },
      "execution_count": 67,
      "outputs": []
    },
    {
      "cell_type": "code",
      "source": [
        "model_8 = tf.keras.models.clone_model(model_7)\n",
        "model_8.compile(loss='binary_crossentropy', optimizer='adam', metrics=['accuracy'])\n",
        "\n",
        "history_8 = model_8.fit(train_sentences_10_percent, train_labels_10_percent, epochs=5, validation_data=(val_sentences, val_labels), callbacks=[create_tb_callback('10%featureextraction', 'experiments')])\n"
      ],
      "metadata": {
        "colab": {
          "base_uri": "https://localhost:8080/"
        },
        "id": "e34bEIqBNYKa",
        "outputId": "9830d451-0eb6-4bc5-b6fb-0f3e841c71cc"
      },
      "execution_count": 68,
      "outputs": [
        {
          "output_type": "stream",
          "name": "stdout",
          "text": [
            "Epoch 1/5\n",
            "22/22 [==============================] - 4s 44ms/step - loss: 0.6287 - accuracy: 0.7431 - val_loss: 0.5492 - val_accuracy: 0.8031\n",
            "Epoch 2/5\n",
            "22/22 [==============================] - 1s 25ms/step - loss: 0.4786 - accuracy: 0.8015 - val_loss: 0.4506 - val_accuracy: 0.8150\n",
            "Epoch 3/5\n",
            "22/22 [==============================] - 0s 22ms/step - loss: 0.3951 - accuracy: 0.8161 - val_loss: 0.4306 - val_accuracy: 0.8176\n",
            "Epoch 4/5\n",
            "22/22 [==============================] - 1s 26ms/step - loss: 0.3425 - accuracy: 0.8438 - val_loss: 0.4341 - val_accuracy: 0.8045\n",
            "Epoch 5/5\n",
            "22/22 [==============================] - 0s 21ms/step - loss: 0.3069 - accuracy: 0.8861 - val_loss: 0.4450 - val_accuracy: 0.8031\n"
          ]
        }
      ]
    },
    {
      "cell_type": "code",
      "source": [
        "#!tensorboard dev upload --logdir 'experiments'"
      ],
      "metadata": {
        "id": "srcX8ZwCSLvE"
      },
      "execution_count": 69,
      "outputs": []
    },
    {
      "cell_type": "code",
      "source": [
        "#!tensorboard dev list"
      ],
      "metadata": {
        "id": "darDlQhnTNvs"
      },
      "execution_count": 70,
      "outputs": []
    },
    {
      "cell_type": "code",
      "source": [
        "model_6.save('model_NLP.h5')"
      ],
      "metadata": {
        "id": "Ngx8wat_UmMk"
      },
      "execution_count": 71,
      "outputs": []
    },
    {
      "cell_type": "code",
      "source": [
        "loaded_model = tf.keras.models.load_model('model_NLP.h5',\n",
        "                                          custom_objects={'KerasLayer': hub.KerasLayer})"
      ],
      "metadata": {
        "id": "CCV1XrjUF7ft"
      },
      "execution_count": 72,
      "outputs": []
    },
    {
      "cell_type": "code",
      "source": [
        "def plot_wrong(test_sentences,  test_labels, model):\n",
        "  y_preds = tf.squeeze(model.predict(test_sentences))\n",
        "  y_preds_binary = tf.round(y_preds)\n",
        "  df = pd.DataFrame({'Sentences': test_sentences, 'True Labels': test_labels, 'Pred Labels': y_preds_binary, 'Pred Probabilities': y_preds})\n",
        "  df_wrong = df[df['True Labels'] != df['Pred Labels']]\n",
        "  df_wrong['Difference'] = abs(df_wrong['True Labels']-df_wrong['Pred Probabilities'])\n",
        "  df_wrong = df_wrong.sort_values('Difference', ascending=True, ignore_index=True)\n",
        "  return df_wrong"
      ],
      "metadata": {
        "id": "7vuytiiaHInM"
      },
      "execution_count": 73,
      "outputs": []
    },
    {
      "cell_type": "code",
      "source": [
        "val_sentences.shape, val_labels.shape, tf.squeeze(tf.round(model_7.predict(val_sentences))).shape"
      ],
      "metadata": {
        "colab": {
          "base_uri": "https://localhost:8080/"
        },
        "id": "dceCwIQdJS8U",
        "outputId": "cf33da2f-27c2-431d-d38b-b5cfbd07cd30"
      },
      "execution_count": 74,
      "outputs": [
        {
          "output_type": "execute_result",
          "data": {
            "text/plain": [
              "((762,), (762,), TensorShape([762]))"
            ]
          },
          "metadata": {},
          "execution_count": 74
        }
      ]
    },
    {
      "cell_type": "code",
      "source": [
        "y_preds = tf.squeeze(model_6.predict(val_sentences))\n",
        "y_preds_binary = tf.round(y_preds)\n",
        "df = pd.DataFrame({'Sentences': val_sentences, 'True Labels': val_labels, 'Pred Labels': y_preds_binary, 'Pred Probabilities': y_preds})\n",
        "df_wrong = df[df['True Labels'] != df['Pred Labels']]\n",
        "for i in df_wrong.iloc:\n",
        "  print(i)"
      ],
      "metadata": {
        "id": "rI2HCZrQKPAl",
        "colab": {
          "base_uri": "https://localhost:8080/"
        },
        "outputId": "3516e19f-631c-4a14-bcea-075d228c8070"
      },
      "execution_count": 75,
      "outputs": [
        {
          "output_type": "stream",
          "name": "stdout",
          "text": [
            "Sentences             Even if u have your weapon and your badge we g...\n",
            "True Labels                                                           1\n",
            "Pred Labels                                                         0.0\n",
            "Pred Probabilities                                             0.030052\n",
            "Name: 1, dtype: object\n",
            "Sentences             I've just posted on my Blog about: Criminals W...\n",
            "True Labels                                                           1\n",
            "Pred Labels                                                         0.0\n",
            "Pred Probabilities                                             0.152361\n",
            "Name: 15, dtype: object\n",
            "Sentences             @steveycheese99 @MapMyRun where you being elec...\n",
            "True Labels                                                           0\n",
            "Pred Labels                                                         1.0\n",
            "Pred Probabilities                                             0.611046\n",
            "Name: 17, dtype: object\n",
            "Sentences             Is it seclusion when a class is evacuated and ...\n",
            "True Labels                                                           1\n",
            "Pred Labels                                                         0.0\n",
            "Pred Probabilities                                             0.342192\n",
            "Name: 23, dtype: object\n",
            "Sentences             I liked a @YouTube video http://t.co/bGAJ2oAX1...\n",
            "True Labels                                                           1\n",
            "Pred Labels                                                         0.0\n",
            "Pred Probabilities                                              0.22405\n",
            "Name: 27, dtype: object\n",
            "Sentences             #hot  Funtenna: hijacking computers to send da...\n",
            "True Labels                                                           1\n",
            "Pred Labels                                                         0.0\n",
            "Pred Probabilities                                              0.23681\n",
            "Name: 29, dtype: object\n",
            "Sentences             @oooureli @Abu_Baraa1 You mean like the tolera...\n",
            "True Labels                                                           0\n",
            "Pred Labels                                                         1.0\n",
            "Pred Probabilities                                             0.890149\n",
            "Name: 33, dtype: object\n",
            "Sentences             Since 1940 the year Angela Sanders was born ro...\n",
            "True Labels                                                           1\n",
            "Pred Labels                                                         0.0\n",
            "Pred Probabilities                                             0.265709\n",
            "Name: 36, dtype: object\n",
            "Sentences             County 911 Overload Prompts Use of Emergency P...\n",
            "True Labels                                                           0\n",
            "Pred Labels                                                         1.0\n",
            "Pred Probabilities                                             0.768352\n",
            "Name: 44, dtype: object\n",
            "Sentences             @Michael5SOS haha so would you say its so hot ...\n",
            "True Labels                                                           1\n",
            "Pred Labels                                                         0.0\n",
            "Pred Probabilities                                              0.09101\n",
            "Name: 46, dtype: object\n",
            "Sentences             Gov. Brown allows parole for 1976 Chowchilla s...\n",
            "True Labels                                                           0\n",
            "Pred Labels                                                         1.0\n",
            "Pred Probabilities                                             0.782167\n",
            "Name: 50, dtype: object\n",
            "Sentences             #Vancouver to host 100s of electronic art even...\n",
            "True Labels                                                           0\n",
            "Pred Labels                                                         1.0\n",
            "Pred Probabilities                                             0.536728\n",
            "Name: 55, dtype: object\n",
            "Sentences             Leeds fan.... rioting in Embra at a lower tier...\n",
            "True Labels                                                           1\n",
            "Pred Labels                                                         0.0\n",
            "Pred Probabilities                                             0.233621\n",
            "Name: 57, dtype: object\n",
            "Sentences             @BrittanyPetko breaking news tonight kids were...\n",
            "True Labels                                                           1\n",
            "Pred Labels                                                         0.0\n",
            "Pred Probabilities                                             0.118868\n",
            "Name: 62, dtype: object\n",
            "Sentences             @I_AmTalia @SGC72 'Thousands of people were di...\n",
            "True Labels                                                           1\n",
            "Pred Labels                                                         0.0\n",
            "Pred Probabilities                                             0.159161\n",
            "Name: 66, dtype: object\n",
            "Sentences             I keep sneezing either someone placed a southe...\n",
            "True Labels                                                           0\n",
            "Pred Labels                                                         1.0\n",
            "Pred Probabilities                                             0.591633\n",
            "Name: 68, dtype: object\n",
            "Sentences             'Kessler Syndrome' is the name for the catastr...\n",
            "True Labels                                                           1\n",
            "Pred Labels                                                         0.0\n",
            "Pred Probabilities                                             0.238364\n",
            "Name: 69, dtype: object\n",
            "Sentences             RAIN RAIN GO AWAY... A soaker is on the way \\n...\n",
            "True Labels                                                           0\n",
            "Pred Labels                                                         1.0\n",
            "Pred Probabilities                                             0.721511\n",
            "Name: 71, dtype: object\n",
            "Sentences             I will adamantly opposed to nuclear weapons.\n",
            "True Labels                                                      1\n",
            "Pred Labels                                                    0.0\n",
            "Pred Probabilities                                         0.05908\n",
            "Name: 88, dtype: object\n",
            "Sentences             @TroySlaby22 slicker than an oil spill\n",
            "True Labels                                                0\n",
            "Pred Labels                                              1.0\n",
            "Pred Probabilities                                  0.766558\n",
            "Name: 90, dtype: object\n",
            "Sentences             Government Experts Concerned About Possible Bi...\n",
            "True Labels                                                           1\n",
            "Pred Labels                                                         0.0\n",
            "Pred Probabilities                                             0.276902\n",
            "Name: 92, dtype: object\n",
            "Sentences             Tales of the #trees #deep water loving #Lake T...\n",
            "True Labels                                                           0\n",
            "Pred Labels                                                         1.0\n",
            "Pred Probabilities                                             0.913754\n",
            "Name: 93, dtype: object\n",
            "Sentences             #forbes #europe China's Stock Market Crash: Ar...\n",
            "True Labels                                                           1\n",
            "Pred Labels                                                         0.0\n",
            "Pred Probabilities                                             0.100493\n",
            "Name: 100, dtype: object\n",
            "Sentences             Remove the http://t.co/VbqmZ5aPwj and Linkury ...\n",
            "True Labels                                                           1\n",
            "Pred Labels                                                         0.0\n",
            "Pred Probabilities                                             0.236305\n",
            "Name: 107, dtype: object\n",
            "Sentences             That horrible sinking feeling when youÛªve be...\n",
            "True Labels                                                           1\n",
            "Pred Labels                                                         0.0\n",
            "Pred Probabilities                                             0.195473\n",
            "Name: 111, dtype: object\n",
            "Sentences             That moment when you get on a scary roller coa...\n",
            "True Labels                                                           0\n",
            "Pred Labels                                                         1.0\n",
            "Pred Probabilities                                             0.589472\n",
            "Name: 119, dtype: object\n",
            "Sentences             PM Abe pledged to make every effort to seek a ...\n",
            "True Labels                                                           1\n",
            "Pred Labels                                                         0.0\n",
            "Pred Probabilities                                             0.380879\n",
            "Name: 137, dtype: object\n",
            "Sentences             @BoyInAHorsemask its a panda trapped in a dogs...\n",
            "True Labels                                                           1\n",
            "Pred Labels                                                         0.0\n",
            "Pred Probabilities                                             0.041138\n",
            "Name: 143, dtype: object\n",
            "Sentences             @Jolly_Jinu you said they are terrorist becaus...\n",
            "True Labels                                                           0\n",
            "Pred Labels                                                         1.0\n",
            "Pred Probabilities                                             0.791236\n",
            "Name: 149, dtype: object\n",
            "Sentences             The latest from @BryanSinger reveals #Storm is...\n",
            "True Labels                                                           1\n",
            "Pred Labels                                                         0.0\n",
            "Pred Probabilities                                             0.311727\n",
            "Name: 153, dtype: object\n",
            "Sentences             Detonation fashionable mountaineering electron...\n",
            "True Labels                                                           1\n",
            "Pred Labels                                                         0.0\n",
            "Pred Probabilities                                             0.083604\n",
            "Name: 165, dtype: object\n",
            "Sentences             [infowars]  Nashville Theater Attack: Will Gun...\n",
            "True Labels                                                           1\n",
            "Pred Labels                                                         0.0\n",
            "Pred Probabilities                                              0.48203\n",
            "Name: 167, dtype: object\n",
            "Sentences             A gas thing just exploded and I heard screams ...\n",
            "True Labels                                                           1\n",
            "Pred Labels                                                         0.0\n",
            "Pred Probabilities                                             0.389127\n",
            "Name: 171, dtype: object\n",
            "Sentences             Do you have a plan in case of a pool chemical ...\n",
            "True Labels                                                           0\n",
            "Pred Labels                                                         1.0\n",
            "Pred Probabilities                                             0.696184\n",
            "Name: 180, dtype: object\n",
            "Sentences             sevenfigz has a crush: http://t.co/20B3PnQxMD\n",
            "True Labels                                                       1\n",
            "Pred Labels                                                     0.0\n",
            "Pred Probabilities                                         0.088464\n",
            "Name: 182, dtype: object\n",
            "Sentences             Sustainability Task Force Presents Levy to Fun...\n",
            "True Labels                                                           1\n",
            "Pred Labels                                                         0.0\n",
            "Pred Probabilities                                             0.228116\n",
            "Name: 185, dtype: object\n",
            "Sentences             5/6 will destroy Reg C competitiveness.   The ...\n",
            "True Labels                                                           1\n",
            "Pred Labels                                                         0.0\n",
            "Pred Probabilities                                             0.088317\n",
            "Name: 191, dtype: object\n",
            "Sentences             @ThatSabineGirl you get me sis. this planet co...\n",
            "True Labels                                                           1\n",
            "Pred Labels                                                         0.0\n",
            "Pred Probabilities                                             0.149863\n",
            "Name: 192, dtype: object\n",
            "Sentences             Truth...\\nhttps://t.co/p5ZIcjUdXO\\n#News\\n#BBC...\n",
            "True Labels                                                           1\n",
            "Pred Labels                                                         0.0\n",
            "Pred Probabilities                                             0.119615\n",
            "Name: 202, dtype: object\n",
            "Sentences             Ignition Knock (Detonation) Sensor-Senso Stand...\n",
            "True Labels                                                           1\n",
            "Pred Labels                                                         0.0\n",
            "Pred Probabilities                                             0.105692\n",
            "Name: 222, dtype: object\n",
            "Sentences             Our builder is having a dental emergency. Whic...\n",
            "True Labels                                                           1\n",
            "Pred Labels                                                         0.0\n",
            "Pred Probabilities                                             0.074922\n",
            "Name: 240, dtype: object\n",
            "Sentences             New #photo Oak in a snowstorm http://t.co/HK9Y...\n",
            "True Labels                                                           1\n",
            "Pred Labels                                                         0.0\n",
            "Pred Probabilities                                             0.224864\n",
            "Name: 246, dtype: object\n",
            "Sentences             @alextucker VOLCANO BOWL DRINK\n",
            "True Labels                                        1\n",
            "Pred Labels                                      0.0\n",
            "Pred Probabilities                          0.484292\n",
            "Name: 260, dtype: object\n",
            "Sentences             And please don't flood poor @RobertBEnglund's ...\n",
            "True Labels                                                           1\n",
            "Pred Labels                                                         0.0\n",
            "Pred Probabilities                                             0.256891\n",
            "Name: 268, dtype: object\n",
            "Sentences             Camping in a war zone with roving raccoons tou...\n",
            "True Labels                                                           0\n",
            "Pred Labels                                                         1.0\n",
            "Pred Probabilities                                              0.72435\n",
            "Name: 275, dtype: object\n",
            "Sentences             Near them on the sand half sunk a shattered vi...\n",
            "True Labels                                                           1\n",
            "Pred Labels                                                         0.0\n",
            "Pred Probabilities                                             0.145165\n",
            "Name: 277, dtype: object\n",
            "Sentences             Remaining Sections Of Greystone Psychiatric Ho...\n",
            "True Labels                                                           0\n",
            "Pred Labels                                                         1.0\n",
            "Pred Probabilities                                             0.820182\n",
            "Name: 284, dtype: object\n",
            "Sentences             Talent: Misdirection Cyclone Pass Ignite Pass ...\n",
            "True Labels                                                           1\n",
            "Pred Labels                                                         0.0\n",
            "Pred Probabilities                                             0.354352\n",
            "Name: 293, dtype: object\n",
            "Sentences             CDC has a pretty cool list of all bioterrorism...\n",
            "True Labels                                                           1\n",
            "Pred Labels                                                         0.0\n",
            "Pred Probabilities                                             0.115581\n",
            "Name: 297, dtype: object\n",
            "Sentences             Though serious #natural #disaster increased in...\n",
            "True Labels                                                           1\n",
            "Pred Labels                                                         0.0\n",
            "Pred Probabilities                                             0.383895\n",
            "Name: 305, dtype: object\n",
            "Sentences             I was blow drying my hair &amp; the cable caug...\n",
            "True Labels                                                           1\n",
            "Pred Labels                                                         0.0\n",
            "Pred Probabilities                                             0.205848\n",
            "Name: 313, dtype: object\n",
            "Sentences             @HeyItsEpark heavy rain and hail\n",
            "True Labels                                          1\n",
            "Pred Labels                                        0.0\n",
            "Pred Probabilities                            0.363362\n",
            "Name: 320, dtype: object\n",
            "Sentences             Hollywood Movie About Trapped Miners Released ...\n",
            "True Labels                                                           1\n",
            "Pred Labels                                                         0.0\n",
            "Pred Probabilities                                             0.234262\n",
            "Name: 333, dtype: object\n",
            "Sentences             Policyholders object to Clico rescue plan http...\n",
            "True Labels                                                           1\n",
            "Pred Labels                                                         0.0\n",
            "Pred Probabilities                                             0.209311\n",
            "Name: 346, dtype: object\n",
            "Sentences             @APhiABeta1907 w/ugliness due 2 your 'ugly'@AM...\n",
            "True Labels                                                           1\n",
            "Pred Labels                                                         0.0\n",
            "Pred Probabilities                                              0.14686\n",
            "Name: 361, dtype: object\n",
            "Sentences             @AisuMage @AkumaReisu --just between Gray and ...\n",
            "True Labels                                                           1\n",
            "Pred Labels                                                         0.0\n",
            "Pred Probabilities                                             0.191389\n",
            "Name: 362, dtype: object\n",
            "Sentences             @HeyImBeeYT its like theres fire in my skin an...\n",
            "True Labels                                                           1\n",
            "Pred Labels                                                         0.0\n",
            "Pred Probabilities                                             0.147498\n",
            "Name: 371, dtype: object\n",
            "Sentences             Survivors of Shanghai Ghetto reunite after 70 ...\n",
            "True Labels                                                           0\n",
            "Pred Labels                                                         1.0\n",
            "Pred Probabilities                                             0.655723\n",
            "Name: 379, dtype: object\n",
            "Sentences             WIPP emergency activated because of slightly e...\n",
            "True Labels                                                           1\n",
            "Pred Labels                                                         0.0\n",
            "Pred Probabilities                                             0.181061\n",
            "Name: 394, dtype: object\n",
            "Sentences             Trafford Centre film fans angry after Odeon ci...\n",
            "True Labels                                                           1\n",
            "Pred Labels                                                         0.0\n",
            "Pred Probabilities                                             0.483971\n",
            "Name: 399, dtype: object\n",
            "Sentences             During the 1960s the oryx a symbol of the Arab...\n",
            "True Labels                                                           1\n",
            "Pred Labels                                                         0.0\n",
            "Pred Probabilities                                             0.307917\n",
            "Name: 406, dtype: object\n",
            "Sentences             UNPREDICTABLE DISCONNECTED AND SOCIAL CASUALTY...\n",
            "True Labels                                                           1\n",
            "Pred Labels                                                         0.0\n",
            "Pred Probabilities                                             0.090785\n",
            "Name: 415, dtype: object\n",
            "Sentences             [55436] 1950 LIONEL TRAINS SMOKE LOCOMOTIVES W...\n",
            "True Labels                                                           0\n",
            "Pred Labels                                                         1.0\n",
            "Pred Probabilities                                              0.96854\n",
            "Name: 417, dtype: object\n",
            "Sentences             Lucas Duda is Ghost Rider. Not the Nic Cage ve...\n",
            "True Labels                                                           1\n",
            "Pred Labels                                                         0.0\n",
            "Pred Probabilities                                             0.041204\n",
            "Name: 435, dtype: object\n",
            "Sentences             Global Nuclear Reactor Construction Market gre...\n",
            "True Labels                                                           1\n",
            "Pred Labels                                                         0.0\n",
            "Pred Probabilities                                             0.192057\n",
            "Name: 441, dtype: object\n",
            "Sentences             #Newswatch: 2 vehicles collided at Lock and La...\n",
            "True Labels                                                           1\n",
            "Pred Labels                                                         0.0\n",
            "Pred Probabilities                                             0.492006\n",
            "Name: 443, dtype: object\n",
            "Sentences             FedEx no longer to transport bioterror germs i...\n",
            "True Labels                                                           0\n",
            "Pred Labels                                                         1.0\n",
            "Pred Probabilities                                             0.731326\n",
            "Name: 450, dtype: object\n",
            "Sentences             Juneau Empire - First responders turn out for ...\n",
            "True Labels                                                           0\n",
            "Pred Labels                                                         1.0\n",
            "Pred Probabilities                                              0.82729\n",
            "Name: 459, dtype: object\n",
            "Sentences             On Thursday at 00:25 we updated our #kml of 2D...\n",
            "True Labels                                                           0\n",
            "Pred Labels                                                         1.0\n",
            "Pred Probabilities                                             0.695934\n",
            "Name: 469, dtype: object\n",
            "Sentences             @DougMartin17 Fireman Ed runs into burning bui...\n",
            "True Labels                                                           1\n",
            "Pred Labels                                                         0.0\n",
            "Pred Probabilities                                             0.115567\n",
            "Name: 472, dtype: object\n",
            "Sentences             @tackettdc Like a scene from When Worlds Colli...\n",
            "True Labels                                                           1\n",
            "Pred Labels                                                         0.0\n",
            "Pred Probabilities                                              0.09526\n",
            "Name: 494, dtype: object\n",
            "Sentences             I don't understand 'taking' ANY life as a trop...\n",
            "True Labels                                                           1\n",
            "Pred Labels                                                         0.0\n",
            "Pred Probabilities                                             0.377623\n",
            "Name: 499, dtype: object\n",
            "Sentences             Truth...\\nhttps://t.co/2Y4RGob7pj\\n#News\\n#BBC...\n",
            "True Labels                                                           1\n",
            "Pred Labels                                                         0.0\n",
            "Pred Probabilities                                             0.252686\n",
            "Name: 504, dtype: object\n",
            "Sentences             @USArmy has entered into the #JAGM project to ...\n",
            "True Labels                                                           0\n",
            "Pred Labels                                                         1.0\n",
            "Pred Probabilities                                             0.583681\n",
            "Name: 505, dtype: object\n",
            "Sentences             @DavidVonderhaar At least you were sincere ??\n",
            "True Labels                                                       1\n",
            "Pred Labels                                                     0.0\n",
            "Pred Probabilities                                         0.050525\n",
            "Name: 506, dtype: object\n",
            "Sentences             Who is Tomislav Salopek the Islamic State's Mo...\n",
            "True Labels                                                           0\n",
            "Pred Labels                                                         1.0\n",
            "Pred Probabilities                                             0.944685\n",
            "Name: 516, dtype: object\n",
            "Sentences             @CowgirlLawyer We must refuse to become a nati...\n",
            "True Labels                                                           1\n",
            "Pred Labels                                                         0.0\n",
            "Pred Probabilities                                              0.38547\n",
            "Name: 521, dtype: object\n",
            "Sentences             Kosciusko police investigating pedestrian fata...\n",
            "True Labels                                                           0\n",
            "Pred Labels                                                         1.0\n",
            "Pred Probabilities                                             0.997309\n",
            "Name: 524, dtype: object\n",
            "Sentences             We will be burning up like neon lights??????\n",
            "True Labels                                                      1\n",
            "Pred Labels                                                    0.0\n",
            "Pred Probabilities                                        0.080441\n",
            "Name: 527, dtype: object\n",
            "Sentences             Now that's what you call a batting collapse #t...\n",
            "True Labels                                                           1\n",
            "Pred Labels                                                         0.0\n",
            "Pred Probabilities                                             0.088093\n",
            "Name: 531, dtype: object\n",
            "Sentences             Woman electrocuted #Red #Redblood #videoclip h...\n",
            "True Labels                                                           0\n",
            "Pred Labels                                                         1.0\n",
            "Pred Probabilities                                             0.793502\n",
            "Name: 547, dtype: object\n",
            "Sentences             @noah_anyname That's where the concentration c...\n",
            "True Labels                                                           0\n",
            "Pred Labels                                                         1.0\n",
            "Pred Probabilities                                             0.926004\n",
            "Name: 554, dtype: object\n",
            "Sentences             Tricycle toddler atomic bomb\\nhttp://t.co/ljeR...\n",
            "True Labels                                                           1\n",
            "Pred Labels                                                         0.0\n",
            "Pred Probabilities                                             0.115349\n",
            "Name: 560, dtype: object\n",
            "Sentences             An optical illusion - clouds rolling in over t...\n",
            "True Labels                                                           1\n",
            "Pred Labels                                                         0.0\n",
            "Pred Probabilities                                              0.45538\n",
            "Name: 563, dtype: object\n",
            "Sentences             @KurtSchlichter @FALPhil This liberal compassi...\n",
            "True Labels                                                           0\n",
            "Pred Labels                                                         1.0\n",
            "Pred Probabilities                                             0.705901\n",
            "Name: 567, dtype: object\n",
            "Sentences             One thing you can be sure of. There will never...\n",
            "True Labels                                                           0\n",
            "Pred Labels                                                         1.0\n",
            "Pred Probabilities                                             0.774979\n",
            "Name: 579, dtype: object\n",
            "Sentences             Newlyweds feed thousands of Syrian refugees in...\n",
            "True Labels                                                           1\n",
            "Pred Labels                                                         0.0\n",
            "Pred Probabilities                                              0.10821\n",
            "Name: 580, dtype: object\n",
            "Sentences             I still have not heard Church Leaders of Kenya...\n",
            "True Labels                                                           0\n",
            "Pred Labels                                                         1.0\n",
            "Pred Probabilities                                             0.558517\n",
            "Name: 581, dtype: object\n",
            "Sentences             @SenateMajLdr let's try to do our best to prev...\n",
            "True Labels                                                           1\n",
            "Pred Labels                                                         0.0\n",
            "Pred Probabilities                                             0.422785\n",
            "Name: 587, dtype: object\n",
            "Sentences             @IcyMagistrate ÛÓher upper armÛÒ those /frig...\n",
            "True Labels                                                           1\n",
            "Pred Labels                                                         0.0\n",
            "Pred Probabilities                                             0.304664\n",
            "Name: 588, dtype: object\n",
            "Sentences             Satellite Spies Super Typhoon Soudelor from Sp...\n",
            "True Labels                                                           0\n",
            "Pred Labels                                                         1.0\n",
            "Pred Probabilities                                              0.61671\n",
            "Name: 590, dtype: object\n",
            "Sentences             #pakistan#news# PAKPATTAN City News: Man elect...\n",
            "True Labels                                                           1\n",
            "Pred Labels                                                         0.0\n",
            "Pred Probabilities                                             0.491622\n",
            "Name: 591, dtype: object\n",
            "Sentences             Alaska's #Wolves face catastrophe Denali Wolve...\n",
            "True Labels                                                           0\n",
            "Pred Labels                                                         1.0\n",
            "Pred Probabilities                                             0.840263\n",
            "Name: 594, dtype: object\n",
            "Sentences             @SophieWisey I couldn't. #mudslide\n",
            "True Labels                                            1\n",
            "Pred Labels                                          0.0\n",
            "Pred Probabilities                              0.346578\n",
            "Name: 597, dtype: object\n",
            "Sentences             Las Vegas in top 5 cities for red-light runnin...\n",
            "True Labels                                                           1\n",
            "Pred Labels                                                         0.0\n",
            "Pred Probabilities                                             0.363541\n",
            "Name: 598, dtype: object\n",
            "Sentences             Intact+MH370+Part+Lifts+Odds+Plane+Glided+Not+...\n",
            "True Labels                                                           1\n",
            "Pred Labels                                                         0.0\n",
            "Pred Probabilities                                             0.190946\n",
            "Name: 601, dtype: object\n",
            "Sentences             Kendall Jenner and Nick Jonas Are Dating and t...\n",
            "True Labels                                                           1\n",
            "Pred Labels                                                         0.0\n",
            "Pred Probabilities                                             0.071971\n",
            "Name: 620, dtype: object\n",
            "Sentences             IMAGINE A DOCTOR TREATING AN #EBOLA PATIENT WI...\n",
            "True Labels                                                           1\n",
            "Pred Labels                                                         0.0\n",
            "Pred Probabilities                                             0.317743\n",
            "Name: 623, dtype: object\n",
            "Sentences             I liked a @YouTube video http://t.co/43sXG9Z6x...\n",
            "True Labels                                                           1\n",
            "Pred Labels                                                         0.0\n",
            "Pred Probabilities                                             0.026953\n",
            "Name: 631, dtype: object\n",
            "Sentences             @xDescry I was wrong to call it trusty actuall...\n",
            "True Labels                                                           1\n",
            "Pred Labels                                                         0.0\n",
            "Pred Probabilities                                             0.328577\n",
            "Name: 633, dtype: object\n",
            "Sentences             The 2 cars right in front of me collided and I...\n",
            "True Labels                                                           1\n",
            "Pred Labels                                                         0.0\n",
            "Pred Probabilities                                             0.248767\n",
            "Name: 634, dtype: object\n",
            "Sentences             @author_mike Amen today is the Day of Salvatio...\n",
            "True Labels                                                           1\n",
            "Pred Labels                                                         0.0\n",
            "Pred Probabilities                                             0.076578\n",
            "Name: 636, dtype: object\n",
            "Sentences             Seven Chinese Christians Are Detained Amid Wid...\n",
            "True Labels                                                           1\n",
            "Pred Labels                                                         0.0\n",
            "Pred Probabilities                                             0.366705\n",
            "Name: 637, dtype: object\n",
            "Sentences             'Redskins WR Roberts Belly-Bombed ' via @TeamS...\n",
            "True Labels                                                           1\n",
            "Pred Labels                                                         0.0\n",
            "Pred Probabilities                                             0.263935\n",
            "Name: 645, dtype: object\n",
            "Sentences             http://t.co/GaM7otGISw\\nANOTHER DISASTER WAITI...\n",
            "True Labels                                                           1\n",
            "Pred Labels                                                         0.0\n",
            "Pred Probabilities                                             0.387837\n",
            "Name: 657, dtype: object\n",
            "Sentences             Party for Bestival crash victim Michael Molloy...\n",
            "True Labels                                                           1\n",
            "Pred Labels                                                         0.0\n",
            "Pred Probabilities                                             0.365199\n",
            "Name: 664, dtype: object\n",
            "Sentences             #Newswatch: 2 vehicles collided at Lock and La...\n",
            "True Labels                                                           1\n",
            "Pred Labels                                                         0.0\n",
            "Pred Probabilities                                             0.492006\n",
            "Name: 666, dtype: object\n",
            "Sentences             The Adventures of Mineness #9   The Famine Is ...\n",
            "True Labels                                                           1\n",
            "Pred Labels                                                         0.0\n",
            "Pred Probabilities                                             0.319586\n",
            "Name: 673, dtype: object\n",
            "Sentences             Hunger hits me and I can't function probably w...\n",
            "True Labels                                                           0\n",
            "Pred Labels                                                         1.0\n",
            "Pred Probabilities                                             0.644698\n",
            "Name: 676, dtype: object\n",
            "Sentences             The Walking Dead spin off Fear the Walking Dea...\n",
            "True Labels                                                           1\n",
            "Pred Labels                                                         0.0\n",
            "Pred Probabilities                                             0.066777\n",
            "Name: 678, dtype: object\n",
            "Sentences             @UnrealTouch fuck sake john Jesus my heart jus...\n",
            "True Labels                                                           1\n",
            "Pred Labels                                                         0.0\n",
            "Pred Probabilities                                             0.080835\n",
            "Name: 685, dtype: object\n",
            "Sentences             Chances are many of us are still digging out f...\n",
            "True Labels                                                           1\n",
            "Pred Labels                                                         0.0\n",
            "Pred Probabilities                                             0.194605\n",
            "Name: 695, dtype: object\n",
            "Sentences             Looks and sounds like a war zone\n",
            "True Labels                                          1\n",
            "Pred Labels                                        0.0\n",
            "Pred Probabilities                            0.380972\n",
            "Name: 697, dtype: object\n",
            "Sentences             #Obama signed up to a deal that far from makin...\n",
            "True Labels                                                           1\n",
            "Pred Labels                                                         0.0\n",
            "Pred Probabilities                                             0.158097\n",
            "Name: 702, dtype: object\n",
            "Sentences             30 seconds for my bitches to evacuate ??????\n",
            "True Labels                                                      0\n",
            "Pred Labels                                                    1.0\n",
            "Pred Probabilities                                        0.681241\n",
            "Name: 706, dtype: object\n",
            "Sentences             #Reddit updates #content #policy promises to q...\n",
            "True Labels                                                           1\n",
            "Pred Labels                                                         0.0\n",
            "Pred Probabilities                                             0.039198\n",
            "Name: 709, dtype: object\n",
            "Sentences             @SwellyJetEvo Disneyland! Tacos there are bomb!\n",
            "True Labels                                                         1\n",
            "Pred Labels                                                       0.0\n",
            "Pred Probabilities                                           0.019903\n",
            "Name: 711, dtype: object\n",
            "Sentences             Politics = Preschool Attitude: Russia orders t...\n",
            "True Labels                                                           1\n",
            "Pred Labels                                                         0.0\n",
            "Pred Probabilities                                             0.193168\n",
            "Name: 714, dtype: object\n",
            "Sentences             OSP concerned about mounting fatalities http:/...\n",
            "True Labels                                                           1\n",
            "Pred Labels                                                         0.0\n",
            "Pred Probabilities                                             0.395374\n",
            "Name: 715, dtype: object\n",
            "Sentences             I learned more about economics from one South ...\n",
            "True Labels                                                           1\n",
            "Pred Labels                                                         0.0\n",
            "Pred Probabilities                                              0.20243\n",
            "Name: 728, dtype: object\n",
            "Sentences             SANDSTORM!!! WOO HOO!!\n",
            "True Labels                                1\n",
            "Pred Labels                              0.0\n",
            "Pred Probabilities                  0.023466\n",
            "Name: 737, dtype: object\n",
            "Sentences             Is it bad to say that I'm kinda afraid of stor...\n",
            "True Labels                                                           1\n",
            "Pred Labels                                                         0.0\n",
            "Pred Probabilities                                             0.266732\n",
            "Name: 738, dtype: object\n",
            "Sentences             UPDATE: 7 of the 9 Mac Pros my company bought ...\n",
            "True Labels                                                           1\n",
            "Pred Labels                                                         0.0\n",
            "Pred Probabilities                                             0.074228\n",
            "Name: 740, dtype: object\n",
            "Sentences             Windstorm board OKs rate hike before change ht...\n",
            "True Labels                                                           0\n",
            "Pred Labels                                                         1.0\n",
            "Pred Probabilities                                             0.758716\n",
            "Name: 752, dtype: object\n",
            "Sentences             @NBCNews Yea bombing #pearlharbor not so good ...\n",
            "True Labels                                                           1\n",
            "Pred Labels                                                         0.0\n",
            "Pred Probabilities                                             0.156716\n",
            "Name: 757, dtype: object\n",
            "Sentences             Reddit's new content policy goes into effect m...\n",
            "True Labels                                                           1\n",
            "Pred Labels                                                         0.0\n",
            "Pred Probabilities                                             0.037586\n",
            "Name: 759, dtype: object\n",
            "Sentences             Weapons stolen from National Guard Armory in N...\n",
            "True Labels                                                           0\n",
            "Pred Labels                                                         1.0\n",
            "Pred Probabilities                                             0.916272\n",
            "Name: 760, dtype: object\n"
          ]
        }
      ]
    },
    {
      "cell_type": "code",
      "source": [
        "plot_wrong(val_sentences, val_labels, model_6)"
      ],
      "metadata": {
        "colab": {
          "base_uri": "https://localhost:8080/",
          "height": 765
        },
        "id": "tOU-GtLGJE3E",
        "outputId": "6e1b46d2-20b8-430f-d19a-901b662d8a56"
      },
      "execution_count": 76,
      "outputs": [
        {
          "output_type": "stream",
          "name": "stderr",
          "text": [
            "/usr/local/lib/python3.7/dist-packages/ipykernel_launcher.py:6: SettingWithCopyWarning: \n",
            "A value is trying to be set on a copy of a slice from a DataFrame.\n",
            "Try using .loc[row_indexer,col_indexer] = value instead\n",
            "\n",
            "See the caveats in the documentation: https://pandas.pydata.org/pandas-docs/stable/user_guide/indexing.html#returning-a-view-versus-a-copy\n",
            "  \n"
          ]
        },
        {
          "output_type": "execute_result",
          "data": {
            "text/plain": [
              "                                             Sentences  True Labels  \\\n",
              "0    #Newswatch: 2 vehicles collided at Lock and La...            1   \n",
              "1    #Newswatch: 2 vehicles collided at Lock and La...            1   \n",
              "2    #pakistan#news# PAKPATTAN City News: Man elect...            1   \n",
              "3                       @alextucker VOLCANO BOWL DRINK            1   \n",
              "4    Trafford Centre film fans angry after Odeon ci...            1   \n",
              "..                                                 ...          ...   \n",
              "122  Even if u have your weapon and your badge we g...            1   \n",
              "123  I liked a @YouTube video http://t.co/43sXG9Z6x...            1   \n",
              "124                             SANDSTORM!!! WOO HOO!!            1   \n",
              "125    @SwellyJetEvo Disneyland! Tacos there are bomb!            1   \n",
              "126  Kosciusko police investigating pedestrian fata...            0   \n",
              "\n",
              "     Pred Labels  Pred Probabilities  Difference  \n",
              "0            0.0            0.492006    0.507994  \n",
              "1            0.0            0.492006    0.507994  \n",
              "2            0.0            0.491622    0.508378  \n",
              "3            0.0            0.484292    0.515708  \n",
              "4            0.0            0.483972    0.516028  \n",
              "..           ...                 ...         ...  \n",
              "122          0.0            0.030052    0.969948  \n",
              "123          0.0            0.026953    0.973047  \n",
              "124          0.0            0.023466    0.976534  \n",
              "125          0.0            0.019903    0.980097  \n",
              "126          1.0            0.997309    0.997309  \n",
              "\n",
              "[127 rows x 5 columns]"
            ],
            "text/html": [
              "\n",
              "  <div id=\"df-4020e82a-aeb5-48c7-aab6-f0c6bfed9527\">\n",
              "    <div class=\"colab-df-container\">\n",
              "      <div>\n",
              "<style scoped>\n",
              "    .dataframe tbody tr th:only-of-type {\n",
              "        vertical-align: middle;\n",
              "    }\n",
              "\n",
              "    .dataframe tbody tr th {\n",
              "        vertical-align: top;\n",
              "    }\n",
              "\n",
              "    .dataframe thead th {\n",
              "        text-align: right;\n",
              "    }\n",
              "</style>\n",
              "<table border=\"1\" class=\"dataframe\">\n",
              "  <thead>\n",
              "    <tr style=\"text-align: right;\">\n",
              "      <th></th>\n",
              "      <th>Sentences</th>\n",
              "      <th>True Labels</th>\n",
              "      <th>Pred Labels</th>\n",
              "      <th>Pred Probabilities</th>\n",
              "      <th>Difference</th>\n",
              "    </tr>\n",
              "  </thead>\n",
              "  <tbody>\n",
              "    <tr>\n",
              "      <th>0</th>\n",
              "      <td>#Newswatch: 2 vehicles collided at Lock and La...</td>\n",
              "      <td>1</td>\n",
              "      <td>0.0</td>\n",
              "      <td>0.492006</td>\n",
              "      <td>0.507994</td>\n",
              "    </tr>\n",
              "    <tr>\n",
              "      <th>1</th>\n",
              "      <td>#Newswatch: 2 vehicles collided at Lock and La...</td>\n",
              "      <td>1</td>\n",
              "      <td>0.0</td>\n",
              "      <td>0.492006</td>\n",
              "      <td>0.507994</td>\n",
              "    </tr>\n",
              "    <tr>\n",
              "      <th>2</th>\n",
              "      <td>#pakistan#news# PAKPATTAN City News: Man elect...</td>\n",
              "      <td>1</td>\n",
              "      <td>0.0</td>\n",
              "      <td>0.491622</td>\n",
              "      <td>0.508378</td>\n",
              "    </tr>\n",
              "    <tr>\n",
              "      <th>3</th>\n",
              "      <td>@alextucker VOLCANO BOWL DRINK</td>\n",
              "      <td>1</td>\n",
              "      <td>0.0</td>\n",
              "      <td>0.484292</td>\n",
              "      <td>0.515708</td>\n",
              "    </tr>\n",
              "    <tr>\n",
              "      <th>4</th>\n",
              "      <td>Trafford Centre film fans angry after Odeon ci...</td>\n",
              "      <td>1</td>\n",
              "      <td>0.0</td>\n",
              "      <td>0.483972</td>\n",
              "      <td>0.516028</td>\n",
              "    </tr>\n",
              "    <tr>\n",
              "      <th>...</th>\n",
              "      <td>...</td>\n",
              "      <td>...</td>\n",
              "      <td>...</td>\n",
              "      <td>...</td>\n",
              "      <td>...</td>\n",
              "    </tr>\n",
              "    <tr>\n",
              "      <th>122</th>\n",
              "      <td>Even if u have your weapon and your badge we g...</td>\n",
              "      <td>1</td>\n",
              "      <td>0.0</td>\n",
              "      <td>0.030052</td>\n",
              "      <td>0.969948</td>\n",
              "    </tr>\n",
              "    <tr>\n",
              "      <th>123</th>\n",
              "      <td>I liked a @YouTube video http://t.co/43sXG9Z6x...</td>\n",
              "      <td>1</td>\n",
              "      <td>0.0</td>\n",
              "      <td>0.026953</td>\n",
              "      <td>0.973047</td>\n",
              "    </tr>\n",
              "    <tr>\n",
              "      <th>124</th>\n",
              "      <td>SANDSTORM!!! WOO HOO!!</td>\n",
              "      <td>1</td>\n",
              "      <td>0.0</td>\n",
              "      <td>0.023466</td>\n",
              "      <td>0.976534</td>\n",
              "    </tr>\n",
              "    <tr>\n",
              "      <th>125</th>\n",
              "      <td>@SwellyJetEvo Disneyland! Tacos there are bomb!</td>\n",
              "      <td>1</td>\n",
              "      <td>0.0</td>\n",
              "      <td>0.019903</td>\n",
              "      <td>0.980097</td>\n",
              "    </tr>\n",
              "    <tr>\n",
              "      <th>126</th>\n",
              "      <td>Kosciusko police investigating pedestrian fata...</td>\n",
              "      <td>0</td>\n",
              "      <td>1.0</td>\n",
              "      <td>0.997309</td>\n",
              "      <td>0.997309</td>\n",
              "    </tr>\n",
              "  </tbody>\n",
              "</table>\n",
              "<p>127 rows × 5 columns</p>\n",
              "</div>\n",
              "      <button class=\"colab-df-convert\" onclick=\"convertToInteractive('df-4020e82a-aeb5-48c7-aab6-f0c6bfed9527')\"\n",
              "              title=\"Convert this dataframe to an interactive table.\"\n",
              "              style=\"display:none;\">\n",
              "        \n",
              "  <svg xmlns=\"http://www.w3.org/2000/svg\" height=\"24px\"viewBox=\"0 0 24 24\"\n",
              "       width=\"24px\">\n",
              "    <path d=\"M0 0h24v24H0V0z\" fill=\"none\"/>\n",
              "    <path d=\"M18.56 5.44l.94 2.06.94-2.06 2.06-.94-2.06-.94-.94-2.06-.94 2.06-2.06.94zm-11 1L8.5 8.5l.94-2.06 2.06-.94-2.06-.94L8.5 2.5l-.94 2.06-2.06.94zm10 10l.94 2.06.94-2.06 2.06-.94-2.06-.94-.94-2.06-.94 2.06-2.06.94z\"/><path d=\"M17.41 7.96l-1.37-1.37c-.4-.4-.92-.59-1.43-.59-.52 0-1.04.2-1.43.59L10.3 9.45l-7.72 7.72c-.78.78-.78 2.05 0 2.83L4 21.41c.39.39.9.59 1.41.59.51 0 1.02-.2 1.41-.59l7.78-7.78 2.81-2.81c.8-.78.8-2.07 0-2.86zM5.41 20L4 18.59l7.72-7.72 1.47 1.35L5.41 20z\"/>\n",
              "  </svg>\n",
              "      </button>\n",
              "      \n",
              "  <style>\n",
              "    .colab-df-container {\n",
              "      display:flex;\n",
              "      flex-wrap:wrap;\n",
              "      gap: 12px;\n",
              "    }\n",
              "\n",
              "    .colab-df-convert {\n",
              "      background-color: #E8F0FE;\n",
              "      border: none;\n",
              "      border-radius: 50%;\n",
              "      cursor: pointer;\n",
              "      display: none;\n",
              "      fill: #1967D2;\n",
              "      height: 32px;\n",
              "      padding: 0 0 0 0;\n",
              "      width: 32px;\n",
              "    }\n",
              "\n",
              "    .colab-df-convert:hover {\n",
              "      background-color: #E2EBFA;\n",
              "      box-shadow: 0px 1px 2px rgba(60, 64, 67, 0.3), 0px 1px 3px 1px rgba(60, 64, 67, 0.15);\n",
              "      fill: #174EA6;\n",
              "    }\n",
              "\n",
              "    [theme=dark] .colab-df-convert {\n",
              "      background-color: #3B4455;\n",
              "      fill: #D2E3FC;\n",
              "    }\n",
              "\n",
              "    [theme=dark] .colab-df-convert:hover {\n",
              "      background-color: #434B5C;\n",
              "      box-shadow: 0px 1px 3px 1px rgba(0, 0, 0, 0.15);\n",
              "      filter: drop-shadow(0px 1px 2px rgba(0, 0, 0, 0.3));\n",
              "      fill: #FFFFFF;\n",
              "    }\n",
              "  </style>\n",
              "\n",
              "      <script>\n",
              "        const buttonEl =\n",
              "          document.querySelector('#df-4020e82a-aeb5-48c7-aab6-f0c6bfed9527 button.colab-df-convert');\n",
              "        buttonEl.style.display =\n",
              "          google.colab.kernel.accessAllowed ? 'block' : 'none';\n",
              "\n",
              "        async function convertToInteractive(key) {\n",
              "          const element = document.querySelector('#df-4020e82a-aeb5-48c7-aab6-f0c6bfed9527');\n",
              "          const dataTable =\n",
              "            await google.colab.kernel.invokeFunction('convertToInteractive',\n",
              "                                                     [key], {});\n",
              "          if (!dataTable) return;\n",
              "\n",
              "          const docLinkHtml = 'Like what you see? Visit the ' +\n",
              "            '<a target=\"_blank\" href=https://colab.research.google.com/notebooks/data_table.ipynb>data table notebook</a>'\n",
              "            + ' to learn more about interactive tables.';\n",
              "          element.innerHTML = '';\n",
              "          dataTable['output_type'] = 'display_data';\n",
              "          await google.colab.output.renderOutput(dataTable, element);\n",
              "          const docLink = document.createElement('div');\n",
              "          docLink.innerHTML = docLinkHtml;\n",
              "          element.appendChild(docLink);\n",
              "        }\n",
              "      </script>\n",
              "    </div>\n",
              "  </div>\n",
              "  "
            ]
          },
          "metadata": {},
          "execution_count": 76
        }
      ]
    },
    {
      "cell_type": "code",
      "source": [
        "test_df = pd.read_csv('test.csv')\n",
        "test_text = test_df['text'].to_list()\n",
        "test_text[:5]"
      ],
      "metadata": {
        "colab": {
          "base_uri": "https://localhost:8080/"
        },
        "id": "dEHTCnU6SjWk",
        "outputId": "88ad0a1d-1dae-46ef-d4b7-9415c604c7f4"
      },
      "execution_count": 77,
      "outputs": [
        {
          "output_type": "execute_result",
          "data": {
            "text/plain": [
              "['Just happened a terrible car crash',\n",
              " 'Heard about #earthquake is different cities, stay safe everyone.',\n",
              " 'there is a forest fire at spot pond, geese are fleeing across the street, I cannot save them all',\n",
              " 'Apocalypse lighting. #Spokane #wildfires',\n",
              " 'Typhoon Soudelor kills 28 in China and Taiwan']"
            ]
          },
          "metadata": {},
          "execution_count": 77
        }
      ]
    },
    {
      "cell_type": "code",
      "source": [
        "def make_pred_df(model, text_data):\n",
        "  preds = tf.squeeze(model.predict(text_data))\n",
        "  preds_binary = tf.round(preds)\n",
        "  return pd.DataFrame({'Text': text_data, 'Predictions': preds_binary, 'Pred probs': preds})"
      ],
      "metadata": {
        "id": "paqnJrT9Z4cc"
      },
      "execution_count": 78,
      "outputs": []
    },
    {
      "cell_type": "code",
      "source": [
        "make_pred_df(model_6, test_text)"
      ],
      "metadata": {
        "colab": {
          "base_uri": "https://localhost:8080/",
          "height": 502
        },
        "id": "pMwIulZYajBM",
        "outputId": "d7bf10e0-5d0d-4de9-f334-f6445cbe719b"
      },
      "execution_count": 79,
      "outputs": [
        {
          "output_type": "execute_result",
          "data": {
            "text/plain": [
              "                                                   Text  Predictions  \\\n",
              "0                    Just happened a terrible car crash          0.0   \n",
              "1     Heard about #earthquake is different cities, s...          1.0   \n",
              "2     there is a forest fire at spot pond, geese are...          1.0   \n",
              "3              Apocalypse lighting. #Spokane #wildfires          1.0   \n",
              "4         Typhoon Soudelor kills 28 in China and Taiwan          1.0   \n",
              "...                                                 ...          ...   \n",
              "3258  EARTHQUAKE SAFETY LOS ANGELES ÛÒ SAFETY FASTE...          1.0   \n",
              "3259  Storm in RI worse than last hurricane. My city...          1.0   \n",
              "3260  Green Line derailment in Chicago http://t.co/U...          1.0   \n",
              "3261  MEG issues Hazardous Weather Outlook (HWO) htt...          1.0   \n",
              "3262  #CityofCalgary has activated its Municipal Eme...          0.0   \n",
              "\n",
              "      Pred probs  \n",
              "0       0.480369  \n",
              "1       0.907455  \n",
              "2       0.792180  \n",
              "3       0.970423  \n",
              "4       0.988646  \n",
              "...          ...  \n",
              "3258    0.731833  \n",
              "3259    0.987626  \n",
              "3260    0.975765  \n",
              "3261    0.829420  \n",
              "3262    0.416650  \n",
              "\n",
              "[3263 rows x 3 columns]"
            ],
            "text/html": [
              "\n",
              "  <div id=\"df-850e8084-b475-4376-ae65-1b81bda1f842\">\n",
              "    <div class=\"colab-df-container\">\n",
              "      <div>\n",
              "<style scoped>\n",
              "    .dataframe tbody tr th:only-of-type {\n",
              "        vertical-align: middle;\n",
              "    }\n",
              "\n",
              "    .dataframe tbody tr th {\n",
              "        vertical-align: top;\n",
              "    }\n",
              "\n",
              "    .dataframe thead th {\n",
              "        text-align: right;\n",
              "    }\n",
              "</style>\n",
              "<table border=\"1\" class=\"dataframe\">\n",
              "  <thead>\n",
              "    <tr style=\"text-align: right;\">\n",
              "      <th></th>\n",
              "      <th>Text</th>\n",
              "      <th>Predictions</th>\n",
              "      <th>Pred probs</th>\n",
              "    </tr>\n",
              "  </thead>\n",
              "  <tbody>\n",
              "    <tr>\n",
              "      <th>0</th>\n",
              "      <td>Just happened a terrible car crash</td>\n",
              "      <td>0.0</td>\n",
              "      <td>0.480369</td>\n",
              "    </tr>\n",
              "    <tr>\n",
              "      <th>1</th>\n",
              "      <td>Heard about #earthquake is different cities, s...</td>\n",
              "      <td>1.0</td>\n",
              "      <td>0.907455</td>\n",
              "    </tr>\n",
              "    <tr>\n",
              "      <th>2</th>\n",
              "      <td>there is a forest fire at spot pond, geese are...</td>\n",
              "      <td>1.0</td>\n",
              "      <td>0.792180</td>\n",
              "    </tr>\n",
              "    <tr>\n",
              "      <th>3</th>\n",
              "      <td>Apocalypse lighting. #Spokane #wildfires</td>\n",
              "      <td>1.0</td>\n",
              "      <td>0.970423</td>\n",
              "    </tr>\n",
              "    <tr>\n",
              "      <th>4</th>\n",
              "      <td>Typhoon Soudelor kills 28 in China and Taiwan</td>\n",
              "      <td>1.0</td>\n",
              "      <td>0.988646</td>\n",
              "    </tr>\n",
              "    <tr>\n",
              "      <th>...</th>\n",
              "      <td>...</td>\n",
              "      <td>...</td>\n",
              "      <td>...</td>\n",
              "    </tr>\n",
              "    <tr>\n",
              "      <th>3258</th>\n",
              "      <td>EARTHQUAKE SAFETY LOS ANGELES ÛÒ SAFETY FASTE...</td>\n",
              "      <td>1.0</td>\n",
              "      <td>0.731833</td>\n",
              "    </tr>\n",
              "    <tr>\n",
              "      <th>3259</th>\n",
              "      <td>Storm in RI worse than last hurricane. My city...</td>\n",
              "      <td>1.0</td>\n",
              "      <td>0.987626</td>\n",
              "    </tr>\n",
              "    <tr>\n",
              "      <th>3260</th>\n",
              "      <td>Green Line derailment in Chicago http://t.co/U...</td>\n",
              "      <td>1.0</td>\n",
              "      <td>0.975765</td>\n",
              "    </tr>\n",
              "    <tr>\n",
              "      <th>3261</th>\n",
              "      <td>MEG issues Hazardous Weather Outlook (HWO) htt...</td>\n",
              "      <td>1.0</td>\n",
              "      <td>0.829420</td>\n",
              "    </tr>\n",
              "    <tr>\n",
              "      <th>3262</th>\n",
              "      <td>#CityofCalgary has activated its Municipal Eme...</td>\n",
              "      <td>0.0</td>\n",
              "      <td>0.416650</td>\n",
              "    </tr>\n",
              "  </tbody>\n",
              "</table>\n",
              "<p>3263 rows × 3 columns</p>\n",
              "</div>\n",
              "      <button class=\"colab-df-convert\" onclick=\"convertToInteractive('df-850e8084-b475-4376-ae65-1b81bda1f842')\"\n",
              "              title=\"Convert this dataframe to an interactive table.\"\n",
              "              style=\"display:none;\">\n",
              "        \n",
              "  <svg xmlns=\"http://www.w3.org/2000/svg\" height=\"24px\"viewBox=\"0 0 24 24\"\n",
              "       width=\"24px\">\n",
              "    <path d=\"M0 0h24v24H0V0z\" fill=\"none\"/>\n",
              "    <path d=\"M18.56 5.44l.94 2.06.94-2.06 2.06-.94-2.06-.94-.94-2.06-.94 2.06-2.06.94zm-11 1L8.5 8.5l.94-2.06 2.06-.94-2.06-.94L8.5 2.5l-.94 2.06-2.06.94zm10 10l.94 2.06.94-2.06 2.06-.94-2.06-.94-.94-2.06-.94 2.06-2.06.94z\"/><path d=\"M17.41 7.96l-1.37-1.37c-.4-.4-.92-.59-1.43-.59-.52 0-1.04.2-1.43.59L10.3 9.45l-7.72 7.72c-.78.78-.78 2.05 0 2.83L4 21.41c.39.39.9.59 1.41.59.51 0 1.02-.2 1.41-.59l7.78-7.78 2.81-2.81c.8-.78.8-2.07 0-2.86zM5.41 20L4 18.59l7.72-7.72 1.47 1.35L5.41 20z\"/>\n",
              "  </svg>\n",
              "      </button>\n",
              "      \n",
              "  <style>\n",
              "    .colab-df-container {\n",
              "      display:flex;\n",
              "      flex-wrap:wrap;\n",
              "      gap: 12px;\n",
              "    }\n",
              "\n",
              "    .colab-df-convert {\n",
              "      background-color: #E8F0FE;\n",
              "      border: none;\n",
              "      border-radius: 50%;\n",
              "      cursor: pointer;\n",
              "      display: none;\n",
              "      fill: #1967D2;\n",
              "      height: 32px;\n",
              "      padding: 0 0 0 0;\n",
              "      width: 32px;\n",
              "    }\n",
              "\n",
              "    .colab-df-convert:hover {\n",
              "      background-color: #E2EBFA;\n",
              "      box-shadow: 0px 1px 2px rgba(60, 64, 67, 0.3), 0px 1px 3px 1px rgba(60, 64, 67, 0.15);\n",
              "      fill: #174EA6;\n",
              "    }\n",
              "\n",
              "    [theme=dark] .colab-df-convert {\n",
              "      background-color: #3B4455;\n",
              "      fill: #D2E3FC;\n",
              "    }\n",
              "\n",
              "    [theme=dark] .colab-df-convert:hover {\n",
              "      background-color: #434B5C;\n",
              "      box-shadow: 0px 1px 3px 1px rgba(0, 0, 0, 0.15);\n",
              "      filter: drop-shadow(0px 1px 2px rgba(0, 0, 0, 0.3));\n",
              "      fill: #FFFFFF;\n",
              "    }\n",
              "  </style>\n",
              "\n",
              "      <script>\n",
              "        const buttonEl =\n",
              "          document.querySelector('#df-850e8084-b475-4376-ae65-1b81bda1f842 button.colab-df-convert');\n",
              "        buttonEl.style.display =\n",
              "          google.colab.kernel.accessAllowed ? 'block' : 'none';\n",
              "\n",
              "        async function convertToInteractive(key) {\n",
              "          const element = document.querySelector('#df-850e8084-b475-4376-ae65-1b81bda1f842');\n",
              "          const dataTable =\n",
              "            await google.colab.kernel.invokeFunction('convertToInteractive',\n",
              "                                                     [key], {});\n",
              "          if (!dataTable) return;\n",
              "\n",
              "          const docLinkHtml = 'Like what you see? Visit the ' +\n",
              "            '<a target=\"_blank\" href=https://colab.research.google.com/notebooks/data_table.ipynb>data table notebook</a>'\n",
              "            + ' to learn more about interactive tables.';\n",
              "          element.innerHTML = '';\n",
              "          dataTable['output_type'] = 'display_data';\n",
              "          await google.colab.output.renderOutput(dataTable, element);\n",
              "          const docLink = document.createElement('div');\n",
              "          docLink.innerHTML = docLinkHtml;\n",
              "          element.appendChild(docLink);\n",
              "        }\n",
              "      </script>\n",
              "    </div>\n",
              "  </div>\n",
              "  "
            ]
          },
          "metadata": {},
          "execution_count": 79
        }
      ]
    },
    {
      "cell_type": "code",
      "source": [
        "import time\n",
        "def time_pred(model, data):\n",
        "  start = time.perf_counter()\n",
        "  model.predict(data)\n",
        "  end = time.perf_counter()\n",
        "  return end-start"
      ],
      "metadata": {
        "id": "cnkkTuAZanAT"
      },
      "execution_count": 80,
      "outputs": []
    },
    {
      "cell_type": "code",
      "source": [
        "time_pred(model_6, val_sentences)"
      ],
      "metadata": {
        "colab": {
          "base_uri": "https://localhost:8080/"
        },
        "id": "9xgrsrdqnqMt",
        "outputId": "64f7f039-c34b-4e42-c752-2d3118737d45"
      },
      "execution_count": 81,
      "outputs": [
        {
          "output_type": "execute_result",
          "data": {
            "text/plain": [
              "0.39977747499995075"
            ]
          },
          "metadata": {},
          "execution_count": 81
        }
      ]
    },
    {
      "cell_type": "code",
      "source": [
        "time_pred(model_0, val_sentences)"
      ],
      "metadata": {
        "colab": {
          "base_uri": "https://localhost:8080/"
        },
        "id": "fx6mCZWWnvlD",
        "outputId": "4de84521-acc4-4dec-d12e-80553ff66fd4"
      },
      "execution_count": 82,
      "outputs": [
        {
          "output_type": "execute_result",
          "data": {
            "text/plain": [
              "0.0721881150000172"
            ]
          },
          "metadata": {},
          "execution_count": 82
        }
      ]
    },
    {
      "cell_type": "code",
      "source": [
        ""
      ],
      "metadata": {
        "id": "MGk-Ma-xn0nb"
      },
      "execution_count": null,
      "outputs": []
    }
  ]
}