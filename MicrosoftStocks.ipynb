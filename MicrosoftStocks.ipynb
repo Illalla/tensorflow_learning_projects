{
  "cells": [
    {
      "cell_type": "code",
      "execution_count": 1,
      "metadata": {
        "id": "_P2Eq-_imGzq"
      },
      "outputs": [],
      "source": [
        "import tensorflow as tf\n",
        "import pandas as pd\n",
        "import numpy as np\n",
        "import matplotlib.pyplot as plt"
      ]
    },
    {
      "cell_type": "code",
      "execution_count": null,
      "metadata": {
        "id": "RAYPUMAXmV9c"
      },
      "outputs": [],
      "source": [
        "!wget https://raw.githubusercontent.com/Illalla/helper_functions_for_tf/main/helper_functions.py\n",
        "from helper_functions import *"
      ]
    },
    {
      "cell_type": "code",
      "execution_count": null,
      "metadata": {
        "id": "mHsohez-mfvE"
      },
      "outputs": [],
      "source": [
        "from google.colab import files\n",
        "\n",
        "uploaded = files.upload()\n",
        "\n",
        "for fn in uploaded.keys():\n",
        "  print('User uploaded file \"{name}\" with length {length} bytes'.format(\n",
        "      name=fn, length=len(uploaded[fn])))\n",
        "  \n",
        "# Then move kaggle.json into the folder where the API expects to find it.\n",
        "!mkdir -p ~/.kaggle/ && mv kaggle.json ~/.kaggle/ && chmod 600 ~/.kaggle/kaggle.json"
      ]
    },
    {
      "cell_type": "code",
      "execution_count": null,
      "metadata": {
        "id": "vN045WQImzhU"
      },
      "outputs": [],
      "source": [
        "!kaggle datasets download -d berkayalan/microsoft-stock-data-between-2015-and-2022"
      ]
    },
    {
      "cell_type": "code",
      "execution_count": 5,
      "metadata": {
        "id": "q3LEok6Fm2Wb"
      },
      "outputs": [],
      "source": [
        "import zipfile\n",
        "zip_ref = zipfile.ZipFile('/content/microsoft-stock-data-between-2015-and-2022.zip')\n",
        "zip_ref.extractall()\n",
        "zip_ref.close()"
      ]
    },
    {
      "cell_type": "code",
      "execution_count": 6,
      "metadata": {
        "colab": {
          "base_uri": "https://localhost:8080/",
          "height": 237
        },
        "id": "FE9y2Z87m_fr",
        "outputId": "34dec130-086c-4876-98d7-1265ce2cc734"
      },
      "outputs": [
        {
          "output_type": "execute_result",
          "data": {
            "text/plain": [
              "                Price\n",
              "Date                 \n",
              "2015-01-12  46.599998\n",
              "2015-01-13  46.360001\n",
              "2015-01-14  45.959999\n",
              "2015-01-15  45.480000\n",
              "2015-01-16  46.240002"
            ],
            "text/html": [
              "\n",
              "  <div id=\"df-eeb06f67-6c79-4838-9ed2-2d5f3cdbfe6a\">\n",
              "    <div class=\"colab-df-container\">\n",
              "      <div>\n",
              "<style scoped>\n",
              "    .dataframe tbody tr th:only-of-type {\n",
              "        vertical-align: middle;\n",
              "    }\n",
              "\n",
              "    .dataframe tbody tr th {\n",
              "        vertical-align: top;\n",
              "    }\n",
              "\n",
              "    .dataframe thead th {\n",
              "        text-align: right;\n",
              "    }\n",
              "</style>\n",
              "<table border=\"1\" class=\"dataframe\">\n",
              "  <thead>\n",
              "    <tr style=\"text-align: right;\">\n",
              "      <th></th>\n",
              "      <th>Price</th>\n",
              "    </tr>\n",
              "    <tr>\n",
              "      <th>Date</th>\n",
              "      <th></th>\n",
              "    </tr>\n",
              "  </thead>\n",
              "  <tbody>\n",
              "    <tr>\n",
              "      <th>2015-01-12</th>\n",
              "      <td>46.599998</td>\n",
              "    </tr>\n",
              "    <tr>\n",
              "      <th>2015-01-13</th>\n",
              "      <td>46.360001</td>\n",
              "    </tr>\n",
              "    <tr>\n",
              "      <th>2015-01-14</th>\n",
              "      <td>45.959999</td>\n",
              "    </tr>\n",
              "    <tr>\n",
              "      <th>2015-01-15</th>\n",
              "      <td>45.480000</td>\n",
              "    </tr>\n",
              "    <tr>\n",
              "      <th>2015-01-16</th>\n",
              "      <td>46.240002</td>\n",
              "    </tr>\n",
              "  </tbody>\n",
              "</table>\n",
              "</div>\n",
              "      <button class=\"colab-df-convert\" onclick=\"convertToInteractive('df-eeb06f67-6c79-4838-9ed2-2d5f3cdbfe6a')\"\n",
              "              title=\"Convert this dataframe to an interactive table.\"\n",
              "              style=\"display:none;\">\n",
              "        \n",
              "  <svg xmlns=\"http://www.w3.org/2000/svg\" height=\"24px\"viewBox=\"0 0 24 24\"\n",
              "       width=\"24px\">\n",
              "    <path d=\"M0 0h24v24H0V0z\" fill=\"none\"/>\n",
              "    <path d=\"M18.56 5.44l.94 2.06.94-2.06 2.06-.94-2.06-.94-.94-2.06-.94 2.06-2.06.94zm-11 1L8.5 8.5l.94-2.06 2.06-.94-2.06-.94L8.5 2.5l-.94 2.06-2.06.94zm10 10l.94 2.06.94-2.06 2.06-.94-2.06-.94-.94-2.06-.94 2.06-2.06.94z\"/><path d=\"M17.41 7.96l-1.37-1.37c-.4-.4-.92-.59-1.43-.59-.52 0-1.04.2-1.43.59L10.3 9.45l-7.72 7.72c-.78.78-.78 2.05 0 2.83L4 21.41c.39.39.9.59 1.41.59.51 0 1.02-.2 1.41-.59l7.78-7.78 2.81-2.81c.8-.78.8-2.07 0-2.86zM5.41 20L4 18.59l7.72-7.72 1.47 1.35L5.41 20z\"/>\n",
              "  </svg>\n",
              "      </button>\n",
              "      \n",
              "  <style>\n",
              "    .colab-df-container {\n",
              "      display:flex;\n",
              "      flex-wrap:wrap;\n",
              "      gap: 12px;\n",
              "    }\n",
              "\n",
              "    .colab-df-convert {\n",
              "      background-color: #E8F0FE;\n",
              "      border: none;\n",
              "      border-radius: 50%;\n",
              "      cursor: pointer;\n",
              "      display: none;\n",
              "      fill: #1967D2;\n",
              "      height: 32px;\n",
              "      padding: 0 0 0 0;\n",
              "      width: 32px;\n",
              "    }\n",
              "\n",
              "    .colab-df-convert:hover {\n",
              "      background-color: #E2EBFA;\n",
              "      box-shadow: 0px 1px 2px rgba(60, 64, 67, 0.3), 0px 1px 3px 1px rgba(60, 64, 67, 0.15);\n",
              "      fill: #174EA6;\n",
              "    }\n",
              "\n",
              "    [theme=dark] .colab-df-convert {\n",
              "      background-color: #3B4455;\n",
              "      fill: #D2E3FC;\n",
              "    }\n",
              "\n",
              "    [theme=dark] .colab-df-convert:hover {\n",
              "      background-color: #434B5C;\n",
              "      box-shadow: 0px 1px 3px 1px rgba(0, 0, 0, 0.15);\n",
              "      filter: drop-shadow(0px 1px 2px rgba(0, 0, 0, 0.3));\n",
              "      fill: #FFFFFF;\n",
              "    }\n",
              "  </style>\n",
              "\n",
              "      <script>\n",
              "        const buttonEl =\n",
              "          document.querySelector('#df-eeb06f67-6c79-4838-9ed2-2d5f3cdbfe6a button.colab-df-convert');\n",
              "        buttonEl.style.display =\n",
              "          google.colab.kernel.accessAllowed ? 'block' : 'none';\n",
              "\n",
              "        async function convertToInteractive(key) {\n",
              "          const element = document.querySelector('#df-eeb06f67-6c79-4838-9ed2-2d5f3cdbfe6a');\n",
              "          const dataTable =\n",
              "            await google.colab.kernel.invokeFunction('convertToInteractive',\n",
              "                                                     [key], {});\n",
              "          if (!dataTable) return;\n",
              "\n",
              "          const docLinkHtml = 'Like what you see? Visit the ' +\n",
              "            '<a target=\"_blank\" href=https://colab.research.google.com/notebooks/data_table.ipynb>data table notebook</a>'\n",
              "            + ' to learn more about interactive tables.';\n",
              "          element.innerHTML = '';\n",
              "          dataTable['output_type'] = 'display_data';\n",
              "          await google.colab.output.renderOutput(dataTable, element);\n",
              "          const docLink = document.createElement('div');\n",
              "          docLink.innerHTML = docLinkHtml;\n",
              "          element.appendChild(docLink);\n",
              "        }\n",
              "      </script>\n",
              "    </div>\n",
              "  </div>\n",
              "  "
            ]
          },
          "metadata": {},
          "execution_count": 6
        }
      ],
      "source": [
        "df = pd.read_csv('microsoft_stocks.csv', parse_dates=['Date'], usecols=['Date', 'Close'], index_col=['Date']).rename(columns={'Close': 'Price'})\n",
        "df.head()"
      ]
    },
    {
      "cell_type": "code",
      "execution_count": 7,
      "metadata": {
        "id": "d6BjVbNeoA7b"
      },
      "outputs": [],
      "source": [
        "dates, prices = df.index, df.Price"
      ]
    },
    {
      "cell_type": "code",
      "execution_count": 8,
      "metadata": {
        "colab": {
          "base_uri": "https://localhost:8080/",
          "height": 428
        },
        "id": "DV7NayPaiK3b",
        "outputId": "7d7e1037-e5e9-4c00-bb86-f1c41e132a24"
      },
      "outputs": [
        {
          "output_type": "display_data",
          "data": {
            "text/plain": [
              "<Figure size 720x504 with 1 Axes>"
            ],
            "image/png": "[encoded data removed]"
          },
          "metadata": {
            "needs_background": "light"
          }
        }
      ],
      "source": [
        "fig, ax = plt.subplots(figsize=(10, 7))\n",
        "scatter = ax.scatter(dates, prices)\n",
        "plt.show();"
      ]
    },
    {
      "cell_type": "code",
      "execution_count": 9,
      "metadata": {
        "id": "vRl_i_U9iiDj"
      },
      "outputs": [],
      "source": [
        "def make_train_test_split(data, split_factor=0.8):\n",
        "  split_index = int(0.8 * len(data))\n",
        "  return data[:split_index], data[split_index:]"
      ]
    },
    {
      "cell_type": "code",
      "execution_count": 10,
      "metadata": {
        "id": "UeyrYCOBULKm"
      },
      "outputs": [],
      "source": [
        "dates, prices = df.index, df.Price"
      ]
    },
    {
      "cell_type": "code",
      "execution_count": 11,
      "metadata": {
        "id": "JrDXwvC_jomr"
      },
      "outputs": [],
      "source": [
        "train_prices, test_prices = make_train_test_split(prices)\n",
        "train_dates, test_dates = make_train_test_split(dates)"
      ]
    },
    {
      "cell_type": "code",
      "execution_count": 12,
      "metadata": {
        "colab": {
          "base_uri": "https://localhost:8080/"
        },
        "id": "1cDhMt-4U4m-",
        "outputId": "a53001b3-0365-48d0-c9b6-f24bb029bbe6"
      },
      "outputs": [
        {
          "output_type": "execute_result",
          "data": {
            "text/plain": [
              "(1540, 385)"
            ]
          },
          "metadata": {},
          "execution_count": 12
        }
      ],
      "source": [
        "len(train_dates), len(test_dates)"
      ]
    },
    {
      "cell_type": "markdown",
      "metadata": {
        "id": "pov7WBmIjZ7T"
      },
      "source": [
        "### Naive \"Model\""
      ]
    },
    {
      "cell_type": "code",
      "execution_count": 13,
      "metadata": {
        "id": "je2d8x6Vi7kC"
      },
      "outputs": [],
      "source": [
        "pred_0 = test_prices[:-1]"
      ]
    },
    {
      "cell_type": "code",
      "execution_count": 14,
      "metadata": {
        "colab": {
          "base_uri": "https://localhost:8080/"
        },
        "id": "EPB747cCjzna",
        "outputId": "994d4c0c-ea30-49b2-aaea-5ca5c5bdcbff"
      },
      "outputs": [
        {
          "output_type": "execute_result",
          "data": {
            "text/plain": [
              "{'mae': 3.6687243,\n",
              " 'mse': 23.314003,\n",
              " 'rmse': 4.8284574,\n",
              " 'mape': 1.3065732,\n",
              " 'mase': 1.0013479}"
            ]
          },
          "metadata": {},
          "execution_count": 14
        }
      ],
      "source": [
        "naive_scores = forecasting_scores(y_true=test_prices[1:], y_pred=pred_0)\n",
        "naive_scores"
      ]
    },
    {
      "cell_type": "markdown",
      "metadata": {
        "id": "x0kAJsJtkIAS"
      },
      "source": [
        "### Windows and horizons"
      ]
    },
    {
      "cell_type": "code",
      "execution_count": 15,
      "metadata": {
        "id": "I_4yvoz4NdZG"
      },
      "outputs": [],
      "source": [
        "train_windowsW7H1, train_targetsW7H1 = windows_and_horizons(train_prices, 1, 7)\n",
        "test_windowsW7H1, test_targetsW7H1 = windows_and_horizons(test_prices, 1, 7)\n",
        "train_dataW7H1 = tf.data.Dataset.from_tensor_slices((train_windowsW7H1, train_targetsW7H1)).batch(32).prefetch(tf.data.AUTOTUNE)\n",
        "test_dataW7H1 = tf.data.Dataset.from_tensor_slices((test_windowsW7H1, test_targetsW7H1)).batch(32).prefetch(tf.data.AUTOTUNE)"
      ]
    },
    {
      "cell_type": "markdown",
      "metadata": {
        "id": "JiCwQC-oNtAH"
      },
      "source": [
        "### Dense model (model 1)"
      ]
    },
    {
      "cell_type": "code",
      "execution_count": 16,
      "metadata": {
        "id": "TnpFLgftN00e"
      },
      "outputs": [],
      "source": [
        "from tensorflow.keras import layers\n",
        "model_1 = tf.keras.Sequential([\n",
        "    layers.Dense(100, activation='relu'),\n",
        "    layers.Dense(100, activation='relu'),\n",
        "    layers.Dense(1)\n",
        "])\n",
        "\n",
        "model_1.compile(loss='mae', optimizer=tf.keras.optimizers.Adadelta(learning_rate=0.01))"
      ]
    },
    {
      "cell_type": "code",
      "execution_count": 17,
      "metadata": {
        "id": "ANETAnz_QOyX"
      },
      "outputs": [],
      "source": [
        "def model_checkpoint(filepath):\n",
        "  return tf.keras.callbacks.ModelCheckpoint(filepath, save_best_only=True, save_weights_only=True)"
      ]
    },
    {
      "cell_type": "code",
      "execution_count": 18,
      "metadata": {
        "colab": {
          "base_uri": "https://localhost:8080/"
        },
        "id": "5QO5rC-KOYZH",
        "outputId": "b64e3955-f18f-427c-b057-5edc752e6bcf"
      },
      "outputs": [
        {
          "output_type": "stream",
          "name": "stdout",
          "text": [
            "Epoch 1/50\n",
            "48/48 [==============================] - 3s 6ms/step - loss: 99.5302 - val_loss: 250.5031\n",
            "Epoch 2/50\n",
            "48/48 [==============================] - 0s 3ms/step - loss: 83.0837 - val_loss: 203.5667\n",
            "Epoch 3/50\n",
            "48/48 [==============================] - 0s 3ms/step - loss: 61.5553 - val_loss: 114.7300\n",
            "Epoch 4/50\n",
            "48/48 [==============================] - 0s 3ms/step - loss: 12.0495 - val_loss: 7.1129\n",
            "Epoch 5/50\n",
            "48/48 [==============================] - 0s 3ms/step - loss: 2.3158 - val_loss: 7.1158\n",
            "Epoch 6/50\n",
            "48/48 [==============================] - 0s 3ms/step - loss: 2.2751 - val_loss: 7.0609\n",
            "Epoch 7/50\n",
            "48/48 [==============================] - 0s 3ms/step - loss: 2.2401 - val_loss: 7.0325\n",
            "Epoch 8/50\n",
            "48/48 [==============================] - 0s 3ms/step - loss: 2.2037 - val_loss: 6.8310\n",
            "Epoch 9/50\n",
            "48/48 [==============================] - 0s 3ms/step - loss: 2.1586 - val_loss: 6.7204\n",
            "Epoch 10/50\n",
            "48/48 [==============================] - 0s 3ms/step - loss: 2.1312 - val_loss: 6.7642\n",
            "Epoch 11/50\n",
            "48/48 [==============================] - 0s 3ms/step - loss: 2.1104 - val_loss: 6.7314\n",
            "Epoch 12/50\n",
            "48/48 [==============================] - 0s 3ms/step - loss: 2.0942 - val_loss: 6.8753\n",
            "Epoch 13/50\n",
            "48/48 [==============================] - 0s 3ms/step - loss: 2.0612 - val_loss: 6.7363\n",
            "Epoch 14/50\n",
            "48/48 [==============================] - 0s 3ms/step - loss: 2.0358 - val_loss: 6.5928\n",
            "Epoch 15/50\n",
            "48/48 [==============================] - 0s 3ms/step - loss: 2.0166 - val_loss: 6.5821\n",
            "Epoch 16/50\n",
            "48/48 [==============================] - 0s 3ms/step - loss: 2.0010 - val_loss: 6.4591\n",
            "Epoch 17/50\n",
            "48/48 [==============================] - 0s 3ms/step - loss: 1.9695 - val_loss: 6.4032\n",
            "Epoch 18/50\n",
            "48/48 [==============================] - 0s 3ms/step - loss: 1.9553 - val_loss: 6.2722\n",
            "Epoch 19/50\n",
            "48/48 [==============================] - 0s 3ms/step - loss: 1.9454 - val_loss: 6.2596\n",
            "Epoch 20/50\n",
            "48/48 [==============================] - 0s 3ms/step - loss: 1.9398 - val_loss: 6.2033\n",
            "Epoch 21/50\n",
            "48/48 [==============================] - 0s 3ms/step - loss: 1.9351 - val_loss: 6.2088\n",
            "Epoch 22/50\n",
            "48/48 [==============================] - 0s 3ms/step - loss: 1.9290 - val_loss: 6.1941\n",
            "Epoch 23/50\n",
            "48/48 [==============================] - 0s 3ms/step - loss: 1.9262 - val_loss: 6.2570\n",
            "Epoch 24/50\n",
            "48/48 [==============================] - 0s 3ms/step - loss: 1.9237 - val_loss: 6.1631\n",
            "Epoch 25/50\n",
            "48/48 [==============================] - 0s 3ms/step - loss: 1.9184 - val_loss: 6.1461\n",
            "Epoch 26/50\n",
            "48/48 [==============================] - 0s 3ms/step - loss: 1.9149 - val_loss: 6.1442\n",
            "Epoch 27/50\n",
            "48/48 [==============================] - 0s 3ms/step - loss: 1.9121 - val_loss: 6.1292\n",
            "Epoch 28/50\n",
            "48/48 [==============================] - 0s 3ms/step - loss: 1.9086 - val_loss: 6.1230\n",
            "Epoch 29/50\n",
            "48/48 [==============================] - 0s 3ms/step - loss: 1.9060 - val_loss: 6.1182\n",
            "Epoch 30/50\n",
            "48/48 [==============================] - 0s 3ms/step - loss: 1.9064 - val_loss: 6.1227\n",
            "Epoch 31/50\n",
            "48/48 [==============================] - 0s 3ms/step - loss: 1.9048 - val_loss: 6.1015\n",
            "Epoch 32/50\n",
            "48/48 [==============================] - 0s 3ms/step - loss: 1.8993 - val_loss: 6.0937\n",
            "Epoch 33/50\n",
            "48/48 [==============================] - 0s 3ms/step - loss: 1.8975 - val_loss: 6.0874\n",
            "Epoch 34/50\n",
            "48/48 [==============================] - 0s 3ms/step - loss: 1.8951 - val_loss: 6.0808\n",
            "Epoch 35/50\n",
            "48/48 [==============================] - 0s 3ms/step - loss: 1.8928 - val_loss: 6.0742\n",
            "Epoch 36/50\n",
            "48/48 [==============================] - 0s 3ms/step - loss: 1.8915 - val_loss: 6.0679\n",
            "Epoch 37/50\n",
            "48/48 [==============================] - 0s 3ms/step - loss: 1.8890 - val_loss: 6.0617\n",
            "Epoch 38/50\n",
            "48/48 [==============================] - 0s 3ms/step - loss: 1.8867 - val_loss: 6.0556\n",
            "Epoch 39/50\n",
            "48/48 [==============================] - 0s 3ms/step - loss: 1.8838 - val_loss: 6.0503\n",
            "Epoch 40/50\n",
            "48/48 [==============================] - 0s 3ms/step - loss: 1.8822 - val_loss: 6.0432\n",
            "Epoch 41/50\n",
            "48/48 [==============================] - 0s 3ms/step - loss: 1.8799 - val_loss: 6.0371\n",
            "Epoch 42/50\n",
            "48/48 [==============================] - 0s 3ms/step - loss: 1.8781 - val_loss: 6.0314\n",
            "Epoch 43/50\n",
            "48/48 [==============================] - 0s 3ms/step - loss: 1.8766 - val_loss: 6.0252\n",
            "Epoch 44/50\n",
            "48/48 [==============================] - 0s 3ms/step - loss: 1.8748 - val_loss: 6.0193\n",
            "Epoch 45/50\n",
            "48/48 [==============================] - 0s 3ms/step - loss: 1.8726 - val_loss: 6.0146\n",
            "Epoch 46/50\n",
            "48/48 [==============================] - 0s 3ms/step - loss: 1.8706 - val_loss: 6.0076\n",
            "Epoch 47/50\n",
            "48/48 [==============================] - 0s 3ms/step - loss: 1.8685 - val_loss: 6.0019\n",
            "Epoch 48/50\n",
            "48/48 [==============================] - 0s 3ms/step - loss: 1.8666 - val_loss: 5.9962\n",
            "Epoch 49/50\n",
            "48/48 [==============================] - 0s 3ms/step - loss: 1.8652 - val_loss: 5.9916\n",
            "Epoch 50/50\n",
            "48/48 [==============================] - 0s 3ms/step - loss: 1.8638 - val_loss: 5.9871\n"
          ]
        },
        {
          "output_type": "execute_result",
          "data": {
            "text/plain": [
              "<keras.callbacks.History at 0x7f6f39670710>"
            ]
          },
          "metadata": {},
          "execution_count": 18
        }
      ],
      "source": [
        "model_1.fit(train_dataW7H1, epochs=50, validation_data=test_dataW7H1,\n",
        "            callbacks=[model_checkpoint('experiments/model_1(dense)')])"
      ]
    },
    {
      "cell_type": "code",
      "execution_count": 19,
      "metadata": {
        "colab": {
          "base_uri": "https://localhost:8080/"
        },
        "id": "KtzCd9-qQC2q",
        "outputId": "48b28145-0a89-4e0f-f40a-8407afe8a9ba"
      },
      "outputs": [
        {
          "output_type": "execute_result",
          "data": {
            "text/plain": [
              "<tensorflow.python.training.tracking.util.CheckpointLoadStatus at 0x7f6f30278810>"
            ]
          },
          "metadata": {},
          "execution_count": 19
        }
      ],
      "source": [
        "model_1.load_weights('experiments/model_1(dense)')"
      ]
    },
    {
      "cell_type": "code",
      "execution_count": 20,
      "metadata": {
        "colab": {
          "base_uri": "https://localhost:8080/"
        },
        "id": "POV-JQypQtOu",
        "outputId": "96e80a5d-27e5-4649-82ab-059b1123e0da"
      },
      "outputs": [
        {
          "output_type": "stream",
          "name": "stdout",
          "text": [
            "12/12 [==============================] - 0s 2ms/step\n"
          ]
        }
      ],
      "source": [
        "pred_1 = model_1.predict(test_dataW7H1)\n",
        "model_1_scores = forecasting_scores(test_targetsW7H1, pred_1)"
      ]
    },
    {
      "cell_type": "code",
      "execution_count": 21,
      "metadata": {
        "colab": {
          "base_uri": "https://localhost:8080/"
        },
        "id": "giX4687zRNT3",
        "outputId": "4591b988-10c7-4089-b3a6-031147acb599"
      },
      "outputs": [
        {
          "output_type": "execute_result",
          "data": {
            "text/plain": [
              "{'mae': 5.987096,\n",
              " 'mse': 60.645115,\n",
              " 'rmse': 7.787497,\n",
              " 'mape': 2.1200323,\n",
              " 'mase': 1.6353682}"
            ]
          },
          "metadata": {},
          "execution_count": 21
        }
      ],
      "source": [
        "model_1_scores"
      ]
    },
    {
      "cell_type": "code",
      "execution_count": 22,
      "metadata": {
        "id": "DLRgKdh4RfyG"
      },
      "outputs": [],
      "source": [
        "def plotting_function(timesteps, values, start=0, end=None, format='.', label=None):\n",
        "  plt.plot(timesteps[start: end], values[start: end], format, label=label)\n",
        "  plt.xlabel('Time')\n",
        "  plt.ylabel('Values')\n",
        "  if label:\n",
        "    plt.legend(fontsize=10)\n",
        "  plt.grid(True)"
      ]
    },
    {
      "cell_type": "code",
      "execution_count": 23,
      "metadata": {
        "colab": {
          "base_uri": "https://localhost:8080/",
          "height": 280
        },
        "id": "hiw3fURhR4ie",
        "outputId": "045338a7-9f54-437c-88c8-eddc367e09e1"
      },
      "outputs": [
        {
          "output_type": "display_data",
          "data": {
            "text/plain": [
              "<Figure size 432x288 with 1 Axes>"
            ],
            "image/png": "[encoded data removed]"
          },
          "metadata": {
            "needs_background": "light"
          }
        }
      ],
      "source": [
        "plotting_function(train_dates, train_prices, start=1000)\n",
        "plotting_function(test_dates[7:], pred_1)"
      ]
    },
    {
      "cell_type": "markdown",
      "metadata": {
        "id": "15vWzkBlT2LV"
      },
      "source": [
        "### LSTM (model_2)"
      ]
    },
    {
      "cell_type": "code",
      "execution_count": 24,
      "metadata": {
        "colab": {
          "base_uri": "https://localhost:8080/"
        },
        "id": "RwrIG8KiVgO-",
        "outputId": "60ea0734-e7b0-4f36-ea54-ab0f54f02b1f"
      },
      "outputs": [
        {
          "output_type": "stream",
          "name": "stderr",
          "text": [
            "WARNING:tensorflow:Layer lstm will not use cuDNN kernels since it doesn't meet the criteria. It will use a generic GPU kernel as fallback when running on GPU.\n",
            "WARNING:tensorflow:Layer lstm_1 will not use cuDNN kernels since it doesn't meet the criteria. It will use a generic GPU kernel as fallback when running on GPU.\n"
          ]
        }
      ],
      "source": [
        "model_2 = tf.keras.Sequential([\n",
        "    layers.Lambda(lambda x: tf.expand_dims(x, axis=1)), # LSTM needs ndim=3\n",
        "    layers.LSTM(64, activation='relu', return_sequences=True),\n",
        "    layers.LSTM(64, activation='relu'),\n",
        "    layers.Dense(1)\n",
        "])\n",
        "\n",
        "model_2.compile(loss='mae', optimizer=tf.keras.optimizers.Adadelta(learning_rate=0.01))"
      ]
    },
    {
      "cell_type": "code",
      "execution_count": 25,
      "metadata": {
        "colab": {
          "base_uri": "https://localhost:8080/"
        },
        "id": "ekjqk-AKVrEV",
        "outputId": "8bedf66e-4a35-42c6-fa7e-00538655b7e1"
      },
      "outputs": [
        {
          "output_type": "execute_result",
          "data": {
            "text/plain": [
              "<keras.callbacks.History at 0x7f6f301b6ed0>"
            ]
          },
          "metadata": {},
          "execution_count": 25
        }
      ],
      "source": [
        "model_2.fit(train_dataW7H1, epochs=50, validation_data=test_dataW7H1, callbacks=[model_checkpoint('experiments/model_2(LSTM)')], verbose=0)"
      ]
    },
    {
      "cell_type": "code",
      "execution_count": 26,
      "metadata": {
        "colab": {
          "base_uri": "https://localhost:8080/"
        },
        "id": "F3eQoxNaV9kO",
        "outputId": "d7afb8a6-8b87-4b0c-d4ad-b143b25cba07"
      },
      "outputs": [
        {
          "output_type": "stream",
          "name": "stdout",
          "text": [
            "12/12 [==============================] - 0s 2ms/step\n"
          ]
        },
        {
          "output_type": "execute_result",
          "data": {
            "text/plain": [
              "{'mae': 5.7943954,\n",
              " 'mse': 56.75554,\n",
              " 'rmse': 7.533627,\n",
              " 'mape': 2.04934,\n",
              " 'mase': 1.5827323}"
            ]
          },
          "metadata": {},
          "execution_count": 26
        }
      ],
      "source": [
        "model_2.load_weights('experiments/model_2(LSTM)')\n",
        "pred_2 = model_2.predict(test_dataW7H1)\n",
        "model_2_scores = forecasting_scores(test_targetsW7H1, pred_2)\n",
        "model_2_scores"
      ]
    },
    {
      "cell_type": "markdown",
      "metadata": {
        "id": "YQfX_gApWvKF"
      },
      "source": [
        "#### Let's try training it for longer\n"
      ]
    },
    {
      "cell_type": "code",
      "execution_count": 27,
      "metadata": {
        "colab": {
          "base_uri": "https://localhost:8080/"
        },
        "id": "FLTiE10lW6CV",
        "outputId": "e2699547-89a5-4e91-9c15-5fef93b8a47e"
      },
      "outputs": [
        {
          "output_type": "execute_result",
          "data": {
            "text/plain": [
              "<keras.callbacks.History at 0x7f6f301c8990>"
            ]
          },
          "metadata": {},
          "execution_count": 27
        }
      ],
      "source": [
        "model_2.fit(train_dataW7H1, epochs=100, validation_data=test_dataW7H1, callbacks=[model_checkpoint('experiments/model_2(LSTM)')], verbose=0)"
      ]
    },
    {
      "cell_type": "code",
      "execution_count": 28,
      "metadata": {
        "colab": {
          "base_uri": "https://localhost:8080/"
        },
        "id": "lptR74mGXVZu",
        "outputId": "5c42adb5-1448-4a1d-8c74-a16d207bf91d"
      },
      "outputs": [
        {
          "output_type": "stream",
          "name": "stdout",
          "text": [
            "12/12 [==============================] - 0s 2ms/step\n"
          ]
        },
        {
          "output_type": "execute_result",
          "data": {
            "text/plain": [
              "{'mae': 4.332264,\n",
              " 'mse': 31.904888,\n",
              " 'rmse': 5.6484413,\n",
              " 'mape': 1.5373024,\n",
              " 'mase': 1.1833528}"
            ]
          },
          "metadata": {},
          "execution_count": 28
        }
      ],
      "source": [
        "model_2.load_weights('experiments/model_2(LSTM)')\n",
        "pred_2 = model_2.predict(test_dataW7H1)\n",
        "model_2_scores = forecasting_scores(test_targetsW7H1, pred_2)\n",
        "model_2_scores"
      ]
    },
    {
      "cell_type": "markdown",
      "metadata": {
        "id": "tbP3dI64XV7l"
      },
      "source": [
        "As we can see, it got better but it's debatable if additional 100 epochs are worth it."
      ]
    },
    {
      "cell_type": "code",
      "execution_count": 29,
      "metadata": {
        "colab": {
          "base_uri": "https://localhost:8080/",
          "height": 279
        },
        "id": "Fg1RZgz1wSlm",
        "outputId": "af74623f-2548-44d9-d3ba-04c936896b9f"
      },
      "outputs": [
        {
          "output_type": "display_data",
          "data": {
            "text/plain": [
              "<Figure size 432x288 with 1 Axes>"
            ],
            "image/png": "[encoded data removed]"
          },
          "metadata": {
            "needs_background": "light"
          }
        }
      ],
      "source": [
        "plotting_function(train_dates, train_prices, start=1000)\n",
        "plotting_function(test_dates[7:], pred_2)"
      ]
    },
    {
      "cell_type": "markdown",
      "metadata": {
        "id": "f7Lc6t8IXjTd"
      },
      "source": [
        "### Model 3 (bi-lstm)"
      ]
    },
    {
      "cell_type": "code",
      "execution_count": 30,
      "metadata": {
        "colab": {
          "base_uri": "https://localhost:8080/"
        },
        "id": "7KUpgyLtXnNd",
        "outputId": "875ee99c-b2e0-4089-bf67-b13d22214d1d"
      },
      "outputs": [
        {
          "output_type": "stream",
          "name": "stderr",
          "text": [
            "WARNING:tensorflow:Layer lstm_2 will not use cuDNN kernels since it doesn't meet the criteria. It will use a generic GPU kernel as fallback when running on GPU.\n",
            "WARNING:tensorflow:Layer lstm_2 will not use cuDNN kernels since it doesn't meet the criteria. It will use a generic GPU kernel as fallback when running on GPU.\n",
            "WARNING:tensorflow:Layer lstm_2 will not use cuDNN kernels since it doesn't meet the criteria. It will use a generic GPU kernel as fallback when running on GPU.\n",
            "WARNING:tensorflow:Layer lstm_3 will not use cuDNN kernels since it doesn't meet the criteria. It will use a generic GPU kernel as fallback when running on GPU.\n",
            "WARNING:tensorflow:Layer lstm_3 will not use cuDNN kernels since it doesn't meet the criteria. It will use a generic GPU kernel as fallback when running on GPU.\n",
            "WARNING:tensorflow:Layer lstm_3 will not use cuDNN kernels since it doesn't meet the criteria. It will use a generic GPU kernel as fallback when running on GPU.\n"
          ]
        }
      ],
      "source": [
        "model_3 = tf.keras.Sequential([\n",
        "    layers.Lambda(lambda x: tf.expand_dims(x, axis=1)),\n",
        "    layers.Bidirectional(layers.LSTM(64, activation='relu', return_sequences=True)),\n",
        "    layers.Bidirectional(layers.LSTM(64, activation='relu')),\n",
        "    layers.Dense(1)\n",
        "])\n",
        "\n",
        "model_3.compile(loss='mae', optimizer=tf.keras.optimizers.Adadelta(learning_rate=0.01))"
      ]
    },
    {
      "cell_type": "code",
      "execution_count": 31,
      "metadata": {
        "colab": {
          "base_uri": "https://localhost:8080/"
        },
        "id": "pNSd2XyAX0PF",
        "outputId": "078506e5-0d32-4356-a30d-fdba68ed0f3f"
      },
      "outputs": [
        {
          "output_type": "execute_result",
          "data": {
            "text/plain": [
              "<keras.callbacks.History at 0x7f6eba777dd0>"
            ]
          },
          "metadata": {},
          "execution_count": 31
        }
      ],
      "source": [
        "model_3.fit(train_dataW7H1, epochs=50, validation_data=test_dataW7H1, callbacks=[model_checkpoint('experiments/model_3(biLSTM)')], verbose=0)"
      ]
    },
    {
      "cell_type": "code",
      "execution_count": 32,
      "metadata": {
        "colab": {
          "base_uri": "https://localhost:8080/"
        },
        "id": "7FT5wSRNYO21",
        "outputId": "700876fb-6e04-4109-cb0b-ca1c6911d840"
      },
      "outputs": [
        {
          "output_type": "stream",
          "name": "stdout",
          "text": [
            "12/12 [==============================] - 0s 3ms/step\n"
          ]
        },
        {
          "output_type": "execute_result",
          "data": {
            "text/plain": [
              "{'mae': 4.5349574,\n",
              " 'mse': 33.89989,\n",
              " 'rmse': 5.8223615,\n",
              " 'mape': 1.6013805,\n",
              " 'mase': 1.2387183}"
            ]
          },
          "metadata": {},
          "execution_count": 32
        }
      ],
      "source": [
        "model_3.load_weights('experiments/model_3(biLSTM)')\n",
        "pred_3 = model_3.predict(test_dataW7H1)\n",
        "model_3_scores = forecasting_scores(test_targetsW7H1, pred_3)\n",
        "model_3_scores"
      ]
    },
    {
      "cell_type": "code",
      "execution_count": 33,
      "metadata": {
        "colab": {
          "base_uri": "https://localhost:8080/",
          "height": 279
        },
        "id": "rUlJUKsTwbUG",
        "outputId": "bf22749f-557e-4243-b1c4-c681eddc472e"
      },
      "outputs": [
        {
          "output_type": "display_data",
          "data": {
            "text/plain": [
              "<Figure size 432x288 with 1 Axes>"
            ],
            "image/png": "[encoded data removed]"
          },
          "metadata": {
            "needs_background": "light"
          }
        }
      ],
      "source": [
        "plotting_function(train_dates, train_prices, start=1000)\n",
        "plotting_function(test_dates[7:], pred_3)"
      ]
    },
    {
      "cell_type": "markdown",
      "metadata": {
        "id": "ZjWItm5kYRlM"
      },
      "source": [
        "### Model 4 (NBEATS)"
      ]
    },
    {
      "cell_type": "code",
      "execution_count": 34,
      "metadata": {
        "id": "eH22EmYv_z3r"
      },
      "outputs": [],
      "source": [
        "class NBeatsBlock(tf.keras.layers.Layer):\n",
        "  def __init__(self,\n",
        "               input_size,\n",
        "               theta_size,\n",
        "               horizon,\n",
        "               hidden_layers,\n",
        "               neurons,\n",
        "               **kwargs):\n",
        "    super().__init__(**kwargs)\n",
        "    self.input_size = input_size\n",
        "    self.theta_size = theta_size\n",
        "    self.horizon = horizon\n",
        "    self.hidden_layers = hidden_layers\n",
        "    self.neurons = neurons\n",
        "  \n",
        "    self.hidden = [layers.Dense(neurons, activation='relu') for _ in range(hidden_layers)]\n",
        "    self.theta = layers.Dense(theta_size)\n",
        "  \n",
        "  def call(self, inputs):\n",
        "    x = inputs\n",
        "    for layer in self.hidden:\n",
        "      x = layer(x)\n",
        "    theta = self.theta(x)\n",
        "    backcast, forecast = theta[:, :self.input_size], theta[:, -self.horizon:]\n",
        "    return backcast, forecast"
      ]
    },
    {
      "cell_type": "code",
      "execution_count": 35,
      "metadata": {
        "id": "TnI8Mb91eabw"
      },
      "outputs": [],
      "source": [
        "dummy_layer = NBeatsBlock(7, 8, 1, 5, 30)"
      ]
    },
    {
      "cell_type": "code",
      "execution_count": 36,
      "metadata": {
        "colab": {
          "base_uri": "https://localhost:8080/"
        },
        "id": "ZUjq6OD1e8gQ",
        "outputId": "ac5ef158-c66e-46e9-9f9a-5e5fbf08a139"
      },
      "outputs": [
        {
          "output_type": "execute_result",
          "data": {
            "text/plain": [
              "(<tf.Tensor: shape=(1, 7), dtype=float32, numpy=\n",
              " array([[ 0.30088335, -0.40553364,  0.35618967, -0.36313096, -0.20252956,\n",
              "          0.05730916,  0.36899966]], dtype=float32)>,\n",
              " <tf.Tensor: shape=(1, 1), dtype=float32, numpy=array([[0.08801168]], dtype=float32)>)"
            ]
          },
          "metadata": {},
          "execution_count": 36
        }
      ],
      "source": [
        "dummy_window = tf.expand_dims(tf.range(7), axis=0)\n",
        "dummy_layer(dummy_window)"
      ]
    },
    {
      "cell_type": "code",
      "execution_count": 37,
      "metadata": {
        "id": "v2BVk7_jo_W_"
      },
      "outputs": [],
      "source": [
        "def create_NBeatsModel(window_size,\n",
        "                       horizon_size,\n",
        "                       hidden_layers,\n",
        "                       blocks,\n",
        "                       neurons):\n",
        "  inputs = layers.Input(shape=(7,))\n",
        "  backcast, forecast = NBeatsBlock(window_size,\n",
        "                                   horizon_size+window_size,\n",
        "                                   horizon_size,\n",
        "                                   hidden_layers,\n",
        "                                   neurons)(inputs)\n",
        "  for i in range(blocks-1):\n",
        "    residuals, blockforecast = NBeatsBlock(window_size,\n",
        "                                   horizon_size+window_size,\n",
        "                                   horizon_size,\n",
        "                                   hidden_layers,\n",
        "                                   neurons)(backcast)\n",
        "    backcast = layers.subtract([backcast, residuals])\n",
        "    forecast = layers.add([forecast, blockforecast])\n",
        "\n",
        "  model = tf.keras.Model(inputs, forecast)\n",
        "  return model"
      ]
    },
    {
      "cell_type": "code",
      "execution_count": 38,
      "metadata": {
        "id": "wplC9MIoq-2A"
      },
      "outputs": [],
      "source": [
        "model_4 = create_NBeatsModel(7, 1, 4, 30, 256)"
      ]
    },
    {
      "cell_type": "code",
      "execution_count": 39,
      "metadata": {
        "colab": {
          "base_uri": "https://localhost:8080/"
        },
        "id": "BknpVVmGrM_e",
        "outputId": "bc037800-1d92-42d5-d8c7-a98f392e136c"
      },
      "outputs": [
        {
          "output_type": "execute_result",
          "data": {
            "text/plain": [
              "<keras.callbacks.History at 0x7f6eadae7f10>"
            ]
          },
          "metadata": {},
          "execution_count": 39
        }
      ],
      "source": [
        "model_4.compile(loss='mae', optimizer=tf.keras.optimizers.Adadelta(learning_rate=0.01))\n",
        "model_4.fit(train_dataW7H1, epochs=200, validation_data=test_dataW7H1, callbacks=[model_checkpoint('experiments/model_4(NBEATS)'), tf.keras.callbacks.EarlyStopping(patience=500),\n",
        "                                                                                   tf.keras.callbacks.ReduceLROnPlateau(patience=15)], verbose=0)"
      ]
    },
    {
      "cell_type": "code",
      "execution_count": 40,
      "metadata": {
        "colab": {
          "base_uri": "https://localhost:8080/"
        },
        "id": "FLGH-ausrtPn",
        "outputId": "d8f7719e-e244-489e-87bd-a6d50ebe9883"
      },
      "outputs": [
        {
          "output_type": "stream",
          "name": "stdout",
          "text": [
            "12/12 [==============================] - 1s 8ms/step\n"
          ]
        },
        {
          "output_type": "execute_result",
          "data": {
            "text/plain": [
              "{'mae': 4.0600185,\n",
              " 'mse': 28.03142,\n",
              " 'rmse': 5.294471,\n",
              " 'mape': 1.4403654,\n",
              " 'mase': 1.1089892}"
            ]
          },
          "metadata": {},
          "execution_count": 40
        }
      ],
      "source": [
        "model_4.load_weights('experiments/model_4(NBEATS)')\n",
        "pred_4 = model_4.predict(test_dataW7H1)\n",
        "model_4_scores = forecasting_scores(test_targetsW7H1, pred_4)\n",
        "model_4_scores"
      ]
    },
    {
      "cell_type": "code",
      "execution_count": 41,
      "metadata": {
        "colab": {
          "base_uri": "https://localhost:8080/",
          "height": 279
        },
        "id": "E3fxA_-TwlgN",
        "outputId": "f7ec9e36-ab18-4ddd-c67e-ffbdf12d4285"
      },
      "outputs": [
        {
          "output_type": "display_data",
          "data": {
            "text/plain": [
              "<Figure size 432x288 with 1 Axes>"
            ],
            "image/png": "[encoded data removed]"
          },
          "metadata": {
            "needs_background": "light"
          }
        }
      ],
      "source": [
        "plotting_function(train_dates, train_prices, start=1000)\n",
        "plotting_function(test_dates[7:], pred_4)"
      ]
    },
    {
      "cell_type": "markdown",
      "metadata": {
        "id": "rmhtfFXK4Hj0"
      },
      "source": [
        "### \"Model\" 5 (ensemble)"
      ]
    },
    {
      "cell_type": "code",
      "execution_count": 42,
      "metadata": {
        "id": "k43jo2a04K17"
      },
      "outputs": [],
      "source": [
        "def get_ensemble_models(horizon=1,\n",
        "                        train_data=train_dataW7H1,\n",
        "                        test_data=test_dataW7H1,\n",
        "                        num_iter=10,\n",
        "                        num_epochs=1000,\n",
        "                        patience_EarlyStopping=100,\n",
        "                        patience_ReduceLR=50,\n",
        "                        loss_fns=['mae', 'mse', 'mape']):\n",
        "\n",
        "  ensemble_models = []\n",
        "  for i in range(num_iter):\n",
        "    for loss_function in loss_fns:\n",
        "      print(f'Optimizing model by reducing: {loss_function} for {num_epochs} epochs, model number: {i}')\n",
        "\n",
        "      model = tf.keras.Sequential([\n",
        "          layers.Dense(128, activation='relu', kernel_initializer='he_normal'),\n",
        "          layers.Dense(128, activation='relu', kernel_initializer='he_normal'),\n",
        "          layers.Dense(horizon)\n",
        "      ])\n",
        "      model.compile(loss=loss_function, optimizer=tf.keras.optimizers.Adadelta(learning_rate=0.01), metrics=['mae', 'mse'])\n",
        "      model.fit(train_data, epochs=num_epochs, validation_data=test_data, verbose=0,\n",
        "                callbacks=[tf.keras.callbacks.EarlyStopping(patience=patience_EarlyStopping, restore_best_weights=True),\n",
        "                           tf.keras.callbacks.ReduceLROnPlateau(patience=patience_ReduceLR, verbose=0)])\n",
        "      ensemble_models.append(model)\n",
        "  return ensemble_models"
      ]
    },
    {
      "cell_type": "code",
      "execution_count": 43,
      "metadata": {
        "colab": {
          "base_uri": "https://localhost:8080/"
        },
        "id": "WT679eJs46mD",
        "outputId": "c7370674-35fa-4e1a-bc12-a7b0c483adaa"
      },
      "outputs": [
        {
          "output_type": "stream",
          "name": "stdout",
          "text": [
            "Optimizing model by reducing: mae for 100 epochs, model number: 0\n",
            "Optimizing model by reducing: mse for 100 epochs, model number: 0\n",
            "Optimizing model by reducing: mape for 100 epochs, model number: 0\n",
            "Optimizing model by reducing: mae for 100 epochs, model number: 1\n",
            "Optimizing model by reducing: mse for 100 epochs, model number: 1\n",
            "Optimizing model by reducing: mape for 100 epochs, model number: 1\n",
            "Optimizing model by reducing: mae for 100 epochs, model number: 2\n",
            "Optimizing model by reducing: mse for 100 epochs, model number: 2\n",
            "Optimizing model by reducing: mape for 100 epochs, model number: 2\n",
            "Optimizing model by reducing: mae for 100 epochs, model number: 3\n",
            "Optimizing model by reducing: mse for 100 epochs, model number: 3\n",
            "Optimizing model by reducing: mape for 100 epochs, model number: 3\n",
            "Optimizing model by reducing: mae for 100 epochs, model number: 4\n",
            "Optimizing model by reducing: mse for 100 epochs, model number: 4\n",
            "Optimizing model by reducing: mape for 100 epochs, model number: 4\n",
            "Optimizing model by reducing: mae for 100 epochs, model number: 5\n",
            "Optimizing model by reducing: mse for 100 epochs, model number: 5\n",
            "Optimizing model by reducing: mape for 100 epochs, model number: 5\n",
            "Optimizing model by reducing: mae for 100 epochs, model number: 6\n",
            "Optimizing model by reducing: mse for 100 epochs, model number: 6\n",
            "Optimizing model by reducing: mape for 100 epochs, model number: 6\n",
            "Optimizing model by reducing: mae for 100 epochs, model number: 7\n",
            "Optimizing model by reducing: mse for 100 epochs, model number: 7\n",
            "Optimizing model by reducing: mape for 100 epochs, model number: 7\n",
            "Optimizing model by reducing: mae for 100 epochs, model number: 8\n",
            "Optimizing model by reducing: mse for 100 epochs, model number: 8\n",
            "Optimizing model by reducing: mape for 100 epochs, model number: 8\n",
            "Optimizing model by reducing: mae for 100 epochs, model number: 9\n",
            "Optimizing model by reducing: mse for 100 epochs, model number: 9\n",
            "Optimizing model by reducing: mape for 100 epochs, model number: 9\n"
          ]
        }
      ],
      "source": [
        "ensemble_models = get_ensemble_models(num_epochs=100, patience_EarlyStopping=25, patience_ReduceLR=10)"
      ]
    },
    {
      "cell_type": "code",
      "execution_count": 44,
      "metadata": {
        "id": "D8Prlqeh5Jz0"
      },
      "outputs": [],
      "source": [
        "def get_ensemble_preds(data, ensemble_models):\n",
        "  ensemble_preds = []\n",
        "  for model in ensemble_models:\n",
        "    y_pred = model.predict(data)\n",
        "    ensemble_preds.append(y_pred)\n",
        "  return tf.squeeze(ensemble_preds)"
      ]
    },
    {
      "cell_type": "code",
      "execution_count": 45,
      "metadata": {
        "colab": {
          "base_uri": "https://localhost:8080/"
        },
        "id": "iF8EwAPV5g_0",
        "outputId": "8ea51f20-687e-4e6b-e89b-aba6c478520e"
      },
      "outputs": [
        {
          "output_type": "stream",
          "name": "stdout",
          "text": [
            "12/12 [==============================] - 0s 2ms/step\n",
            "12/12 [==============================] - 0s 2ms/step\n",
            "12/12 [==============================] - 0s 2ms/step\n",
            "12/12 [==============================] - 0s 2ms/step\n",
            "12/12 [==============================] - 0s 2ms/step\n",
            "12/12 [==============================] - 0s 2ms/step\n",
            "12/12 [==============================] - 0s 2ms/step\n",
            "12/12 [==============================] - 0s 2ms/step\n",
            "12/12 [==============================] - 0s 2ms/step\n",
            "12/12 [==============================] - 0s 2ms/step\n",
            "12/12 [==============================] - 0s 2ms/step\n",
            "12/12 [==============================] - 0s 2ms/step\n",
            "12/12 [==============================] - 0s 2ms/step\n",
            "12/12 [==============================] - 0s 2ms/step\n",
            "12/12 [==============================] - 0s 2ms/step\n",
            "12/12 [==============================] - 0s 2ms/step\n",
            "12/12 [==============================] - 0s 2ms/step\n",
            "12/12 [==============================] - 0s 2ms/step\n",
            "12/12 [==============================] - 0s 2ms/step\n",
            "12/12 [==============================] - 0s 2ms/step\n",
            "12/12 [==============================] - 0s 2ms/step\n",
            "12/12 [==============================] - 0s 2ms/step\n",
            "12/12 [==============================] - 0s 2ms/step\n",
            "12/12 [==============================] - 0s 2ms/step\n",
            "12/12 [==============================] - 0s 2ms/step\n",
            "12/12 [==============================] - 0s 2ms/step\n",
            "12/12 [==============================] - 0s 2ms/step\n",
            "12/12 [==============================] - 0s 2ms/step\n",
            "12/12 [==============================] - 0s 2ms/step\n",
            "12/12 [==============================] - 0s 2ms/step\n"
          ]
        }
      ],
      "source": [
        "pred_5 = get_ensemble_preds(test_dataW7H1, ensemble_models)"
      ]
    },
    {
      "cell_type": "code",
      "execution_count": 46,
      "metadata": {
        "id": "b9zCK7pN-1Ia"
      },
      "outputs": [],
      "source": [
        "pred_5_mean = np.mean(pred_5, axis=0)"
      ]
    },
    {
      "cell_type": "code",
      "execution_count": 47,
      "metadata": {
        "colab": {
          "base_uri": "https://localhost:8080/"
        },
        "id": "rzQLN9CF__kB",
        "outputId": "8e760837-08a9-45fb-ddda-7df6b91091ab"
      },
      "outputs": [
        {
          "output_type": "execute_result",
          "data": {
            "text/plain": [
              "{'mae': 32.35334,\n",
              " 'mse': 1605.4927,\n",
              " 'rmse': 5.844644,\n",
              " 'mape': 11.500655,\n",
              " 'mase': 8.837276}"
            ]
          },
          "metadata": {},
          "execution_count": 47
        }
      ],
      "source": [
        "model_5_scores = forecasting_scores(test_targetsW7H1, pred_5_mean)\n",
        "model_5_scores"
      ]
    },
    {
      "cell_type": "code",
      "execution_count": 48,
      "metadata": {
        "colab": {
          "base_uri": "https://localhost:8080/"
        },
        "id": "N0z5wlsYAarr",
        "outputId": "055d7d6d-16ce-4a2a-e938-a14dc594da56"
      },
      "outputs": [
        {
          "output_type": "stream",
          "name": "stdout",
          "text": [
            "Optimizing model by reducing: mae for 100 epochs, model number: 0\n",
            "Optimizing model by reducing: mape for 100 epochs, model number: 0\n",
            "Optimizing model by reducing: mae for 100 epochs, model number: 1\n",
            "Optimizing model by reducing: mape for 100 epochs, model number: 1\n",
            "Optimizing model by reducing: mae for 100 epochs, model number: 2\n",
            "Optimizing model by reducing: mape for 100 epochs, model number: 2\n",
            "Optimizing model by reducing: mae for 100 epochs, model number: 3\n",
            "Optimizing model by reducing: mape for 100 epochs, model number: 3\n",
            "Optimizing model by reducing: mae for 100 epochs, model number: 4\n",
            "Optimizing model by reducing: mape for 100 epochs, model number: 4\n",
            "Optimizing model by reducing: mae for 100 epochs, model number: 5\n",
            "Optimizing model by reducing: mape for 100 epochs, model number: 5\n",
            "Optimizing model by reducing: mae for 100 epochs, model number: 6\n",
            "Optimizing model by reducing: mape for 100 epochs, model number: 6\n",
            "Optimizing model by reducing: mae for 100 epochs, model number: 7\n",
            "Optimizing model by reducing: mape for 100 epochs, model number: 7\n",
            "Optimizing model by reducing: mae for 100 epochs, model number: 8\n",
            "Optimizing model by reducing: mape for 100 epochs, model number: 8\n",
            "Optimizing model by reducing: mae for 100 epochs, model number: 9\n",
            "Optimizing model by reducing: mape for 100 epochs, model number: 9\n"
          ]
        }
      ],
      "source": [
        "ensemble_models_2 = get_ensemble_models(num_epochs=100, patience_EarlyStopping=25, patience_ReduceLR=10, loss_fns=['mae', 'mape'])"
      ]
    },
    {
      "cell_type": "code",
      "execution_count": 49,
      "metadata": {
        "colab": {
          "base_uri": "https://localhost:8080/"
        },
        "id": "ifGL8v4aDd_i",
        "outputId": "f1169a3a-9e0b-4635-ed72-be7142e30e22"
      },
      "outputs": [
        {
          "output_type": "stream",
          "name": "stdout",
          "text": [
            "12/12 [==============================] - 0s 2ms/step\n",
            "12/12 [==============================] - 0s 2ms/step\n",
            "12/12 [==============================] - 0s 2ms/step\n",
            "12/12 [==============================] - 0s 2ms/step\n",
            "12/12 [==============================] - 0s 2ms/step\n",
            "12/12 [==============================] - 0s 2ms/step\n",
            "12/12 [==============================] - 0s 2ms/step\n",
            "12/12 [==============================] - 0s 2ms/step\n",
            "12/12 [==============================] - 0s 2ms/step\n",
            "12/12 [==============================] - 0s 2ms/step\n",
            "12/12 [==============================] - 0s 2ms/step\n",
            "12/12 [==============================] - 0s 2ms/step\n",
            "12/12 [==============================] - 0s 2ms/step\n",
            "12/12 [==============================] - 0s 2ms/step\n",
            "12/12 [==============================] - 0s 2ms/step\n",
            "12/12 [==============================] - 0s 2ms/step\n",
            "12/12 [==============================] - 0s 2ms/step\n",
            "12/12 [==============================] - 0s 2ms/step\n",
            "12/12 [==============================] - 0s 2ms/step\n",
            "12/12 [==============================] - 0s 2ms/step\n"
          ]
        },
        {
          "output_type": "execute_result",
          "data": {
            "text/plain": [
              "{'mae': 32.33158,\n",
              " 'mse': 1603.4346,\n",
              " 'rmse': 5.6315727,\n",
              " 'mape': 11.488008,\n",
              " 'mase': 8.831334}"
            ]
          },
          "metadata": {},
          "execution_count": 49
        }
      ],
      "source": [
        "pred_6 = get_ensemble_preds(test_dataW7H1, ensemble_models_2)\n",
        "pred_6_mean = np.mean(pred_6, axis=0)\n",
        "model_6_scores = forecasting_scores(test_targetsW7H1, pred_6_mean)\n",
        "model_6_scores"
      ]
    },
    {
      "cell_type": "code",
      "execution_count": 51,
      "metadata": {
        "colab": {
          "base_uri": "https://localhost:8080/",
          "height": 280
        },
        "id": "0ob2C_1Kw06-",
        "outputId": "471a2ab9-7432-4bf9-a5bd-ae93eadbe675"
      },
      "outputs": [
        {
          "output_type": "display_data",
          "data": {
            "text/plain": [
              "<Figure size 432x288 with 1 Axes>"
            ],
            "image/png": "[encoded data removed]"
          },
          "metadata": {
            "needs_background": "light"
          }
        }
      ],
      "source": [
        "plotting_function(train_dates, train_prices, start=1000)\n",
        "plotting_function(test_dates[7:], pred_6_mean)"
      ]
    },
    {
      "cell_type": "code",
      "source": [],
      "metadata": {
        "id": "DAEo_LRM6A2n"
      },
      "execution_count": null,
      "outputs": []
    }
  ],
  "metadata": {
    "accelerator": "GPU",
    "colab": {
      "collapsed_sections": [],
      "provenance": []
    },
    "kernelspec": {
      "display_name": "Python 3",
      "name": "python3"
    },
    "language_info": {
      "name": "python"
    }
  },
  "nbformat": 4,
  "nbformat_minor": 0
}